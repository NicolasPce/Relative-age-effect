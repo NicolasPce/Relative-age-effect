{
 "cells": [
  {
   "cell_type": "code",
   "execution_count": 1,
   "id": "b78901dd",
   "metadata": {},
   "outputs": [],
   "source": [
    "import pandas as pd\n",
    "import numpy as np\n",
    "import datetime\n",
    "import seaborn as sns\n",
    "sns.set_theme(style=\"darkgrid\")\n",
    "sns.set({\"figure.figsize\":(17,8)})\n",
    "sns.set(font_scale = 1.15)"
   ]
  },
  {
   "cell_type": "code",
   "execution_count": 2,
   "id": "bbbccbd2",
   "metadata": {},
   "outputs": [],
   "source": [
    "# Nos traemos el data set \n",
    "df = pd.read_csv(\"../../Raw Data/atp_players.csv\",encoding = \"ISO-8859-1\")"
   ]
  },
  {
   "cell_type": "code",
   "execution_count": 3,
   "id": "9d15a74d",
   "metadata": {},
   "outputs": [
    {
     "data": {
      "text/html": [
       "<div>\n",
       "<style scoped>\n",
       "    .dataframe tbody tr th:only-of-type {\n",
       "        vertical-align: middle;\n",
       "    }\n",
       "\n",
       "    .dataframe tbody tr th {\n",
       "        vertical-align: top;\n",
       "    }\n",
       "\n",
       "    .dataframe thead th {\n",
       "        text-align: right;\n",
       "    }\n",
       "</style>\n",
       "<table border=\"1\" class=\"dataframe\">\n",
       "  <thead>\n",
       "    <tr style=\"text-align: right;\">\n",
       "      <th></th>\n",
       "      <th>player_id</th>\n",
       "      <th>name_first</th>\n",
       "      <th>name_last</th>\n",
       "      <th>hand</th>\n",
       "      <th>dob</th>\n",
       "      <th>ioc</th>\n",
       "      <th>height</th>\n",
       "      <th>wikidata_id</th>\n",
       "    </tr>\n",
       "  </thead>\n",
       "  <tbody>\n",
       "    <tr>\n",
       "      <th>0</th>\n",
       "      <td>100001</td>\n",
       "      <td>Gardnar</td>\n",
       "      <td>Mulloy</td>\n",
       "      <td>R</td>\n",
       "      <td>19131122</td>\n",
       "      <td>USA</td>\n",
       "      <td>NaN</td>\n",
       "      <td>Q54544</td>\n",
       "    </tr>\n",
       "    <tr>\n",
       "      <th>1</th>\n",
       "      <td>100002</td>\n",
       "      <td>Pancho</td>\n",
       "      <td>Segura</td>\n",
       "      <td>R</td>\n",
       "      <td>19210620</td>\n",
       "      <td>ECU</td>\n",
       "      <td>NaN</td>\n",
       "      <td>Q54581</td>\n",
       "    </tr>\n",
       "    <tr>\n",
       "      <th>2</th>\n",
       "      <td>100003</td>\n",
       "      <td>Frank</td>\n",
       "      <td>Sedgman</td>\n",
       "      <td>R</td>\n",
       "      <td>19271002</td>\n",
       "      <td>AUS</td>\n",
       "      <td>NaN</td>\n",
       "      <td>Q962049</td>\n",
       "    </tr>\n",
       "  </tbody>\n",
       "</table>\n",
       "</div>"
      ],
      "text/plain": [
       "  player_id name_first name_last hand       dob  ioc  height wikidata_id\n",
       "0    100001    Gardnar    Mulloy    R  19131122  USA     NaN      Q54544\n",
       "1    100002     Pancho    Segura    R  19210620  ECU     NaN      Q54581\n",
       "2    100003      Frank   Sedgman    R  19271002  AUS     NaN     Q962049"
      ]
     },
     "execution_count": 3,
     "metadata": {},
     "output_type": "execute_result"
    }
   ],
   "source": [
    "df.head(3)"
   ]
  },
  {
   "cell_type": "code",
   "execution_count": 4,
   "id": "b4f41080",
   "metadata": {},
   "outputs": [],
   "source": [
    "df = df.loc[df[\"ioc\"] != \"GBR\"]\n",
    "df = df.loc[df[\"ioc\"] != \"USA\"]\n",
    "df = df.loc[df[\"hand\"] != \"U\"]"
   ]
  },
  {
   "cell_type": "code",
   "execution_count": 5,
   "id": "17fe8bd2",
   "metadata": {},
   "outputs": [
    {
     "data": {
      "text/html": [
       "<div>\n",
       "<style scoped>\n",
       "    .dataframe tbody tr th:only-of-type {\n",
       "        vertical-align: middle;\n",
       "    }\n",
       "\n",
       "    .dataframe tbody tr th {\n",
       "        vertical-align: top;\n",
       "    }\n",
       "\n",
       "    .dataframe thead th {\n",
       "        text-align: right;\n",
       "    }\n",
       "</style>\n",
       "<table border=\"1\" class=\"dataframe\">\n",
       "  <thead>\n",
       "    <tr style=\"text-align: right;\">\n",
       "      <th></th>\n",
       "      <th>name_last</th>\n",
       "      <th>dob</th>\n",
       "    </tr>\n",
       "  </thead>\n",
       "  <tbody>\n",
       "    <tr>\n",
       "      <th>1</th>\n",
       "      <td>Segura</td>\n",
       "      <td>19210620</td>\n",
       "    </tr>\n",
       "    <tr>\n",
       "      <th>2</th>\n",
       "      <td>Sedgman</td>\n",
       "      <td>19271002</td>\n",
       "    </tr>\n",
       "    <tr>\n",
       "      <th>3</th>\n",
       "      <td>Merlo</td>\n",
       "      <td>19271011</td>\n",
       "    </tr>\n",
       "  </tbody>\n",
       "</table>\n",
       "</div>"
      ],
      "text/plain": [
       "  name_last       dob\n",
       "1    Segura  19210620\n",
       "2   Sedgman  19271002\n",
       "3     Merlo  19271011"
      ]
     },
     "execution_count": 5,
     "metadata": {},
     "output_type": "execute_result"
    }
   ],
   "source": [
    "#Seleccionamos las columnas que nos interesan\n",
    "selected_columns = df[[\"name_last\",\"dob\",]]\n",
    "df = selected_columns.copy()\n",
    "df.head(3)"
   ]
  },
  {
   "cell_type": "code",
   "execution_count": 6,
   "id": "7c281b0e",
   "metadata": {},
   "outputs": [],
   "source": [
    "df = df[df['dob'].notna()]"
   ]
  },
  {
   "cell_type": "code",
   "execution_count": 7,
   "id": "a9f50fc5",
   "metadata": {},
   "outputs": [
    {
     "data": {
      "text/html": [
       "<div>\n",
       "<style scoped>\n",
       "    .dataframe tbody tr th:only-of-type {\n",
       "        vertical-align: middle;\n",
       "    }\n",
       "\n",
       "    .dataframe tbody tr th {\n",
       "        vertical-align: top;\n",
       "    }\n",
       "\n",
       "    .dataframe thead th {\n",
       "        text-align: right;\n",
       "    }\n",
       "</style>\n",
       "<table border=\"1\" class=\"dataframe\">\n",
       "  <thead>\n",
       "    <tr style=\"text-align: right;\">\n",
       "      <th></th>\n",
       "      <th>name_last</th>\n",
       "      <th>dob</th>\n",
       "      <th>year</th>\n",
       "      <th>month</th>\n",
       "      <th>day</th>\n",
       "    </tr>\n",
       "  </thead>\n",
       "  <tbody>\n",
       "    <tr>\n",
       "      <th>1</th>\n",
       "      <td>Segura</td>\n",
       "      <td>19210620</td>\n",
       "      <td>1921</td>\n",
       "      <td>6</td>\n",
       "      <td>20</td>\n",
       "    </tr>\n",
       "    <tr>\n",
       "      <th>2</th>\n",
       "      <td>Sedgman</td>\n",
       "      <td>19271002</td>\n",
       "      <td>1927</td>\n",
       "      <td>10</td>\n",
       "      <td>2</td>\n",
       "    </tr>\n",
       "    <tr>\n",
       "      <th>3</th>\n",
       "      <td>Merlo</td>\n",
       "      <td>19271011</td>\n",
       "      <td>1927</td>\n",
       "      <td>10</td>\n",
       "      <td>11</td>\n",
       "    </tr>\n",
       "  </tbody>\n",
       "</table>\n",
       "</div>"
      ],
      "text/plain": [
       "  name_last       dob  year  month  day\n",
       "1    Segura  19210620  1921      6   20\n",
       "2   Sedgman  19271002  1927     10    2\n",
       "3     Merlo  19271011  1927     10   11"
      ]
     },
     "execution_count": 7,
     "metadata": {},
     "output_type": "execute_result"
    }
   ],
   "source": [
    "df['year'] = pd.DatetimeIndex(df['dob']).year\n",
    "df['month'] = pd.DatetimeIndex(df['dob']).month\n",
    "df['day'] = pd.DatetimeIndex(df['dob']).day\n",
    "df.head(3)"
   ]
  },
  {
   "cell_type": "code",
   "execution_count": 8,
   "id": "4794ce02",
   "metadata": {},
   "outputs": [],
   "source": [
    "df = df.loc[df[\"year\"] > 1985]"
   ]
  },
  {
   "cell_type": "code",
   "execution_count": 9,
   "id": "8c8af1d4",
   "metadata": {},
   "outputs": [],
   "source": [
    "def trimestres(row):\n",
    "    if row['month'] < 4 :\n",
    "        return 1\n",
    "    elif row['month'] < 7:\n",
    "        return 2\n",
    "    elif row['month'] < 10:\n",
    "        return 3\n",
    "    else:\n",
    "        return 4  "
   ]
  },
  {
   "cell_type": "code",
   "execution_count": 10,
   "id": "04ba8828",
   "metadata": {},
   "outputs": [],
   "source": [
    "df['trimestre'] = df.apply (lambda month: trimestres(month), axis=1)"
   ]
  },
  {
   "cell_type": "code",
   "execution_count": 11,
   "id": "3babdf1d",
   "metadata": {},
   "outputs": [],
   "source": [
    "df['Deporte'] = 'Tenis'"
   ]
  },
  {
   "cell_type": "code",
   "execution_count": 12,
   "id": "ee86c2dd",
   "metadata": {},
   "outputs": [
    {
     "data": {
      "image/png": "[encoded data removed]",
      "text/plain": [
       "<Figure size 1224x576 with 1 Axes>"
      ]
     },
     "metadata": {},
     "output_type": "display_data"
    }
   ],
   "source": [
    "ax = sns.countplot(x=\"month\", data=df)"
   ]
  },
  {
   "cell_type": "code",
   "execution_count": 13,
   "id": "3b89d921",
   "metadata": {},
   "outputs": [
    {
     "data": {
      "image/png": "[encoded data removed]",
      "text/plain": [
       "<Figure size 1224x576 with 1 Axes>"
      ]
     },
     "metadata": {},
     "output_type": "display_data"
    }
   ],
   "source": [
    "ax = sns.countplot(x=\"trimestre\", data=df)"
   ]
  },
  {
   "cell_type": "code",
   "execution_count": 14,
   "id": "7881b87b",
   "metadata": {},
   "outputs": [],
   "source": [
    "df.to_csv('../../Data/tenistas.csv', encoding='utf-8')"
   ]
  },
  {
   "cell_type": "code",
   "execution_count": 15,
   "id": "2a60f11b",
   "metadata": {},
   "outputs": [
    {
     "data": {
      "text/html": [
       "<div>\n",
       "<style scoped>\n",
       "    .dataframe tbody tr th:only-of-type {\n",
       "        vertical-align: middle;\n",
       "    }\n",
       "\n",
       "    .dataframe tbody tr th {\n",
       "        vertical-align: top;\n",
       "    }\n",
       "\n",
       "    .dataframe thead th {\n",
       "        text-align: right;\n",
       "    }\n",
       "</style>\n",
       "<table border=\"1\" class=\"dataframe\">\n",
       "  <thead>\n",
       "    <tr style=\"text-align: right;\">\n",
       "      <th></th>\n",
       "      <th>name_last</th>\n",
       "      <th>dob</th>\n",
       "      <th>year</th>\n",
       "      <th>month</th>\n",
       "      <th>day</th>\n",
       "      <th>trimestre</th>\n",
       "      <th>Deporte</th>\n",
       "    </tr>\n",
       "  </thead>\n",
       "  <tbody>\n",
       "    <tr>\n",
       "      <th>643</th>\n",
       "      <td>Zverev</td>\n",
       "      <td>19970420</td>\n",
       "      <td>1997</td>\n",
       "      <td>4</td>\n",
       "      <td>20</td>\n",
       "      <td>2</td>\n",
       "      <td>Tenis</td>\n",
       "    </tr>\n",
       "    <tr>\n",
       "      <th>4652</th>\n",
       "      <td>Erguden</td>\n",
       "      <td>19860101</td>\n",
       "      <td>1986</td>\n",
       "      <td>1</td>\n",
       "      <td>1</td>\n",
       "      <td>1</td>\n",
       "      <td>Tenis</td>\n",
       "    </tr>\n",
       "    <tr>\n",
       "      <th>4653</th>\n",
       "      <td>Cuevas</td>\n",
       "      <td>19860101</td>\n",
       "      <td>1986</td>\n",
       "      <td>1</td>\n",
       "      <td>1</td>\n",
       "      <td>1</td>\n",
       "      <td>Tenis</td>\n",
       "    </tr>\n",
       "  </tbody>\n",
       "</table>\n",
       "</div>"
      ],
      "text/plain": [
       "     name_last       dob  year  month  day  trimestre Deporte\n",
       "643     Zverev  19970420  1997      4   20          2   Tenis\n",
       "4652   Erguden  19860101  1986      1    1          1   Tenis\n",
       "4653    Cuevas  19860101  1986      1    1          1   Tenis"
      ]
     },
     "execution_count": 15,
     "metadata": {},
     "output_type": "execute_result"
    }
   ],
   "source": [
    "df.head(3)"
   ]
  },
  {
   "cell_type": "code",
   "execution_count": null,
   "id": "d8733d59",
   "metadata": {},
   "outputs": [],
   "source": []
  }
 ],
 "metadata": {
  "kernelspec": {
   "display_name": "ironhack",
   "language": "python",
   "name": "ironhack"
  },
  "language_info": {
   "codemirror_mode": {
    "name": "ipython",
    "version": 3
   },
   "file_extension": ".py",
   "mimetype": "text/x-python",
   "name": "python",
   "nbconvert_exporter": "python",
   "pygments_lexer": "ipython3",
   "version": "3.8.5"
  }
 },
 "nbformat": 4,
 "nbformat_minor": 5
}
