{
 "cells": [
  {
   "cell_type": "code",
   "execution_count": 13,
   "id": "17ed91a6",
   "metadata": {},
   "outputs": [],
   "source": [
    "import pandas as pd\n",
    "import numpy as np\n",
    "import datetime\n",
    "import seaborn as sns\n",
    "sns.set_theme(style=\"darkgrid\")\n",
    "sns.set({\"figure.figsize\":(17,8)})\n",
    "sns.set(font_scale = 1.15)\n",
    "\n"
   ]
  },
  {
   "cell_type": "code",
   "execution_count": 14,
   "id": "e5476515",
   "metadata": {},
   "outputs": [],
   "source": [
    "a = pd.read_csv(\"../../Raw Data/Oscars.csv\",encoding = \"ISO-8859-1\")"
   ]
  },
  {
   "cell_type": "code",
   "execution_count": 15,
   "id": "77ed6b98",
   "metadata": {},
   "outputs": [
    {
     "data": {
      "text/html": [
       "<div>\n",
       "<style scoped>\n",
       "    .dataframe tbody tr th:only-of-type {\n",
       "        vertical-align: middle;\n",
       "    }\n",
       "\n",
       "    .dataframe tbody tr th {\n",
       "        vertical-align: top;\n",
       "    }\n",
       "\n",
       "    .dataframe thead th {\n",
       "        text-align: right;\n",
       "    }\n",
       "</style>\n",
       "<table border=\"1\" class=\"dataframe\">\n",
       "  <thead>\n",
       "    <tr style=\"text-align: right;\">\n",
       "      <th></th>\n",
       "      <th>person</th>\n",
       "      <th>movie</th>\n",
       "      <th>year_of_award</th>\n",
       "      <th>birthplace</th>\n",
       "      <th>date_of_birth</th>\n",
       "    </tr>\n",
       "  </thead>\n",
       "  <tbody>\n",
       "    <tr>\n",
       "      <th>0</th>\n",
       "      <td>Lewis Milestone</td>\n",
       "      <td>Two Arabian Knights</td>\n",
       "      <td>1927</td>\n",
       "      <td>Chisinau, Moldova</td>\n",
       "      <td>30-Sep-1895</td>\n",
       "    </tr>\n",
       "    <tr>\n",
       "      <th>1</th>\n",
       "      <td>Frank Lloyd</td>\n",
       "      <td>The Divine Lady</td>\n",
       "      <td>1930</td>\n",
       "      <td>Glasgow, Scotland</td>\n",
       "      <td>2-Feb-1886</td>\n",
       "    </tr>\n",
       "    <tr>\n",
       "      <th>2</th>\n",
       "      <td>Lewis Milestone</td>\n",
       "      <td>All Quiet on the Western Front</td>\n",
       "      <td>1931</td>\n",
       "      <td>Chisinau, Moldova</td>\n",
       "      <td>30-Sep-1895</td>\n",
       "    </tr>\n",
       "  </tbody>\n",
       "</table>\n",
       "</div>"
      ],
      "text/plain": [
       "            person                           movie  year_of_award  \\\n",
       "0  Lewis Milestone             Two Arabian Knights           1927   \n",
       "1      Frank Lloyd                 The Divine Lady           1930   \n",
       "2  Lewis Milestone  All Quiet on the Western Front           1931   \n",
       "\n",
       "          birthplace date_of_birth  \n",
       "0  Chisinau, Moldova   30-Sep-1895  \n",
       "1  Glasgow, Scotland    2-Feb-1886  \n",
       "2  Chisinau, Moldova   30-Sep-1895  "
      ]
     },
     "execution_count": 15,
     "metadata": {},
     "output_type": "execute_result"
    }
   ],
   "source": [
    "#Seleccionamos las columnas que nos interesan\n",
    "selected_columns = a[[\"person\",\"movie\",\"year_of_award\",\"birthplace\",\"date_of_birth\"]]\n",
    "df = selected_columns.copy()\n",
    "df.head(3)"
   ]
  },
  {
   "cell_type": "code",
   "execution_count": 16,
   "id": "5be30891",
   "metadata": {},
   "outputs": [
    {
     "data": {
      "text/plain": [
       "(441, 5)"
      ]
     },
     "execution_count": 16,
     "metadata": {},
     "output_type": "execute_result"
    }
   ],
   "source": [
    "df.shape"
   ]
  },
  {
   "cell_type": "code",
   "execution_count": 17,
   "id": "d73e50e7",
   "metadata": {},
   "outputs": [],
   "source": [
    "df = df.drop_duplicates(subset='person', keep=\"last\")"
   ]
  },
  {
   "cell_type": "code",
   "execution_count": 18,
   "id": "97c50557",
   "metadata": {},
   "outputs": [
    {
     "data": {
      "text/plain": [
       "(348, 5)"
      ]
     },
     "execution_count": 18,
     "metadata": {},
     "output_type": "execute_result"
    }
   ],
   "source": [
    "df.shape"
   ]
  },
  {
   "cell_type": "code",
   "execution_count": 19,
   "id": "7d6621e9",
   "metadata": {},
   "outputs": [],
   "source": [
    "df = df.drop(df[df.date_of_birth == \"18-Aug-1936 [1]\"].index)"
   ]
  },
  {
   "cell_type": "code",
   "execution_count": 20,
   "id": "6be11e4f",
   "metadata": {},
   "outputs": [
    {
     "data": {
      "text/html": [
       "<div>\n",
       "<style scoped>\n",
       "    .dataframe tbody tr th:only-of-type {\n",
       "        vertical-align: middle;\n",
       "    }\n",
       "\n",
       "    .dataframe tbody tr th {\n",
       "        vertical-align: top;\n",
       "    }\n",
       "\n",
       "    .dataframe thead th {\n",
       "        text-align: right;\n",
       "    }\n",
       "</style>\n",
       "<table border=\"1\" class=\"dataframe\">\n",
       "  <thead>\n",
       "    <tr style=\"text-align: right;\">\n",
       "      <th></th>\n",
       "      <th>person</th>\n",
       "      <th>movie</th>\n",
       "      <th>year_of_award</th>\n",
       "      <th>birthplace</th>\n",
       "      <th>date_of_birth</th>\n",
       "      <th>year</th>\n",
       "      <th>month</th>\n",
       "      <th>day</th>\n",
       "    </tr>\n",
       "  </thead>\n",
       "  <tbody>\n",
       "    <tr>\n",
       "      <th>2</th>\n",
       "      <td>Lewis Milestone</td>\n",
       "      <td>All Quiet on the Western Front</td>\n",
       "      <td>1931</td>\n",
       "      <td>Chisinau, Moldova</td>\n",
       "      <td>30-Sep-1895</td>\n",
       "      <td>1895</td>\n",
       "      <td>9</td>\n",
       "      <td>30</td>\n",
       "    </tr>\n",
       "    <tr>\n",
       "      <th>3</th>\n",
       "      <td>Norman Taurog</td>\n",
       "      <td>Skippy</td>\n",
       "      <td>1932</td>\n",
       "      <td>Chicago, Il</td>\n",
       "      <td>23-Feb-1899</td>\n",
       "      <td>1899</td>\n",
       "      <td>2</td>\n",
       "      <td>23</td>\n",
       "    </tr>\n",
       "    <tr>\n",
       "      <th>4</th>\n",
       "      <td>Frank Borzage</td>\n",
       "      <td>Bad Girl</td>\n",
       "      <td>1933</td>\n",
       "      <td>Salt Lake City, Ut</td>\n",
       "      <td>23-Apr-1894</td>\n",
       "      <td>1894</td>\n",
       "      <td>4</td>\n",
       "      <td>23</td>\n",
       "    </tr>\n",
       "  </tbody>\n",
       "</table>\n",
       "</div>"
      ],
      "text/plain": [
       "            person                           movie  year_of_award  \\\n",
       "2  Lewis Milestone  All Quiet on the Western Front           1931   \n",
       "3    Norman Taurog                          Skippy           1932   \n",
       "4    Frank Borzage                        Bad Girl           1933   \n",
       "\n",
       "           birthplace date_of_birth  year  month  day  \n",
       "2   Chisinau, Moldova   30-Sep-1895  1895      9   30  \n",
       "3         Chicago, Il   23-Feb-1899  1899      2   23  \n",
       "4  Salt Lake City, Ut   23-Apr-1894  1894      4   23  "
      ]
     },
     "execution_count": 20,
     "metadata": {},
     "output_type": "execute_result"
    }
   ],
   "source": [
    "df['year'] = pd.DatetimeIndex(df['date_of_birth']).year\n",
    "df['month'] = pd.DatetimeIndex(df['date_of_birth']).month\n",
    "df['day'] = pd.DatetimeIndex(df['date_of_birth']).day\n",
    "df.head(3)"
   ]
  },
  {
   "cell_type": "code",
   "execution_count": 21,
   "id": "ba2a7ad4",
   "metadata": {},
   "outputs": [],
   "source": [
    "df = df.loc[df[\"year_of_award\"] > 1965]"
   ]
  },
  {
   "cell_type": "code",
   "execution_count": 22,
   "id": "b3e9f1d8",
   "metadata": {},
   "outputs": [],
   "source": [
    "def trimestres(row):\n",
    "    if row['month'] < 4 :\n",
    "        return 1\n",
    "    elif row['month'] < 7:\n",
    "        return 2\n",
    "    elif row['month'] < 10:\n",
    "        return 3\n",
    "    else:\n",
    "        return 4  "
   ]
  },
  {
   "cell_type": "code",
   "execution_count": 23,
   "id": "2c2b3dc4",
   "metadata": {},
   "outputs": [],
   "source": [
    "df['trimestre'] = df.apply (lambda month: trimestres(month), axis=1)"
   ]
  },
  {
   "cell_type": "code",
   "execution_count": 24,
   "id": "3b73a189",
   "metadata": {},
   "outputs": [
    {
     "data": {
      "image/png": "[encoded data removed]",
      "text/plain": [
       "<Figure size 1224x576 with 1 Axes>"
      ]
     },
     "metadata": {},
     "output_type": "display_data"
    }
   ],
   "source": [
    "ax = sns.countplot(x=\"trimestre\", data=df)"
   ]
  },
  {
   "cell_type": "code",
   "execution_count": 25,
   "id": "53572dba",
   "metadata": {},
   "outputs": [
    {
     "data": {
      "image/png": "[encoded data removed]",
      "text/plain": [
       "<Figure size 1224x576 with 1 Axes>"
      ]
     },
     "metadata": {},
     "output_type": "display_data"
    }
   ],
   "source": [
    "ax = sns.countplot(x=\"month\", data=df)"
   ]
  }
 ],
 "metadata": {
  "kernelspec": {
   "display_name": "ironhack",
   "language": "python",
   "name": "ironhack"
  },
  "language_info": {
   "codemirror_mode": {
    "name": "ipython",
    "version": 3
   },
   "file_extension": ".py",
   "mimetype": "text/x-python",
   "name": "python",
   "nbconvert_exporter": "python",
   "pygments_lexer": "ipython3",
   "version": "3.8.5"
  }
 },
 "nbformat": 4,
 "nbformat_minor": 5
}
