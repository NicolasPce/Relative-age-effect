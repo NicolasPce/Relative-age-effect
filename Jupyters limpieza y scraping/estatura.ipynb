{
 "cells": [
  {
   "cell_type": "code",
   "execution_count": 1,
   "id": "ce003f49",
   "metadata": {},
   "outputs": [],
   "source": [
    "import pandas as pd\n",
    "import numpy as np\n",
    "import datetime\n",
    "import seaborn as sns\n",
    "sns.set_theme(style=\"darkgrid\")\n",
    "sns.set({\"figure.figsize\":(17,8)})\n",
    "sns.set(font_scale = 1.15)\n",
    "\n",
    "import plotly.express as px\n",
    "import seaborn as sns\n",
    "import pandas as pd\n",
    "import plotly.graph_objects as go\n",
    "from plotly import graph_objs as go\n",
    "import plotly.graph_objects as go\n",
    "from plotly.subplots import make_subplots\n",
    "import plotly as plt\n",
    "import matplotlib\n",
    "import matplotlib.pyplot as plt"
   ]
  },
  {
   "cell_type": "code",
   "execution_count": 2,
   "id": "21834755",
   "metadata": {},
   "outputs": [],
   "source": [
    "df = pd.read_csv(\"../../Raw Data/estatura.csv\",encoding = \"ISO-8859-1\")"
   ]
  },
  {
   "cell_type": "code",
   "execution_count": 3,
   "id": "b6a30445",
   "metadata": {},
   "outputs": [],
   "source": [
    "df = df.loc[df[\"Sex\"] == 1]"
   ]
  },
  {
   "cell_type": "code",
   "execution_count": 4,
   "id": "2700b5ec",
   "metadata": {},
   "outputs": [
    {
     "data": {
      "text/html": [
       "<div>\n",
       "<style scoped>\n",
       "    .dataframe tbody tr th:only-of-type {\n",
       "        vertical-align: middle;\n",
       "    }\n",
       "\n",
       "    .dataframe tbody tr th {\n",
       "        vertical-align: top;\n",
       "    }\n",
       "\n",
       "    .dataframe thead th {\n",
       "        text-align: right;\n",
       "    }\n",
       "</style>\n",
       "<table border=\"1\" class=\"dataframe\">\n",
       "  <thead>\n",
       "    <tr style=\"text-align: right;\">\n",
       "      <th></th>\n",
       "      <th>Sex</th>\n",
       "      <th>Agemos</th>\n",
       "      <th>L</th>\n",
       "      <th>M</th>\n",
       "      <th>S</th>\n",
       "      <th>P3</th>\n",
       "      <th>P5</th>\n",
       "      <th>P10</th>\n",
       "      <th>P25</th>\n",
       "      <th>P50</th>\n",
       "      <th>P75</th>\n",
       "      <th>P90</th>\n",
       "      <th>P95</th>\n",
       "      <th>P97</th>\n",
       "    </tr>\n",
       "  </thead>\n",
       "  <tbody>\n",
       "    <tr>\n",
       "      <th>0</th>\n",
       "      <td>1</td>\n",
       "      <td>24.0</td>\n",
       "      <td>0.941524</td>\n",
       "      <td>86.452201</td>\n",
       "      <td>0.040322</td>\n",
       "      <td>79.910844</td>\n",
       "      <td>80.729773</td>\n",
       "      <td>81.991714</td>\n",
       "      <td>84.102892</td>\n",
       "      <td>86.452201</td>\n",
       "      <td>88.805249</td>\n",
       "      <td>90.926191</td>\n",
       "      <td>92.196879</td>\n",
       "      <td>93.022654</td>\n",
       "    </tr>\n",
       "    <tr>\n",
       "      <th>1</th>\n",
       "      <td>1</td>\n",
       "      <td>24.5</td>\n",
       "      <td>1.007208</td>\n",
       "      <td>86.861609</td>\n",
       "      <td>0.040396</td>\n",
       "      <td>80.260371</td>\n",
       "      <td>81.088685</td>\n",
       "      <td>82.364010</td>\n",
       "      <td>84.494706</td>\n",
       "      <td>86.861609</td>\n",
       "      <td>89.228048</td>\n",
       "      <td>91.357530</td>\n",
       "      <td>92.631767</td>\n",
       "      <td>93.459230</td>\n",
       "    </tr>\n",
       "  </tbody>\n",
       "</table>\n",
       "</div>"
      ],
      "text/plain": [
       "   Sex  Agemos         L          M         S         P3         P5  \\\n",
       "0    1    24.0  0.941524  86.452201  0.040322  79.910844  80.729773   \n",
       "1    1    24.5  1.007208  86.861609  0.040396  80.260371  81.088685   \n",
       "\n",
       "         P10        P25        P50        P75        P90        P95        P97  \n",
       "0  81.991714  84.102892  86.452201  88.805249  90.926191  92.196879  93.022654  \n",
       "1  82.364010  84.494706  86.861609  89.228048  91.357530  92.631767  93.459230  "
      ]
     },
     "execution_count": 4,
     "metadata": {},
     "output_type": "execute_result"
    }
   ],
   "source": [
    "df.head(2)"
   ]
  },
  {
   "cell_type": "code",
   "execution_count": 5,
   "id": "3094b16f",
   "metadata": {},
   "outputs": [
    {
     "data": {
      "text/html": [
       "<div>\n",
       "<style scoped>\n",
       "    .dataframe tbody tr th:only-of-type {\n",
       "        vertical-align: middle;\n",
       "    }\n",
       "\n",
       "    .dataframe tbody tr th {\n",
       "        vertical-align: top;\n",
       "    }\n",
       "\n",
       "    .dataframe thead th {\n",
       "        text-align: right;\n",
       "    }\n",
       "</style>\n",
       "<table border=\"1\" class=\"dataframe\">\n",
       "  <thead>\n",
       "    <tr style=\"text-align: right;\">\n",
       "      <th></th>\n",
       "      <th>Agemos</th>\n",
       "      <th>P50</th>\n",
       "    </tr>\n",
       "  </thead>\n",
       "  <tbody>\n",
       "    <tr>\n",
       "      <th>0</th>\n",
       "      <td>24.0</td>\n",
       "      <td>86.452201</td>\n",
       "    </tr>\n",
       "    <tr>\n",
       "      <th>1</th>\n",
       "      <td>24.5</td>\n",
       "      <td>86.861609</td>\n",
       "    </tr>\n",
       "    <tr>\n",
       "      <th>2</th>\n",
       "      <td>25.5</td>\n",
       "      <td>87.652473</td>\n",
       "    </tr>\n",
       "  </tbody>\n",
       "</table>\n",
       "</div>"
      ],
      "text/plain": [
       "   Agemos        P50\n",
       "0    24.0  86.452201\n",
       "1    24.5  86.861609\n",
       "2    25.5  87.652473"
      ]
     },
     "execution_count": 5,
     "metadata": {},
     "output_type": "execute_result"
    }
   ],
   "source": [
    "#Seleccionamos las columnas que nos interesan\n",
    "selected_columns = df[[\"Agemos\",\"P50\"]]\n",
    "df = selected_columns.copy()\n",
    "df.head(3)"
   ]
  },
  {
   "cell_type": "code",
   "execution_count": 6,
   "id": "403b71ca",
   "metadata": {},
   "outputs": [
    {
     "data": {
      "text/html": [
       "<div>\n",
       "<style scoped>\n",
       "    .dataframe tbody tr th:only-of-type {\n",
       "        vertical-align: middle;\n",
       "    }\n",
       "\n",
       "    .dataframe tbody tr th {\n",
       "        vertical-align: top;\n",
       "    }\n",
       "\n",
       "    .dataframe thead th {\n",
       "        text-align: right;\n",
       "    }\n",
       "</style>\n",
       "<table border=\"1\" class=\"dataframe\">\n",
       "  <thead>\n",
       "    <tr style=\"text-align: right;\">\n",
       "      <th></th>\n",
       "      <th>Agemos</th>\n",
       "      <th>P50</th>\n",
       "    </tr>\n",
       "  </thead>\n",
       "  <tbody>\n",
       "    <tr>\n",
       "      <th>215</th>\n",
       "      <td>238.5</td>\n",
       "      <td>176.825490</td>\n",
       "    </tr>\n",
       "    <tr>\n",
       "      <th>216</th>\n",
       "      <td>239.5</td>\n",
       "      <td>176.841491</td>\n",
       "    </tr>\n",
       "    <tr>\n",
       "      <th>217</th>\n",
       "      <td>240.0</td>\n",
       "      <td>176.849232</td>\n",
       "    </tr>\n",
       "  </tbody>\n",
       "</table>\n",
       "</div>"
      ],
      "text/plain": [
       "     Agemos         P50\n",
       "215   238.5  176.825490\n",
       "216   239.5  176.841491\n",
       "217   240.0  176.849232"
      ]
     },
     "execution_count": 6,
     "metadata": {},
     "output_type": "execute_result"
    }
   ],
   "source": [
    "df.tail(3)"
   ]
  },
  {
   "cell_type": "code",
   "execution_count": 7,
   "id": "65ff3317",
   "metadata": {},
   "outputs": [],
   "source": [
    "df = df.loc[df[\"Agemos\"] > 81]"
   ]
  },
  {
   "cell_type": "code",
   "execution_count": 8,
   "id": "cfdcee74",
   "metadata": {},
   "outputs": [],
   "source": [
    "df = df.loc[df[\"Agemos\"] < 153]"
   ]
  },
  {
   "cell_type": "code",
   "execution_count": 9,
   "id": "fc504db2",
   "metadata": {},
   "outputs": [],
   "source": [
    "df['Month'] = df['Agemos']"
   ]
  },
  {
   "cell_type": "code",
   "execution_count": 10,
   "id": "b0ebaeab",
   "metadata": {},
   "outputs": [
    {
     "data": {
      "text/plain": [
       "(72, 3)"
      ]
     },
     "execution_count": 10,
     "metadata": {},
     "output_type": "execute_result"
    }
   ],
   "source": [
    "df.shape"
   ]
  },
  {
   "cell_type": "code",
   "execution_count": 11,
   "id": "8f1a81db",
   "metadata": {},
   "outputs": [
    {
     "data": {
      "text/html": [
       "<div>\n",
       "<style scoped>\n",
       "    .dataframe tbody tr th:only-of-type {\n",
       "        vertical-align: middle;\n",
       "    }\n",
       "\n",
       "    .dataframe tbody tr th {\n",
       "        vertical-align: top;\n",
       "    }\n",
       "\n",
       "    .dataframe thead th {\n",
       "        text-align: right;\n",
       "    }\n",
       "</style>\n",
       "<table border=\"1\" class=\"dataframe\">\n",
       "  <thead>\n",
       "    <tr style=\"text-align: right;\">\n",
       "      <th></th>\n",
       "      <th>Agemos</th>\n",
       "      <th>P50</th>\n",
       "      <th>Month</th>\n",
       "    </tr>\n",
       "  </thead>\n",
       "  <tbody>\n",
       "    <tr>\n",
       "      <th>58</th>\n",
       "      <td>81.5</td>\n",
       "      <td>120.455433</td>\n",
       "      <td>81.5</td>\n",
       "    </tr>\n",
       "    <tr>\n",
       "      <th>59</th>\n",
       "      <td>82.5</td>\n",
       "      <td>120.982136</td>\n",
       "      <td>82.5</td>\n",
       "    </tr>\n",
       "    <tr>\n",
       "      <th>60</th>\n",
       "      <td>83.5</td>\n",
       "      <td>121.507214</td>\n",
       "      <td>83.5</td>\n",
       "    </tr>\n",
       "  </tbody>\n",
       "</table>\n",
       "</div>"
      ],
      "text/plain": [
       "    Agemos         P50  Month\n",
       "58    81.5  120.455433   81.5\n",
       "59    82.5  120.982136   82.5\n",
       "60    83.5  121.507214   83.5"
      ]
     },
     "execution_count": 11,
     "metadata": {},
     "output_type": "execute_result"
    }
   ],
   "source": [
    "df.head(3)"
   ]
  },
  {
   "cell_type": "code",
   "execution_count": 12,
   "id": "83d02d01",
   "metadata": {},
   "outputs": [],
   "source": [
    "df[\"Month\"].replace({81.5: 12, 93.5: 12, 105.5: 12, 117.5: 12, 129.5: 12, 141.5: 12}, inplace=True)\n",
    "df[\"Month\"].replace({82.5: 11, 94.5: 11, 106.5: 11, 118.5: 11, 130.5: 11, 142.5: 11}, inplace=True)\n",
    "df[\"Month\"].replace({83.5: 10, 95.5: 10, 107.5: 10, 119.5: 10, 131.5: 10, 143.5: 10}, inplace=True)\n",
    "df[\"Month\"].replace({84.5: 9, 96.5: 9, 108.5: 9, 120.5: 9, 132.5: 9, 144.5: 9}, inplace=True)\n",
    "df[\"Month\"].replace({85.5: 8, 97.5: 8, 109.5: 8, 121.5: 8, 133.5: 8, 145.5: 8}, inplace=True)\n",
    "df[\"Month\"].replace({86.5: 7, 98.5: 7, 110.5: 7, 122.5: 7, 134.5: 7, 146.5: 7}, inplace=True)\n",
    "df[\"Month\"].replace({87.5: 6, 99.5: 6, 111.5: 6, 123.5: 6, 135.5: 6, 147.5: 6}, inplace=True)\n",
    "df[\"Month\"].replace({88.5: 5, 100.5: 5, 112.5: 5, 124.5: 5, 136.5: 5, 148.5: 5}, inplace=True)\n",
    "df[\"Month\"].replace({89.5: 4, 101.5: 4, 113.5: 4, 125.5: 4, 137.5: 4, 149.5: 4}, inplace=True)\n",
    "df[\"Month\"].replace({90.5: 3, 102.5: 3, 114.5: 3, 126.5: 3, 138.5: 3, 150.5: 3}, inplace=True)\n",
    "df[\"Month\"].replace({91.5: 2, 103.5: 2, 115.5: 2, 127.5: 2,139.5: 2, 151.5: 2}, inplace=True)\n",
    "df[\"Month\"].replace({92.5: 1, 104.5: 1, 116.5: 1, 128.5: 1,140.5: 1, 152.5: 1}, inplace=True)\n"
   ]
  },
  {
   "cell_type": "code",
   "execution_count": 13,
   "id": "4c1935ef",
   "metadata": {},
   "outputs": [],
   "source": [
    "c = df.groupby(\"Month\")\n",
    "est = c.mean()\n"
   ]
  },
  {
   "cell_type": "code",
   "execution_count": 14,
   "id": "193a3ac1",
   "metadata": {},
   "outputs": [
    {
     "data": {
      "text/plain": [
       "Month\n",
       "1.0     139.75\n",
       "2.0     139.27\n",
       "3.0     138.79\n",
       "4.0     138.32\n",
       "5.0     137.84\n",
       "6.0     137.37\n",
       "7.0     136.90\n",
       "8.0     136.43\n",
       "9.0     135.96\n",
       "10.0    135.49\n",
       "11.0    135.02\n",
       "12.0    134.56\n",
       "Name: P50, dtype: float64"
      ]
     },
     "execution_count": 14,
     "metadata": {},
     "output_type": "execute_result"
    }
   ],
   "source": [
    "est['P50'].round(decimals = 2)\n"
   ]
  },
  {
   "cell_type": "code",
   "execution_count": 15,
   "id": "e086f6f3",
   "metadata": {},
   "outputs": [],
   "source": [
    "est = est.round(decimals = 2)"
   ]
  },
  {
   "cell_type": "code",
   "execution_count": 16,
   "id": "fbac0bd0",
   "metadata": {},
   "outputs": [],
   "source": [
    "est['resta'] = 134.56"
   ]
  },
  {
   "cell_type": "code",
   "execution_count": 17,
   "id": "ed43c9fd",
   "metadata": {},
   "outputs": [],
   "source": [
    "est['crecimiento'] = est['P50'] - est['resta']"
   ]
  },
  {
   "cell_type": "code",
   "execution_count": 18,
   "id": "74b36598",
   "metadata": {},
   "outputs": [],
   "source": [
    "est['Month'] = df.Month"
   ]
  },
  {
   "cell_type": "code",
   "execution_count": 19,
   "id": "956b70ad",
   "metadata": {},
   "outputs": [],
   "source": [
    "selected_columns = est[[\"crecimiento\"]]\n",
    "est = selected_columns.copy()\n"
   ]
  },
  {
   "cell_type": "code",
   "execution_count": 20,
   "id": "82e974c6",
   "metadata": {},
   "outputs": [],
   "source": [
    "est.reset_index(level=0, inplace=True)\n"
   ]
  },
  {
   "cell_type": "code",
   "execution_count": 21,
   "id": "75f870ba",
   "metadata": {},
   "outputs": [],
   "source": [
    "est.to_csv('../../Data/crecimientofinal.csv', encoding='utf-8')"
   ]
  },
  {
   "cell_type": "code",
   "execution_count": 22,
   "id": "adf8cd8f",
   "metadata": {},
   "outputs": [],
   "source": [
    "df7 = pd.read_csv(\"../../Data/cantera7.csv\",encoding = \"ISO-8859-1\")"
   ]
  },
  {
   "cell_type": "code",
   "execution_count": 23,
   "id": "93fa5b02",
   "metadata": {},
   "outputs": [],
   "source": [
    "c = df7.groupby(\"month\")\n",
    "aa = c.count()"
   ]
  },
  {
   "cell_type": "code",
   "execution_count": 24,
   "id": "7b4a09a3",
   "metadata": {},
   "outputs": [],
   "source": [
    "aa.reset_index(level=0, inplace=True)"
   ]
  },
  {
   "cell_type": "code",
   "execution_count": 25,
   "id": "93c260ab",
   "metadata": {},
   "outputs": [],
   "source": [
    "aa['Jugadores'] = aa['Nombre']"
   ]
  },
  {
   "cell_type": "code",
   "execution_count": 26,
   "id": "855cb388",
   "metadata": {},
   "outputs": [],
   "source": [
    "selected_columns = aa[[\"month\",\"Jugadores\"]]\n",
    "aa = selected_columns.copy()"
   ]
  },
  {
   "cell_type": "code",
   "execution_count": 27,
   "id": "32d42aa8",
   "metadata": {},
   "outputs": [],
   "source": [
    "dfg = pd.concat([est, aa], axis=1)"
   ]
  },
  {
   "cell_type": "code",
   "execution_count": 28,
   "id": "b0dc6a2e",
   "metadata": {},
   "outputs": [],
   "source": [
    "selected_columns = dfg[[\"month\",\"Jugadores\", \"crecimiento\"]]\n",
    "dfg = selected_columns.copy()"
   ]
  },
  {
   "cell_type": "code",
   "execution_count": 29,
   "id": "105f361b",
   "metadata": {},
   "outputs": [],
   "source": [
    "dfg['Futbolistas'] = dfg.Jugadores / dfg.Jugadores.sum()*100"
   ]
  },
  {
   "cell_type": "code",
   "execution_count": 30,
   "id": "8172e2dc",
   "metadata": {},
   "outputs": [],
   "source": [
    "dfg = dfg.round(decimals = 2)"
   ]
  },
  {
   "cell_type": "code",
   "execution_count": 31,
   "id": "0b2e7af0",
   "metadata": {},
   "outputs": [],
   "source": [
    "selected_columns = dfg[[\"month\",\"Futbolistas\", \"crecimiento\"]]\n",
    "dfg = selected_columns.copy()"
   ]
  },
  {
   "cell_type": "code",
   "execution_count": 32,
   "id": "f9f3bd75",
   "metadata": {},
   "outputs": [
    {
     "data": {
      "text/plain": [
       "<AxesSubplot:xlabel='month', ylabel='Futbolistas'>"
      ]
     },
     "execution_count": 32,
     "metadata": {},
     "output_type": "execute_result"
    },
    {
     "data": {
      "image/png": "[encoded data removed]",
      "text/plain": [
       "<Figure size 1600x800 with 2 Axes>"
      ]
     },
     "metadata": {},
     "output_type": "display_data"
    }
   ],
   "source": [
    "matplotlib.rc_file_defaults()\n",
    "ax1 = sns.set_style(style=None, rc=None )\n",
    "\n",
    "fig, ax1 = plt.subplots(figsize=(16,8))\n",
    "\n",
    "sns.lineplot(data = dfg['crecimiento'], marker='o', sort = False, ax=ax1)\n",
    "ax2 = ax1.twinx()\n",
    "\n",
    "sns.barplot(data = dfg, x='month', y='Futbolistas', alpha=0.5, ax=ax2)"
   ]
  },
  {
   "cell_type": "code",
   "execution_count": 33,
   "id": "f1d09b4a",
   "metadata": {},
   "outputs": [],
   "source": [
    "dfg.to_csv('../../Data/canterayaltura.csv', encoding='utf-8')"
   ]
  },
  {
   "cell_type": "code",
   "execution_count": null,
   "id": "03f597e9",
   "metadata": {},
   "outputs": [],
   "source": []
  },
  {
   "cell_type": "code",
   "execution_count": null,
   "id": "26c1db2c",
   "metadata": {},
   "outputs": [],
   "source": []
  }
 ],
 "metadata": {
  "kernelspec": {
   "display_name": "ironhack",
   "language": "python",
   "name": "ironhack"
  },
  "language_info": {
   "codemirror_mode": {
    "name": "ipython",
    "version": 3
   },
   "file_extension": ".py",
   "mimetype": "text/x-python",
   "name": "python",
   "nbconvert_exporter": "python",
   "pygments_lexer": "ipython3",
   "version": "3.8.5"
  }
 },
 "nbformat": 4,
 "nbformat_minor": 5
}
