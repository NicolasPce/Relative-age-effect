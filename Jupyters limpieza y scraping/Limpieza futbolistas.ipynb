{
 "cells": [
  {
   "cell_type": "code",
   "execution_count": 1,
   "id": "88d9ba7c",
   "metadata": {},
   "outputs": [],
   "source": [
    "import pandas as pd\n",
    "import numpy as np\n",
    "import datetime\n",
    "import seaborn as sns\n",
    "sns.set_theme(style=\"darkgrid\")\n",
    "sns.set({\"figure.figsize\":(17,8)})\n",
    "sns.set(font_scale = 1.15)\n",
    "import plotly.express as px\n",
    "import seaborn as sns\n",
    "import pandas as pd\n",
    "import plotly.graph_objects as go\n",
    "import matplotlib.pyplot as plt\n"
   ]
  },
  {
   "cell_type": "code",
   "execution_count": 2,
   "id": "1c2cc644",
   "metadata": {},
   "outputs": [
    {
     "name": "stderr",
     "output_type": "stream",
     "text": [
      "/Users/macniacos/Desktop/Ironhack/anaconda3/envs/ironhack/lib/python3.8/site-packages/IPython/core/interactiveshell.py:3417: DtypeWarning:\n",
      "\n",
      "Columns (25,108) have mixed types.Specify dtype option on import or set low_memory=False.\n",
      "\n"
     ]
    }
   ],
   "source": [
    "# Nos traemos el data set \n",
    "f = pd.read_csv(\"../../Raw Data/players_22.csv\",encoding = \"ISO-8859-1\")"
   ]
  },
  {
   "cell_type": "code",
   "execution_count": 3,
   "id": "3420d6e9",
   "metadata": {},
   "outputs": [
    {
     "data": {
      "text/html": [
       "<div>\n",
       "<style scoped>\n",
       "    .dataframe tbody tr th:only-of-type {\n",
       "        vertical-align: middle;\n",
       "    }\n",
       "\n",
       "    .dataframe tbody tr th {\n",
       "        vertical-align: top;\n",
       "    }\n",
       "\n",
       "    .dataframe thead th {\n",
       "        text-align: right;\n",
       "    }\n",
       "</style>\n",
       "<table border=\"1\" class=\"dataframe\">\n",
       "  <thead>\n",
       "    <tr style=\"text-align: right;\">\n",
       "      <th></th>\n",
       "      <th>short_name</th>\n",
       "      <th>player_positions</th>\n",
       "      <th>overall</th>\n",
       "      <th>nationality_name</th>\n",
       "      <th>age</th>\n",
       "      <th>dob</th>\n",
       "      <th>league_name</th>\n",
       "      <th>height_cm</th>\n",
       "      <th>weight_kg</th>\n",
       "    </tr>\n",
       "  </thead>\n",
       "  <tbody>\n",
       "    <tr>\n",
       "      <th>0</th>\n",
       "      <td>L. Messi</td>\n",
       "      <td>RW, ST, CF</td>\n",
       "      <td>93</td>\n",
       "      <td>Argentina</td>\n",
       "      <td>34</td>\n",
       "      <td>1987-06-24</td>\n",
       "      <td>French Ligue 1</td>\n",
       "      <td>170</td>\n",
       "      <td>72</td>\n",
       "    </tr>\n",
       "    <tr>\n",
       "      <th>1</th>\n",
       "      <td>R. Lewandowski</td>\n",
       "      <td>ST</td>\n",
       "      <td>92</td>\n",
       "      <td>Poland</td>\n",
       "      <td>32</td>\n",
       "      <td>1988-08-21</td>\n",
       "      <td>German 1. Bundesliga</td>\n",
       "      <td>185</td>\n",
       "      <td>81</td>\n",
       "    </tr>\n",
       "    <tr>\n",
       "      <th>2</th>\n",
       "      <td>Cristiano Ronaldo</td>\n",
       "      <td>ST, LW</td>\n",
       "      <td>91</td>\n",
       "      <td>Portugal</td>\n",
       "      <td>36</td>\n",
       "      <td>1985-02-05</td>\n",
       "      <td>English Premier League</td>\n",
       "      <td>187</td>\n",
       "      <td>83</td>\n",
       "    </tr>\n",
       "  </tbody>\n",
       "</table>\n",
       "</div>"
      ],
      "text/plain": [
       "          short_name player_positions  overall nationality_name  age  \\\n",
       "0           L. Messi       RW, ST, CF       93        Argentina   34   \n",
       "1     R. Lewandowski               ST       92           Poland   32   \n",
       "2  Cristiano Ronaldo           ST, LW       91         Portugal   36   \n",
       "\n",
       "          dob             league_name  height_cm  weight_kg  \n",
       "0  1987-06-24          French Ligue 1        170         72  \n",
       "1  1988-08-21    German 1. Bundesliga        185         81  \n",
       "2  1985-02-05  English Premier League        187         83  "
      ]
     },
     "execution_count": 3,
     "metadata": {},
     "output_type": "execute_result"
    }
   ],
   "source": [
    "#Seleccionamos las columnas que nos interesan\n",
    "selected_columns = f[[\"short_name\",\"player_positions\",\"overall\",\"nationality_name\",\"age\",\"dob\",\"league_name\", \"height_cm\",\"weight_kg\",]]\n",
    "df = selected_columns.copy()\n",
    "df.head(3)"
   ]
  },
  {
   "cell_type": "code",
   "execution_count": 4,
   "id": "d4ddf998",
   "metadata": {},
   "outputs": [
    {
     "data": {
      "text/html": [
       "<div>\n",
       "<style scoped>\n",
       "    .dataframe tbody tr th:only-of-type {\n",
       "        vertical-align: middle;\n",
       "    }\n",
       "\n",
       "    .dataframe tbody tr th {\n",
       "        vertical-align: top;\n",
       "    }\n",
       "\n",
       "    .dataframe thead th {\n",
       "        text-align: right;\n",
       "    }\n",
       "</style>\n",
       "<table border=\"1\" class=\"dataframe\">\n",
       "  <thead>\n",
       "    <tr style=\"text-align: right;\">\n",
       "      <th></th>\n",
       "      <th>short_name</th>\n",
       "      <th>player_positions</th>\n",
       "      <th>overall</th>\n",
       "      <th>nationality_name</th>\n",
       "      <th>age</th>\n",
       "      <th>dob</th>\n",
       "      <th>league_name</th>\n",
       "      <th>height_cm</th>\n",
       "      <th>weight_kg</th>\n",
       "      <th>year</th>\n",
       "      <th>month</th>\n",
       "      <th>day</th>\n",
       "    </tr>\n",
       "  </thead>\n",
       "  <tbody>\n",
       "    <tr>\n",
       "      <th>0</th>\n",
       "      <td>L. Messi</td>\n",
       "      <td>RW, ST, CF</td>\n",
       "      <td>93</td>\n",
       "      <td>Argentina</td>\n",
       "      <td>34</td>\n",
       "      <td>1987-06-24</td>\n",
       "      <td>French Ligue 1</td>\n",
       "      <td>170</td>\n",
       "      <td>72</td>\n",
       "      <td>1987</td>\n",
       "      <td>6</td>\n",
       "      <td>24</td>\n",
       "    </tr>\n",
       "    <tr>\n",
       "      <th>1</th>\n",
       "      <td>R. Lewandowski</td>\n",
       "      <td>ST</td>\n",
       "      <td>92</td>\n",
       "      <td>Poland</td>\n",
       "      <td>32</td>\n",
       "      <td>1988-08-21</td>\n",
       "      <td>German 1. Bundesliga</td>\n",
       "      <td>185</td>\n",
       "      <td>81</td>\n",
       "      <td>1988</td>\n",
       "      <td>8</td>\n",
       "      <td>21</td>\n",
       "    </tr>\n",
       "    <tr>\n",
       "      <th>2</th>\n",
       "      <td>Cristiano Ronaldo</td>\n",
       "      <td>ST, LW</td>\n",
       "      <td>91</td>\n",
       "      <td>Portugal</td>\n",
       "      <td>36</td>\n",
       "      <td>1985-02-05</td>\n",
       "      <td>English Premier League</td>\n",
       "      <td>187</td>\n",
       "      <td>83</td>\n",
       "      <td>1985</td>\n",
       "      <td>2</td>\n",
       "      <td>5</td>\n",
       "    </tr>\n",
       "  </tbody>\n",
       "</table>\n",
       "</div>"
      ],
      "text/plain": [
       "          short_name player_positions  overall nationality_name  age  \\\n",
       "0           L. Messi       RW, ST, CF       93        Argentina   34   \n",
       "1     R. Lewandowski               ST       92           Poland   32   \n",
       "2  Cristiano Ronaldo           ST, LW       91         Portugal   36   \n",
       "\n",
       "          dob             league_name  height_cm  weight_kg  year  month  day  \n",
       "0  1987-06-24          French Ligue 1        170         72  1987      6   24  \n",
       "1  1988-08-21    German 1. Bundesliga        185         81  1988      8   21  \n",
       "2  1985-02-05  English Premier League        187         83  1985      2    5  "
      ]
     },
     "execution_count": 4,
     "metadata": {},
     "output_type": "execute_result"
    }
   ],
   "source": [
    "df['year'] = pd.DatetimeIndex(df['dob']).year\n",
    "df['month'] = pd.DatetimeIndex(df['dob']).month\n",
    "df['day'] = pd.DatetimeIndex(df['dob']).day\n",
    "df.head(3)"
   ]
  },
  {
   "cell_type": "code",
   "execution_count": 5,
   "id": "4c134410",
   "metadata": {},
   "outputs": [],
   "source": [
    "df.drop(df[(df['nationality_name'] == \"Brazil\") & (df['month'] == 2)  & (df['day'] == 29)].index, inplace=True)"
   ]
  },
  {
   "cell_type": "code",
   "execution_count": 6,
   "id": "68d80f68",
   "metadata": {},
   "outputs": [],
   "source": [
    "def trimestres(row):\n",
    "    if row['month'] < 4 :\n",
    "        return 1\n",
    "    elif row['month'] < 7:\n",
    "        return 2\n",
    "    elif row['month'] < 10:\n",
    "        return 3\n",
    "    else:\n",
    "        return 4     "
   ]
  },
  {
   "cell_type": "code",
   "execution_count": 7,
   "id": "da983a78",
   "metadata": {},
   "outputs": [],
   "source": [
    "df['trimestre'] = df.apply (lambda month: trimestres(month), axis=1)"
   ]
  },
  {
   "cell_type": "code",
   "execution_count": 8,
   "id": "79a2e98b",
   "metadata": {},
   "outputs": [
    {
     "data": {
      "text/html": [
       "<div>\n",
       "<style scoped>\n",
       "    .dataframe tbody tr th:only-of-type {\n",
       "        vertical-align: middle;\n",
       "    }\n",
       "\n",
       "    .dataframe tbody tr th {\n",
       "        vertical-align: top;\n",
       "    }\n",
       "\n",
       "    .dataframe thead th {\n",
       "        text-align: right;\n",
       "    }\n",
       "</style>\n",
       "<table border=\"1\" class=\"dataframe\">\n",
       "  <thead>\n",
       "    <tr style=\"text-align: right;\">\n",
       "      <th></th>\n",
       "      <th>short_name</th>\n",
       "      <th>player_positions</th>\n",
       "      <th>overall</th>\n",
       "      <th>nationality_name</th>\n",
       "      <th>age</th>\n",
       "      <th>dob</th>\n",
       "      <th>league_name</th>\n",
       "      <th>height_cm</th>\n",
       "      <th>weight_kg</th>\n",
       "      <th>year</th>\n",
       "      <th>month</th>\n",
       "      <th>day</th>\n",
       "      <th>trimestre</th>\n",
       "    </tr>\n",
       "  </thead>\n",
       "  <tbody>\n",
       "    <tr>\n",
       "      <th>0</th>\n",
       "      <td>L. Messi</td>\n",
       "      <td>RW, ST, CF</td>\n",
       "      <td>93</td>\n",
       "      <td>Argentina</td>\n",
       "      <td>34</td>\n",
       "      <td>1987-06-24</td>\n",
       "      <td>French Ligue 1</td>\n",
       "      <td>170</td>\n",
       "      <td>72</td>\n",
       "      <td>1987</td>\n",
       "      <td>6</td>\n",
       "      <td>24</td>\n",
       "      <td>2</td>\n",
       "    </tr>\n",
       "    <tr>\n",
       "      <th>1</th>\n",
       "      <td>R. Lewandowski</td>\n",
       "      <td>ST</td>\n",
       "      <td>92</td>\n",
       "      <td>Poland</td>\n",
       "      <td>32</td>\n",
       "      <td>1988-08-21</td>\n",
       "      <td>German 1. Bundesliga</td>\n",
       "      <td>185</td>\n",
       "      <td>81</td>\n",
       "      <td>1988</td>\n",
       "      <td>8</td>\n",
       "      <td>21</td>\n",
       "      <td>3</td>\n",
       "    </tr>\n",
       "    <tr>\n",
       "      <th>2</th>\n",
       "      <td>Cristiano Ronaldo</td>\n",
       "      <td>ST, LW</td>\n",
       "      <td>91</td>\n",
       "      <td>Portugal</td>\n",
       "      <td>36</td>\n",
       "      <td>1985-02-05</td>\n",
       "      <td>English Premier League</td>\n",
       "      <td>187</td>\n",
       "      <td>83</td>\n",
       "      <td>1985</td>\n",
       "      <td>2</td>\n",
       "      <td>5</td>\n",
       "      <td>1</td>\n",
       "    </tr>\n",
       "  </tbody>\n",
       "</table>\n",
       "</div>"
      ],
      "text/plain": [
       "          short_name player_positions  overall nationality_name  age  \\\n",
       "0           L. Messi       RW, ST, CF       93        Argentina   34   \n",
       "1     R. Lewandowski               ST       92           Poland   32   \n",
       "2  Cristiano Ronaldo           ST, LW       91         Portugal   36   \n",
       "\n",
       "          dob             league_name  height_cm  weight_kg  year  month  day  \\\n",
       "0  1987-06-24          French Ligue 1        170         72  1987      6   24   \n",
       "1  1988-08-21    German 1. Bundesliga        185         81  1988      8   21   \n",
       "2  1985-02-05  English Premier League        187         83  1985      2    5   \n",
       "\n",
       "   trimestre  \n",
       "0          2  \n",
       "1          3  \n",
       "2          1  "
      ]
     },
     "execution_count": 8,
     "metadata": {},
     "output_type": "execute_result"
    }
   ],
   "source": [
    "df.head(3)"
   ]
  },
  {
   "cell_type": "code",
   "execution_count": 9,
   "id": "de67c22d",
   "metadata": {
    "scrolled": false
   },
   "outputs": [
    {
     "data": {
      "image/png": "[encoded data removed]",
      "text/plain": [
       "<Figure size 1224x576 with 1 Axes>"
      ]
     },
     "metadata": {},
     "output_type": "display_data"
    }
   ],
   "source": [
    "ax = sns.countplot(x=\"month\", data=df)"
   ]
  },
  {
   "cell_type": "code",
   "execution_count": 10,
   "id": "62db34fb",
   "metadata": {
    "scrolled": false
   },
   "outputs": [
    {
     "data": {
      "image/png": "[encoded data removed]",
      "text/plain": [
       "<Figure size 1224x576 with 1 Axes>"
      ]
     },
     "metadata": {},
     "output_type": "display_data"
    }
   ],
   "source": [
    "ax = sns.countplot(x=\"trimestre\", data=df)"
   ]
  },
  {
   "cell_type": "code",
   "execution_count": 11,
   "id": "ed8b52db",
   "metadata": {
    "scrolled": false
   },
   "outputs": [
    {
     "data": {
      "text/html": [
       "<div>\n",
       "<style scoped>\n",
       "    .dataframe tbody tr th:only-of-type {\n",
       "        vertical-align: middle;\n",
       "    }\n",
       "\n",
       "    .dataframe tbody tr th {\n",
       "        vertical-align: top;\n",
       "    }\n",
       "\n",
       "    .dataframe thead th {\n",
       "        text-align: right;\n",
       "    }\n",
       "</style>\n",
       "<table border=\"1\" class=\"dataframe\">\n",
       "  <thead>\n",
       "    <tr style=\"text-align: right;\">\n",
       "      <th></th>\n",
       "      <th>short_name</th>\n",
       "      <th>player_positions</th>\n",
       "      <th>overall</th>\n",
       "      <th>nationality_name</th>\n",
       "      <th>age</th>\n",
       "      <th>dob</th>\n",
       "      <th>league_name</th>\n",
       "      <th>height_cm</th>\n",
       "      <th>weight_kg</th>\n",
       "      <th>year</th>\n",
       "      <th>month</th>\n",
       "      <th>day</th>\n",
       "      <th>trimestre</th>\n",
       "    </tr>\n",
       "  </thead>\n",
       "  <tbody>\n",
       "    <tr>\n",
       "      <th>22</th>\n",
       "      <td>Sergio Ramos</td>\n",
       "      <td>CB</td>\n",
       "      <td>88</td>\n",
       "      <td>Spain</td>\n",
       "      <td>35</td>\n",
       "      <td>1986-03-30</td>\n",
       "      <td>French Ligue 1</td>\n",
       "      <td>184</td>\n",
       "      <td>82</td>\n",
       "      <td>1986</td>\n",
       "      <td>3</td>\n",
       "      <td>30</td>\n",
       "      <td>1</td>\n",
       "    </tr>\n",
       "    <tr>\n",
       "      <th>50</th>\n",
       "      <td>Jordi Alba</td>\n",
       "      <td>LB, LM</td>\n",
       "      <td>86</td>\n",
       "      <td>Spain</td>\n",
       "      <td>32</td>\n",
       "      <td>1989-03-21</td>\n",
       "      <td>Spain Primera Division</td>\n",
       "      <td>170</td>\n",
       "      <td>68</td>\n",
       "      <td>1989</td>\n",
       "      <td>3</td>\n",
       "      <td>21</td>\n",
       "      <td>1</td>\n",
       "    </tr>\n",
       "    <tr>\n",
       "      <th>51</th>\n",
       "      <td>Thiago</td>\n",
       "      <td>CM, CDM</td>\n",
       "      <td>86</td>\n",
       "      <td>Spain</td>\n",
       "      <td>30</td>\n",
       "      <td>1991-04-11</td>\n",
       "      <td>English Premier League</td>\n",
       "      <td>174</td>\n",
       "      <td>70</td>\n",
       "      <td>1991</td>\n",
       "      <td>4</td>\n",
       "      <td>11</td>\n",
       "      <td>2</td>\n",
       "    </tr>\n",
       "  </tbody>\n",
       "</table>\n",
       "</div>"
      ],
      "text/plain": [
       "      short_name player_positions  overall nationality_name  age         dob  \\\n",
       "22  Sergio Ramos               CB       88            Spain   35  1986-03-30   \n",
       "50    Jordi Alba           LB, LM       86            Spain   32  1989-03-21   \n",
       "51        Thiago          CM, CDM       86            Spain   30  1991-04-11   \n",
       "\n",
       "               league_name  height_cm  weight_kg  year  month  day  trimestre  \n",
       "22          French Ligue 1        184         82  1986      3   30          1  \n",
       "50  Spain Primera Division        170         68  1989      3   21          1  \n",
       "51  English Premier League        174         70  1991      4   11          2  "
      ]
     },
     "execution_count": 11,
     "metadata": {},
     "output_type": "execute_result"
    }
   ],
   "source": [
    "spain = df.loc[df[\"nationality_name\"] == \"Spain\"]\n",
    "spain.head(3)"
   ]
  },
  {
   "cell_type": "code",
   "execution_count": 45,
   "id": "e2933ca6",
   "metadata": {},
   "outputs": [
    {
     "data": {
      "image/png": "[encoded data removed]",
      "text/plain": [
       "<Figure size 1224x576 with 1 Axes>"
      ]
     },
     "metadata": {},
     "output_type": "display_data"
    }
   ],
   "source": [
    "ax = sns.countplot(x=\"month\", data=spain)"
   ]
  },
  {
   "cell_type": "code",
   "execution_count": 12,
   "id": "987a59e3",
   "metadata": {},
   "outputs": [
    {
     "data": {
      "image/png": "[encoded data removed]",
      "text/plain": [
       "<Figure size 1224x576 with 1 Axes>"
      ]
     },
     "metadata": {},
     "output_type": "display_data"
    }
   ],
   "source": [
    "ax = sns.countplot(x=\"trimestre\", data=spain)"
   ]
  },
  {
   "cell_type": "code",
   "execution_count": 13,
   "id": "aa92435e",
   "metadata": {},
   "outputs": [],
   "source": [
    "spain.to_csv('../../Data/spainf.csv', encoding='utf-8')"
   ]
  },
  {
   "cell_type": "code",
   "execution_count": null,
   "id": "d3a6a03f",
   "metadata": {},
   "outputs": [],
   "source": []
  },
  {
   "cell_type": "code",
   "execution_count": 14,
   "id": "56e14b3d",
   "metadata": {},
   "outputs": [
    {
     "data": {
      "text/html": [
       "<div>\n",
       "<style scoped>\n",
       "    .dataframe tbody tr th:only-of-type {\n",
       "        vertical-align: middle;\n",
       "    }\n",
       "\n",
       "    .dataframe tbody tr th {\n",
       "        vertical-align: top;\n",
       "    }\n",
       "\n",
       "    .dataframe thead th {\n",
       "        text-align: right;\n",
       "    }\n",
       "</style>\n",
       "<table border=\"1\" class=\"dataframe\">\n",
       "  <thead>\n",
       "    <tr style=\"text-align: right;\">\n",
       "      <th></th>\n",
       "      <th>short_name</th>\n",
       "      <th>player_positions</th>\n",
       "      <th>overall</th>\n",
       "      <th>nationality_name</th>\n",
       "      <th>age</th>\n",
       "      <th>dob</th>\n",
       "      <th>league_name</th>\n",
       "      <th>height_cm</th>\n",
       "      <th>weight_kg</th>\n",
       "      <th>year</th>\n",
       "      <th>month</th>\n",
       "      <th>day</th>\n",
       "      <th>trimestre</th>\n",
       "    </tr>\n",
       "  </thead>\n",
       "  <tbody>\n",
       "    <tr>\n",
       "      <th>9</th>\n",
       "      <td>H. Kane</td>\n",
       "      <td>ST</td>\n",
       "      <td>90</td>\n",
       "      <td>England</td>\n",
       "      <td>27</td>\n",
       "      <td>1993-07-28</td>\n",
       "      <td>English Premier League</td>\n",
       "      <td>188</td>\n",
       "      <td>89</td>\n",
       "      <td>1993</td>\n",
       "      <td>7</td>\n",
       "      <td>28</td>\n",
       "      <td>3</td>\n",
       "    </tr>\n",
       "    <tr>\n",
       "      <th>27</th>\n",
       "      <td>R. Sterling</td>\n",
       "      <td>LW, RW</td>\n",
       "      <td>88</td>\n",
       "      <td>England</td>\n",
       "      <td>26</td>\n",
       "      <td>1994-12-08</td>\n",
       "      <td>English Premier League</td>\n",
       "      <td>170</td>\n",
       "      <td>69</td>\n",
       "      <td>1994</td>\n",
       "      <td>12</td>\n",
       "      <td>8</td>\n",
       "      <td>4</td>\n",
       "    </tr>\n",
       "    <tr>\n",
       "      <th>44</th>\n",
       "      <td>T. Alexander-Arnold</td>\n",
       "      <td>RB</td>\n",
       "      <td>87</td>\n",
       "      <td>England</td>\n",
       "      <td>22</td>\n",
       "      <td>1998-10-07</td>\n",
       "      <td>English Premier League</td>\n",
       "      <td>180</td>\n",
       "      <td>69</td>\n",
       "      <td>1998</td>\n",
       "      <td>10</td>\n",
       "      <td>7</td>\n",
       "      <td>4</td>\n",
       "    </tr>\n",
       "  </tbody>\n",
       "</table>\n",
       "</div>"
      ],
      "text/plain": [
       "             short_name player_positions  overall nationality_name  age  \\\n",
       "9               H. Kane               ST       90          England   27   \n",
       "27          R. Sterling           LW, RW       88          England   26   \n",
       "44  T. Alexander-Arnold               RB       87          England   22   \n",
       "\n",
       "           dob             league_name  height_cm  weight_kg  year  month  \\\n",
       "9   1993-07-28  English Premier League        188         89  1993      7   \n",
       "27  1994-12-08  English Premier League        170         69  1994     12   \n",
       "44  1998-10-07  English Premier League        180         69  1998     10   \n",
       "\n",
       "    day  trimestre  \n",
       "9    28          3  \n",
       "27    8          4  \n",
       "44    7          4  "
      ]
     },
     "execution_count": 14,
     "metadata": {},
     "output_type": "execute_result"
    }
   ],
   "source": [
    "england = df.loc[df[\"nationality_name\"] == \"England\"]\n",
    "england.head(3)"
   ]
  },
  {
   "cell_type": "code",
   "execution_count": 15,
   "id": "506bd636",
   "metadata": {
    "scrolled": false
   },
   "outputs": [
    {
     "data": {
      "image/png": "[encoded data removed]",
      "text/plain": [
       "<Figure size 1224x576 with 1 Axes>"
      ]
     },
     "metadata": {},
     "output_type": "display_data"
    }
   ],
   "source": [
    "ax = sns.countplot(x=\"trimestre\", data=england)"
   ]
  },
  {
   "cell_type": "code",
   "execution_count": 16,
   "id": "77ba5958",
   "metadata": {},
   "outputs": [],
   "source": [
    "england.to_csv('../../Data/englandf.csv', encoding='utf-8')"
   ]
  },
  {
   "cell_type": "code",
   "execution_count": 17,
   "id": "9a1ec84b",
   "metadata": {},
   "outputs": [],
   "source": [
    "englandn = df.loc[df[\"nationality_name\"] == \"England\"]"
   ]
  },
  {
   "cell_type": "code",
   "execution_count": 18,
   "id": "42839e38",
   "metadata": {},
   "outputs": [],
   "source": [
    "def normalize(row):\n",
    "    if row['month'] == 9 :\n",
    "        return 1\n",
    "    if row['month'] == 10 :\n",
    "        return 2\n",
    "    if row['month'] == 11 :\n",
    "        return 3\n",
    "    if row['month'] == 12 :\n",
    "        return 4\n",
    "    if row['month'] == 1 :\n",
    "        return 5\n",
    "    if row['month'] == 2 :\n",
    "        return 6\n",
    "    if row['month'] == 3 :\n",
    "        return 7\n",
    "    if row['month'] == 4 :\n",
    "        return 8\n",
    "    if row['month'] == 5 :\n",
    "        return 9\n",
    "    if row['month'] == 6 :\n",
    "        return 10\n",
    "    if row['month'] == 7 :\n",
    "        return 11\n",
    "    if row['month'] == 8 :\n",
    "        return 12   "
   ]
  },
  {
   "cell_type": "code",
   "execution_count": 19,
   "id": "3a9cfd57",
   "metadata": {
    "scrolled": true
   },
   "outputs": [
    {
     "name": "stderr",
     "output_type": "stream",
     "text": [
      "<ipython-input-19-25a49757e56b>:1: SettingWithCopyWarning:\n",
      "\n",
      "\n",
      "A value is trying to be set on a copy of a slice from a DataFrame.\n",
      "Try using .loc[row_indexer,col_indexer] = value instead\n",
      "\n",
      "See the caveats in the documentation: https://pandas.pydata.org/pandas-docs/stable/user_guide/indexing.html#returning-a-view-versus-a-copy\n",
      "\n",
      "<ipython-input-19-25a49757e56b>:2: SettingWithCopyWarning:\n",
      "\n",
      "\n",
      "A value is trying to be set on a copy of a slice from a DataFrame.\n",
      "Try using .loc[row_indexer,col_indexer] = value instead\n",
      "\n",
      "See the caveats in the documentation: https://pandas.pydata.org/pandas-docs/stable/user_guide/indexing.html#returning-a-view-versus-a-copy\n",
      "\n"
     ]
    }
   ],
   "source": [
    "englandn['month'] = englandn.apply (lambda month: normalize(month), axis=1)\n",
    "englandn['trimestre'] = englandn.apply (lambda month: trimestres(month), axis=1)"
   ]
  },
  {
   "cell_type": "code",
   "execution_count": 20,
   "id": "2bd274bf",
   "metadata": {
    "scrolled": true
   },
   "outputs": [
    {
     "data": {
      "text/html": [
       "<div>\n",
       "<style scoped>\n",
       "    .dataframe tbody tr th:only-of-type {\n",
       "        vertical-align: middle;\n",
       "    }\n",
       "\n",
       "    .dataframe tbody tr th {\n",
       "        vertical-align: top;\n",
       "    }\n",
       "\n",
       "    .dataframe thead th {\n",
       "        text-align: right;\n",
       "    }\n",
       "</style>\n",
       "<table border=\"1\" class=\"dataframe\">\n",
       "  <thead>\n",
       "    <tr style=\"text-align: right;\">\n",
       "      <th></th>\n",
       "      <th>short_name</th>\n",
       "      <th>player_positions</th>\n",
       "      <th>overall</th>\n",
       "      <th>nationality_name</th>\n",
       "      <th>age</th>\n",
       "      <th>dob</th>\n",
       "      <th>league_name</th>\n",
       "      <th>height_cm</th>\n",
       "      <th>weight_kg</th>\n",
       "      <th>year</th>\n",
       "      <th>month</th>\n",
       "      <th>day</th>\n",
       "      <th>trimestre</th>\n",
       "    </tr>\n",
       "  </thead>\n",
       "  <tbody>\n",
       "    <tr>\n",
       "      <th>9</th>\n",
       "      <td>H. Kane</td>\n",
       "      <td>ST</td>\n",
       "      <td>90</td>\n",
       "      <td>England</td>\n",
       "      <td>27</td>\n",
       "      <td>1993-07-28</td>\n",
       "      <td>English Premier League</td>\n",
       "      <td>188</td>\n",
       "      <td>89</td>\n",
       "      <td>1993</td>\n",
       "      <td>11</td>\n",
       "      <td>28</td>\n",
       "      <td>4</td>\n",
       "    </tr>\n",
       "    <tr>\n",
       "      <th>27</th>\n",
       "      <td>R. Sterling</td>\n",
       "      <td>LW, RW</td>\n",
       "      <td>88</td>\n",
       "      <td>England</td>\n",
       "      <td>26</td>\n",
       "      <td>1994-12-08</td>\n",
       "      <td>English Premier League</td>\n",
       "      <td>170</td>\n",
       "      <td>69</td>\n",
       "      <td>1994</td>\n",
       "      <td>4</td>\n",
       "      <td>8</td>\n",
       "      <td>2</td>\n",
       "    </tr>\n",
       "    <tr>\n",
       "      <th>44</th>\n",
       "      <td>T. Alexander-Arnold</td>\n",
       "      <td>RB</td>\n",
       "      <td>87</td>\n",
       "      <td>England</td>\n",
       "      <td>22</td>\n",
       "      <td>1998-10-07</td>\n",
       "      <td>English Premier League</td>\n",
       "      <td>180</td>\n",
       "      <td>69</td>\n",
       "      <td>1998</td>\n",
       "      <td>2</td>\n",
       "      <td>7</td>\n",
       "      <td>1</td>\n",
       "    </tr>\n",
       "  </tbody>\n",
       "</table>\n",
       "</div>"
      ],
      "text/plain": [
       "             short_name player_positions  overall nationality_name  age  \\\n",
       "9               H. Kane               ST       90          England   27   \n",
       "27          R. Sterling           LW, RW       88          England   26   \n",
       "44  T. Alexander-Arnold               RB       87          England   22   \n",
       "\n",
       "           dob             league_name  height_cm  weight_kg  year  month  \\\n",
       "9   1993-07-28  English Premier League        188         89  1993     11   \n",
       "27  1994-12-08  English Premier League        170         69  1994      4   \n",
       "44  1998-10-07  English Premier League        180         69  1998      2   \n",
       "\n",
       "    day  trimestre  \n",
       "9    28          4  \n",
       "27    8          2  \n",
       "44    7          1  "
      ]
     },
     "execution_count": 20,
     "metadata": {},
     "output_type": "execute_result"
    }
   ],
   "source": [
    "englandn.head(3)"
   ]
  },
  {
   "cell_type": "code",
   "execution_count": 21,
   "id": "00a2278c",
   "metadata": {
    "scrolled": false
   },
   "outputs": [
    {
     "data": {
      "image/png": "[encoded data removed]",
      "text/plain": [
       "<Figure size 1224x576 with 1 Axes>"
      ]
     },
     "metadata": {},
     "output_type": "display_data"
    }
   ],
   "source": [
    "ax = sns.countplot(x=\"trimestre\", data=englandn)"
   ]
  },
  {
   "cell_type": "code",
   "execution_count": 22,
   "id": "30c5f708",
   "metadata": {},
   "outputs": [],
   "source": [
    "englandn.to_csv('../../Data/englandnf.csv', encoding='utf-8')"
   ]
  },
  {
   "cell_type": "code",
   "execution_count": 23,
   "id": "dbea4c7b",
   "metadata": {},
   "outputs": [
    {
     "data": {
      "text/html": [
       "<div>\n",
       "<style scoped>\n",
       "    .dataframe tbody tr th:only-of-type {\n",
       "        vertical-align: middle;\n",
       "    }\n",
       "\n",
       "    .dataframe tbody tr th {\n",
       "        vertical-align: top;\n",
       "    }\n",
       "\n",
       "    .dataframe thead th {\n",
       "        text-align: right;\n",
       "    }\n",
       "</style>\n",
       "<table border=\"1\" class=\"dataframe\">\n",
       "  <thead>\n",
       "    <tr style=\"text-align: right;\">\n",
       "      <th></th>\n",
       "      <th>short_name</th>\n",
       "      <th>player_positions</th>\n",
       "      <th>overall</th>\n",
       "      <th>nationality_name</th>\n",
       "      <th>age</th>\n",
       "      <th>dob</th>\n",
       "      <th>league_name</th>\n",
       "      <th>height_cm</th>\n",
       "      <th>weight_kg</th>\n",
       "      <th>year</th>\n",
       "      <th>month</th>\n",
       "      <th>day</th>\n",
       "      <th>trimestre</th>\n",
       "    </tr>\n",
       "  </thead>\n",
       "  <tbody>\n",
       "    <tr>\n",
       "      <th>6</th>\n",
       "      <td>K. MbappÃ©</td>\n",
       "      <td>ST, LW</td>\n",
       "      <td>91</td>\n",
       "      <td>France</td>\n",
       "      <td>22</td>\n",
       "      <td>1998-12-20</td>\n",
       "      <td>French Ligue 1</td>\n",
       "      <td>182</td>\n",
       "      <td>73</td>\n",
       "      <td>1998</td>\n",
       "      <td>12</td>\n",
       "      <td>20</td>\n",
       "      <td>4</td>\n",
       "    </tr>\n",
       "    <tr>\n",
       "      <th>10</th>\n",
       "      <td>N. KantÃ©</td>\n",
       "      <td>CDM, CM</td>\n",
       "      <td>90</td>\n",
       "      <td>France</td>\n",
       "      <td>30</td>\n",
       "      <td>1991-03-29</td>\n",
       "      <td>English Premier League</td>\n",
       "      <td>168</td>\n",
       "      <td>70</td>\n",
       "      <td>1991</td>\n",
       "      <td>3</td>\n",
       "      <td>29</td>\n",
       "      <td>1</td>\n",
       "    </tr>\n",
       "    <tr>\n",
       "      <th>11</th>\n",
       "      <td>K. Benzema</td>\n",
       "      <td>CF, ST</td>\n",
       "      <td>89</td>\n",
       "      <td>France</td>\n",
       "      <td>33</td>\n",
       "      <td>1987-12-19</td>\n",
       "      <td>Spain Primera Division</td>\n",
       "      <td>185</td>\n",
       "      <td>81</td>\n",
       "      <td>1987</td>\n",
       "      <td>12</td>\n",
       "      <td>19</td>\n",
       "      <td>4</td>\n",
       "    </tr>\n",
       "  </tbody>\n",
       "</table>\n",
       "</div>"
      ],
      "text/plain": [
       "    short_name player_positions  overall nationality_name  age         dob  \\\n",
       "6   K. MbappÃ©           ST, LW       91           France   22  1998-12-20   \n",
       "10   N. KantÃ©          CDM, CM       90           France   30  1991-03-29   \n",
       "11  K. Benzema           CF, ST       89           France   33  1987-12-19   \n",
       "\n",
       "               league_name  height_cm  weight_kg  year  month  day  trimestre  \n",
       "6           French Ligue 1        182         73  1998     12   20          4  \n",
       "10  English Premier League        168         70  1991      3   29          1  \n",
       "11  Spain Primera Division        185         81  1987     12   19          4  "
      ]
     },
     "execution_count": 23,
     "metadata": {},
     "output_type": "execute_result"
    }
   ],
   "source": [
    "france = df.loc[df[\"nationality_name\"] == \"France\"]\n",
    "france.head(3)"
   ]
  },
  {
   "cell_type": "code",
   "execution_count": 24,
   "id": "3180f61c",
   "metadata": {},
   "outputs": [
    {
     "data": {
      "image/png": "[encoded data removed]",
      "text/plain": [
       "<Figure size 1224x576 with 1 Axes>"
      ]
     },
     "metadata": {},
     "output_type": "display_data"
    }
   ],
   "source": [
    "ax = sns.countplot(x=\"trimestre\", data=france)"
   ]
  },
  {
   "cell_type": "code",
   "execution_count": 25,
   "id": "aa17a425",
   "metadata": {},
   "outputs": [],
   "source": [
    "france.to_csv('../../Data/france.csv', encoding='utf-8')"
   ]
  },
  {
   "cell_type": "code",
   "execution_count": 26,
   "id": "5b639145",
   "metadata": {},
   "outputs": [
    {
     "data": {
      "text/html": [
       "<div>\n",
       "<style scoped>\n",
       "    .dataframe tbody tr th:only-of-type {\n",
       "        vertical-align: middle;\n",
       "    }\n",
       "\n",
       "    .dataframe tbody tr th {\n",
       "        vertical-align: top;\n",
       "    }\n",
       "\n",
       "    .dataframe thead th {\n",
       "        text-align: right;\n",
       "    }\n",
       "</style>\n",
       "<table border=\"1\" class=\"dataframe\">\n",
       "  <thead>\n",
       "    <tr style=\"text-align: right;\">\n",
       "      <th></th>\n",
       "      <th>short_name</th>\n",
       "      <th>player_positions</th>\n",
       "      <th>overall</th>\n",
       "      <th>nationality_name</th>\n",
       "      <th>age</th>\n",
       "      <th>dob</th>\n",
       "      <th>league_name</th>\n",
       "      <th>height_cm</th>\n",
       "      <th>weight_kg</th>\n",
       "      <th>year</th>\n",
       "      <th>month</th>\n",
       "      <th>day</th>\n",
       "      <th>trimestre</th>\n",
       "    </tr>\n",
       "  </thead>\n",
       "  <tbody>\n",
       "    <tr>\n",
       "      <th>7</th>\n",
       "      <td>M. Neuer</td>\n",
       "      <td>GK</td>\n",
       "      <td>90</td>\n",
       "      <td>Germany</td>\n",
       "      <td>35</td>\n",
       "      <td>1986-03-27</td>\n",
       "      <td>German 1. Bundesliga</td>\n",
       "      <td>193</td>\n",
       "      <td>93</td>\n",
       "      <td>1986</td>\n",
       "      <td>3</td>\n",
       "      <td>27</td>\n",
       "      <td>1</td>\n",
       "    </tr>\n",
       "    <tr>\n",
       "      <th>8</th>\n",
       "      <td>M. ter Stegen</td>\n",
       "      <td>GK</td>\n",
       "      <td>90</td>\n",
       "      <td>Germany</td>\n",
       "      <td>29</td>\n",
       "      <td>1992-04-30</td>\n",
       "      <td>Spain Primera Division</td>\n",
       "      <td>187</td>\n",
       "      <td>85</td>\n",
       "      <td>1992</td>\n",
       "      <td>4</td>\n",
       "      <td>30</td>\n",
       "      <td>2</td>\n",
       "    </tr>\n",
       "    <tr>\n",
       "      <th>19</th>\n",
       "      <td>J. Kimmich</td>\n",
       "      <td>CDM, RB</td>\n",
       "      <td>89</td>\n",
       "      <td>Germany</td>\n",
       "      <td>26</td>\n",
       "      <td>1995-02-08</td>\n",
       "      <td>German 1. Bundesliga</td>\n",
       "      <td>177</td>\n",
       "      <td>75</td>\n",
       "      <td>1995</td>\n",
       "      <td>2</td>\n",
       "      <td>8</td>\n",
       "      <td>1</td>\n",
       "    </tr>\n",
       "  </tbody>\n",
       "</table>\n",
       "</div>"
      ],
      "text/plain": [
       "       short_name player_positions  overall nationality_name  age         dob  \\\n",
       "7        M. Neuer               GK       90          Germany   35  1986-03-27   \n",
       "8   M. ter Stegen               GK       90          Germany   29  1992-04-30   \n",
       "19     J. Kimmich          CDM, RB       89          Germany   26  1995-02-08   \n",
       "\n",
       "               league_name  height_cm  weight_kg  year  month  day  trimestre  \n",
       "7     German 1. Bundesliga        193         93  1986      3   27          1  \n",
       "8   Spain Primera Division        187         85  1992      4   30          2  \n",
       "19    German 1. Bundesliga        177         75  1995      2    8          1  "
      ]
     },
     "execution_count": 26,
     "metadata": {},
     "output_type": "execute_result"
    }
   ],
   "source": [
    "germany = df.loc[df[\"nationality_name\"] == \"Germany\"]\n",
    "germany.head(3)"
   ]
  },
  {
   "cell_type": "code",
   "execution_count": 27,
   "id": "089ed8af",
   "metadata": {},
   "outputs": [
    {
     "data": {
      "image/png": "[encoded data removed]",
      "text/plain": [
       "<Figure size 1224x576 with 1 Axes>"
      ]
     },
     "metadata": {},
     "output_type": "display_data"
    }
   ],
   "source": [
    "ax = sns.countplot(x=\"trimestre\", data=germany)"
   ]
  },
  {
   "cell_type": "code",
   "execution_count": 28,
   "id": "9cc7804b",
   "metadata": {},
   "outputs": [],
   "source": [
    "germany.to_csv('../../Data/germany.csv', encoding='utf-8')"
   ]
  },
  {
   "cell_type": "code",
   "execution_count": 29,
   "id": "4d42b438",
   "metadata": {},
   "outputs": [],
   "source": [
    "combined = pd.concat([spain, england, germany, france], axis=0)\n"
   ]
  },
  {
   "cell_type": "code",
   "execution_count": 30,
   "id": "63253538",
   "metadata": {},
   "outputs": [
    {
     "data": {
      "image/png": "[encoded data removed]",
      "text/plain": [
       "<Figure size 1224x576 with 1 Axes>"
      ]
     },
     "metadata": {},
     "output_type": "display_data"
    }
   ],
   "source": [
    "ax = sns.countplot(x=\"trimestre\", data=combined)"
   ]
  },
  {
   "cell_type": "code",
   "execution_count": 31,
   "id": "30107f73",
   "metadata": {},
   "outputs": [],
   "source": [
    "combined.to_csv('../../Data/combinedf.csv', encoding='utf-8')"
   ]
  },
  {
   "cell_type": "code",
   "execution_count": 32,
   "id": "319273db",
   "metadata": {},
   "outputs": [],
   "source": [
    "combinedn = pd.concat([spain, englandn, germany, france], axis=0)"
   ]
  },
  {
   "cell_type": "code",
   "execution_count": 33,
   "id": "966881ab",
   "metadata": {},
   "outputs": [
    {
     "data": {
      "image/png": "[encoded data removed]",
      "text/plain": [
       "<Figure size 1224x576 with 1 Axes>"
      ]
     },
     "metadata": {},
     "output_type": "display_data"
    }
   ],
   "source": [
    "ax = sns.countplot(x=\"trimestre\", data=combinedn)"
   ]
  },
  {
   "cell_type": "code",
   "execution_count": 34,
   "id": "0d854413",
   "metadata": {},
   "outputs": [],
   "source": [
    "combinedn.to_csv('../../Data/combinednf.csv', encoding='utf-8')"
   ]
  },
  {
   "cell_type": "code",
   "execution_count": null,
   "id": "63607f04",
   "metadata": {},
   "outputs": [],
   "source": []
  },
  {
   "cell_type": "code",
   "execution_count": null,
   "id": "00711557",
   "metadata": {},
   "outputs": [],
   "source": []
  },
  {
   "cell_type": "code",
   "execution_count": null,
   "id": "89275249",
   "metadata": {},
   "outputs": [],
   "source": []
  },
  {
   "cell_type": "code",
   "execution_count": null,
   "id": "c6846e07",
   "metadata": {},
   "outputs": [],
   "source": []
  },
  {
   "cell_type": "code",
   "execution_count": null,
   "id": "33f2870e",
   "metadata": {},
   "outputs": [],
   "source": []
  },
  {
   "cell_type": "code",
   "execution_count": 46,
   "id": "faa4fc2c",
   "metadata": {},
   "outputs": [
    {
     "data": {
      "text/plain": [
       "[Text(0, 0.5, 'Percent')]"
      ]
     },
     "execution_count": 46,
     "metadata": {},
     "output_type": "execute_result"
    },
    {
     "data": {
      "image/png": "[encoded data removed]",
      "text/plain": [
       "<Figure size 1224x576 with 1 Axes>"
      ]
     },
     "metadata": {},
     "output_type": "display_data"
    }
   ],
   "source": [
    "ax = sns.barplot(x=\"trimestre\", y=\"trimestre\", data=spain, estimator=lambda x: len(x) / len(spain) * 100) \n",
    "ax.set(ylabel=\"Percent\")"
   ]
  },
  {
   "cell_type": "code",
   "execution_count": 43,
   "id": "5288707d",
   "metadata": {},
   "outputs": [
    {
     "data": {
      "text/plain": [
       "<seaborn.axisgrid.FacetGrid at 0x7fe1350a5340>"
      ]
     },
     "execution_count": 43,
     "metadata": {},
     "output_type": "execute_result"
    },
    {
     "data": {
      "image/png": "[encoded data removed]",
      "text/plain": [
       "<Figure size 927.495x864 with 1 Axes>"
      ]
     },
     "metadata": {},
     "output_type": "display_data"
    }
   ],
   "source": [
    "x,y = 'nationality_name', 'trimestre'\n",
    "\n",
    "(combined\n",
    ".groupby(x)[y]\n",
    ".value_counts(normalize=True)\n",
    ".mul(100)\n",
    ".rename('percent')\n",
    ".reset_index()\n",
    ".pipe((sns.catplot,'data'), x=x,y='percent',hue=y,kind='bar',height=12))"
   ]
  },
  {
   "cell_type": "code",
   "execution_count": 44,
   "id": "dd103d9d",
   "metadata": {},
   "outputs": [
    {
     "data": {
      "text/plain": [
       "<seaborn.axisgrid.FacetGrid at 0x7fe137bfdc70>"
      ]
     },
     "execution_count": 44,
     "metadata": {},
     "output_type": "execute_result"
    },
    {
     "data": {
      "image/png": "[encoded data removed]",
      "text/plain": [
       "<Figure size 927.495x864 with 1 Axes>"
      ]
     },
     "metadata": {},
     "output_type": "display_data"
    }
   ],
   "source": [
    "x,y = 'nationality_name', 'trimestre'\n",
    "\n",
    "(combinedn\n",
    ".groupby(x)[y]\n",
    ".value_counts(normalize=True)\n",
    ".mul(100)\n",
    ".rename('percent')\n",
    ".reset_index()\n",
    ".pipe((sns.catplot,'data'), x=x,y='percent',hue=y,kind='bar',height=12))"
   ]
  }
 ],
 "metadata": {
  "kernelspec": {
   "display_name": "ironhack",
   "language": "python",
   "name": "ironhack"
  },
  "language_info": {
   "codemirror_mode": {
    "name": "ipython",
    "version": 3
   },
   "file_extension": ".py",
   "mimetype": "text/x-python",
   "name": "python",
   "nbconvert_exporter": "python",
   "pygments_lexer": "ipython3",
   "version": "3.8.5"
  }
 },
 "nbformat": 4,
 "nbformat_minor": 5
}
