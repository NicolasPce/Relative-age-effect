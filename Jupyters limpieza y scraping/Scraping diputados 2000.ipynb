{
 "cells": [
  {
   "cell_type": "code",
   "execution_count": 1,
   "id": "ffea3b26",
   "metadata": {},
   "outputs": [],
   "source": [
    "from selenium import webdriver\n",
    "from selenium.webdriver.chrome.options import Options\n",
    "import time\n",
    "import pandas as pd\n",
    "from selenium.webdriver.support.ui import Select\n",
    "from webdriver_manager.chrome import ChromeDriverManager\n",
    "import pandas as pd\n",
    "import numpy as np\n",
    "import datetime\n",
    "import seaborn as sns\n",
    "sns.set_theme(style=\"darkgrid\")\n",
    "sns.set({\"figure.figsize\":(17,8)})\n",
    "sns.set(font_scale = 1.15)\n",
    "import numpy as np\n",
    "import datetime\n",
    "import seaborn as sns\n",
    "sns.set_theme(style=\"darkgrid\")\n",
    "sns.set({\"figure.figsize\":(17,8)})\n",
    "sns.set(font_scale = 1.15)\n"
   ]
  },
  {
   "cell_type": "code",
   "execution_count": 2,
   "id": "6634fe0f",
   "metadata": {},
   "outputs": [],
   "source": [
    "opciones=Options()\n",
    "\n",
    "opciones.add_experimental_option('excludeSwitches', ['enable-automation'])\n",
    "opciones.add_experimental_option('useAutomationExtension', False)\n",
    "\n",
    "\n",
    "opciones.binary_location = \"/Applications/Google Chrome.app/Contents/MacOS/Google Chrome\"\n",
    "chrome_driver_binary = \"/usr/local/bin/chromedriver\"\n",
    "\n",
    "opciones.headless=False    # si True, no aperece la ventana (headless=no visible)\n",
    "\n",
    "\n",
    "opciones.add_argument(\"--start-maximized\")         # comienza maximizado\n",
    "\n",
    "opciones.add_argument('user-data-dir=selenium')    # mantiene las cookies\n",
    "\n",
    "#opciones.add_extension('driver_folder/adblock.crx')       # adblocker\n",
    "\n",
    "opciones.add_argument('--incognito')              # incognito\n",
    "#modal-policy > ul > li:nth-child(1) > button"
   ]
  },
  {
   "cell_type": "code",
   "execution_count": 25,
   "id": "b5ef77a3",
   "metadata": {},
   "outputs": [
    {
     "name": "stderr",
     "output_type": "stream",
     "text": [
      "\n",
      "\n",
      "====== WebDriver manager ======\n",
      "Current google-chrome version is 96.0.4664\n",
      "Get LATEST chromedriver version for 96.0.4664 google-chrome\n",
      "Driver [/Users/macniacos/.wdm/drivers/chromedriver/mac64/96.0.4664.45/chromedriver] found in cache\n",
      "<ipython-input-25-500b67e890c1>:2: DeprecationWarning: executable_path has been deprecated, please pass in a Service object\n",
      "  driver = webdriver.Chrome(ChromeDriverManager().install(), options = opciones)\n",
      "<ipython-input-25-500b67e890c1>:18: DeprecationWarning: find_element_by_* commands are deprecated. Please use find_element() instead\n",
      "  driver.find_element_by_css_selector(f\"#banda_cookies > a:nth-child(2)\").click()\n",
      "<ipython-input-25-500b67e890c1>:20: DeprecationWarning: find_element_by_* commands are deprecated. Please use find_element() instead\n",
      "  driver.find_element_by_css_selector(f\"#_diputadomodule_legislatura\").click()\n",
      "<ipython-input-25-500b67e890c1>:22: DeprecationWarning: find_element_by_* commands are deprecated. Please use find_element() instead\n",
      "  driver.find_element_by_css_selector(f\"#_diputadomodule_legislatura > option:nth-child(8)\").click()\n",
      "<ipython-input-25-500b67e890c1>:25: DeprecationWarning: find_element_by_* commands are deprecated. Please use find_element() instead\n",
      "  driver.find_element_by_css_selector(f\"#_diputadomodule_searchButtonDiputadosForm > span\").click()\n",
      "<ipython-input-25-500b67e890c1>:31: DeprecationWarning: find_element_by_* commands are deprecated. Please use find_element() instead\n",
      "  driver.find_element_by_css_selector(f\"#_diputadomodule_contentPaginationDiputados > table > tbody > tr:nth-child({i}) > th > a\").click()\n",
      "<ipython-input-25-500b67e890c1>:32: DeprecationWarning: find_element_by_* commands are deprecated. Please use find_element() instead\n",
      "  nombre.append(driver.find_element_by_css_selector(f\"#portlet_diputadomodule > div > div.portlet-content-container > div > div:nth-child(3) > div:nth-child(1) > div.col-sm-8.col-12.pl-0 > div\").text)\n",
      "<ipython-input-25-500b67e890c1>:33: DeprecationWarning: find_element_by_* commands are deprecated. Please use find_element() instead\n",
      "  nacimiento.append(driver.find_element_by_css_selector(f\"#portlet_diputadomodule > div > div.portlet-content-container > div > div:nth-child(3) > div:nth-child(2) > div:nth-child(1) > div > div > p:nth-child(2)\").text)\n"
     ]
    }
   ],
   "source": [
    "# download the driver \n",
    "driver = webdriver.Chrome(ChromeDriverManager().install(), options = opciones)\n",
    "\n",
    "# set the url\n",
    "url2 = \"https://www.congreso.es/busqueda-de-diputados\"\n",
    "\n",
    "nombre = []\n",
    "nacimiento = []\n",
    "\n",
    "\n",
    "\n",
    "\n",
    "driver.get(url2)\n",
    " \n",
    "driver.implicitly_wait(1000) # is like a time.sleep but specific of selenium\n",
    "\n",
    "driver.find_element_by_css_selector(f\"#banda_cookies > a:nth-child(2)\").click()  \n",
    "driver.implicitly_wait(10000) # is like a time.sleep but specific of selenium\n",
    "driver.find_element_by_css_selector(f\"#_diputadomodule_legislatura\").click()\n",
    "driver.implicitly_wait(10000) # is like a time.sleep but specific of selenium\n",
    "driver.find_element_by_css_selector(f\"#_diputadomodule_legislatura > option:nth-child(8)\").click()\n",
    "\n",
    "driver.implicitly_wait(10000) # is like a time.sleep but specific of selenium\n",
    "driver.find_element_by_css_selector(f\"#_diputadomodule_searchButtonDiputadosForm > span\").click()\n",
    "\n",
    "#1\n",
    "for i in range (1,21):\n",
    "    \n",
    "    \n",
    "    driver.find_element_by_css_selector(f\"#_diputadomodule_contentPaginationDiputados > table > tbody > tr:nth-child({i}) > th > a\").click()  \n",
    "    nombre.append(driver.find_element_by_css_selector(f\"#portlet_diputadomodule > div > div.portlet-content-container > div > div:nth-child(3) > div:nth-child(1) > div.col-sm-8.col-12.pl-0 > div\").text)\n",
    "    nacimiento.append(driver.find_element_by_css_selector(f\"#portlet_diputadomodule > div > div.portlet-content-container > div > div:nth-child(3) > div:nth-child(2) > div:nth-child(1) > div > div > p:nth-child(2)\").text)\n",
    "    driver.execute_script(\"window.history.go(-1)\")   \n",
    "    \n"
   ]
  },
  {
   "cell_type": "code",
   "execution_count": 120,
   "id": "45329233",
   "metadata": {},
   "outputs": [
    {
     "name": "stderr",
     "output_type": "stream",
     "text": [
      "\n",
      "\n",
      "====== WebDriver manager ======\n",
      "Current google-chrome version is 96.0.4664\n",
      "Get LATEST chromedriver version for 96.0.4664 google-chrome\n",
      "Driver [/Users/macniacos/.wdm/drivers/chromedriver/mac64/96.0.4664.45/chromedriver] found in cache\n",
      "<ipython-input-120-7343b1fb5c6b>:2: DeprecationWarning: executable_path has been deprecated, please pass in a Service object\n",
      "  driver = webdriver.Chrome(ChromeDriverManager().install(), options = opciones)\n",
      "<ipython-input-120-7343b1fb5c6b>:11: DeprecationWarning: find_element_by_* commands are deprecated. Please use find_element() instead\n",
      "  driver.find_element_by_css_selector(f\"#banda_cookies > a:nth-child(2)\").click()\n",
      "<ipython-input-120-7343b1fb5c6b>:13: DeprecationWarning: find_element_by_* commands are deprecated. Please use find_element() instead\n",
      "  driver.find_element_by_css_selector(f\"#_diputadomodule_legislatura\").click()\n",
      "<ipython-input-120-7343b1fb5c6b>:15: DeprecationWarning: find_element_by_* commands are deprecated. Please use find_element() instead\n",
      "  driver.find_element_by_css_selector(f\"#_diputadomodule_legislatura > option:nth-child(8)\").click()\n",
      "<ipython-input-120-7343b1fb5c6b>:18: DeprecationWarning: find_element_by_* commands are deprecated. Please use find_element() instead\n",
      "  driver.find_element_by_css_selector(f\"#_diputadomodule_searchButtonDiputadosForm > span\").click()\n",
      "<ipython-input-120-7343b1fb5c6b>:20: DeprecationWarning: find_element_by_* commands are deprecated. Please use find_element() instead\n",
      "  driver.find_element_by_css_selector(f\"#_diputadomodule_paginationLinksDiputados > li:nth-child(4) > a\").click()\n",
      "<ipython-input-120-7343b1fb5c6b>:23: DeprecationWarning: find_element_by_* commands are deprecated. Please use find_element() instead\n",
      "  driver.find_element_by_css_selector(f\"#_diputadomodule_paginationLinksDiputados > li:nth-child(4) > a\").click()\n",
      "<ipython-input-120-7343b1fb5c6b>:33: DeprecationWarning: find_element_by_* commands are deprecated. Please use find_element() instead\n",
      "  driver.find_element_by_css_selector(f\"#banda_cookies > a:nth-child(2)\").click()\n",
      "<ipython-input-120-7343b1fb5c6b>:39: DeprecationWarning: find_element_by_* commands are deprecated. Please use find_element() instead\n",
      "  driver.find_element_by_css_selector(f\"#_diputadomodule_contentPaginationDiputados > table > tbody > tr:nth-child({i}) > th > a\").click()\n"
     ]
    },
    {
     "ename": "WebDriverException",
     "evalue": "Message: chrome not reachable\n  (Session info: chrome=96.0.4664.93)\nStacktrace:\n0   chromedriver                        0x0000000109f33269 __gxx_personality_v0 + 582729\n1   chromedriver                        0x0000000109ebec33 __gxx_personality_v0 + 106003\n2   chromedriver                        0x0000000109a7bcdf chromedriver + 171231\n3   chromedriver                        0x0000000109a6a7c2 chromedriver + 100290\n4   chromedriver                        0x0000000109a6b155 chromedriver + 102741\n5   chromedriver                        0x0000000109a6cf42 chromedriver + 110402\n6   chromedriver                        0x0000000109a65c22 chromedriver + 80930\n7   chromedriver                        0x0000000109a7d2b3 chromedriver + 176819\n8   chromedriver                        0x0000000109ae0b0c chromedriver + 584460\n9   chromedriver                        0x0000000109acec23 chromedriver + 511011\n10  chromedriver                        0x0000000109aa475e chromedriver + 337758\n11  chromedriver                        0x0000000109aa5a95 chromedriver + 342677\n12  chromedriver                        0x0000000109eef8ab __gxx_personality_v0 + 305803\n13  chromedriver                        0x0000000109f06863 __gxx_personality_v0 + 399939\n14  chromedriver                        0x0000000109f0bc7f __gxx_personality_v0 + 421471\n15  chromedriver                        0x0000000109f07bba __gxx_personality_v0 + 404890\n16  chromedriver                        0x0000000109ee3e51 __gxx_personality_v0 + 258097\n17  chromedriver                        0x0000000109f23158 __gxx_personality_v0 + 516920\n18  chromedriver                        0x0000000109f232e1 __gxx_personality_v0 + 517313\n19  chromedriver                        0x0000000109f3a6f8 __gxx_personality_v0 + 612568\n20  libsystem_pthread.dylib             0x00007fff203948fc _pthread_start + 224\n21  libsystem_pthread.dylib             0x00007fff20390443 thread_start + 15\n",
     "output_type": "error",
     "traceback": [
      "\u001b[0;31m---------------------------------------------------------------------------\u001b[0m",
      "\u001b[0;31mWebDriverException\u001b[0m                        Traceback (most recent call last)",
      "\u001b[0;32m<ipython-input-120-7343b1fb5c6b>\u001b[0m in \u001b[0;36m<module>\u001b[0;34m\u001b[0m\n\u001b[1;32m     37\u001b[0m \u001b[0;34m\u001b[0m\u001b[0m\n\u001b[1;32m     38\u001b[0m \u001b[0;34m\u001b[0m\u001b[0m\n\u001b[0;32m---> 39\u001b[0;31m     \u001b[0mdriver\u001b[0m\u001b[0;34m.\u001b[0m\u001b[0mfind_element_by_css_selector\u001b[0m\u001b[0;34m(\u001b[0m\u001b[0;34mf\"#_diputadomodule_contentPaginationDiputados > table > tbody > tr:nth-child({i}) > th > a\"\u001b[0m\u001b[0;34m)\u001b[0m\u001b[0;34m.\u001b[0m\u001b[0mclick\u001b[0m\u001b[0;34m(\u001b[0m\u001b[0;34m)\u001b[0m\u001b[0;34m\u001b[0m\u001b[0;34m\u001b[0m\u001b[0m\n\u001b[0m\u001b[1;32m     40\u001b[0m     \u001b[0mnombre2\u001b[0m\u001b[0;34m.\u001b[0m\u001b[0mappend\u001b[0m\u001b[0;34m(\u001b[0m\u001b[0mdriver\u001b[0m\u001b[0;34m.\u001b[0m\u001b[0mfind_element_by_css_selector\u001b[0m\u001b[0;34m(\u001b[0m\u001b[0;34mf\"#portlet_diputadomodule > div > div.portlet-content-container > div > div:nth-child(3) > div:nth-child(1) > div.col-sm-8.col-12.pl-0 > div\"\u001b[0m\u001b[0;34m)\u001b[0m\u001b[0;34m.\u001b[0m\u001b[0mtext\u001b[0m\u001b[0;34m)\u001b[0m\u001b[0;34m\u001b[0m\u001b[0;34m\u001b[0m\u001b[0m\n\u001b[1;32m     41\u001b[0m     \u001b[0mnacimiento2\u001b[0m\u001b[0;34m.\u001b[0m\u001b[0mappend\u001b[0m\u001b[0;34m(\u001b[0m\u001b[0mdriver\u001b[0m\u001b[0;34m.\u001b[0m\u001b[0mfind_element_by_css_selector\u001b[0m\u001b[0;34m(\u001b[0m\u001b[0;34mf\"#portlet_diputadomodule > div > div.portlet-content-container > div > div:nth-child(3) > div:nth-child(2) > div:nth-child(1) > div > div > p:nth-child(2)\"\u001b[0m\u001b[0;34m)\u001b[0m\u001b[0;34m.\u001b[0m\u001b[0mtext\u001b[0m\u001b[0;34m)\u001b[0m\u001b[0;34m\u001b[0m\u001b[0;34m\u001b[0m\u001b[0m\n",
      "\u001b[0;32m~/Desktop/Ironhack/anaconda3/envs/ironhack/lib/python3.8/site-packages/selenium/webdriver/remote/webdriver.py\u001b[0m in \u001b[0;36mfind_element_by_css_selector\u001b[0;34m(self, css_selector)\u001b[0m\n\u001b[1;32m    800\u001b[0m             \u001b[0mstacklevel\u001b[0m\u001b[0;34m=\u001b[0m\u001b[0;36m2\u001b[0m\u001b[0;34m,\u001b[0m\u001b[0;34m\u001b[0m\u001b[0;34m\u001b[0m\u001b[0m\n\u001b[1;32m    801\u001b[0m         )\n\u001b[0;32m--> 802\u001b[0;31m         \u001b[0;32mreturn\u001b[0m \u001b[0mself\u001b[0m\u001b[0;34m.\u001b[0m\u001b[0mfind_element\u001b[0m\u001b[0;34m(\u001b[0m\u001b[0mby\u001b[0m\u001b[0;34m=\u001b[0m\u001b[0mBy\u001b[0m\u001b[0;34m.\u001b[0m\u001b[0mCSS_SELECTOR\u001b[0m\u001b[0;34m,\u001b[0m \u001b[0mvalue\u001b[0m\u001b[0;34m=\u001b[0m\u001b[0mcss_selector\u001b[0m\u001b[0;34m)\u001b[0m\u001b[0;34m\u001b[0m\u001b[0;34m\u001b[0m\u001b[0m\n\u001b[0m\u001b[1;32m    803\u001b[0m \u001b[0;34m\u001b[0m\u001b[0m\n\u001b[1;32m    804\u001b[0m     \u001b[0;32mdef\u001b[0m \u001b[0mfind_elements_by_css_selector\u001b[0m\u001b[0;34m(\u001b[0m\u001b[0mself\u001b[0m\u001b[0;34m,\u001b[0m \u001b[0mcss_selector\u001b[0m\u001b[0;34m)\u001b[0m \u001b[0;34m->\u001b[0m \u001b[0mWebElement\u001b[0m\u001b[0;34m:\u001b[0m\u001b[0;34m\u001b[0m\u001b[0;34m\u001b[0m\u001b[0m\n",
      "\u001b[0;32m~/Desktop/Ironhack/anaconda3/envs/ironhack/lib/python3.8/site-packages/selenium/webdriver/remote/webdriver.py\u001b[0m in \u001b[0;36mfind_element\u001b[0;34m(self, by, value)\u001b[0m\n\u001b[1;32m   1236\u001b[0m             \u001b[0mvalue\u001b[0m \u001b[0;34m=\u001b[0m \u001b[0;34m'[name=\"%s\"]'\u001b[0m \u001b[0;34m%\u001b[0m \u001b[0mvalue\u001b[0m\u001b[0;34m\u001b[0m\u001b[0;34m\u001b[0m\u001b[0m\n\u001b[1;32m   1237\u001b[0m \u001b[0;34m\u001b[0m\u001b[0m\n\u001b[0;32m-> 1238\u001b[0;31m         return self.execute(Command.FIND_ELEMENT, {\n\u001b[0m\u001b[1;32m   1239\u001b[0m             \u001b[0;34m'using'\u001b[0m\u001b[0;34m:\u001b[0m \u001b[0mby\u001b[0m\u001b[0;34m,\u001b[0m\u001b[0;34m\u001b[0m\u001b[0;34m\u001b[0m\u001b[0m\n\u001b[1;32m   1240\u001b[0m             'value': value})['value']\n",
      "\u001b[0;32m~/Desktop/Ironhack/anaconda3/envs/ironhack/lib/python3.8/site-packages/selenium/webdriver/remote/webdriver.py\u001b[0m in \u001b[0;36mexecute\u001b[0;34m(self, driver_command, params)\u001b[0m\n\u001b[1;32m    416\u001b[0m         \u001b[0mresponse\u001b[0m \u001b[0;34m=\u001b[0m \u001b[0mself\u001b[0m\u001b[0;34m.\u001b[0m\u001b[0mcommand_executor\u001b[0m\u001b[0;34m.\u001b[0m\u001b[0mexecute\u001b[0m\u001b[0;34m(\u001b[0m\u001b[0mdriver_command\u001b[0m\u001b[0;34m,\u001b[0m \u001b[0mparams\u001b[0m\u001b[0;34m)\u001b[0m\u001b[0;34m\u001b[0m\u001b[0;34m\u001b[0m\u001b[0m\n\u001b[1;32m    417\u001b[0m         \u001b[0;32mif\u001b[0m \u001b[0mresponse\u001b[0m\u001b[0;34m:\u001b[0m\u001b[0;34m\u001b[0m\u001b[0;34m\u001b[0m\u001b[0m\n\u001b[0;32m--> 418\u001b[0;31m             \u001b[0mself\u001b[0m\u001b[0;34m.\u001b[0m\u001b[0merror_handler\u001b[0m\u001b[0;34m.\u001b[0m\u001b[0mcheck_response\u001b[0m\u001b[0;34m(\u001b[0m\u001b[0mresponse\u001b[0m\u001b[0;34m)\u001b[0m\u001b[0;34m\u001b[0m\u001b[0;34m\u001b[0m\u001b[0m\n\u001b[0m\u001b[1;32m    419\u001b[0m             response['value'] = self._unwrap_value(\n\u001b[1;32m    420\u001b[0m                 response.get('value', None))\n",
      "\u001b[0;32m~/Desktop/Ironhack/anaconda3/envs/ironhack/lib/python3.8/site-packages/selenium/webdriver/remote/errorhandler.py\u001b[0m in \u001b[0;36mcheck_response\u001b[0;34m(self, response)\u001b[0m\n\u001b[1;32m    241\u001b[0m                 \u001b[0malert_text\u001b[0m \u001b[0;34m=\u001b[0m \u001b[0mvalue\u001b[0m\u001b[0;34m[\u001b[0m\u001b[0;34m'alert'\u001b[0m\u001b[0;34m]\u001b[0m\u001b[0;34m.\u001b[0m\u001b[0mget\u001b[0m\u001b[0;34m(\u001b[0m\u001b[0;34m'text'\u001b[0m\u001b[0;34m)\u001b[0m\u001b[0;34m\u001b[0m\u001b[0;34m\u001b[0m\u001b[0m\n\u001b[1;32m    242\u001b[0m             \u001b[0;32mraise\u001b[0m \u001b[0mexception_class\u001b[0m\u001b[0;34m(\u001b[0m\u001b[0mmessage\u001b[0m\u001b[0;34m,\u001b[0m \u001b[0mscreen\u001b[0m\u001b[0;34m,\u001b[0m \u001b[0mstacktrace\u001b[0m\u001b[0;34m,\u001b[0m \u001b[0malert_text\u001b[0m\u001b[0;34m)\u001b[0m  \u001b[0;31m# type: ignore[call-arg]  # mypy is not smart enough here\u001b[0m\u001b[0;34m\u001b[0m\u001b[0;34m\u001b[0m\u001b[0m\n\u001b[0;32m--> 243\u001b[0;31m         \u001b[0;32mraise\u001b[0m \u001b[0mexception_class\u001b[0m\u001b[0;34m(\u001b[0m\u001b[0mmessage\u001b[0m\u001b[0;34m,\u001b[0m \u001b[0mscreen\u001b[0m\u001b[0;34m,\u001b[0m \u001b[0mstacktrace\u001b[0m\u001b[0;34m)\u001b[0m\u001b[0;34m\u001b[0m\u001b[0;34m\u001b[0m\u001b[0m\n\u001b[0m\u001b[1;32m    244\u001b[0m \u001b[0;34m\u001b[0m\u001b[0m\n\u001b[1;32m    245\u001b[0m     \u001b[0;32mdef\u001b[0m \u001b[0m_value_or_default\u001b[0m\u001b[0;34m(\u001b[0m\u001b[0mself\u001b[0m\u001b[0;34m,\u001b[0m \u001b[0mobj\u001b[0m\u001b[0;34m:\u001b[0m \u001b[0mMapping\u001b[0m\u001b[0;34m[\u001b[0m\u001b[0m_KT\u001b[0m\u001b[0;34m,\u001b[0m \u001b[0m_VT\u001b[0m\u001b[0;34m]\u001b[0m\u001b[0;34m,\u001b[0m \u001b[0mkey\u001b[0m\u001b[0;34m:\u001b[0m \u001b[0m_KT\u001b[0m\u001b[0;34m,\u001b[0m \u001b[0mdefault\u001b[0m\u001b[0;34m:\u001b[0m \u001b[0m_VT\u001b[0m\u001b[0;34m)\u001b[0m \u001b[0;34m->\u001b[0m \u001b[0m_VT\u001b[0m\u001b[0;34m:\u001b[0m\u001b[0;34m\u001b[0m\u001b[0;34m\u001b[0m\u001b[0m\n",
      "\u001b[0;31mWebDriverException\u001b[0m: Message: chrome not reachable\n  (Session info: chrome=96.0.4664.93)\nStacktrace:\n0   chromedriver                        0x0000000109f33269 __gxx_personality_v0 + 582729\n1   chromedriver                        0x0000000109ebec33 __gxx_personality_v0 + 106003\n2   chromedriver                        0x0000000109a7bcdf chromedriver + 171231\n3   chromedriver                        0x0000000109a6a7c2 chromedriver + 100290\n4   chromedriver                        0x0000000109a6b155 chromedriver + 102741\n5   chromedriver                        0x0000000109a6cf42 chromedriver + 110402\n6   chromedriver                        0x0000000109a65c22 chromedriver + 80930\n7   chromedriver                        0x0000000109a7d2b3 chromedriver + 176819\n8   chromedriver                        0x0000000109ae0b0c chromedriver + 584460\n9   chromedriver                        0x0000000109acec23 chromedriver + 511011\n10  chromedriver                        0x0000000109aa475e chromedriver + 337758\n11  chromedriver                        0x0000000109aa5a95 chromedriver + 342677\n12  chromedriver                        0x0000000109eef8ab __gxx_personality_v0 + 305803\n13  chromedriver                        0x0000000109f06863 __gxx_personality_v0 + 399939\n14  chromedriver                        0x0000000109f0bc7f __gxx_personality_v0 + 421471\n15  chromedriver                        0x0000000109f07bba __gxx_personality_v0 + 404890\n16  chromedriver                        0x0000000109ee3e51 __gxx_personality_v0 + 258097\n17  chromedriver                        0x0000000109f23158 __gxx_personality_v0 + 516920\n18  chromedriver                        0x0000000109f232e1 __gxx_personality_v0 + 517313\n19  chromedriver                        0x0000000109f3a6f8 __gxx_personality_v0 + 612568\n20  libsystem_pthread.dylib             0x00007fff203948fc _pthread_start + 224\n21  libsystem_pthread.dylib             0x00007fff20390443 thread_start + 15\n"
     ]
    }
   ],
   "source": [
    "# download the driver \n",
    "driver = webdriver.Chrome(ChromeDriverManager().install(), options = opciones)\n",
    "\n",
    "# set the url\n",
    "url2 = \"https://www.congreso.es/busqueda-de-diputados\"\n",
    "\n",
    "driver.get(url2)\n",
    " \n",
    "driver.implicitly_wait(1000) # is like a time.sleep but specific of selenium\n",
    "\n",
    "driver.find_element_by_css_selector(f\"#banda_cookies > a:nth-child(2)\").click()  \n",
    "driver.implicitly_wait(10000) # is like a time.sleep but specific of selenium\n",
    "driver.find_element_by_css_selector(f\"#_diputadomodule_legislatura\").click()\n",
    "driver.implicitly_wait(10000) # is like a time.sleep but specific of selenium\n",
    "driver.find_element_by_css_selector(f\"#_diputadomodule_legislatura > option:nth-child(8)\").click()\n",
    "\n",
    "driver.implicitly_wait(10000) # is like a time.sleep but specific of selenium\n",
    "driver.find_element_by_css_selector(f\"#_diputadomodule_searchButtonDiputadosForm > span\").click()\n",
    "\n",
    "driver.find_element_by_css_selector(f\"#_diputadomodule_paginationLinksDiputados > li:nth-child(4) > a\").click() \n",
    "\n",
    "driver.implicitly_wait(1000) # is like a time.sleep but specific of selenium\n",
    "driver.find_element_by_css_selector(f\"#_diputadomodule_paginationLinksDiputados > li:nth-child(4) > a\").click()  \n",
    "#2\n",
    "\n",
    "\n",
    "#2\n",
    "nombre2 = []\n",
    "nacimiento2 = []\n",
    "\n",
    "driver.implicitly_wait(1000) # is like a time.sleep but specific of selenium\n",
    "\n",
    "driver.find_element_by_css_selector(f\"#banda_cookies > a:nth-child(2)\").click()  \n",
    "driver.implicitly_wait(1000) # is like a time.sleep but specific of selenium\n",
    "\n",
    "for i in range (1,21):\n",
    "    \n",
    "    \n",
    "    driver.find_element_by_css_selector(f\"#_diputadomodule_contentPaginationDiputados > table > tbody > tr:nth-child({i}) > th > a\").click()  \n",
    "    nombre2.append(driver.find_element_by_css_selector(f\"#portlet_diputadomodule > div > div.portlet-content-container > div > div:nth-child(3) > div:nth-child(1) > div.col-sm-8.col-12.pl-0 > div\").text)\n",
    "    nacimiento2.append(driver.find_element_by_css_selector(f\"#portlet_diputadomodule > div > div.portlet-content-container > div > div:nth-child(3) > div:nth-child(2) > div:nth-child(1) > div > div > p:nth-child(2)\").text)\n",
    "    driver.execute_script(\"window.history.go(-1)\")   \n",
    "    "
   ]
  },
  {
   "cell_type": "code",
   "execution_count": 31,
   "id": "1a5242db",
   "metadata": {},
   "outputs": [
    {
     "name": "stderr",
     "output_type": "stream",
     "text": [
      "\n",
      "\n",
      "====== WebDriver manager ======\n",
      "Current google-chrome version is 96.0.4664\n",
      "Get LATEST chromedriver version for 96.0.4664 google-chrome\n",
      "Driver [/Users/macniacos/.wdm/drivers/chromedriver/mac64/96.0.4664.45/chromedriver] found in cache\n",
      "<ipython-input-31-97543b556334>:2: DeprecationWarning: executable_path has been deprecated, please pass in a Service object\n",
      "  driver = webdriver.Chrome(ChromeDriverManager().install(), options = opciones)\n",
      "<ipython-input-31-97543b556334>:11: DeprecationWarning: find_element_by_* commands are deprecated. Please use find_element() instead\n",
      "  driver.find_element_by_css_selector(f\"#banda_cookies > a:nth-child(2)\").click()\n",
      "<ipython-input-31-97543b556334>:13: DeprecationWarning: find_element_by_* commands are deprecated. Please use find_element() instead\n",
      "  driver.find_element_by_css_selector(f\"#_diputadomodule_legislatura\").click()\n",
      "<ipython-input-31-97543b556334>:15: DeprecationWarning: find_element_by_* commands are deprecated. Please use find_element() instead\n",
      "  driver.find_element_by_css_selector(f\"#_diputadomodule_legislatura > option:nth-child(8)\").click()\n",
      "<ipython-input-31-97543b556334>:18: DeprecationWarning: find_element_by_* commands are deprecated. Please use find_element() instead\n",
      "  driver.find_element_by_css_selector(f\"#_diputadomodule_searchButtonDiputadosForm > span\").click()\n",
      "<ipython-input-31-97543b556334>:22: DeprecationWarning: find_element_by_* commands are deprecated. Please use find_element() instead\n",
      "  driver.find_element_by_css_selector(f\"#_diputadomodule_paginationLinksDiputados > li:nth-child(5) > a\").click()\n",
      "<ipython-input-31-97543b556334>:31: DeprecationWarning: find_element_by_* commands are deprecated. Please use find_element() instead\n",
      "  driver.find_element_by_css_selector(f\"#_diputadomodule_contentPaginationDiputados > table > tbody > tr:nth-child({i}) > th > a\").click()\n",
      "<ipython-input-31-97543b556334>:32: DeprecationWarning: find_element_by_* commands are deprecated. Please use find_element() instead\n",
      "  nombre3.append(driver.find_element_by_css_selector(f\"#portlet_diputadomodule > div > div.portlet-content-container > div > div:nth-child(3) > div:nth-child(1) > div.col-sm-8.col-12.pl-0 > div\").text)\n",
      "<ipython-input-31-97543b556334>:33: DeprecationWarning: find_element_by_* commands are deprecated. Please use find_element() instead\n",
      "  nacimiento3.append(driver.find_element_by_css_selector(f\"#portlet_diputadomodule > div > div.portlet-content-container > div > div:nth-child(3) > div:nth-child(2) > div:nth-child(1) > div > div > p:nth-child(2)\").text)\n"
     ]
    }
   ],
   "source": [
    "# download the driver \n",
    "driver = webdriver.Chrome(ChromeDriverManager().install(), options = opciones)\n",
    "\n",
    "# set the url\n",
    "url2 = \"https://www.congreso.es/busqueda-de-diputados\"\n",
    "\n",
    "driver.get(url2)\n",
    " \n",
    "driver.implicitly_wait(1000) # is like a time.sleep but specific of selenium\n",
    "\n",
    "driver.find_element_by_css_selector(f\"#banda_cookies > a:nth-child(2)\").click()  \n",
    "driver.implicitly_wait(10000) # is like a time.sleep but specific of selenium\n",
    "driver.find_element_by_css_selector(f\"#_diputadomodule_legislatura\").click()\n",
    "driver.implicitly_wait(10000) # is like a time.sleep but specific of selenium\n",
    "driver.find_element_by_css_selector(f\"#_diputadomodule_legislatura > option:nth-child(8)\").click()\n",
    "\n",
    "driver.implicitly_wait(10000) # is like a time.sleep but specific of selenium\n",
    "driver.find_element_by_css_selector(f\"#_diputadomodule_searchButtonDiputadosForm > span\").click()\n",
    "\n",
    "\n",
    "driver.implicitly_wait(1000) # is like a time.sleep but specific of selenium\n",
    "driver.find_element_by_css_selector(f\"#_diputadomodule_paginationLinksDiputados > li:nth-child(5) > a\").click()\n",
    "\n",
    "#3\n",
    "nombre3 = []\n",
    "nacimiento3 = []\n",
    "\n",
    "for i in range (1,21):\n",
    "    \n",
    "    \n",
    "    driver.find_element_by_css_selector(f\"#_diputadomodule_contentPaginationDiputados > table > tbody > tr:nth-child({i}) > th > a\").click()  \n",
    "    nombre3.append(driver.find_element_by_css_selector(f\"#portlet_diputadomodule > div > div.portlet-content-container > div > div:nth-child(3) > div:nth-child(1) > div.col-sm-8.col-12.pl-0 > div\").text)\n",
    "    nacimiento3.append(driver.find_element_by_css_selector(f\"#portlet_diputadomodule > div > div.portlet-content-container > div > div:nth-child(3) > div:nth-child(2) > div:nth-child(1) > div > div > p:nth-child(2)\").text)\n",
    "    driver.execute_script(\"window.history.go(-1)\")   \n",
    "    "
   ]
  },
  {
   "cell_type": "code",
   "execution_count": 37,
   "id": "51ab7d08",
   "metadata": {
    "collapsed": true
   },
   "outputs": [
    {
     "data": {
      "text/plain": [
       "['Barrero López, Jaime Javier',\n",
       " 'Barrero Valverde, Juan Ignacio',\n",
       " 'Barrios Curbelo, María Bernarda',\n",
       " 'Becerril Bustamante, Soledad',\n",
       " 'Bel i Queralt, Germà',\n",
       " 'Belda Pérez-Pedrero, Enrique',\n",
       " 'Benegas Haddad, José María',\n",
       " 'Bermejo Fernández, José Luis',\n",
       " 'Bermúdez de Castro Fernández, José Antonio',\n",
       " 'Bertomeu Bertomeu, Juan',\n",
       " 'Blancas Llamas, Juan',\n",
       " 'Blanco García, Jaime',\n",
       " 'Blanco López, José',\n",
       " 'Blanco Terán, Rosa Delia',\n",
       " 'Blázquez Sánchez, Feliciano',\n",
       " 'Borrell Fontelles, Josep',\n",
       " 'Bueno Fernández, Ricardo',\n",
       " 'Bueso Zaera, Leocadio',\n",
       " 'Burgo Tajadura, Jaime Ignacio del',\n",
       " 'Burgos Gallego, Tomás']"
      ]
     },
     "execution_count": 37,
     "metadata": {},
     "output_type": "execute_result"
    }
   ],
   "source": [
    "nombre3"
   ]
  },
  {
   "cell_type": "code",
   "execution_count": 38,
   "id": "9a24af99",
   "metadata": {},
   "outputs": [
    {
     "name": "stderr",
     "output_type": "stream",
     "text": [
      "\n",
      "\n",
      "====== WebDriver manager ======\n",
      "Current google-chrome version is 96.0.4664\n",
      "Get LATEST chromedriver version for 96.0.4664 google-chrome\n",
      "Driver [/Users/macniacos/.wdm/drivers/chromedriver/mac64/96.0.4664.45/chromedriver] found in cache\n",
      "<ipython-input-38-c4d6d4dcb8a3>:2: DeprecationWarning: executable_path has been deprecated, please pass in a Service object\n",
      "  driver = webdriver.Chrome(ChromeDriverManager().install(), options = opciones)\n",
      "<ipython-input-38-c4d6d4dcb8a3>:11: DeprecationWarning: find_element_by_* commands are deprecated. Please use find_element() instead\n",
      "  driver.find_element_by_css_selector(f\"#banda_cookies > a:nth-child(2)\").click()\n",
      "<ipython-input-38-c4d6d4dcb8a3>:13: DeprecationWarning: find_element_by_* commands are deprecated. Please use find_element() instead\n",
      "  driver.find_element_by_css_selector(f\"#_diputadomodule_legislatura\").click()\n",
      "<ipython-input-38-c4d6d4dcb8a3>:15: DeprecationWarning: find_element_by_* commands are deprecated. Please use find_element() instead\n",
      "  driver.find_element_by_css_selector(f\"#_diputadomodule_legislatura > option:nth-child(8)\").click()\n",
      "<ipython-input-38-c4d6d4dcb8a3>:18: DeprecationWarning: find_element_by_* commands are deprecated. Please use find_element() instead\n",
      "  driver.find_element_by_css_selector(f\"#_diputadomodule_searchButtonDiputadosForm > span\").click()\n",
      "<ipython-input-38-c4d6d4dcb8a3>:21: DeprecationWarning: find_element_by_* commands are deprecated. Please use find_element() instead\n",
      "  driver.find_element_by_css_selector(f\"#_diputadomodule_paginationLinksDiputados > li:nth-child(6) > a\").click()\n",
      "<ipython-input-38-c4d6d4dcb8a3>:28: DeprecationWarning: find_element_by_* commands are deprecated. Please use find_element() instead\n",
      "  driver.find_element_by_css_selector(f\"#_diputadomodule_contentPaginationDiputados > table > tbody > tr:nth-child({i}) > th > a\").click()\n",
      "<ipython-input-38-c4d6d4dcb8a3>:29: DeprecationWarning: find_element_by_* commands are deprecated. Please use find_element() instead\n",
      "  nombre4.append(driver.find_element_by_css_selector(f\"#portlet_diputadomodule > div > div.portlet-content-container > div > div:nth-child(3) > div:nth-child(1) > div.col-sm-8.col-12.pl-0 > div\").text)\n",
      "<ipython-input-38-c4d6d4dcb8a3>:30: DeprecationWarning: find_element_by_* commands are deprecated. Please use find_element() instead\n",
      "  nacimiento4.append(driver.find_element_by_css_selector(f\"#portlet_diputadomodule > div > div.portlet-content-container > div > div:nth-child(3) > div:nth-child(2) > div:nth-child(1) > div > div > p:nth-child(2)\").text)\n"
     ]
    }
   ],
   "source": [
    "# download the driver \n",
    "driver = webdriver.Chrome(ChromeDriverManager().install(), options = opciones)\n",
    "\n",
    "# set the url\n",
    "url2 = \"https://www.congreso.es/busqueda-de-diputados\"\n",
    "\n",
    "driver.get(url2)\n",
    " \n",
    "driver.implicitly_wait(1000) # is like a time.sleep but specific of selenium\n",
    "\n",
    "driver.find_element_by_css_selector(f\"#banda_cookies > a:nth-child(2)\").click()  \n",
    "driver.implicitly_wait(10000) # is like a time.sleep but specific of selenium\n",
    "driver.find_element_by_css_selector(f\"#_diputadomodule_legislatura\").click()\n",
    "driver.implicitly_wait(10000) # is like a time.sleep but specific of selenium\n",
    "driver.find_element_by_css_selector(f\"#_diputadomodule_legislatura > option:nth-child(8)\").click()\n",
    "\n",
    "driver.implicitly_wait(10000) # is like a time.sleep but specific of selenium\n",
    "driver.find_element_by_css_selector(f\"#_diputadomodule_searchButtonDiputadosForm > span\").click()\n",
    "\n",
    "driver.implicitly_wait(1000) # is like a time.sleep but specific of selenium\n",
    "driver.find_element_by_css_selector(f\"#_diputadomodule_paginationLinksDiputados > li:nth-child(6) > a\").click() \n",
    "\n",
    "nombre4 = []\n",
    "nacimiento4 = []\n",
    "for i in range (1,21):\n",
    "    \n",
    "    \n",
    "    driver.find_element_by_css_selector(f\"#_diputadomodule_contentPaginationDiputados > table > tbody > tr:nth-child({i}) > th > a\").click()  \n",
    "    nombre4.append(driver.find_element_by_css_selector(f\"#portlet_diputadomodule > div > div.portlet-content-container > div > div:nth-child(3) > div:nth-child(1) > div.col-sm-8.col-12.pl-0 > div\").text)\n",
    "    nacimiento4.append(driver.find_element_by_css_selector(f\"#portlet_diputadomodule > div > div.portlet-content-container > div > div:nth-child(3) > div:nth-child(2) > div:nth-child(1) > div > div > p:nth-child(2)\").text)\n",
    "    driver.execute_script(\"window.history.go(-1)\")   \n",
    "    "
   ]
  },
  {
   "cell_type": "code",
   "execution_count": 27,
   "id": "02154f37",
   "metadata": {},
   "outputs": [
    {
     "data": {
      "text/plain": [
       "20"
      ]
     },
     "execution_count": 27,
     "metadata": {},
     "output_type": "execute_result"
    }
   ],
   "source": [
    "len(nombre4)"
   ]
  },
  {
   "cell_type": "code",
   "execution_count": 44,
   "id": "b0080e20",
   "metadata": {},
   "outputs": [
    {
     "data": {
      "text/plain": [
       "['Nacido el 12/07/1965',\n",
       " 'Nacido el 31/10/1957 en Béjar (Salamanca)',\n",
       " 'Nacido el 30/11/1956 en Valencia',\n",
       " 'Nacido el 07/05/1954 en Castellón',\n",
       " 'Nacida el 27/11/1958 en La Rábida (Huelva)',\n",
       " 'Nacido el 15/05/1965 en Bilbao',\n",
       " 'Nacida el 25/04/1970 en Madrid',\n",
       " 'Nacida el 27/06/1947 en Gijón',\n",
       " 'Nacido el 05/09/1964 en Alicante',\n",
       " 'Nacido el 30/06/1963 en Barcelona',\n",
       " 'Nacido el 28/08/1962 en Valencia',\n",
       " 'Nacido el 12/07/1964 en Barcelona',\n",
       " 'Nacida el 09/03/1967 en Madrid',\n",
       " 'Nacida el 10/07/1954 en Cañete de las Torres (Córdoba)',\n",
       " 'Nacido el 03/08/1951 en Cabezón de la Sal (Cantabria)',\n",
       " 'Nacido el 21/09/1964 en Bilbao (Vizcaya)',\n",
       " 'Nacido el 02/08/1954 en Barahona (Soria)',\n",
       " 'Nacida el 20/06/1967 en Las Palmas de Gran Canaria',\n",
       " 'Nacido el 22/07/1954 en Granada',\n",
       " 'Nacida el 18/08/1946 en Mansilla del Páramo (León)']"
      ]
     },
     "execution_count": 44,
     "metadata": {},
     "output_type": "execute_result"
    }
   ],
   "source": [
    "nacimiento4"
   ]
  },
  {
   "cell_type": "code",
   "execution_count": 45,
   "id": "38a56104",
   "metadata": {},
   "outputs": [
    {
     "name": "stderr",
     "output_type": "stream",
     "text": [
      "\n",
      "\n",
      "====== WebDriver manager ======\n",
      "Current google-chrome version is 96.0.4664\n",
      "Get LATEST chromedriver version for 96.0.4664 google-chrome\n",
      "Driver [/Users/macniacos/.wdm/drivers/chromedriver/mac64/96.0.4664.45/chromedriver] found in cache\n",
      "<ipython-input-45-282e5e40fb75>:2: DeprecationWarning: executable_path has been deprecated, please pass in a Service object\n",
      "  driver = webdriver.Chrome(ChromeDriverManager().install(), options = opciones)\n",
      "<ipython-input-45-282e5e40fb75>:11: DeprecationWarning: find_element_by_* commands are deprecated. Please use find_element() instead\n",
      "  driver.find_element_by_css_selector(f\"#banda_cookies > a:nth-child(2)\").click()\n",
      "<ipython-input-45-282e5e40fb75>:13: DeprecationWarning: find_element_by_* commands are deprecated. Please use find_element() instead\n",
      "  driver.find_element_by_css_selector(f\"#_diputadomodule_legislatura\").click()\n",
      "<ipython-input-45-282e5e40fb75>:15: DeprecationWarning: find_element_by_* commands are deprecated. Please use find_element() instead\n",
      "  driver.find_element_by_css_selector(f\"#_diputadomodule_legislatura > option:nth-child(8)\").click()\n",
      "<ipython-input-45-282e5e40fb75>:18: DeprecationWarning: find_element_by_* commands are deprecated. Please use find_element() instead\n",
      "  driver.find_element_by_css_selector(f\"#_diputadomodule_searchButtonDiputadosForm > span\").click()\n",
      "<ipython-input-45-282e5e40fb75>:21: DeprecationWarning: find_element_by_* commands are deprecated. Please use find_element() instead\n",
      "  driver.find_element_by_css_selector(f\"#_diputadomodule_paginationLinksDiputados > li:nth-child(7) > a\").click()\n",
      "<ipython-input-45-282e5e40fb75>:28: DeprecationWarning: find_element_by_* commands are deprecated. Please use find_element() instead\n",
      "  driver.find_element_by_css_selector(f\"#_diputadomodule_contentPaginationDiputados > table > tbody > tr:nth-child({i}) > th > a\").click()\n",
      "<ipython-input-45-282e5e40fb75>:29: DeprecationWarning: find_element_by_* commands are deprecated. Please use find_element() instead\n",
      "  nombre5.append(driver.find_element_by_css_selector(f\"#portlet_diputadomodule > div > div.portlet-content-container > div > div:nth-child(3) > div:nth-child(1) > div.col-sm-8.col-12.pl-0 > div\").text)\n",
      "<ipython-input-45-282e5e40fb75>:30: DeprecationWarning: find_element_by_* commands are deprecated. Please use find_element() instead\n",
      "  nacimiento5.append(driver.find_element_by_css_selector(f\"#portlet_diputadomodule > div > div.portlet-content-container > div > div:nth-child(3) > div:nth-child(2) > div:nth-child(1) > div > div > p:nth-child(2)\").text)\n"
     ]
    }
   ],
   "source": [
    "# download the driver \n",
    "driver = webdriver.Chrome(ChromeDriverManager().install(), options = opciones)\n",
    "\n",
    "# set the url\n",
    "url2 = \"https://www.congreso.es/busqueda-de-diputados\"\n",
    "\n",
    "driver.get(url2)\n",
    " \n",
    "driver.implicitly_wait(1000) # is like a time.sleep but specific of selenium\n",
    "\n",
    "driver.find_element_by_css_selector(f\"#banda_cookies > a:nth-child(2)\").click()  \n",
    "driver.implicitly_wait(10000) # is like a time.sleep but specific of selenium\n",
    "driver.find_element_by_css_selector(f\"#_diputadomodule_legislatura\").click()\n",
    "driver.implicitly_wait(10000) # is like a time.sleep but specific of selenium\n",
    "driver.find_element_by_css_selector(f\"#_diputadomodule_legislatura > option:nth-child(8)\").click()\n",
    "\n",
    "driver.implicitly_wait(10000) # is like a time.sleep but specific of selenium\n",
    "driver.find_element_by_css_selector(f\"#_diputadomodule_searchButtonDiputadosForm > span\").click()\n",
    "\n",
    "driver.implicitly_wait(1000) # is like a time.sleep but specific of selenium\n",
    "driver.find_element_by_css_selector(f\"#_diputadomodule_paginationLinksDiputados > li:nth-child(7) > a\").click()\n",
    "\n",
    "nombre5 = []\n",
    "nacimiento5 = []\n",
    "\n",
    "for i in range (1,21):\n",
    "    \n",
    "    driver.find_element_by_css_selector(f\"#_diputadomodule_contentPaginationDiputados > table > tbody > tr:nth-child({i}) > th > a\").click()  \n",
    "    nombre5.append(driver.find_element_by_css_selector(f\"#portlet_diputadomodule > div > div.portlet-content-container > div > div:nth-child(3) > div:nth-child(1) > div.col-sm-8.col-12.pl-0 > div\").text)\n",
    "    nacimiento5.append(driver.find_element_by_css_selector(f\"#portlet_diputadomodule > div > div.portlet-content-container > div > div:nth-child(3) > div:nth-child(2) > div:nth-child(1) > div > div > p:nth-child(2)\").text)\n",
    "    driver.execute_script(\"window.history.go(-1)\")  "
   ]
  },
  {
   "cell_type": "code",
   "execution_count": 46,
   "id": "d0cbc091",
   "metadata": {},
   "outputs": [
    {
     "data": {
      "text/plain": [
       "20"
      ]
     },
     "execution_count": 46,
     "metadata": {},
     "output_type": "execute_result"
    }
   ],
   "source": [
    "len(nombre5)"
   ]
  },
  {
   "cell_type": "code",
   "execution_count": 47,
   "id": "1939b7e3",
   "metadata": {},
   "outputs": [
    {
     "data": {
      "text/plain": [
       "['Nacida el 27/08/1952 en Avilés (Asturias)',\n",
       " 'Nacida el 22/05/1948 en Barcelona',\n",
       " 'Nacido el 31/07/1958 en Córdoba',\n",
       " 'Nacida el 13/03/1971 en Esplugues de Llobregat (Barcelona)',\n",
       " 'Nacido el 15/10/1958 en Cangas (Pontevedra)',\n",
       " 'Nacido el 22/12/1946 en Picanya (Valencia)',\n",
       " 'Nacido el 14/08/1940 en Tarazona (Zaragoza)',\n",
       " 'Nacido el 04/06/1938 en Barcelona',\n",
       " 'Nacido el 07/09/1949 en Sidamón (Lleida)',\n",
       " 'Nacida el 10/01/1964 en Reus (Tarragona)',\n",
       " 'Nacida el 07/09/1947 en Ronda (Málaga)',\n",
       " 'Nacido el 22/07/1953 en Molina de Segura (Murcia)',\n",
       " 'Nacido el 27/08/1950 en Lorca (Murcia)',\n",
       " 'Nacida el 05/04/1971 en Madrid',\n",
       " 'Nacido el 04/06/1938 en Barcelona',\n",
       " 'Nacido el 14/07/1958 en Valladolid',\n",
       " 'Nacida el 31/07/1951 en Madrid',\n",
       " 'Nacido el 10/04/1965 en Castellón',\n",
       " 'Nacida el 19/01/1961 en Lugo',\n",
       " 'Nacida el 19/02/1970 en Toledo']"
      ]
     },
     "execution_count": 47,
     "metadata": {},
     "output_type": "execute_result"
    }
   ],
   "source": [
    "nacimiento5"
   ]
  },
  {
   "cell_type": "code",
   "execution_count": 58,
   "id": "542fc245",
   "metadata": {},
   "outputs": [
    {
     "name": "stderr",
     "output_type": "stream",
     "text": [
      "\n",
      "\n",
      "====== WebDriver manager ======\n",
      "Current google-chrome version is 96.0.4664\n",
      "Get LATEST chromedriver version for 96.0.4664 google-chrome\n",
      "Driver [/Users/macniacos/.wdm/drivers/chromedriver/mac64/96.0.4664.45/chromedriver] found in cache\n",
      "<ipython-input-58-5ce09e4b7218>:2: DeprecationWarning: executable_path has been deprecated, please pass in a Service object\n",
      "  driver = webdriver.Chrome(ChromeDriverManager().install(), options = opciones)\n",
      "<ipython-input-58-5ce09e4b7218>:11: DeprecationWarning: find_element_by_* commands are deprecated. Please use find_element() instead\n",
      "  driver.find_element_by_css_selector(f\"#banda_cookies > a:nth-child(2)\").click()\n",
      "<ipython-input-58-5ce09e4b7218>:13: DeprecationWarning: find_element_by_* commands are deprecated. Please use find_element() instead\n",
      "  driver.find_element_by_css_selector(f\"#_diputadomodule_legislatura\").click()\n",
      "<ipython-input-58-5ce09e4b7218>:15: DeprecationWarning: find_element_by_* commands are deprecated. Please use find_element() instead\n",
      "  driver.find_element_by_css_selector(f\"#_diputadomodule_legislatura > option:nth-child(8)\").click()\n",
      "<ipython-input-58-5ce09e4b7218>:18: DeprecationWarning: find_element_by_* commands are deprecated. Please use find_element() instead\n",
      "  driver.find_element_by_css_selector(f\"#_diputadomodule_searchButtonDiputadosForm > span\").click()\n",
      "<ipython-input-58-5ce09e4b7218>:21: DeprecationWarning: find_element_by_* commands are deprecated. Please use find_element() instead\n",
      "  driver.find_element_by_css_selector(f\"#_diputadomodule_paginationLinksDiputados > li:nth-child(7) > a\").click()\n",
      "<ipython-input-58-5ce09e4b7218>:23: DeprecationWarning: find_element_by_* commands are deprecated. Please use find_element() instead\n",
      "  driver.find_element_by_css_selector(f\"#_diputadomodule_paginationLinksDiputados > li:nth-child(6) > a\").click()\n",
      "<ipython-input-58-5ce09e4b7218>:31: DeprecationWarning: find_element_by_* commands are deprecated. Please use find_element() instead\n",
      "  driver.find_element_by_css_selector(f\"#_diputadomodule_contentPaginationDiputados > table > tbody > tr:nth-child({i}) > th > a\").click()\n",
      "<ipython-input-58-5ce09e4b7218>:32: DeprecationWarning: find_element_by_* commands are deprecated. Please use find_element() instead\n",
      "  nombre6.append(driver.find_element_by_css_selector(f\"#portlet_diputadomodule > div > div.portlet-content-container > div > div:nth-child(3) > div:nth-child(1) > div.col-sm-8.col-12.pl-0 > div\").text)\n",
      "<ipython-input-58-5ce09e4b7218>:33: DeprecationWarning: find_element_by_* commands are deprecated. Please use find_element() instead\n",
      "  nacimiento6.append(driver.find_element_by_css_selector(f\"#portlet_diputadomodule > div > div.portlet-content-container > div > div:nth-child(3) > div:nth-child(2) > div:nth-child(1) > div > div > p:nth-child(2)\").text)\n"
     ]
    }
   ],
   "source": [
    "# download the driver \n",
    "driver = webdriver.Chrome(ChromeDriverManager().install(), options = opciones)\n",
    "\n",
    "# set the url\n",
    "url2 = \"https://www.congreso.es/busqueda-de-diputados\"\n",
    "\n",
    "driver.get(url2)\n",
    " \n",
    "driver.implicitly_wait(1000) # is like a time.sleep but specific of selenium\n",
    "\n",
    "driver.find_element_by_css_selector(f\"#banda_cookies > a:nth-child(2)\").click()  \n",
    "driver.implicitly_wait(10000) # is like a time.sleep but specific of selenium\n",
    "driver.find_element_by_css_selector(f\"#_diputadomodule_legislatura\").click()\n",
    "driver.implicitly_wait(10000) # is like a time.sleep but specific of selenium\n",
    "driver.find_element_by_css_selector(f\"#_diputadomodule_legislatura > option:nth-child(8)\").click()\n",
    "\n",
    "driver.implicitly_wait(10000) # is like a time.sleep but specific of selenium\n",
    "driver.find_element_by_css_selector(f\"#_diputadomodule_searchButtonDiputadosForm > span\").click()\n",
    "\n",
    "driver.implicitly_wait(1000) # is like a time.sleep but specific of selenium\n",
    "driver.find_element_by_css_selector(f\"#_diputadomodule_paginationLinksDiputados > li:nth-child(7) > a\").click()  \n",
    "driver.implicitly_wait(1000) # is like a time.sleep but specific of selenium\n",
    "driver.find_element_by_css_selector(f\"#_diputadomodule_paginationLinksDiputados > li:nth-child(6) > a\").click()\n",
    "\n",
    "nombre6 = []\n",
    "nacimiento6 = []\n",
    "\n",
    "for i in range (1,21):\n",
    "    \n",
    "    driver.implicitly_wait(100000) # is like a time.sleep but specific of selenium\n",
    "    driver.find_element_by_css_selector(f\"#_diputadomodule_contentPaginationDiputados > table > tbody > tr:nth-child({i}) > th > a\").click()  \n",
    "    nombre6.append(driver.find_element_by_css_selector(f\"#portlet_diputadomodule > div > div.portlet-content-container > div > div:nth-child(3) > div:nth-child(1) > div.col-sm-8.col-12.pl-0 > div\").text)\n",
    "    nacimiento6.append(driver.find_element_by_css_selector(f\"#portlet_diputadomodule > div > div.portlet-content-container > div > div:nth-child(3) > div:nth-child(2) > div:nth-child(1) > div > div > p:nth-child(2)\").text)\n",
    "    driver.execute_script(\"window.history.go(-1)\")"
   ]
  },
  {
   "cell_type": "code",
   "execution_count": 59,
   "id": "48654a95",
   "metadata": {
    "scrolled": true
   },
   "outputs": [
    {
     "data": {
      "text/plain": [
       "20"
      ]
     },
     "execution_count": 59,
     "metadata": {},
     "output_type": "execute_result"
    }
   ],
   "source": [
    "len(nombre6)"
   ]
  },
  {
   "cell_type": "code",
   "execution_count": 60,
   "id": "924c44f3",
   "metadata": {},
   "outputs": [
    {
     "data": {
      "text/plain": [
       "['Nacido el 24/12/1952 en Castroverde de Campos (Zamora)',\n",
       " 'Nacido el 28/06/1955 en Oviedo',\n",
       " 'Nacido el 07/05/1949 en Puente Genil (Córdoba)',\n",
       " \"Nacida el 17/02/1951 en Bell-Lloc D'Urgell (Lleida)\",\n",
       " 'Nacida el 26/02/1952 en Burgos',\n",
       " 'Nacido el 23/02/1958 en Ourense',\n",
       " 'Nacido el 01/04/1947 en Escairon (Lugo)',\n",
       " 'Nacido el 23/03/1960 en La Solana (Ciudad Real)',\n",
       " 'Nacida el 15/03/1953 en Ciudad Real',\n",
       " 'Nacida el 23/02/1944 en Madrid',\n",
       " 'Nacida el 05/03/1969 en Córdoba',\n",
       " 'Nacido el 10/09/1958 en Fanzara (Castellón)',\n",
       " 'Nacido el 25/12/1945 en Bilbao',\n",
       " 'Nacido el 08/04/1958 en Ceuta',\n",
       " 'Nacido el 03/07/1960 en Bermeo (Bizkaia)',\n",
       " 'Nacido el 29/03/1946 en San Sebastián (Guipúzcoa)',\n",
       " 'Nacido el 28/04/1947 en Toral de los Vados (León)',\n",
       " 'Nacida el 10/10/1969 en Dalias (Almería)',\n",
       " 'Nacida el 21/10/1965 en Valldemossa (Mallorca)',\n",
       " 'Nacido el 28/01/1966 en Alcoy (Alicante)']"
      ]
     },
     "execution_count": 60,
     "metadata": {},
     "output_type": "execute_result"
    }
   ],
   "source": [
    "nacimiento6"
   ]
  },
  {
   "cell_type": "code",
   "execution_count": 61,
   "id": "8efdd465",
   "metadata": {},
   "outputs": [
    {
     "name": "stderr",
     "output_type": "stream",
     "text": [
      "\n",
      "\n",
      "====== WebDriver manager ======\n",
      "Current google-chrome version is 96.0.4664\n",
      "Get LATEST chromedriver version for 96.0.4664 google-chrome\n",
      "Driver [/Users/macniacos/.wdm/drivers/chromedriver/mac64/96.0.4664.45/chromedriver] found in cache\n",
      "<ipython-input-61-7422c30b32af>:2: DeprecationWarning: executable_path has been deprecated, please pass in a Service object\n",
      "  driver = webdriver.Chrome(ChromeDriverManager().install(), options = opciones)\n",
      "<ipython-input-61-7422c30b32af>:11: DeprecationWarning: find_element_by_* commands are deprecated. Please use find_element() instead\n",
      "  driver.find_element_by_css_selector(f\"#banda_cookies > a:nth-child(2)\").click()\n",
      "<ipython-input-61-7422c30b32af>:13: DeprecationWarning: find_element_by_* commands are deprecated. Please use find_element() instead\n",
      "  driver.find_element_by_css_selector(f\"#_diputadomodule_legislatura\").click()\n",
      "<ipython-input-61-7422c30b32af>:15: DeprecationWarning: find_element_by_* commands are deprecated. Please use find_element() instead\n",
      "  driver.find_element_by_css_selector(f\"#_diputadomodule_legislatura > option:nth-child(8)\").click()\n",
      "<ipython-input-61-7422c30b32af>:18: DeprecationWarning: find_element_by_* commands are deprecated. Please use find_element() instead\n",
      "  driver.find_element_by_css_selector(f\"#_diputadomodule_searchButtonDiputadosForm > span\").click()\n",
      "<ipython-input-61-7422c30b32af>:21: DeprecationWarning: find_element_by_* commands are deprecated. Please use find_element() instead\n",
      "  driver.find_element_by_css_selector(f\"#_diputadomodule_paginationLinksDiputados > li:nth-child(7) > a\").click()\n",
      "<ipython-input-61-7422c30b32af>:23: DeprecationWarning: find_element_by_* commands are deprecated. Please use find_element() instead\n",
      "  driver.find_element_by_css_selector(f\"#_diputadomodule_paginationLinksDiputados > li:nth-child(7) > a\").click()\n",
      "<ipython-input-61-7422c30b32af>:32: DeprecationWarning: find_element_by_* commands are deprecated. Please use find_element() instead\n",
      "  driver.find_element_by_css_selector(f\"#_diputadomodule_contentPaginationDiputados > table > tbody > tr:nth-child({i}) > th > a\").click()\n",
      "<ipython-input-61-7422c30b32af>:33: DeprecationWarning: find_element_by_* commands are deprecated. Please use find_element() instead\n",
      "  nombre7.append(driver.find_element_by_css_selector(f\"#portlet_diputadomodule > div > div.portlet-content-container > div > div:nth-child(3) > div:nth-child(1) > div.col-sm-8.col-12.pl-0 > div\").text)\n",
      "<ipython-input-61-7422c30b32af>:34: DeprecationWarning: find_element_by_* commands are deprecated. Please use find_element() instead\n",
      "  nacimiento7.append(driver.find_element_by_css_selector(f\"#portlet_diputadomodule > div > div.portlet-content-container > div > div:nth-child(3) > div:nth-child(2) > div:nth-child(1) > div > div > p:nth-child(2)\").text)\n"
     ]
    }
   ],
   "source": [
    "# download the driver \n",
    "driver = webdriver.Chrome(ChromeDriverManager().install(), options = opciones)\n",
    "\n",
    "# set the url\n",
    "url2 = \"https://www.congreso.es/busqueda-de-diputados\"\n",
    "\n",
    "driver.get(url2)\n",
    " \n",
    "driver.implicitly_wait(1000) # is like a time.sleep but specific of selenium\n",
    "\n",
    "driver.find_element_by_css_selector(f\"#banda_cookies > a:nth-child(2)\").click()  \n",
    "driver.implicitly_wait(10000) # is like a time.sleep but specific of selenium\n",
    "driver.find_element_by_css_selector(f\"#_diputadomodule_legislatura\").click()\n",
    "driver.implicitly_wait(10000) # is like a time.sleep but specific of selenium\n",
    "driver.find_element_by_css_selector(f\"#_diputadomodule_legislatura > option:nth-child(8)\").click()\n",
    "\n",
    "driver.implicitly_wait(10000) # is like a time.sleep but specific of selenium\n",
    "driver.find_element_by_css_selector(f\"#_diputadomodule_searchButtonDiputadosForm > span\").click()\n",
    "\n",
    "driver.implicitly_wait(1000) # is like a time.sleep but specific of selenium\n",
    "driver.find_element_by_css_selector(f\"#_diputadomodule_paginationLinksDiputados > li:nth-child(7) > a\").click()  \n",
    "driver.implicitly_wait(1000) # is like a time.sleep but specific of selenium\n",
    "driver.find_element_by_css_selector(f\"#_diputadomodule_paginationLinksDiputados > li:nth-child(7) > a\").click() \n",
    "\n",
    "\n",
    "\n",
    "nombre7 = []\n",
    "nacimiento7 = []\n",
    "\n",
    "for i in range (1,21):\n",
    "    \n",
    "    driver.find_element_by_css_selector(f\"#_diputadomodule_contentPaginationDiputados > table > tbody > tr:nth-child({i}) > th > a\").click()  \n",
    "    nombre7.append(driver.find_element_by_css_selector(f\"#portlet_diputadomodule > div > div.portlet-content-container > div > div:nth-child(3) > div:nth-child(1) > div.col-sm-8.col-12.pl-0 > div\").text)\n",
    "    nacimiento7.append(driver.find_element_by_css_selector(f\"#portlet_diputadomodule > div > div.portlet-content-container > div > div:nth-child(3) > div:nth-child(2) > div:nth-child(1) > div > div > p:nth-child(2)\").text)\n",
    "    driver.execute_script(\"window.history.go(-1)\")"
   ]
  },
  {
   "cell_type": "code",
   "execution_count": 62,
   "id": "60536bcb",
   "metadata": {},
   "outputs": [
    {
     "data": {
      "text/plain": [
       "20"
      ]
     },
     "execution_count": 62,
     "metadata": {},
     "output_type": "execute_result"
    }
   ],
   "source": [
    "len(nombre7)"
   ]
  },
  {
   "cell_type": "code",
   "execution_count": 63,
   "id": "801ff369",
   "metadata": {},
   "outputs": [
    {
     "data": {
      "text/plain": [
       "['Nacido el 20/05/1950 en Almería',\n",
       " 'Nacida el 22/05/1951 en Burjassot (Valencia)',\n",
       " 'Nacida el 18/10/1966 en Betanzos (A Coruña)',\n",
       " 'Nacido el 28/05/1960 en Betanzos (A Coruña)',\n",
       " 'Nacida el 24/01/1973 en Manacor (Mallorca)',\n",
       " 'Nacido el 26/09/1935 en Granada',\n",
       " 'Nacido el 03/02/1954 en Utrera (Sevilla)',\n",
       " 'Nacida el 15/06/1949 en Valencia',\n",
       " 'Nacido el 20/07/1955 en El Ferrol (A Coruña)',\n",
       " 'Nacido el 21/09/1952 en Salamanca',\n",
       " 'Nacido el 06/04/1950 en Valladolid',\n",
       " 'Nacida el 04/08/1960 en Gijón',\n",
       " 'Nacido el 06/10/1946 en Cáceres',\n",
       " 'Nacido el 26/12/1943 en Sotrondio (San Martín del Rey Aurelio; Asturias).',\n",
       " 'Nacida el 29/01/1946 en Almería',\n",
       " 'Nacido el 12/09/1949 en Gijón (Asturias)',\n",
       " 'Nacida el 25/10/1965 en Alcoy (Alicante)',\n",
       " 'Nacido el 22/07/1958 en Monterrei (Ourense)',\n",
       " 'Nacido el 03/04/1944 en Morales de Rey (Zamora)',\n",
       " 'Nacido el 25/01/1939 en Calella (Barcelona)']"
      ]
     },
     "execution_count": 63,
     "metadata": {},
     "output_type": "execute_result"
    }
   ],
   "source": [
    "nacimiento7"
   ]
  },
  {
   "cell_type": "code",
   "execution_count": 64,
   "id": "1aefa4f8",
   "metadata": {},
   "outputs": [
    {
     "name": "stderr",
     "output_type": "stream",
     "text": [
      "\n",
      "\n",
      "====== WebDriver manager ======\n",
      "Current google-chrome version is 96.0.4664\n",
      "Get LATEST chromedriver version for 96.0.4664 google-chrome\n",
      "Driver [/Users/macniacos/.wdm/drivers/chromedriver/mac64/96.0.4664.45/chromedriver] found in cache\n",
      "<ipython-input-64-3c1ee47052d3>:2: DeprecationWarning: executable_path has been deprecated, please pass in a Service object\n",
      "  driver = webdriver.Chrome(ChromeDriverManager().install(), options = opciones)\n",
      "<ipython-input-64-3c1ee47052d3>:11: DeprecationWarning: find_element_by_* commands are deprecated. Please use find_element() instead\n",
      "  driver.find_element_by_css_selector(f\"#banda_cookies > a:nth-child(2)\").click()\n",
      "<ipython-input-64-3c1ee47052d3>:13: DeprecationWarning: find_element_by_* commands are deprecated. Please use find_element() instead\n",
      "  driver.find_element_by_css_selector(f\"#_diputadomodule_legislatura\").click()\n",
      "<ipython-input-64-3c1ee47052d3>:15: DeprecationWarning: find_element_by_* commands are deprecated. Please use find_element() instead\n",
      "  driver.find_element_by_css_selector(f\"#_diputadomodule_legislatura > option:nth-child(8)\").click()\n",
      "<ipython-input-64-3c1ee47052d3>:18: DeprecationWarning: find_element_by_* commands are deprecated. Please use find_element() instead\n",
      "  driver.find_element_by_css_selector(f\"#_diputadomodule_searchButtonDiputadosForm > span\").click()\n",
      "<ipython-input-64-3c1ee47052d3>:20: DeprecationWarning: find_element_by_* commands are deprecated. Please use find_element() instead\n",
      "  driver.find_element_by_css_selector(f\"#_diputadomodule_paginationLinksDiputados > li:nth-child(7) > a\").click()\n",
      "<ipython-input-64-3c1ee47052d3>:22: DeprecationWarning: find_element_by_* commands are deprecated. Please use find_element() instead\n",
      "  driver.find_element_by_css_selector(f\"#_diputadomodule_paginationLinksDiputados > li:nth-child(7) > a\").click()\n",
      "<ipython-input-64-3c1ee47052d3>:24: DeprecationWarning: find_element_by_* commands are deprecated. Please use find_element() instead\n",
      "  driver.find_element_by_css_selector(f\"#_diputadomodule_paginationLinksDiputados > li:nth-child(6) > a\").click()\n",
      "<ipython-input-64-3c1ee47052d3>:31: DeprecationWarning: find_element_by_* commands are deprecated. Please use find_element() instead\n",
      "  driver.find_element_by_css_selector(f\"#_diputadomodule_contentPaginationDiputados > table > tbody > tr:nth-child({i}) > th > a\").click()\n",
      "<ipython-input-64-3c1ee47052d3>:32: DeprecationWarning: find_element_by_* commands are deprecated. Please use find_element() instead\n",
      "  nombre8.append(driver.find_element_by_css_selector(f\"#portlet_diputadomodule > div > div.portlet-content-container > div > div:nth-child(3) > div:nth-child(1) > div.col-sm-8.col-12.pl-0 > div\").text)\n",
      "<ipython-input-64-3c1ee47052d3>:33: DeprecationWarning: find_element_by_* commands are deprecated. Please use find_element() instead\n",
      "  nacimiento8.append(driver.find_element_by_css_selector(f\"#portlet_diputadomodule > div > div.portlet-content-container > div > div:nth-child(3) > div:nth-child(2) > div:nth-child(1) > div > div > p:nth-child(2)\").text)\n"
     ]
    }
   ],
   "source": [
    "# download the driver \n",
    "driver = webdriver.Chrome(ChromeDriverManager().install(), options = opciones)\n",
    "\n",
    "# set the url\n",
    "url2 = \"https://www.congreso.es/busqueda-de-diputados\"\n",
    "\n",
    "driver.get(url2)\n",
    " \n",
    "driver.implicitly_wait(1000) # is like a time.sleep but specific of selenium\n",
    "\n",
    "driver.find_element_by_css_selector(f\"#banda_cookies > a:nth-child(2)\").click()  \n",
    "driver.implicitly_wait(10000) # is like a time.sleep but specific of selenium\n",
    "driver.find_element_by_css_selector(f\"#_diputadomodule_legislatura\").click()\n",
    "driver.implicitly_wait(10000) # is like a time.sleep but specific of selenium\n",
    "driver.find_element_by_css_selector(f\"#_diputadomodule_legislatura > option:nth-child(8)\").click()\n",
    "\n",
    "driver.implicitly_wait(10000) # is like a time.sleep but specific of selenium\n",
    "driver.find_element_by_css_selector(f\"#_diputadomodule_searchButtonDiputadosForm > span\").click()\n",
    "\n",
    "driver.find_element_by_css_selector(f\"#_diputadomodule_paginationLinksDiputados > li:nth-child(7) > a\").click()  \n",
    "driver.implicitly_wait(1000) # is like a time.sleep but specific of selenium\n",
    "driver.find_element_by_css_selector(f\"#_diputadomodule_paginationLinksDiputados > li:nth-child(7) > a\").click() \n",
    "driver.implicitly_wait(2000) # is like a time.sleep but specific of selenium\n",
    "driver.find_element_by_css_selector(f\"#_diputadomodule_paginationLinksDiputados > li:nth-child(6) > a\").click() \n",
    "\n",
    "nombre8 = []\n",
    "nacimiento8 = []\n",
    "\n",
    "for i in range (1,21):\n",
    "    \n",
    "    driver.find_element_by_css_selector(f\"#_diputadomodule_contentPaginationDiputados > table > tbody > tr:nth-child({i}) > th > a\").click()  \n",
    "    nombre8.append(driver.find_element_by_css_selector(f\"#portlet_diputadomodule > div > div.portlet-content-container > div > div:nth-child(3) > div:nth-child(1) > div.col-sm-8.col-12.pl-0 > div\").text)\n",
    "    nacimiento8.append(driver.find_element_by_css_selector(f\"#portlet_diputadomodule > div > div.portlet-content-container > div > div:nth-child(3) > div:nth-child(2) > div:nth-child(1) > div > div > p:nth-child(2)\").text)\n",
    "    driver.execute_script(\"window.history.go(-1)\")"
   ]
  },
  {
   "cell_type": "code",
   "execution_count": 65,
   "id": "9500d519",
   "metadata": {},
   "outputs": [
    {
     "data": {
      "text/plain": [
       "20"
      ]
     },
     "execution_count": 65,
     "metadata": {},
     "output_type": "execute_result"
    }
   ],
   "source": [
    "len(nombre8)"
   ]
  },
  {
   "cell_type": "code",
   "execution_count": 66,
   "id": "88578f3e",
   "metadata": {},
   "outputs": [
    {
     "data": {
      "text/plain": [
       "['Nacido el 11/11/1942 en Valencia',\n",
       " 'Nacida el 02/12/1952 en Zaragoza',\n",
       " 'Nacido el 08/05/1942 en Madrid',\n",
       " 'Nacida el 13/12/1945 en Morelia (México)',\n",
       " 'Nacida el 16/12/1961 en León',\n",
       " 'Nacido el 05/07/1952 en Guadalajara',\n",
       " 'Nacido el 15/11/1959 en Jaén',\n",
       " 'Nacido el 30/10/1955 en Campaspero (Valladolid)',\n",
       " 'Nacida el 25/06/1946 en Vitoria (Alava)',\n",
       " 'Nacida el 07/10/1974 en Baracaldo (Vizcaya)',\n",
       " 'Nacida el 29/11/1938 en Manzanares (Ciudad Real)',\n",
       " 'Nacida el 16/05/1959 en Urda (Toledo)',\n",
       " 'Nacido el 23/09/1957 en Valencia',\n",
       " 'Nacida el 01/01/1964 en Madrid',\n",
       " 'Nacido el 07/03/1949 en Madrid',\n",
       " 'Nacido el 25/07/1943 en Madrid',\n",
       " 'Nacido el 30/11/1956 en Zarautz (Gipuzkoa)',\n",
       " 'Nacida el 03/12/1952 en Madrid',\n",
       " 'Nacido el 05/03/1942 en Sevilla',\n",
       " 'Nacido el 31/08/1960 en Madrid']"
      ]
     },
     "execution_count": 66,
     "metadata": {},
     "output_type": "execute_result"
    }
   ],
   "source": [
    "nacimiento8"
   ]
  },
  {
   "cell_type": "code",
   "execution_count": 67,
   "id": "0e5379ce",
   "metadata": {},
   "outputs": [
    {
     "name": "stderr",
     "output_type": "stream",
     "text": [
      "\n",
      "\n",
      "====== WebDriver manager ======\n",
      "Current google-chrome version is 96.0.4664\n",
      "Get LATEST chromedriver version for 96.0.4664 google-chrome\n",
      "Driver [/Users/macniacos/.wdm/drivers/chromedriver/mac64/96.0.4664.45/chromedriver] found in cache\n",
      "<ipython-input-67-b4b1c24e5198>:2: DeprecationWarning: executable_path has been deprecated, please pass in a Service object\n",
      "  driver = webdriver.Chrome(ChromeDriverManager().install(), options = opciones)\n",
      "<ipython-input-67-b4b1c24e5198>:11: DeprecationWarning: find_element_by_* commands are deprecated. Please use find_element() instead\n",
      "  driver.find_element_by_css_selector(f\"#banda_cookies > a:nth-child(2)\").click()\n",
      "<ipython-input-67-b4b1c24e5198>:13: DeprecationWarning: find_element_by_* commands are deprecated. Please use find_element() instead\n",
      "  driver.find_element_by_css_selector(f\"#_diputadomodule_legislatura\").click()\n",
      "<ipython-input-67-b4b1c24e5198>:15: DeprecationWarning: find_element_by_* commands are deprecated. Please use find_element() instead\n",
      "  driver.find_element_by_css_selector(f\"#_diputadomodule_legislatura > option:nth-child(8)\").click()\n",
      "<ipython-input-67-b4b1c24e5198>:18: DeprecationWarning: find_element_by_* commands are deprecated. Please use find_element() instead\n",
      "  driver.find_element_by_css_selector(f\"#_diputadomodule_searchButtonDiputadosForm > span\").click()\n",
      "<ipython-input-67-b4b1c24e5198>:21: DeprecationWarning: find_element_by_* commands are deprecated. Please use find_element() instead\n",
      "  driver.find_element_by_css_selector(f\"#_diputadomodule_paginationLinksDiputados > li:nth-child(7) > a\").click()\n",
      "<ipython-input-67-b4b1c24e5198>:23: DeprecationWarning: find_element_by_* commands are deprecated. Please use find_element() instead\n",
      "  driver.find_element_by_css_selector(f\"#_diputadomodule_paginationLinksDiputados > li:nth-child(7) > a\").click()\n",
      "<ipython-input-67-b4b1c24e5198>:25: DeprecationWarning: find_element_by_* commands are deprecated. Please use find_element() instead\n",
      "  driver.find_element_by_css_selector(f\"#_diputadomodule_paginationLinksDiputados > li:nth-child(7) > a\").click()\n",
      "<ipython-input-67-b4b1c24e5198>:32: DeprecationWarning: find_element_by_* commands are deprecated. Please use find_element() instead\n",
      "  driver.find_element_by_css_selector(f\"#_diputadomodule_contentPaginationDiputados > table > tbody > tr:nth-child({i}) > th > a\").click()\n",
      "<ipython-input-67-b4b1c24e5198>:33: DeprecationWarning: find_element_by_* commands are deprecated. Please use find_element() instead\n",
      "  nombre9.append(driver.find_element_by_css_selector(f\"#portlet_diputadomodule > div > div.portlet-content-container > div > div:nth-child(3) > div:nth-child(1) > div.col-sm-8.col-12.pl-0 > div\").text)\n",
      "<ipython-input-67-b4b1c24e5198>:34: DeprecationWarning: find_element_by_* commands are deprecated. Please use find_element() instead\n",
      "  nacimiento9.append(driver.find_element_by_css_selector(f\"#portlet_diputadomodule > div > div.portlet-content-container > div > div:nth-child(3) > div:nth-child(2) > div:nth-child(1) > div > div > p:nth-child(2)\").text)\n"
     ]
    }
   ],
   "source": [
    "# download the driver \n",
    "driver = webdriver.Chrome(ChromeDriverManager().install(), options = opciones)\n",
    "\n",
    "# set the url\n",
    "url2 = \"https://www.congreso.es/busqueda-de-diputados\"\n",
    "\n",
    "driver.get(url2)\n",
    " \n",
    "driver.implicitly_wait(1000) # is like a time.sleep but specific of selenium\n",
    "\n",
    "driver.find_element_by_css_selector(f\"#banda_cookies > a:nth-child(2)\").click()  \n",
    "driver.implicitly_wait(10000) # is like a time.sleep but specific of selenium\n",
    "driver.find_element_by_css_selector(f\"#_diputadomodule_legislatura\").click()\n",
    "driver.implicitly_wait(10000) # is like a time.sleep but specific of selenium\n",
    "driver.find_element_by_css_selector(f\"#_diputadomodule_legislatura > option:nth-child(8)\").click()\n",
    "\n",
    "driver.implicitly_wait(10000) # is like a time.sleep but specific of selenium\n",
    "driver.find_element_by_css_selector(f\"#_diputadomodule_searchButtonDiputadosForm > span\").click()\n",
    "\n",
    "driver.implicitly_wait(1000) # is like a time.sleep but specific of selenium\n",
    "driver.find_element_by_css_selector(f\"#_diputadomodule_paginationLinksDiputados > li:nth-child(7) > a\").click()  \n",
    "driver.implicitly_wait(1000) # is like a time.sleep but specific of selenium\n",
    "driver.find_element_by_css_selector(f\"#_diputadomodule_paginationLinksDiputados > li:nth-child(7) > a\").click() \n",
    "driver.implicitly_wait(2000) # is like a time.sleep but specific of selenium\n",
    "driver.find_element_by_css_selector(f\"#_diputadomodule_paginationLinksDiputados > li:nth-child(7) > a\").click() \n",
    "\n",
    "nombre9 = []\n",
    "nacimiento9 = []\n",
    "\n",
    "for i in range (1,21):\n",
    "    \n",
    "    driver.find_element_by_css_selector(f\"#_diputadomodule_contentPaginationDiputados > table > tbody > tr:nth-child({i}) > th > a\").click()  \n",
    "    nombre9.append(driver.find_element_by_css_selector(f\"#portlet_diputadomodule > div > div.portlet-content-container > div > div:nth-child(3) > div:nth-child(1) > div.col-sm-8.col-12.pl-0 > div\").text)\n",
    "    nacimiento9.append(driver.find_element_by_css_selector(f\"#portlet_diputadomodule > div > div.portlet-content-container > div > div:nth-child(3) > div:nth-child(2) > div:nth-child(1) > div > div > p:nth-child(2)\").text)\n",
    "    driver.execute_script(\"window.history.go(-1)\")"
   ]
  },
  {
   "cell_type": "code",
   "execution_count": 68,
   "id": "a0c3a6b5",
   "metadata": {},
   "outputs": [
    {
     "data": {
      "text/plain": [
       "20"
      ]
     },
     "execution_count": 68,
     "metadata": {},
     "output_type": "execute_result"
    }
   ],
   "source": [
    "len(nombre9)"
   ]
  },
  {
   "cell_type": "code",
   "execution_count": 69,
   "id": "672a2ce7",
   "metadata": {},
   "outputs": [
    {
     "data": {
      "text/plain": [
       "['Nacido el 24/04/1957 en Elche (Alicante)',\n",
       " 'Nacido el 11/02/1954 en Pórtugos (Granada)',\n",
       " 'Nacida el 24/02/1957 en Vioño de Piélagos (Cantabria)',\n",
       " 'Nacida el 07/05/1968 en Olite (Navarra)',\n",
       " 'Nacido el 20/07/1951 en Vitoria (Álava)',\n",
       " 'Nacida el 18/05/1967 en Villa Cisneros (Sahara)',\n",
       " 'Nacido el 27/01/1945 en Guadalajara',\n",
       " 'Nacido el 24/11/1944 en Tàrrega (Lleida)',\n",
       " 'Nacido el 07/06/1946 en Madrid',\n",
       " 'Nacido el 18/05/1964 en Barcelona',\n",
       " 'Nacida el 03/06/1969 en Zaragoza',\n",
       " 'Nacida el 09/09/1946 en Santa María de Guía (Las Palmas de Gran Canaria)',\n",
       " 'Nacido el 31/05/1940 en Sevilla',\n",
       " 'Nacido el 01/02/1935 en Madrid',\n",
       " 'Nacido el 12/01/1950 en Cádiz',\n",
       " 'Nacido el 21/08/1966 en Mollina (Málaga)',\n",
       " 'Nacido el 03/09/1947 en Vigo (Pontevedra)',\n",
       " 'Nacido el 14/05/1946 en Santa Cruz de la Palma',\n",
       " 'Nacido el 13/11/1961 en Guadalajara',\n",
       " 'Nacida el 20/03/1948 en Mestanza (Ciudad Real)']"
      ]
     },
     "execution_count": 69,
     "metadata": {},
     "output_type": "execute_result"
    }
   ],
   "source": [
    "nacimiento9"
   ]
  },
  {
   "cell_type": "code",
   "execution_count": 76,
   "id": "8166a592",
   "metadata": {},
   "outputs": [
    {
     "name": "stderr",
     "output_type": "stream",
     "text": [
      "\n",
      "\n",
      "====== WebDriver manager ======\n",
      "Current google-chrome version is 96.0.4664\n",
      "Get LATEST chromedriver version for 96.0.4664 google-chrome\n",
      "Driver [/Users/macniacos/.wdm/drivers/chromedriver/mac64/96.0.4664.45/chromedriver] found in cache\n",
      "<ipython-input-76-37df4e973c91>:2: DeprecationWarning: executable_path has been deprecated, please pass in a Service object\n",
      "  driver = webdriver.Chrome(ChromeDriverManager().install(), options = opciones)\n",
      "<ipython-input-76-37df4e973c91>:11: DeprecationWarning: find_element_by_* commands are deprecated. Please use find_element() instead\n",
      "  driver.find_element_by_css_selector(f\"#banda_cookies > a:nth-child(2)\").click()\n",
      "<ipython-input-76-37df4e973c91>:13: DeprecationWarning: find_element_by_* commands are deprecated. Please use find_element() instead\n",
      "  driver.find_element_by_css_selector(f\"#_diputadomodule_legislatura\").click()\n",
      "<ipython-input-76-37df4e973c91>:15: DeprecationWarning: find_element_by_* commands are deprecated. Please use find_element() instead\n",
      "  driver.find_element_by_css_selector(f\"#_diputadomodule_legislatura > option:nth-child(8)\").click()\n",
      "<ipython-input-76-37df4e973c91>:18: DeprecationWarning: find_element_by_* commands are deprecated. Please use find_element() instead\n",
      "  driver.find_element_by_css_selector(f\"#_diputadomodule_searchButtonDiputadosForm > span\").click()\n",
      "<ipython-input-76-37df4e973c91>:20: DeprecationWarning: find_element_by_* commands are deprecated. Please use find_element() instead\n",
      "  driver.find_element_by_css_selector(f\"#_diputadomodule_paginationLinksDiputados > li:nth-child(7) > a\").click()\n",
      "<ipython-input-76-37df4e973c91>:22: DeprecationWarning: find_element_by_* commands are deprecated. Please use find_element() instead\n",
      "  driver.find_element_by_css_selector(f\"#_diputadomodule_paginationLinksDiputados > li:nth-child(7) > a\").click()\n",
      "<ipython-input-76-37df4e973c91>:24: DeprecationWarning: find_element_by_* commands are deprecated. Please use find_element() instead\n",
      "  driver.find_element_by_css_selector(f\"#_diputadomodule_paginationLinksDiputados > li:nth-child(7) > a\").click()\n",
      "<ipython-input-76-37df4e973c91>:26: DeprecationWarning: find_element_by_* commands are deprecated. Please use find_element() instead\n",
      "  driver.find_element_by_css_selector(f\"#_diputadomodule_paginationLinksDiputados > li:nth-child(6) > a\").click()\n",
      "<ipython-input-76-37df4e973c91>:33: DeprecationWarning: find_element_by_* commands are deprecated. Please use find_element() instead\n",
      "  driver.find_element_by_css_selector(f\"#_diputadomodule_contentPaginationDiputados > table > tbody > tr:nth-child({i}) > th > a\").click()\n",
      "<ipython-input-76-37df4e973c91>:34: DeprecationWarning: find_element_by_* commands are deprecated. Please use find_element() instead\n",
      "  nombre10.append(driver.find_element_by_css_selector(f\"#portlet_diputadomodule > div > div.portlet-content-container > div > div:nth-child(3) > div:nth-child(1) > div.col-sm-8.col-12.pl-0 > div\").text)\n",
      "<ipython-input-76-37df4e973c91>:35: DeprecationWarning: find_element_by_* commands are deprecated. Please use find_element() instead\n",
      "  nacimiento10.append(driver.find_element_by_css_selector(f\"#portlet_diputadomodule > div > div.portlet-content-container > div > div:nth-child(3) > div:nth-child(2) > div:nth-child(1) > div > div > p:nth-child(2)\").text)\n"
     ]
    }
   ],
   "source": [
    "# download the driver \n",
    "driver = webdriver.Chrome(ChromeDriverManager().install(), options = opciones)\n",
    "\n",
    "# set the url\n",
    "url2 = \"https://www.congreso.es/busqueda-de-diputados\"\n",
    "\n",
    "driver.get(url2)\n",
    " \n",
    "driver.implicitly_wait(1000) # is like a time.sleep but specific of selenium\n",
    "\n",
    "driver.find_element_by_css_selector(f\"#banda_cookies > a:nth-child(2)\").click()  \n",
    "driver.implicitly_wait(10000) # is like a time.sleep but specific of selenium\n",
    "driver.find_element_by_css_selector(f\"#_diputadomodule_legislatura\").click()\n",
    "driver.implicitly_wait(10000) # is like a time.sleep but specific of selenium\n",
    "driver.find_element_by_css_selector(f\"#_diputadomodule_legislatura > option:nth-child(8)\").click()\n",
    "\n",
    "driver.implicitly_wait(10000) # is like a time.sleep but specific of selenium\n",
    "driver.find_element_by_css_selector(f\"#_diputadomodule_searchButtonDiputadosForm > span\").click()\n",
    "\n",
    "driver.find_element_by_css_selector(f\"#_diputadomodule_paginationLinksDiputados > li:nth-child(7) > a\").click()  \n",
    "driver.implicitly_wait(1000) # is like a time.sleep but specific of selenium\n",
    "driver.find_element_by_css_selector(f\"#_diputadomodule_paginationLinksDiputados > li:nth-child(7) > a\").click() \n",
    "driver.implicitly_wait(2000) # is like a time.sleep but specific of selenium\n",
    "driver.find_element_by_css_selector(f\"#_diputadomodule_paginationLinksDiputados > li:nth-child(7) > a\").click() \n",
    "driver.implicitly_wait(2000) # is like a time.sleep but specific of selenium\n",
    "driver.find_element_by_css_selector(f\"#_diputadomodule_paginationLinksDiputados > li:nth-child(6) > a\").click()\n",
    "\n",
    "nombre10 = []\n",
    "nacimiento10 = []\n",
    "\n",
    "for i in range (1,21):\n",
    "    \n",
    "    driver.find_element_by_css_selector(f\"#_diputadomodule_contentPaginationDiputados > table > tbody > tr:nth-child({i}) > th > a\").click()  \n",
    "    nombre10.append(driver.find_element_by_css_selector(f\"#portlet_diputadomodule > div > div.portlet-content-container > div > div:nth-child(3) > div:nth-child(1) > div.col-sm-8.col-12.pl-0 > div\").text)\n",
    "    nacimiento10.append(driver.find_element_by_css_selector(f\"#portlet_diputadomodule > div > div.portlet-content-container > div > div:nth-child(3) > div:nth-child(2) > div:nth-child(1) > div > div > p:nth-child(2)\").text)\n",
    "    driver.execute_script(\"window.history.go(-1)\")"
   ]
  },
  {
   "cell_type": "code",
   "execution_count": 77,
   "id": "0511f8fb",
   "metadata": {},
   "outputs": [
    {
     "data": {
      "text/plain": [
       "20"
      ]
     },
     "execution_count": 77,
     "metadata": {},
     "output_type": "execute_result"
    }
   ],
   "source": [
    "len(nombre10)"
   ]
  },
  {
   "cell_type": "code",
   "execution_count": 78,
   "id": "bdbee6db",
   "metadata": {},
   "outputs": [
    {
     "data": {
      "text/plain": [
       "['Nacido el 12/10/1969 en Madrid',\n",
       " 'Nacido el 12/08/1950 en Madrid',\n",
       " 'Nacido el 26/04/1969 en Peñaranda de Bracamonte (Salamanca)',\n",
       " 'Nacido el 07/11/1945 en Cihuri (La Rioja)',\n",
       " 'Nacido el 20/01/1958 en Palencia',\n",
       " \"Nacido el 26/11/1963 en L'Arboç (Tarragona)\",\n",
       " 'Nacido el 01/11/1964',\n",
       " 'Nacido el 01/09/1948 en San Sebastián',\n",
       " 'Nacido el 29/05/1946 en Valsequillo de Gran Canaria (Las Palmas)',\n",
       " \"Nacido el 23/04/1967 en L'Escala (Girona)\",\n",
       " 'Nacido el 27/06/1939 en Valencia',\n",
       " 'Nacida el 09/04/1952 en Guardamar del Segura (Alicante)',\n",
       " 'Nacida el 28/09/1958 en Las Palmas de Gran Canaria',\n",
       " 'Nacido el 10/03/1935 en Zaragoza',\n",
       " 'Nacido el 03/02/1959 en Logroño',\n",
       " 'Nacido el 27/09/1948 en Teruel',\n",
       " 'Nacido el 01/09/1948 en San Sebastián',\n",
       " 'Nacida el 13/12/1944 en Girona',\n",
       " 'Nacida el 22/09/1962 en Irún (Guipúzcoa)',\n",
       " 'Nacido el 05/05/1941 en Villaescusa (Cantabria)']"
      ]
     },
     "execution_count": 78,
     "metadata": {},
     "output_type": "execute_result"
    }
   ],
   "source": [
    "nacimiento10"
   ]
  },
  {
   "cell_type": "code",
   "execution_count": null,
   "id": "3d5510fc",
   "metadata": {},
   "outputs": [],
   "source": []
  },
  {
   "cell_type": "code",
   "execution_count": 79,
   "id": "2a5b9fd7",
   "metadata": {},
   "outputs": [
    {
     "name": "stderr",
     "output_type": "stream",
     "text": [
      "\n",
      "\n",
      "====== WebDriver manager ======\n",
      "Current google-chrome version is 96.0.4664\n",
      "Get LATEST chromedriver version for 96.0.4664 google-chrome\n",
      "Driver [/Users/macniacos/.wdm/drivers/chromedriver/mac64/96.0.4664.45/chromedriver] found in cache\n",
      "<ipython-input-79-2a80dab23e5c>:2: DeprecationWarning: executable_path has been deprecated, please pass in a Service object\n",
      "  driver = webdriver.Chrome(ChromeDriverManager().install(), options = opciones)\n",
      "<ipython-input-79-2a80dab23e5c>:11: DeprecationWarning: find_element_by_* commands are deprecated. Please use find_element() instead\n",
      "  driver.find_element_by_css_selector(f\"#banda_cookies > a:nth-child(2)\").click()\n",
      "<ipython-input-79-2a80dab23e5c>:13: DeprecationWarning: find_element_by_* commands are deprecated. Please use find_element() instead\n",
      "  driver.find_element_by_css_selector(f\"#_diputadomodule_legislatura\").click()\n",
      "<ipython-input-79-2a80dab23e5c>:15: DeprecationWarning: find_element_by_* commands are deprecated. Please use find_element() instead\n",
      "  driver.find_element_by_css_selector(f\"#_diputadomodule_legislatura > option:nth-child(8)\").click()\n",
      "<ipython-input-79-2a80dab23e5c>:18: DeprecationWarning: find_element_by_* commands are deprecated. Please use find_element() instead\n",
      "  driver.find_element_by_css_selector(f\"#_diputadomodule_searchButtonDiputadosForm > span\").click()\n",
      "<ipython-input-79-2a80dab23e5c>:21: DeprecationWarning: find_element_by_* commands are deprecated. Please use find_element() instead\n",
      "  driver.find_element_by_css_selector(f\"#_diputadomodule_paginationLinksDiputados > li:nth-child(7) > a\").click()\n",
      "<ipython-input-79-2a80dab23e5c>:23: DeprecationWarning: find_element_by_* commands are deprecated. Please use find_element() instead\n",
      "  driver.find_element_by_css_selector(f\"#_diputadomodule_paginationLinksDiputados > li:nth-child(7) > a\").click()\n",
      "<ipython-input-79-2a80dab23e5c>:25: DeprecationWarning: find_element_by_* commands are deprecated. Please use find_element() instead\n",
      "  driver.find_element_by_css_selector(f\"#_diputadomodule_paginationLinksDiputados > li:nth-child(7) > a\").click()\n",
      "<ipython-input-79-2a80dab23e5c>:27: DeprecationWarning: find_element_by_* commands are deprecated. Please use find_element() instead\n",
      "  driver.find_element_by_css_selector(f\"#_diputadomodule_paginationLinksDiputados > li:nth-child(7) > a\").click()\n",
      "<ipython-input-79-2a80dab23e5c>:34: DeprecationWarning: find_element_by_* commands are deprecated. Please use find_element() instead\n",
      "  driver.find_element_by_css_selector(f\"#_diputadomodule_contentPaginationDiputados > table > tbody > tr:nth-child({i}) > th > a\").click()\n",
      "<ipython-input-79-2a80dab23e5c>:35: DeprecationWarning: find_element_by_* commands are deprecated. Please use find_element() instead\n",
      "  nombre11.append(driver.find_element_by_css_selector(f\"#portlet_diputadomodule > div > div.portlet-content-container > div > div:nth-child(3) > div:nth-child(1) > div.col-sm-8.col-12.pl-0 > div\").text)\n",
      "<ipython-input-79-2a80dab23e5c>:36: DeprecationWarning: find_element_by_* commands are deprecated. Please use find_element() instead\n",
      "  nacimiento11.append(driver.find_element_by_css_selector(f\"#portlet_diputadomodule > div > div.portlet-content-container > div > div:nth-child(3) > div:nth-child(2) > div:nth-child(1) > div > div > p:nth-child(2)\").text)\n"
     ]
    }
   ],
   "source": [
    "# download the driver \n",
    "driver = webdriver.Chrome(ChromeDriverManager().install(), options = opciones)\n",
    "\n",
    "# set the url\n",
    "url2 = \"https://www.congreso.es/busqueda-de-diputados\"\n",
    "\n",
    "driver.get(url2)\n",
    " \n",
    "driver.implicitly_wait(1000) # is like a time.sleep but specific of selenium\n",
    "\n",
    "driver.find_element_by_css_selector(f\"#banda_cookies > a:nth-child(2)\").click()  \n",
    "driver.implicitly_wait(10000) # is like a time.sleep but specific of selenium\n",
    "driver.find_element_by_css_selector(f\"#_diputadomodule_legislatura\").click()\n",
    "driver.implicitly_wait(10000) # is like a time.sleep but specific of selenium\n",
    "driver.find_element_by_css_selector(f\"#_diputadomodule_legislatura > option:nth-child(8)\").click()\n",
    "\n",
    "driver.implicitly_wait(10000) # is like a time.sleep but specific of selenium\n",
    "driver.find_element_by_css_selector(f\"#_diputadomodule_searchButtonDiputadosForm > span\").click()\n",
    "\n",
    "driver.implicitly_wait(1000) # is like a time.sleep but specific of selenium\n",
    "driver.find_element_by_css_selector(f\"#_diputadomodule_paginationLinksDiputados > li:nth-child(7) > a\").click()  \n",
    "driver.implicitly_wait(1000) # is like a time.sleep but specific of selenium\n",
    "driver.find_element_by_css_selector(f\"#_diputadomodule_paginationLinksDiputados > li:nth-child(7) > a\").click() \n",
    "driver.implicitly_wait(2000) # is like a time.sleep but specific of selenium\n",
    "driver.find_element_by_css_selector(f\"#_diputadomodule_paginationLinksDiputados > li:nth-child(7) > a\").click() \n",
    "driver.implicitly_wait(2000) # is like a time.sleep but specific of selenium\n",
    "driver.find_element_by_css_selector(f\"#_diputadomodule_paginationLinksDiputados > li:nth-child(7) > a\").click()\n",
    "\n",
    "nombre11 = []\n",
    "nacimiento11 = []\n",
    "\n",
    "for i in range (1,21):\n",
    "    driver.implicitly_wait(2000) # is like a time.sleep but specific of selenium\n",
    "    driver.find_element_by_css_selector(f\"#_diputadomodule_contentPaginationDiputados > table > tbody > tr:nth-child({i}) > th > a\").click()  \n",
    "    nombre11.append(driver.find_element_by_css_selector(f\"#portlet_diputadomodule > div > div.portlet-content-container > div > div:nth-child(3) > div:nth-child(1) > div.col-sm-8.col-12.pl-0 > div\").text)\n",
    "    nacimiento11.append(driver.find_element_by_css_selector(f\"#portlet_diputadomodule > div > div.portlet-content-container > div > div:nth-child(3) > div:nth-child(2) > div:nth-child(1) > div > div > p:nth-child(2)\").text)\n",
    "    driver.execute_script(\"window.history.go(-1)\")"
   ]
  },
  {
   "cell_type": "code",
   "execution_count": 80,
   "id": "9afc50d4",
   "metadata": {},
   "outputs": [
    {
     "data": {
      "text/plain": [
       "20"
      ]
     },
     "execution_count": 80,
     "metadata": {},
     "output_type": "execute_result"
    }
   ],
   "source": [
    "len(nombre11)"
   ]
  },
  {
   "cell_type": "code",
   "execution_count": 82,
   "id": "1910cede",
   "metadata": {},
   "outputs": [
    {
     "data": {
      "text/plain": [
       "['Nacido el 27/09/1951 en Madrid',\n",
       " 'Nacido el 28/11/1957 en Logroño (La Rioja)',\n",
       " 'Nacido el 16/05/1943 en Lleida',\n",
       " 'Nacido el 10/06/1961 en Las Palmas de Gran Canaria',\n",
       " 'Nacido el 30/11/1950 en San Feliú de Guíxols (Girona)',\n",
       " 'Nacido el 08/09/1947 en Madrid',\n",
       " 'Nacida el 16/01/1960 en Granada',\n",
       " 'Nacida el 18/10/1953 en Mondoñedo (Lugo)',\n",
       " 'Nacido el 13/08/1950 en Badajoz',\n",
       " 'Nacido el 06/05/1952 en Salamanca',\n",
       " 'Nacido el 15/08/1959 en Santander',\n",
       " 'Nacido el 20/06/1952 en La Habana (Cuba)',\n",
       " 'Nacido el 08/08/1957 en Montilla (Córdoba)',\n",
       " 'Nacido el 11/03/1947 en Carrascosa del Campo (Cuenca)',\n",
       " 'Nacido el 05/11/1952 en Comarruga (Tarragona)',\n",
       " 'Nacido el 30/11/1941 en Almendralejo (Badajoz)',\n",
       " 'Nacido el 10/07/1944 en Sober (Lugo)',\n",
       " 'Nacido el 22/04/1950 en Sabadell (Barcelona)',\n",
       " 'Nacido el 16/02/1938 en Santa Cruz de Tenerife',\n",
       " 'Nacido el 21/10/1949 en Ciudad Real']"
      ]
     },
     "execution_count": 82,
     "metadata": {},
     "output_type": "execute_result"
    }
   ],
   "source": [
    "nacimiento11"
   ]
  },
  {
   "cell_type": "code",
   "execution_count": 83,
   "id": "a0d1497c",
   "metadata": {},
   "outputs": [
    {
     "name": "stderr",
     "output_type": "stream",
     "text": [
      "\n",
      "\n",
      "====== WebDriver manager ======\n",
      "Current google-chrome version is 96.0.4664\n",
      "Get LATEST chromedriver version for 96.0.4664 google-chrome\n",
      "Driver [/Users/macniacos/.wdm/drivers/chromedriver/mac64/96.0.4664.45/chromedriver] found in cache\n",
      "<ipython-input-83-f4a2da1a46db>:2: DeprecationWarning: executable_path has been deprecated, please pass in a Service object\n",
      "  driver = webdriver.Chrome(ChromeDriverManager().install(), options = opciones)\n",
      "<ipython-input-83-f4a2da1a46db>:11: DeprecationWarning: find_element_by_* commands are deprecated. Please use find_element() instead\n",
      "  driver.find_element_by_css_selector(f\"#banda_cookies > a:nth-child(2)\").click()\n",
      "<ipython-input-83-f4a2da1a46db>:13: DeprecationWarning: find_element_by_* commands are deprecated. Please use find_element() instead\n",
      "  driver.find_element_by_css_selector(f\"#_diputadomodule_legislatura\").click()\n",
      "<ipython-input-83-f4a2da1a46db>:15: DeprecationWarning: find_element_by_* commands are deprecated. Please use find_element() instead\n",
      "  driver.find_element_by_css_selector(f\"#_diputadomodule_legislatura > option:nth-child(8)\").click()\n",
      "<ipython-input-83-f4a2da1a46db>:18: DeprecationWarning: find_element_by_* commands are deprecated. Please use find_element() instead\n",
      "  driver.find_element_by_css_selector(f\"#_diputadomodule_searchButtonDiputadosForm > span\").click()\n",
      "<ipython-input-83-f4a2da1a46db>:20: DeprecationWarning: find_element_by_* commands are deprecated. Please use find_element() instead\n",
      "  driver.find_element_by_css_selector(f\"#_diputadomodule_paginationLinksDiputados > li:nth-child(7) > a\").click()\n",
      "<ipython-input-83-f4a2da1a46db>:22: DeprecationWarning: find_element_by_* commands are deprecated. Please use find_element() instead\n",
      "  driver.find_element_by_css_selector(f\"#_diputadomodule_paginationLinksDiputados > li:nth-child(7) > a\").click()\n",
      "<ipython-input-83-f4a2da1a46db>:24: DeprecationWarning: find_element_by_* commands are deprecated. Please use find_element() instead\n",
      "  driver.find_element_by_css_selector(f\"#_diputadomodule_paginationLinksDiputados > li:nth-child(7) > a\").click()\n",
      "<ipython-input-83-f4a2da1a46db>:26: DeprecationWarning: find_element_by_* commands are deprecated. Please use find_element() instead\n",
      "  driver.find_element_by_css_selector(f\"#_diputadomodule_paginationLinksDiputados > li:nth-child(7) > a\").click()\n",
      "<ipython-input-83-f4a2da1a46db>:28: DeprecationWarning: find_element_by_* commands are deprecated. Please use find_element() instead\n",
      "  driver.find_element_by_css_selector(f\"#_diputadomodule_paginationLinksDiputados > li:nth-child(6) > a\").click()\n",
      "<ipython-input-83-f4a2da1a46db>:35: DeprecationWarning: find_element_by_* commands are deprecated. Please use find_element() instead\n",
      "  driver.find_element_by_css_selector(f\"#_diputadomodule_contentPaginationDiputados > table > tbody > tr:nth-child({i}) > th > a\").click()\n",
      "<ipython-input-83-f4a2da1a46db>:36: DeprecationWarning: find_element_by_* commands are deprecated. Please use find_element() instead\n",
      "  nombre12.append(driver.find_element_by_css_selector(f\"#portlet_diputadomodule > div > div.portlet-content-container > div > div:nth-child(3) > div:nth-child(1) > div.col-sm-8.col-12.pl-0 > div\").text)\n",
      "<ipython-input-83-f4a2da1a46db>:37: DeprecationWarning: find_element_by_* commands are deprecated. Please use find_element() instead\n",
      "  nacimiento12.append(driver.find_element_by_css_selector(f\"#portlet_diputadomodule > div > div.portlet-content-container > div > div:nth-child(3) > div:nth-child(2) > div:nth-child(1) > div > div > p:nth-child(2)\").text)\n"
     ]
    }
   ],
   "source": [
    "# download the driver \n",
    "driver = webdriver.Chrome(ChromeDriverManager().install(), options = opciones)\n",
    "\n",
    "# set the url\n",
    "url2 = \"https://www.congreso.es/busqueda-de-diputados\"\n",
    "\n",
    "driver.get(url2)\n",
    " \n",
    "driver.implicitly_wait(1000) # is like a time.sleep but specific of selenium\n",
    "\n",
    "driver.find_element_by_css_selector(f\"#banda_cookies > a:nth-child(2)\").click()  \n",
    "driver.implicitly_wait(10000) # is like a time.sleep but specific of selenium\n",
    "driver.find_element_by_css_selector(f\"#_diputadomodule_legislatura\").click()\n",
    "driver.implicitly_wait(10000) # is like a time.sleep but specific of selenium\n",
    "driver.find_element_by_css_selector(f\"#_diputadomodule_legislatura > option:nth-child(8)\").click()\n",
    "\n",
    "driver.implicitly_wait(10000) # is like a time.sleep but specific of selenium\n",
    "driver.find_element_by_css_selector(f\"#_diputadomodule_searchButtonDiputadosForm > span\").click()\n",
    "\n",
    "driver.find_element_by_css_selector(f\"#_diputadomodule_paginationLinksDiputados > li:nth-child(7) > a\").click()  \n",
    "driver.implicitly_wait(1000) # is like a time.sleep but specific of selenium\n",
    "driver.find_element_by_css_selector(f\"#_diputadomodule_paginationLinksDiputados > li:nth-child(7) > a\").click() \n",
    "driver.implicitly_wait(2000) # is like a time.sleep but specific of selenium\n",
    "driver.find_element_by_css_selector(f\"#_diputadomodule_paginationLinksDiputados > li:nth-child(7) > a\").click() \n",
    "driver.implicitly_wait(2000) # is like a time.sleep but specific of selenium\n",
    "driver.find_element_by_css_selector(f\"#_diputadomodule_paginationLinksDiputados > li:nth-child(7) > a\").click()\n",
    "driver.implicitly_wait(2000) # is like a time.sleep but specific of selenium\n",
    "driver.find_element_by_css_selector(f\"#_diputadomodule_paginationLinksDiputados > li:nth-child(6) > a\").click()\n",
    "\n",
    "nombre12 = []\n",
    "nacimiento12 = []\n",
    "\n",
    "for i in range (1,21):\n",
    "    driver.implicitly_wait(2000) # is like a time.sleep but specific of selenium\n",
    "    driver.find_element_by_css_selector(f\"#_diputadomodule_contentPaginationDiputados > table > tbody > tr:nth-child({i}) > th > a\").click()  \n",
    "    nombre12.append(driver.find_element_by_css_selector(f\"#portlet_diputadomodule > div > div.portlet-content-container > div > div:nth-child(3) > div:nth-child(1) > div.col-sm-8.col-12.pl-0 > div\").text)\n",
    "    nacimiento12.append(driver.find_element_by_css_selector(f\"#portlet_diputadomodule > div > div.portlet-content-container > div > div:nth-child(3) > div:nth-child(2) > div:nth-child(1) > div > div > p:nth-child(2)\").text)\n",
    "    driver.execute_script(\"window.history.go(-1)\")"
   ]
  },
  {
   "cell_type": "code",
   "execution_count": 84,
   "id": "b80b7ad7",
   "metadata": {},
   "outputs": [
    {
     "data": {
      "text/plain": [
       "20"
      ]
     },
     "execution_count": 84,
     "metadata": {},
     "output_type": "execute_result"
    }
   ],
   "source": [
    "len(nombre12)"
   ]
  },
  {
   "cell_type": "code",
   "execution_count": 85,
   "id": "9df3b27c",
   "metadata": {},
   "outputs": [
    {
     "data": {
      "text/plain": [
       "['Nacido el 09/03/1953 en Burgos',\n",
       " 'Nacida el 10/01/1954 en Madrid',\n",
       " 'Nacida el 29/11/1944 en Samos (Lugo)',\n",
       " 'Nacido el 05/01/1945 en Huelva',\n",
       " 'Nacido el 08/05/1951 en Manresa (Barcelona)',\n",
       " 'Nacido el 29/04/1961 en Barcelona',\n",
       " 'Nacido el 04/07/1949 en Madrid',\n",
       " 'Nacido el 13/09/1954 en Palma de Mallorca',\n",
       " 'Nacida el 02/04/1947 en Valencia',\n",
       " 'Nacida el 12/06/1952 en Barcelona',\n",
       " 'Nacido el 04/12/1955 en Valencia',\n",
       " 'Nacida el 05/10/1971 en Valencia',\n",
       " 'Nacido el 14/04/1947 en San Cristobal de la Polantera (León)',\n",
       " 'Nacido el 28/01/1955 en Almajano (Soria)',\n",
       " 'Nacido el 28/09/1969 en Zamora',\n",
       " 'Nacido el 03/07/1948 en Infiesto (Asturias)',\n",
       " 'Nacido el 08/04/1951 en San Sebastián (Guipúzcoa)',\n",
       " 'Nacido el 11/01/1956 en Murcia',\n",
       " 'Nacida el 28/03/1942 en Valencia',\n",
       " 'Nacida el 27/12/1952 en Cartagena (Murcia)']"
      ]
     },
     "execution_count": 85,
     "metadata": {},
     "output_type": "execute_result"
    }
   ],
   "source": [
    "nacimiento12"
   ]
  },
  {
   "cell_type": "code",
   "execution_count": 86,
   "id": "de3b54df",
   "metadata": {},
   "outputs": [
    {
     "name": "stderr",
     "output_type": "stream",
     "text": [
      "\n",
      "\n",
      "====== WebDriver manager ======\n",
      "Current google-chrome version is 96.0.4664\n",
      "Get LATEST chromedriver version for 96.0.4664 google-chrome\n",
      "Driver [/Users/macniacos/.wdm/drivers/chromedriver/mac64/96.0.4664.45/chromedriver] found in cache\n",
      "<ipython-input-86-2349e34c9df5>:2: DeprecationWarning: executable_path has been deprecated, please pass in a Service object\n",
      "  driver = webdriver.Chrome(ChromeDriverManager().install(), options = opciones)\n",
      "<ipython-input-86-2349e34c9df5>:11: DeprecationWarning: find_element_by_* commands are deprecated. Please use find_element() instead\n",
      "  driver.find_element_by_css_selector(f\"#banda_cookies > a:nth-child(2)\").click()\n",
      "<ipython-input-86-2349e34c9df5>:13: DeprecationWarning: find_element_by_* commands are deprecated. Please use find_element() instead\n",
      "  driver.find_element_by_css_selector(f\"#_diputadomodule_legislatura\").click()\n",
      "<ipython-input-86-2349e34c9df5>:15: DeprecationWarning: find_element_by_* commands are deprecated. Please use find_element() instead\n",
      "  driver.find_element_by_css_selector(f\"#_diputadomodule_legislatura > option:nth-child(8)\").click()\n",
      "<ipython-input-86-2349e34c9df5>:18: DeprecationWarning: find_element_by_* commands are deprecated. Please use find_element() instead\n",
      "  driver.find_element_by_css_selector(f\"#_diputadomodule_searchButtonDiputadosForm > span\").click()\n",
      "<ipython-input-86-2349e34c9df5>:21: DeprecationWarning: find_element_by_* commands are deprecated. Please use find_element() instead\n",
      "  driver.find_element_by_css_selector(f\"#_diputadomodule_paginationLinksDiputados > li:nth-child(7) > a\").click()\n",
      "<ipython-input-86-2349e34c9df5>:23: DeprecationWarning: find_element_by_* commands are deprecated. Please use find_element() instead\n",
      "  driver.find_element_by_css_selector(f\"#_diputadomodule_paginationLinksDiputados > li:nth-child(7) > a\").click()\n",
      "<ipython-input-86-2349e34c9df5>:25: DeprecationWarning: find_element_by_* commands are deprecated. Please use find_element() instead\n",
      "  driver.find_element_by_css_selector(f\"#_diputadomodule_paginationLinksDiputados > li:nth-child(7) > a\").click()\n",
      "<ipython-input-86-2349e34c9df5>:27: DeprecationWarning: find_element_by_* commands are deprecated. Please use find_element() instead\n",
      "  driver.find_element_by_css_selector(f\"#_diputadomodule_paginationLinksDiputados > li:nth-child(7) > a\").click()\n",
      "<ipython-input-86-2349e34c9df5>:29: DeprecationWarning: find_element_by_* commands are deprecated. Please use find_element() instead\n",
      "  driver.find_element_by_css_selector(f\"#_diputadomodule_paginationLinksDiputados > li:nth-child(7) > a\").click()\n",
      "<ipython-input-86-2349e34c9df5>:40: DeprecationWarning: find_element_by_* commands are deprecated. Please use find_element() instead\n",
      "  driver.find_element_by_css_selector(f\"#_diputadomodule_contentPaginationDiputados > table > tbody > tr:nth-child({i}) > th > a\").click()\n",
      "<ipython-input-86-2349e34c9df5>:41: DeprecationWarning: find_element_by_* commands are deprecated. Please use find_element() instead\n",
      "  nombre13.append(driver.find_element_by_css_selector(f\"#portlet_diputadomodule > div > div.portlet-content-container > div > div:nth-child(3) > div:nth-child(1) > div.col-sm-8.col-12.pl-0 > div\").text)\n",
      "<ipython-input-86-2349e34c9df5>:42: DeprecationWarning: find_element_by_* commands are deprecated. Please use find_element() instead\n",
      "  nacimiento13.append(driver.find_element_by_css_selector(f\"#portlet_diputadomodule > div > div.portlet-content-container > div > div:nth-child(3) > div:nth-child(2) > div:nth-child(1) > div > div > p:nth-child(2)\").text)\n"
     ]
    }
   ],
   "source": [
    "# download the driver \n",
    "driver = webdriver.Chrome(ChromeDriverManager().install(), options = opciones)\n",
    "\n",
    "# set the url\n",
    "url2 = \"https://www.congreso.es/busqueda-de-diputados\"\n",
    "\n",
    "driver.get(url2)\n",
    " \n",
    "driver.implicitly_wait(1000) # is like a time.sleep but specific of selenium\n",
    "\n",
    "driver.find_element_by_css_selector(f\"#banda_cookies > a:nth-child(2)\").click()  \n",
    "driver.implicitly_wait(10000) # is like a time.sleep but specific of selenium\n",
    "driver.find_element_by_css_selector(f\"#_diputadomodule_legislatura\").click()\n",
    "driver.implicitly_wait(10000) # is like a time.sleep but specific of selenium\n",
    "driver.find_element_by_css_selector(f\"#_diputadomodule_legislatura > option:nth-child(8)\").click()\n",
    "\n",
    "driver.implicitly_wait(10000) # is like a time.sleep but specific of selenium\n",
    "driver.find_element_by_css_selector(f\"#_diputadomodule_searchButtonDiputadosForm > span\").click()\n",
    "\n",
    "driver.implicitly_wait(1000) # is like a time.sleep but specific of selenium\n",
    "driver.find_element_by_css_selector(f\"#_diputadomodule_paginationLinksDiputados > li:nth-child(7) > a\").click()  \n",
    "driver.implicitly_wait(1000) # is like a time.sleep but specific of selenium\n",
    "driver.find_element_by_css_selector(f\"#_diputadomodule_paginationLinksDiputados > li:nth-child(7) > a\").click() \n",
    "driver.implicitly_wait(2000) # is like a time.sleep but specific of selenium\n",
    "driver.find_element_by_css_selector(f\"#_diputadomodule_paginationLinksDiputados > li:nth-child(7) > a\").click() \n",
    "driver.implicitly_wait(2000) # is like a time.sleep but specific of selenium\n",
    "driver.find_element_by_css_selector(f\"#_diputadomodule_paginationLinksDiputados > li:nth-child(7) > a\").click()\n",
    "driver.implicitly_wait(2000) # is like a time.sleep but specific of selenium\n",
    "driver.find_element_by_css_selector(f\"#_diputadomodule_paginationLinksDiputados > li:nth-child(7) > a\").click()\n",
    "\n",
    "\n",
    "\n",
    "\n",
    "\n",
    "nombre13 = []\n",
    "nacimiento13 = []\n",
    "\n",
    "for i in range (1,21):\n",
    "    driver.implicitly_wait(5000) # is like a time.sleep but specific of selenium\n",
    "    driver.find_element_by_css_selector(f\"#_diputadomodule_contentPaginationDiputados > table > tbody > tr:nth-child({i}) > th > a\").click()  \n",
    "    nombre13.append(driver.find_element_by_css_selector(f\"#portlet_diputadomodule > div > div.portlet-content-container > div > div:nth-child(3) > div:nth-child(1) > div.col-sm-8.col-12.pl-0 > div\").text)\n",
    "    nacimiento13.append(driver.find_element_by_css_selector(f\"#portlet_diputadomodule > div > div.portlet-content-container > div > div:nth-child(3) > div:nth-child(2) > div:nth-child(1) > div > div > p:nth-child(2)\").text)\n",
    "    driver.execute_script(\"window.history.go(-1)\")"
   ]
  },
  {
   "cell_type": "code",
   "execution_count": 87,
   "id": "cf3ffa6b",
   "metadata": {},
   "outputs": [
    {
     "data": {
      "text/plain": [
       "20"
      ]
     },
     "execution_count": 87,
     "metadata": {},
     "output_type": "execute_result"
    }
   ],
   "source": [
    "len(nombre13)"
   ]
  },
  {
   "cell_type": "code",
   "execution_count": 88,
   "id": "8f7e710f",
   "metadata": {},
   "outputs": [
    {
     "data": {
      "text/plain": [
       "['Nacida el 27/02/1969 en Badajoz',\n",
       " 'Nacido el 24/12/1959 en Almería',\n",
       " 'Nacido el 22/06/1947 en Navalmoral de la Mata (Cáceres)',\n",
       " 'Nacida el 24/09/1959 en Madrid',\n",
       " 'Nacido el 29/04/1961 en Madrid',\n",
       " 'Nacido el 04/11/1941 en Galdar (Las Palmas de Gran Canaria)',\n",
       " 'Nacido el 12/07/1951 en San Sebastián (Guipúzcoa)',\n",
       " 'Nacido el 15/09/1940 en Almoharín (Cáceres)',\n",
       " 'Nacida el 22/02/1950 en Mundaka (Vizcaya)',\n",
       " 'Nacido el 06/02/1954 en Montalbilla (Segovia)',\n",
       " 'Nacido el 08/01/1959 en Córdoba',\n",
       " 'Nacido el 04/05/1940 en Trigueros del Valle (Valladolid)',\n",
       " 'Nacido el 04/11/1941 en Galdar (Las Palmas de Gran Canaria)',\n",
       " 'Nacido el 30/11/1947 en Torrelodones (Madrid)',\n",
       " 'Nacida el 18/11/1962 en Barcelona',\n",
       " 'Nacida el 14/05/1961 en Reus (Tarragona)',\n",
       " 'Nacida el 14/07/1969 en Miranda de Ebro (Burgos)',\n",
       " 'Nacida el 05/02/1970 en Puerto del Rosario (Las Palmas)',\n",
       " 'Nacido el 28/07/1950 en Jaén',\n",
       " 'Nacida el 14/12/1948 en Lleida']"
      ]
     },
     "execution_count": 88,
     "metadata": {},
     "output_type": "execute_result"
    }
   ],
   "source": [
    "nacimiento13"
   ]
  },
  {
   "cell_type": "code",
   "execution_count": 89,
   "id": "80c3c99e",
   "metadata": {},
   "outputs": [
    {
     "name": "stderr",
     "output_type": "stream",
     "text": [
      "\n",
      "\n",
      "====== WebDriver manager ======\n",
      "Current google-chrome version is 96.0.4664\n",
      "Get LATEST chromedriver version for 96.0.4664 google-chrome\n",
      "Driver [/Users/macniacos/.wdm/drivers/chromedriver/mac64/96.0.4664.45/chromedriver] found in cache\n",
      "<ipython-input-89-a36ac383f729>:2: DeprecationWarning: executable_path has been deprecated, please pass in a Service object\n",
      "  driver = webdriver.Chrome(ChromeDriverManager().install(), options = opciones)\n",
      "<ipython-input-89-a36ac383f729>:11: DeprecationWarning: find_element_by_* commands are deprecated. Please use find_element() instead\n",
      "  driver.find_element_by_css_selector(f\"#banda_cookies > a:nth-child(2)\").click()\n",
      "<ipython-input-89-a36ac383f729>:13: DeprecationWarning: find_element_by_* commands are deprecated. Please use find_element() instead\n",
      "  driver.find_element_by_css_selector(f\"#_diputadomodule_legislatura\").click()\n",
      "<ipython-input-89-a36ac383f729>:15: DeprecationWarning: find_element_by_* commands are deprecated. Please use find_element() instead\n",
      "  driver.find_element_by_css_selector(f\"#_diputadomodule_legislatura > option:nth-child(8)\").click()\n",
      "<ipython-input-89-a36ac383f729>:18: DeprecationWarning: find_element_by_* commands are deprecated. Please use find_element() instead\n",
      "  driver.find_element_by_css_selector(f\"#_diputadomodule_searchButtonDiputadosForm > span\").click()\n",
      "<ipython-input-89-a36ac383f729>:23: DeprecationWarning: find_element_by_* commands are deprecated. Please use find_element() instead\n",
      "  driver.find_element_by_css_selector(f\"#_diputadomodule_paginationLinksDiputados > li:nth-child(7) > a\").click()\n",
      "<ipython-input-89-a36ac383f729>:25: DeprecationWarning: find_element_by_* commands are deprecated. Please use find_element() instead\n",
      "  driver.find_element_by_css_selector(f\"#_diputadomodule_paginationLinksDiputados > li:nth-child(7) > a\").click()\n",
      "<ipython-input-89-a36ac383f729>:27: DeprecationWarning: find_element_by_* commands are deprecated. Please use find_element() instead\n",
      "  driver.find_element_by_css_selector(f\"#_diputadomodule_paginationLinksDiputados > li:nth-child(7) > a\").click()\n",
      "<ipython-input-89-a36ac383f729>:29: DeprecationWarning: find_element_by_* commands are deprecated. Please use find_element() instead\n",
      "  driver.find_element_by_css_selector(f\"#_diputadomodule_paginationLinksDiputados > li:nth-child(7) > a\").click()\n",
      "<ipython-input-89-a36ac383f729>:31: DeprecationWarning: find_element_by_* commands are deprecated. Please use find_element() instead\n",
      "  driver.find_element_by_css_selector(f\"#_diputadomodule_paginationLinksDiputados > li:nth-child(7) > a\").click()\n",
      "<ipython-input-89-a36ac383f729>:33: DeprecationWarning: find_element_by_* commands are deprecated. Please use find_element() instead\n",
      "  driver.find_element_by_css_selector(f\"#_diputadomodule_paginationLinksDiputados > li:nth-child(6) > a\").click()\n",
      "<ipython-input-89-a36ac383f729>:40: DeprecationWarning: find_element_by_* commands are deprecated. Please use find_element() instead\n",
      "  driver.find_element_by_css_selector(f\"#_diputadomodule_contentPaginationDiputados > table > tbody > tr:nth-child({i}) > th > a\").click()\n",
      "<ipython-input-89-a36ac383f729>:41: DeprecationWarning: find_element_by_* commands are deprecated. Please use find_element() instead\n",
      "  nombre14.append(driver.find_element_by_css_selector(f\"#portlet_diputadomodule > div > div.portlet-content-container > div > div:nth-child(3) > div:nth-child(1) > div.col-sm-8.col-12.pl-0 > div\").text)\n",
      "<ipython-input-89-a36ac383f729>:42: DeprecationWarning: find_element_by_* commands are deprecated. Please use find_element() instead\n",
      "  nacimiento14.append(driver.find_element_by_css_selector(f\"#portlet_diputadomodule > div > div.portlet-content-container > div > div:nth-child(3) > div:nth-child(2) > div:nth-child(1) > div > div > p:nth-child(2)\").text)\n"
     ]
    }
   ],
   "source": [
    "# download the driver \n",
    "driver = webdriver.Chrome(ChromeDriverManager().install(), options = opciones)\n",
    "\n",
    "# set the url\n",
    "url2 = \"https://www.congreso.es/busqueda-de-diputados\"\n",
    "\n",
    "driver.get(url2)\n",
    " \n",
    "driver.implicitly_wait(1000) # is like a time.sleep but specific of selenium\n",
    "\n",
    "driver.find_element_by_css_selector(f\"#banda_cookies > a:nth-child(2)\").click()  \n",
    "driver.implicitly_wait(10000) # is like a time.sleep but specific of selenium\n",
    "driver.find_element_by_css_selector(f\"#_diputadomodule_legislatura\").click()\n",
    "driver.implicitly_wait(10000) # is like a time.sleep but specific of selenium\n",
    "driver.find_element_by_css_selector(f\"#_diputadomodule_legislatura > option:nth-child(8)\").click()\n",
    "\n",
    "driver.implicitly_wait(10000) # is like a time.sleep but specific of selenium\n",
    "driver.find_element_by_css_selector(f\"#_diputadomodule_searchButtonDiputadosForm > span\").click()\n",
    "\n",
    "\n",
    "\n",
    "driver.implicitly_wait(1000) # is like a time.sleep but specific of selenium\n",
    "driver.find_element_by_css_selector(f\"#_diputadomodule_paginationLinksDiputados > li:nth-child(7) > a\").click()  \n",
    "driver.implicitly_wait(1000) # is like a time.sleep but specific of selenium\n",
    "driver.find_element_by_css_selector(f\"#_diputadomodule_paginationLinksDiputados > li:nth-child(7) > a\").click() \n",
    "driver.implicitly_wait(2000) # is like a time.sleep but specific of selenium\n",
    "driver.find_element_by_css_selector(f\"#_diputadomodule_paginationLinksDiputados > li:nth-child(7) > a\").click() \n",
    "driver.implicitly_wait(2000) # is like a time.sleep but specific of selenium\n",
    "driver.find_element_by_css_selector(f\"#_diputadomodule_paginationLinksDiputados > li:nth-child(7) > a\").click()\n",
    "driver.implicitly_wait(2000) # is like a time.sleep but specific of selenium\n",
    "driver.find_element_by_css_selector(f\"#_diputadomodule_paginationLinksDiputados > li:nth-child(7) > a\").click()\n",
    "driver.implicitly_wait(2000) # is like a time.sleep but specific of selenium\n",
    "driver.find_element_by_css_selector(f\"#_diputadomodule_paginationLinksDiputados > li:nth-child(6) > a\").click()\n",
    "\n",
    "nombre14 = []\n",
    "nacimiento14 = []\n",
    "\n",
    "for i in range (1,21):\n",
    "    driver.implicitly_wait(5000) # is like a time.sleep but specific of selenium\n",
    "    driver.find_element_by_css_selector(f\"#_diputadomodule_contentPaginationDiputados > table > tbody > tr:nth-child({i}) > th > a\").click()  \n",
    "    nombre14.append(driver.find_element_by_css_selector(f\"#portlet_diputadomodule > div > div.portlet-content-container > div > div:nth-child(3) > div:nth-child(1) > div.col-sm-8.col-12.pl-0 > div\").text)\n",
    "    nacimiento14.append(driver.find_element_by_css_selector(f\"#portlet_diputadomodule > div > div.portlet-content-container > div > div:nth-child(3) > div:nth-child(2) > div:nth-child(1) > div > div > p:nth-child(2)\").text)\n",
    "    driver.execute_script(\"window.history.go(-1)\")"
   ]
  },
  {
   "cell_type": "code",
   "execution_count": 90,
   "id": "26e59c76",
   "metadata": {
    "scrolled": true
   },
   "outputs": [
    {
     "data": {
      "text/plain": [
       "20"
      ]
     },
     "execution_count": 90,
     "metadata": {},
     "output_type": "execute_result"
    }
   ],
   "source": [
    "len(nombre14)"
   ]
  },
  {
   "cell_type": "code",
   "execution_count": 91,
   "id": "9baf2df3",
   "metadata": {
    "collapsed": true
   },
   "outputs": [
    {
     "data": {
      "text/plain": [
       "['Nacida el 24/07/1967 en Oliva (Fuerteventura)',\n",
       " 'Nacido el 26/06/1953 en Mahón (Menorca)',\n",
       " 'Nacido el 05/12/1941 en Madrid',\n",
       " 'Nacido el 01/05/1970 en Barcelona',\n",
       " 'Nacido el 26/05/1966 en Zaragoza',\n",
       " 'Nacida el 02/08/1952 en Villanueva del Río y Minas (Sevilla)',\n",
       " 'Nacido el 20/02/1932 en San Sebastián (Guipúzcoa)',\n",
       " 'Nacido el 09/05/1947 en Huesca',\n",
       " 'Nacido el 08/01/1945 en Pozuelo de Calatrava (Ciudad Real)',\n",
       " 'Nacida el 15/12/1969 en Barcelona',\n",
       " 'Nacida el 20/01/1960 en Córdoba',\n",
       " 'Nacido el 27/10/1949 en Segovia',\n",
       " 'Nacido el 02/03/1946 en Madrid',\n",
       " 'Nacido el 04/11/1938 en Málaga',\n",
       " 'Nacida el 02/09/1956 en Andújar (Jaén)',\n",
       " 'Nacida el 15/06/1945 en Granada',\n",
       " 'Nacido el 30/09/1948 en Mingorria (Ávila)',\n",
       " 'Nacido el 11/12/1950 en Sevilla',\n",
       " 'Nacido el 08/02/1975 en Sevilla',\n",
       " 'Nacido el 28/10/1933 en Benavides de Orbigo (León)']"
      ]
     },
     "execution_count": 91,
     "metadata": {},
     "output_type": "execute_result"
    }
   ],
   "source": [
    "nacimiento14"
   ]
  },
  {
   "cell_type": "code",
   "execution_count": 92,
   "id": "94d72476",
   "metadata": {},
   "outputs": [
    {
     "name": "stderr",
     "output_type": "stream",
     "text": [
      "\n",
      "\n",
      "====== WebDriver manager ======\n",
      "Current google-chrome version is 96.0.4664\n",
      "Get LATEST chromedriver version for 96.0.4664 google-chrome\n",
      "Driver [/Users/macniacos/.wdm/drivers/chromedriver/mac64/96.0.4664.45/chromedriver] found in cache\n",
      "<ipython-input-92-d311ff57bc34>:2: DeprecationWarning: executable_path has been deprecated, please pass in a Service object\n",
      "  driver = webdriver.Chrome(ChromeDriverManager().install(), options = opciones)\n",
      "<ipython-input-92-d311ff57bc34>:11: DeprecationWarning: find_element_by_* commands are deprecated. Please use find_element() instead\n",
      "  driver.find_element_by_css_selector(f\"#banda_cookies > a:nth-child(2)\").click()\n",
      "<ipython-input-92-d311ff57bc34>:13: DeprecationWarning: find_element_by_* commands are deprecated. Please use find_element() instead\n",
      "  driver.find_element_by_css_selector(f\"#_diputadomodule_legislatura\").click()\n",
      "<ipython-input-92-d311ff57bc34>:15: DeprecationWarning: find_element_by_* commands are deprecated. Please use find_element() instead\n",
      "  driver.find_element_by_css_selector(f\"#_diputadomodule_legislatura > option:nth-child(8)\").click()\n",
      "<ipython-input-92-d311ff57bc34>:18: DeprecationWarning: find_element_by_* commands are deprecated. Please use find_element() instead\n",
      "  driver.find_element_by_css_selector(f\"#_diputadomodule_searchButtonDiputadosForm > span\").click()\n",
      "<ipython-input-92-d311ff57bc34>:21: DeprecationWarning: find_element_by_* commands are deprecated. Please use find_element() instead\n",
      "  driver.find_element_by_css_selector(f\"#_diputadomodule_paginationLinksDiputados > li:nth-child(7) > a\").click()\n",
      "<ipython-input-92-d311ff57bc34>:23: DeprecationWarning: find_element_by_* commands are deprecated. Please use find_element() instead\n",
      "  driver.find_element_by_css_selector(f\"#_diputadomodule_paginationLinksDiputados > li:nth-child(7) > a\").click()\n",
      "<ipython-input-92-d311ff57bc34>:25: DeprecationWarning: find_element_by_* commands are deprecated. Please use find_element() instead\n",
      "  driver.find_element_by_css_selector(f\"#_diputadomodule_paginationLinksDiputados > li:nth-child(7) > a\").click()\n",
      "<ipython-input-92-d311ff57bc34>:27: DeprecationWarning: find_element_by_* commands are deprecated. Please use find_element() instead\n",
      "  driver.find_element_by_css_selector(f\"#_diputadomodule_paginationLinksDiputados > li:nth-child(7) > a\").click()\n",
      "<ipython-input-92-d311ff57bc34>:29: DeprecationWarning: find_element_by_* commands are deprecated. Please use find_element() instead\n",
      "  driver.find_element_by_css_selector(f\"#_diputadomodule_paginationLinksDiputados > li:nth-child(7) > a\").click()\n",
      "<ipython-input-92-d311ff57bc34>:31: DeprecationWarning: find_element_by_* commands are deprecated. Please use find_element() instead\n",
      "  driver.find_element_by_css_selector(f\"#_diputadomodule_paginationLinksDiputados > li:nth-child(7) > a\").click()\n",
      "<ipython-input-92-d311ff57bc34>:38: DeprecationWarning: find_element_by_* commands are deprecated. Please use find_element() instead\n",
      "  driver.find_element_by_css_selector(f\"#_diputadomodule_contentPaginationDiputados > table > tbody > tr:nth-child({i}) > th > a\").click()\n",
      "<ipython-input-92-d311ff57bc34>:39: DeprecationWarning: find_element_by_* commands are deprecated. Please use find_element() instead\n",
      "  nombre15.append(driver.find_element_by_css_selector(f\"#portlet_diputadomodule > div > div.portlet-content-container > div > div:nth-child(3) > div:nth-child(1) > div.col-sm-8.col-12.pl-0 > div\").text)\n",
      "<ipython-input-92-d311ff57bc34>:40: DeprecationWarning: find_element_by_* commands are deprecated. Please use find_element() instead\n",
      "  nacimiento15.append(driver.find_element_by_css_selector(f\"#portlet_diputadomodule > div > div.portlet-content-container > div > div:nth-child(3) > div:nth-child(2) > div:nth-child(1) > div > div > p:nth-child(2)\").text)\n"
     ]
    }
   ],
   "source": [
    "# download the driver \n",
    "driver = webdriver.Chrome(ChromeDriverManager().install(), options = opciones)\n",
    "\n",
    "# set the url\n",
    "url2 = \"https://www.congreso.es/busqueda-de-diputados\"\n",
    "\n",
    "driver.get(url2)\n",
    " \n",
    "driver.implicitly_wait(1000) # is like a time.sleep but specific of selenium\n",
    "\n",
    "driver.find_element_by_css_selector(f\"#banda_cookies > a:nth-child(2)\").click()  \n",
    "driver.implicitly_wait(10000) # is like a time.sleep but specific of selenium\n",
    "driver.find_element_by_css_selector(f\"#_diputadomodule_legislatura\").click()\n",
    "driver.implicitly_wait(10000) # is like a time.sleep but specific of selenium\n",
    "driver.find_element_by_css_selector(f\"#_diputadomodule_legislatura > option:nth-child(8)\").click()\n",
    "\n",
    "driver.implicitly_wait(10000) # is like a time.sleep but specific of selenium\n",
    "driver.find_element_by_css_selector(f\"#_diputadomodule_searchButtonDiputadosForm > span\").click()\n",
    "\n",
    "driver.implicitly_wait(1000) # is like a time.sleep but specific of selenium\n",
    "driver.find_element_by_css_selector(f\"#_diputadomodule_paginationLinksDiputados > li:nth-child(7) > a\").click()  \n",
    "driver.implicitly_wait(1000) # is like a time.sleep but specific of selenium\n",
    "driver.find_element_by_css_selector(f\"#_diputadomodule_paginationLinksDiputados > li:nth-child(7) > a\").click() \n",
    "driver.implicitly_wait(2000) # is like a time.sleep but specific of selenium\n",
    "driver.find_element_by_css_selector(f\"#_diputadomodule_paginationLinksDiputados > li:nth-child(7) > a\").click() \n",
    "driver.implicitly_wait(2000) # is like a time.sleep but specific of selenium\n",
    "driver.find_element_by_css_selector(f\"#_diputadomodule_paginationLinksDiputados > li:nth-child(7) > a\").click()\n",
    "driver.implicitly_wait(2000) # is like a time.sleep but specific of selenium\n",
    "driver.find_element_by_css_selector(f\"#_diputadomodule_paginationLinksDiputados > li:nth-child(7) > a\").click()\n",
    "driver.implicitly_wait(2000) # is like a time.sleep but specific of selenium\n",
    "driver.find_element_by_css_selector(f\"#_diputadomodule_paginationLinksDiputados > li:nth-child(7) > a\").click()\n",
    "\n",
    "nombre15 = []\n",
    "nacimiento15 = []\n",
    "\n",
    "for i in range (1,21):\n",
    "    driver.implicitly_wait(5000) # is like a time.sleep but specific of selenium\n",
    "    driver.find_element_by_css_selector(f\"#_diputadomodule_contentPaginationDiputados > table > tbody > tr:nth-child({i}) > th > a\").click()  \n",
    "    nombre15.append(driver.find_element_by_css_selector(f\"#portlet_diputadomodule > div > div.portlet-content-container > div > div:nth-child(3) > div:nth-child(1) > div.col-sm-8.col-12.pl-0 > div\").text)\n",
    "    nacimiento15.append(driver.find_element_by_css_selector(f\"#portlet_diputadomodule > div > div.portlet-content-container > div > div:nth-child(3) > div:nth-child(2) > div:nth-child(1) > div > div > p:nth-child(2)\").text)\n",
    "    driver.execute_script(\"window.history.go(-1)\")"
   ]
  },
  {
   "cell_type": "code",
   "execution_count": 93,
   "id": "053e5e53",
   "metadata": {},
   "outputs": [
    {
     "data": {
      "text/plain": [
       "20"
      ]
     },
     "execution_count": 93,
     "metadata": {},
     "output_type": "execute_result"
    }
   ],
   "source": [
    "len(nombre15)"
   ]
  },
  {
   "cell_type": "code",
   "execution_count": 95,
   "id": "362911f5",
   "metadata": {},
   "outputs": [
    {
     "data": {
      "text/plain": [
       "['Nacido el 06/04/1932 en Barcelona',\n",
       " 'Nacido el 15/05/1944 en Sevilla',\n",
       " 'Nacida el 12/08/1949 en Málaga',\n",
       " 'Nacida el 14/08/1963 en Tavernes de Valldigna (Valencia)',\n",
       " 'Nacido el 02/03/1942 en Madridejos (Toledo)',\n",
       " 'Nacido el 03/07/1932 en Madrid',\n",
       " 'Nacido el 30/05/1945 en Fontcouverte (Francia)',\n",
       " 'Nacido el 17/07/1942 en Murgia (Alava)',\n",
       " 'Nacido el 30/01/1950 en Melilla',\n",
       " 'Nacido el 20/09/1964 en Reus (Tarragona)',\n",
       " 'Nacida el 16/09/1976 en San Sebastián',\n",
       " 'Nacida el 24/07/1959 en Figueres (Girona)',\n",
       " 'Nacida el 11/11/1957 en Cubillos del Pan (Zamora)',\n",
       " 'Nacido el 29/10/1950 en Barcelona',\n",
       " 'Nacido el 19/07/1954 en Alcalá de los Gazules (Cádiz)',\n",
       " 'Nacido el 14/04/1976 en El Provencio (Cuenca)',\n",
       " 'Nacida el 13/12/1970 en Santa Cruz de Tenerife',\n",
       " 'Nacido el 27/10/1945 en Valencia',\n",
       " 'Nacido el 18/10/1958 en As Pontes de García Rodríguez (A Coruña)',\n",
       " 'Nacida el 15/10/1958 en Madrid']"
      ]
     },
     "execution_count": 95,
     "metadata": {},
     "output_type": "execute_result"
    }
   ],
   "source": [
    "nacimiento15"
   ]
  },
  {
   "cell_type": "code",
   "execution_count": 98,
   "id": "05cf011d",
   "metadata": {
    "scrolled": false
   },
   "outputs": [
    {
     "name": "stderr",
     "output_type": "stream",
     "text": [
      "\n",
      "\n",
      "====== WebDriver manager ======\n",
      "Current google-chrome version is 96.0.4664\n",
      "Get LATEST chromedriver version for 96.0.4664 google-chrome\n",
      "Driver [/Users/macniacos/.wdm/drivers/chromedriver/mac64/96.0.4664.45/chromedriver] found in cache\n",
      "<ipython-input-98-3b843d8cb877>:2: DeprecationWarning: executable_path has been deprecated, please pass in a Service object\n",
      "  driver = webdriver.Chrome(ChromeDriverManager().install(), options = opciones)\n",
      "<ipython-input-98-3b843d8cb877>:11: DeprecationWarning: find_element_by_* commands are deprecated. Please use find_element() instead\n",
      "  driver.find_element_by_css_selector(f\"#banda_cookies > a:nth-child(2)\").click()\n",
      "<ipython-input-98-3b843d8cb877>:13: DeprecationWarning: find_element_by_* commands are deprecated. Please use find_element() instead\n",
      "  driver.find_element_by_css_selector(f\"#_diputadomodule_legislatura\").click()\n",
      "<ipython-input-98-3b843d8cb877>:15: DeprecationWarning: find_element_by_* commands are deprecated. Please use find_element() instead\n",
      "  driver.find_element_by_css_selector(f\"#_diputadomodule_legislatura > option:nth-child(8)\").click()\n",
      "<ipython-input-98-3b843d8cb877>:18: DeprecationWarning: find_element_by_* commands are deprecated. Please use find_element() instead\n",
      "  driver.find_element_by_css_selector(f\"#_diputadomodule_searchButtonDiputadosForm > span\").click()\n",
      "<ipython-input-98-3b843d8cb877>:21: DeprecationWarning: find_element_by_* commands are deprecated. Please use find_element() instead\n",
      "  driver.find_element_by_css_selector(f\"#_diputadomodule_paginationLinksDiputados > li:nth-child(7) > a\").click()\n",
      "<ipython-input-98-3b843d8cb877>:23: DeprecationWarning: find_element_by_* commands are deprecated. Please use find_element() instead\n",
      "  driver.find_element_by_css_selector(f\"#_diputadomodule_paginationLinksDiputados > li:nth-child(7) > a\").click()\n",
      "<ipython-input-98-3b843d8cb877>:25: DeprecationWarning: find_element_by_* commands are deprecated. Please use find_element() instead\n",
      "  driver.find_element_by_css_selector(f\"#_diputadomodule_paginationLinksDiputados > li:nth-child(7) > a\").click()\n",
      "<ipython-input-98-3b843d8cb877>:27: DeprecationWarning: find_element_by_* commands are deprecated. Please use find_element() instead\n",
      "  driver.find_element_by_css_selector(f\"#_diputadomodule_paginationLinksDiputados > li:nth-child(7) > a\").click()\n",
      "<ipython-input-98-3b843d8cb877>:29: DeprecationWarning: find_element_by_* commands are deprecated. Please use find_element() instead\n",
      "  driver.find_element_by_css_selector(f\"#_diputadomodule_paginationLinksDiputados > li:nth-child(7) > a\").click()\n",
      "<ipython-input-98-3b843d8cb877>:31: DeprecationWarning: find_element_by_* commands are deprecated. Please use find_element() instead\n",
      "  driver.find_element_by_css_selector(f\"#_diputadomodule_paginationLinksDiputados > li:nth-child(7) > a\").click()\n",
      "<ipython-input-98-3b843d8cb877>:33: DeprecationWarning: find_element_by_* commands are deprecated. Please use find_element() instead\n",
      "  driver.find_element_by_css_selector(f\"#_diputadomodule_paginationLinksDiputados > li:nth-child(6) > a\").click()\n",
      "<ipython-input-98-3b843d8cb877>:42: DeprecationWarning: find_element_by_* commands are deprecated. Please use find_element() instead\n",
      "  driver.find_element_by_css_selector(f\"#_diputadomodule_contentPaginationDiputados > table > tbody > tr:nth-child({i}) > th > a\").click()\n",
      "<ipython-input-98-3b843d8cb877>:43: DeprecationWarning: find_element_by_* commands are deprecated. Please use find_element() instead\n",
      "  nombre16.append(driver.find_element_by_css_selector(f\"#portlet_diputadomodule > div > div.portlet-content-container > div > div:nth-child(3) > div:nth-child(1) > div.col-sm-8.col-12.pl-0 > div\").text)\n",
      "<ipython-input-98-3b843d8cb877>:44: DeprecationWarning: find_element_by_* commands are deprecated. Please use find_element() instead\n",
      "  nacimiento16.append(driver.find_element_by_css_selector(f\"#portlet_diputadomodule > div > div.portlet-content-container > div > div:nth-child(3) > div:nth-child(2) > div:nth-child(1) > div > div > p:nth-child(2)\").text)\n"
     ]
    }
   ],
   "source": [
    "# download the driver \n",
    "driver = webdriver.Chrome(ChromeDriverManager().install(), options = opciones)\n",
    "\n",
    "# set the url\n",
    "url2 = \"https://www.congreso.es/busqueda-de-diputados\"\n",
    "\n",
    "driver.get(url2)\n",
    " \n",
    "driver.implicitly_wait(1000) # is like a time.sleep but specific of selenium\n",
    "\n",
    "driver.find_element_by_css_selector(f\"#banda_cookies > a:nth-child(2)\").click()  \n",
    "driver.implicitly_wait(10000) # is like a time.sleep but specific of selenium\n",
    "driver.find_element_by_css_selector(f\"#_diputadomodule_legislatura\").click()\n",
    "driver.implicitly_wait(10000) # is like a time.sleep but specific of selenium\n",
    "driver.find_element_by_css_selector(f\"#_diputadomodule_legislatura > option:nth-child(8)\").click()\n",
    "\n",
    "driver.implicitly_wait(10000) # is like a time.sleep but specific of selenium\n",
    "driver.find_element_by_css_selector(f\"#_diputadomodule_searchButtonDiputadosForm > span\").click()\n",
    "\n",
    "driver.implicitly_wait(1000) # is like a time.sleep but specific of selenium\n",
    "driver.find_element_by_css_selector(f\"#_diputadomodule_paginationLinksDiputados > li:nth-child(7) > a\").click()  \n",
    "driver.implicitly_wait(1000) # is like a time.sleep but specific of selenium\n",
    "driver.find_element_by_css_selector(f\"#_diputadomodule_paginationLinksDiputados > li:nth-child(7) > a\").click() \n",
    "driver.implicitly_wait(2000) # is like a time.sleep but specific of selenium\n",
    "driver.find_element_by_css_selector(f\"#_diputadomodule_paginationLinksDiputados > li:nth-child(7) > a\").click() \n",
    "driver.implicitly_wait(2000) # is like a time.sleep but specific of selenium\n",
    "driver.find_element_by_css_selector(f\"#_diputadomodule_paginationLinksDiputados > li:nth-child(7) > a\").click()\n",
    "driver.implicitly_wait(2000) # is like a time.sleep but specific of selenium\n",
    "driver.find_element_by_css_selector(f\"#_diputadomodule_paginationLinksDiputados > li:nth-child(7) > a\").click()\n",
    "driver.implicitly_wait(2000) # is like a time.sleep but specific of selenium\n",
    "driver.find_element_by_css_selector(f\"#_diputadomodule_paginationLinksDiputados > li:nth-child(7) > a\").click()\n",
    "driver.implicitly_wait(2000) # is like a time.sleep but specific of selenium\n",
    "driver.find_element_by_css_selector(f\"#_diputadomodule_paginationLinksDiputados > li:nth-child(6) > a\").click()\n",
    "\n",
    "\n",
    "\n",
    "nombre16 = []\n",
    "nacimiento16 = []\n",
    "\n",
    "for i in range (1,21):\n",
    "    driver.implicitly_wait(5000) # is like a time.sleep but specific of selenium\n",
    "    driver.find_element_by_css_selector(f\"#_diputadomodule_contentPaginationDiputados > table > tbody > tr:nth-child({i}) > th > a\").click()  \n",
    "    nombre16.append(driver.find_element_by_css_selector(f\"#portlet_diputadomodule > div > div.portlet-content-container > div > div:nth-child(3) > div:nth-child(1) > div.col-sm-8.col-12.pl-0 > div\").text)\n",
    "    nacimiento16.append(driver.find_element_by_css_selector(f\"#portlet_diputadomodule > div > div.portlet-content-container > div > div:nth-child(3) > div:nth-child(2) > div:nth-child(1) > div > div > p:nth-child(2)\").text)\n",
    "    driver.execute_script(\"window.history.go(-1)\")"
   ]
  },
  {
   "cell_type": "code",
   "execution_count": 99,
   "id": "707ddffe",
   "metadata": {},
   "outputs": [
    {
     "data": {
      "text/plain": [
       "20"
      ]
     },
     "execution_count": 99,
     "metadata": {},
     "output_type": "execute_result"
    }
   ],
   "source": [
    "len(nombre16)"
   ]
  },
  {
   "cell_type": "code",
   "execution_count": 100,
   "id": "b652d55a",
   "metadata": {},
   "outputs": [
    {
     "data": {
      "text/plain": [
       "['Nacido el 04/11/1948 en Madrid',\n",
       " 'Nacido el 27/03/1957 en Lorca (Murcia)',\n",
       " 'Nacido el 28/07/1951 en Solares (Cantabria)',\n",
       " 'Nacido el 16/07/1960 en Arrecife (Lanzarote)',\n",
       " 'Nacido el 22/02/1964 en San Sebastián (Guipúzcoa)',\n",
       " 'Nacida el 25/02/1969 en Benaguasil (Valencia)',\n",
       " 'Nacida el 24/07/1954 en Lleida',\n",
       " 'Nacida el 18/03/1949 en Valencia',\n",
       " 'Nacido el 27/09/1961 en Barbastro (Huesca)',\n",
       " 'Nacido el 21/02/1955 en Vilanova i la Geltrú (Barcelona)',\n",
       " 'Nacida el 17/01/1963 en Madrid',\n",
       " \"Nacido el 31/07/1959 en Atzeneta d'Albaida (Valencia)\",\n",
       " 'Nacida el 28/06/1950 en Granada',\n",
       " 'Nacido el 12/09/1953 en Santisteban del Puerto (Jaén)',\n",
       " 'Nacida el 22/07/1956 en Palma de Mallorca',\n",
       " 'Nacido el 04/04/1945 en Soria',\n",
       " 'Nacida el 06/01/1952 en San Fernando (Cádiz)',\n",
       " 'Nacido el 02/05/1943 en Valencia',\n",
       " 'Nacido el 01/04/1949 en Baeza (Jaén)',\n",
       " 'Nacido el 29/07/1945 en Báscara (Girona)']"
      ]
     },
     "execution_count": 100,
     "metadata": {},
     "output_type": "execute_result"
    }
   ],
   "source": [
    "nacimiento16"
   ]
  },
  {
   "cell_type": "code",
   "execution_count": 101,
   "id": "31c83e60",
   "metadata": {},
   "outputs": [
    {
     "name": "stderr",
     "output_type": "stream",
     "text": [
      "\n",
      "\n",
      "====== WebDriver manager ======\n",
      "Current google-chrome version is 96.0.4664\n",
      "Get LATEST chromedriver version for 96.0.4664 google-chrome\n",
      "Driver [/Users/macniacos/.wdm/drivers/chromedriver/mac64/96.0.4664.45/chromedriver] found in cache\n",
      "<ipython-input-101-ac7bd46dc4b4>:2: DeprecationWarning: executable_path has been deprecated, please pass in a Service object\n",
      "  driver = webdriver.Chrome(ChromeDriverManager().install(), options = opciones)\n",
      "<ipython-input-101-ac7bd46dc4b4>:11: DeprecationWarning: find_element_by_* commands are deprecated. Please use find_element() instead\n",
      "  driver.find_element_by_css_selector(f\"#banda_cookies > a:nth-child(2)\").click()\n",
      "<ipython-input-101-ac7bd46dc4b4>:13: DeprecationWarning: find_element_by_* commands are deprecated. Please use find_element() instead\n",
      "  driver.find_element_by_css_selector(f\"#_diputadomodule_legislatura\").click()\n",
      "<ipython-input-101-ac7bd46dc4b4>:15: DeprecationWarning: find_element_by_* commands are deprecated. Please use find_element() instead\n",
      "  driver.find_element_by_css_selector(f\"#_diputadomodule_legislatura > option:nth-child(8)\").click()\n",
      "<ipython-input-101-ac7bd46dc4b4>:18: DeprecationWarning: find_element_by_* commands are deprecated. Please use find_element() instead\n",
      "  driver.find_element_by_css_selector(f\"#_diputadomodule_searchButtonDiputadosForm > span\").click()\n",
      "<ipython-input-101-ac7bd46dc4b4>:21: DeprecationWarning: find_element_by_* commands are deprecated. Please use find_element() instead\n",
      "  driver.find_element_by_css_selector(f\"#_diputadomodule_paginationLinksDiputados > li:nth-child(7) > a\").click()\n",
      "<ipython-input-101-ac7bd46dc4b4>:23: DeprecationWarning: find_element_by_* commands are deprecated. Please use find_element() instead\n",
      "  driver.find_element_by_css_selector(f\"#_diputadomodule_paginationLinksDiputados > li:nth-child(7) > a\").click()\n",
      "<ipython-input-101-ac7bd46dc4b4>:25: DeprecationWarning: find_element_by_* commands are deprecated. Please use find_element() instead\n",
      "  driver.find_element_by_css_selector(f\"#_diputadomodule_paginationLinksDiputados > li:nth-child(7) > a\").click()\n",
      "<ipython-input-101-ac7bd46dc4b4>:27: DeprecationWarning: find_element_by_* commands are deprecated. Please use find_element() instead\n",
      "  driver.find_element_by_css_selector(f\"#_diputadomodule_paginationLinksDiputados > li:nth-child(7) > a\").click()\n",
      "<ipython-input-101-ac7bd46dc4b4>:29: DeprecationWarning: find_element_by_* commands are deprecated. Please use find_element() instead\n",
      "  driver.find_element_by_css_selector(f\"#_diputadomodule_paginationLinksDiputados > li:nth-child(7) > a\").click()\n",
      "<ipython-input-101-ac7bd46dc4b4>:31: DeprecationWarning: find_element_by_* commands are deprecated. Please use find_element() instead\n",
      "  driver.find_element_by_css_selector(f\"#_diputadomodule_paginationLinksDiputados > li:nth-child(7) > a\").click()\n",
      "<ipython-input-101-ac7bd46dc4b4>:33: DeprecationWarning: find_element_by_* commands are deprecated. Please use find_element() instead\n",
      "  driver.find_element_by_css_selector(f\"#_diputadomodule_paginationLinksDiputados > li:nth-child(7) > a\").click()\n",
      "<ipython-input-101-ac7bd46dc4b4>:42: DeprecationWarning: find_element_by_* commands are deprecated. Please use find_element() instead\n",
      "  driver.find_element_by_css_selector(f\"#_diputadomodule_contentPaginationDiputados > table > tbody > tr:nth-child({i}) > th > a\").click()\n",
      "<ipython-input-101-ac7bd46dc4b4>:43: DeprecationWarning: find_element_by_* commands are deprecated. Please use find_element() instead\n",
      "  nombre17.append(driver.find_element_by_css_selector(f\"#portlet_diputadomodule > div > div.portlet-content-container > div > div:nth-child(3) > div:nth-child(1) > div.col-sm-8.col-12.pl-0 > div\").text)\n",
      "<ipython-input-101-ac7bd46dc4b4>:44: DeprecationWarning: find_element_by_* commands are deprecated. Please use find_element() instead\n",
      "  nacimiento17.append(driver.find_element_by_css_selector(f\"#portlet_diputadomodule > div > div.portlet-content-container > div > div:nth-child(3) > div:nth-child(2) > div:nth-child(1) > div > div > p:nth-child(2)\").text)\n"
     ]
    }
   ],
   "source": [
    "# download the driver \n",
    "driver = webdriver.Chrome(ChromeDriverManager().install(), options = opciones)\n",
    "\n",
    "# set the url\n",
    "url2 = \"https://www.congreso.es/busqueda-de-diputados\"\n",
    "\n",
    "driver.get(url2)\n",
    " \n",
    "driver.implicitly_wait(1000) # is like a time.sleep but specific of selenium\n",
    "\n",
    "driver.find_element_by_css_selector(f\"#banda_cookies > a:nth-child(2)\").click()  \n",
    "driver.implicitly_wait(10000) # is like a time.sleep but specific of selenium\n",
    "driver.find_element_by_css_selector(f\"#_diputadomodule_legislatura\").click()\n",
    "driver.implicitly_wait(10000) # is like a time.sleep but specific of selenium\n",
    "driver.find_element_by_css_selector(f\"#_diputadomodule_legislatura > option:nth-child(8)\").click()\n",
    "\n",
    "driver.implicitly_wait(10000) # is like a time.sleep but specific of selenium\n",
    "driver.find_element_by_css_selector(f\"#_diputadomodule_searchButtonDiputadosForm > span\").click()\n",
    "\n",
    "driver.implicitly_wait(1000) # is like a time.sleep but specific of selenium\n",
    "driver.find_element_by_css_selector(f\"#_diputadomodule_paginationLinksDiputados > li:nth-child(7) > a\").click()  \n",
    "driver.implicitly_wait(1000) # is like a time.sleep but specific of selenium\n",
    "driver.find_element_by_css_selector(f\"#_diputadomodule_paginationLinksDiputados > li:nth-child(7) > a\").click() \n",
    "driver.implicitly_wait(2000) # is like a time.sleep but specific of selenium\n",
    "driver.find_element_by_css_selector(f\"#_diputadomodule_paginationLinksDiputados > li:nth-child(7) > a\").click() \n",
    "driver.implicitly_wait(2000) # is like a time.sleep but specific of selenium\n",
    "driver.find_element_by_css_selector(f\"#_diputadomodule_paginationLinksDiputados > li:nth-child(7) > a\").click()\n",
    "driver.implicitly_wait(2000) # is like a time.sleep but specific of selenium\n",
    "driver.find_element_by_css_selector(f\"#_diputadomodule_paginationLinksDiputados > li:nth-child(7) > a\").click()\n",
    "driver.implicitly_wait(2000) # is like a time.sleep but specific of selenium\n",
    "driver.find_element_by_css_selector(f\"#_diputadomodule_paginationLinksDiputados > li:nth-child(7) > a\").click()\n",
    "driver.implicitly_wait(2000) # is like a time.sleep but specific of selenium\n",
    "driver.find_element_by_css_selector(f\"#_diputadomodule_paginationLinksDiputados > li:nth-child(7) > a\").click()\n",
    "\n",
    "\n",
    "\n",
    "nombre17 = []\n",
    "nacimiento17 = []\n",
    "\n",
    "for i in range (1,21):\n",
    "    driver.implicitly_wait(5000) # is like a time.sleep but specific of selenium\n",
    "    driver.find_element_by_css_selector(f\"#_diputadomodule_contentPaginationDiputados > table > tbody > tr:nth-child({i}) > th > a\").click()  \n",
    "    nombre17.append(driver.find_element_by_css_selector(f\"#portlet_diputadomodule > div > div.portlet-content-container > div > div:nth-child(3) > div:nth-child(1) > div.col-sm-8.col-12.pl-0 > div\").text)\n",
    "    nacimiento17.append(driver.find_element_by_css_selector(f\"#portlet_diputadomodule > div > div.portlet-content-container > div > div:nth-child(3) > div:nth-child(2) > div:nth-child(1) > div > div > p:nth-child(2)\").text)\n",
    "    driver.execute_script(\"window.history.go(-1)\")"
   ]
  },
  {
   "cell_type": "code",
   "execution_count": 102,
   "id": "1a392fbf",
   "metadata": {},
   "outputs": [
    {
     "data": {
      "text/plain": [
       "20"
      ]
     },
     "execution_count": 102,
     "metadata": {},
     "output_type": "execute_result"
    }
   ],
   "source": [
    "len(nombre17)"
   ]
  },
  {
   "cell_type": "code",
   "execution_count": 105,
   "id": "b3be60cd",
   "metadata": {},
   "outputs": [
    {
     "data": {
      "text/plain": [
       "['Nacido el 02/12/1966 en Ripoll (Girona)',\n",
       " 'Nacido el 13/04/1953 en Torrelavega (Cantabria)',\n",
       " 'Nacida el 11/05/1954 en Ciudad Real',\n",
       " 'Nacido el 17/02/1954 en Binefar (Huesca)',\n",
       " 'Nacido el 18/05/1962 en Sabiote (Jaén)',\n",
       " 'Nacido el 27/03/1955 en Santiago de Compostela (La Coruña)',\n",
       " 'Nacido el 18/03/1949 en Madrid',\n",
       " 'Nacido el 29/10/1932 en Ribadeo (Lugo)',\n",
       " 'Nacido el 18/05/1962 en Sabiote (Jaén)',\n",
       " 'Nacido el 21/10/1951 en Baena (Córdoba)',\n",
       " 'Nacido el 02/04/1960 en Valladolid',\n",
       " 'Nacida el 14/09/1952 en La Laguna (Santa Cruz de Tenerife)',\n",
       " 'Nacido el 27/01/1960 en Tarragona',\n",
       " 'Nacida el 20/01/1954 en Girona',\n",
       " 'Nacida el 31/10/1960 en Barcelona',\n",
       " 'Nacida el 13/10/1950 en Barcelona',\n",
       " 'Nacido el 28/01/1958 en Arrecife de Lanzarote (Canarias)',\n",
       " 'Nacido el 27/04/1972 en Son Servera (Mallorca)',\n",
       " 'Nacido el 31/08/1941 en Xeve (Pontevedra)',\n",
       " 'Nacido el 11/02/1952 en El Sauzal (Tenerife)']"
      ]
     },
     "execution_count": 105,
     "metadata": {},
     "output_type": "execute_result"
    }
   ],
   "source": [
    "nacimiento17"
   ]
  },
  {
   "cell_type": "code",
   "execution_count": 107,
   "id": "02c35167",
   "metadata": {},
   "outputs": [
    {
     "name": "stderr",
     "output_type": "stream",
     "text": [
      "\n",
      "\n",
      "====== WebDriver manager ======\n",
      "Current google-chrome version is 96.0.4664\n",
      "Get LATEST chromedriver version for 96.0.4664 google-chrome\n",
      "Driver [/Users/macniacos/.wdm/drivers/chromedriver/mac64/96.0.4664.45/chromedriver] found in cache\n",
      "<ipython-input-107-8d62fd374f70>:2: DeprecationWarning: executable_path has been deprecated, please pass in a Service object\n",
      "  driver = webdriver.Chrome(ChromeDriverManager().install(), options = opciones)\n",
      "<ipython-input-107-8d62fd374f70>:11: DeprecationWarning: find_element_by_* commands are deprecated. Please use find_element() instead\n",
      "  driver.find_element_by_css_selector(f\"#banda_cookies > a:nth-child(2)\").click()\n",
      "<ipython-input-107-8d62fd374f70>:13: DeprecationWarning: find_element_by_* commands are deprecated. Please use find_element() instead\n",
      "  driver.find_element_by_css_selector(f\"#_diputadomodule_legislatura\").click()\n",
      "<ipython-input-107-8d62fd374f70>:15: DeprecationWarning: find_element_by_* commands are deprecated. Please use find_element() instead\n",
      "  driver.find_element_by_css_selector(f\"#_diputadomodule_legislatura > option:nth-child(8)\").click()\n",
      "<ipython-input-107-8d62fd374f70>:18: DeprecationWarning: find_element_by_* commands are deprecated. Please use find_element() instead\n",
      "  driver.find_element_by_css_selector(f\"#_diputadomodule_searchButtonDiputadosForm > span\").click()\n",
      "<ipython-input-107-8d62fd374f70>:20: DeprecationWarning: find_element_by_* commands are deprecated. Please use find_element() instead\n",
      "  driver.find_element_by_css_selector(f\"#_diputadomodule_paginationLinksDiputados > li:nth-child(9) > a\").click()\n",
      "<ipython-input-107-8d62fd374f70>:22: DeprecationWarning: find_element_by_* commands are deprecated. Please use find_element() instead\n",
      "  driver.find_element_by_css_selector(f\"#_diputadomodule_paginationLinksDiputados > li:nth-child(4) > a\").click()\n",
      "<ipython-input-107-8d62fd374f70>:30: DeprecationWarning: find_element_by_* commands are deprecated. Please use find_element() instead\n",
      "  driver.find_element_by_css_selector(f\"#_diputadomodule_contentPaginationDiputados > table > tbody > tr:nth-child({i}) > th > a\").click()\n",
      "<ipython-input-107-8d62fd374f70>:31: DeprecationWarning: find_element_by_* commands are deprecated. Please use find_element() instead\n",
      "  nombre18.append(driver.find_element_by_css_selector(f\"#portlet_diputadomodule > div > div.portlet-content-container > div > div:nth-child(3) > div:nth-child(1) > div.col-sm-8.col-12.pl-0 > div\").text)\n",
      "<ipython-input-107-8d62fd374f70>:32: DeprecationWarning: find_element_by_* commands are deprecated. Please use find_element() instead\n",
      "  nacimiento18.append(driver.find_element_by_css_selector(f\"#portlet_diputadomodule > div > div.portlet-content-container > div > div:nth-child(3) > div:nth-child(2) > div:nth-child(1) > div > div > p:nth-child(2)\").text)\n"
     ]
    }
   ],
   "source": [
    "# download the driver \n",
    "driver = webdriver.Chrome(ChromeDriverManager().install(), options = opciones)\n",
    "\n",
    "# set the url\n",
    "url2 = \"https://www.congreso.es/busqueda-de-diputados\"\n",
    "\n",
    "driver.get(url2)\n",
    " \n",
    "driver.implicitly_wait(1000) # is like a time.sleep but specific of selenium\n",
    "\n",
    "driver.find_element_by_css_selector(f\"#banda_cookies > a:nth-child(2)\").click()  \n",
    "driver.implicitly_wait(10000) # is like a time.sleep but specific of selenium\n",
    "driver.find_element_by_css_selector(f\"#_diputadomodule_legislatura\").click()\n",
    "driver.implicitly_wait(10000) # is like a time.sleep but specific of selenium\n",
    "driver.find_element_by_css_selector(f\"#_diputadomodule_legislatura > option:nth-child(8)\").click()\n",
    "\n",
    "driver.implicitly_wait(10000) # is like a time.sleep but specific of selenium\n",
    "driver.find_element_by_css_selector(f\"#_diputadomodule_searchButtonDiputadosForm > span\").click()\n",
    "\n",
    "driver.find_element_by_css_selector(f\"#_diputadomodule_paginationLinksDiputados > li:nth-child(9) > a\").click()  \n",
    "driver.implicitly_wait(15000) # is like a time.sleep but specific of selenium\n",
    "driver.find_element_by_css_selector(f\"#_diputadomodule_paginationLinksDiputados > li:nth-child(4) > a\").click() \n",
    "driver.implicitly_wait(2000) # is like a time.sleep but specific of selenium\n",
    "\n",
    "nombre18 = []\n",
    "nacimiento18 = []\n",
    "\n",
    "for i in range (1,21):\n",
    "    driver.implicitly_wait(5000) # is like a time.sleep but specific of selenium\n",
    "    driver.find_element_by_css_selector(f\"#_diputadomodule_contentPaginationDiputados > table > tbody > tr:nth-child({i}) > th > a\").click()  \n",
    "    nombre18.append(driver.find_element_by_css_selector(f\"#portlet_diputadomodule > div > div.portlet-content-container > div > div:nth-child(3) > div:nth-child(1) > div.col-sm-8.col-12.pl-0 > div\").text)\n",
    "    nacimiento18.append(driver.find_element_by_css_selector(f\"#portlet_diputadomodule > div > div.portlet-content-container > div > div:nth-child(3) > div:nth-child(2) > div:nth-child(1) > div > div > p:nth-child(2)\").text)\n",
    "    driver.execute_script(\"window.history.go(-1)\")"
   ]
  },
  {
   "cell_type": "code",
   "execution_count": 108,
   "id": "d3c67937",
   "metadata": {},
   "outputs": [
    {
     "data": {
      "text/plain": [
       "20"
      ]
     },
     "execution_count": 108,
     "metadata": {},
     "output_type": "execute_result"
    }
   ],
   "source": [
    "len(nombre18)"
   ]
  },
  {
   "cell_type": "code",
   "execution_count": 110,
   "id": "cfb3d504",
   "metadata": {},
   "outputs": [
    {
     "name": "stderr",
     "output_type": "stream",
     "text": [
      "\n",
      "\n",
      "====== WebDriver manager ======\n",
      "Current google-chrome version is 96.0.4664\n",
      "Get LATEST chromedriver version for 96.0.4664 google-chrome\n",
      "Driver [/Users/macniacos/.wdm/drivers/chromedriver/mac64/96.0.4664.45/chromedriver] found in cache\n",
      "<ipython-input-110-3632c8a9dc54>:2: DeprecationWarning: executable_path has been deprecated, please pass in a Service object\n",
      "  driver = webdriver.Chrome(ChromeDriverManager().install(), options = opciones)\n",
      "<ipython-input-110-3632c8a9dc54>:11: DeprecationWarning: find_element_by_* commands are deprecated. Please use find_element() instead\n",
      "  driver.find_element_by_css_selector(f\"#banda_cookies > a:nth-child(2)\").click()\n",
      "<ipython-input-110-3632c8a9dc54>:13: DeprecationWarning: find_element_by_* commands are deprecated. Please use find_element() instead\n",
      "  driver.find_element_by_css_selector(f\"#_diputadomodule_legislatura\").click()\n",
      "<ipython-input-110-3632c8a9dc54>:15: DeprecationWarning: find_element_by_* commands are deprecated. Please use find_element() instead\n",
      "  driver.find_element_by_css_selector(f\"#_diputadomodule_legislatura > option:nth-child(8)\").click()\n",
      "<ipython-input-110-3632c8a9dc54>:18: DeprecationWarning: find_element_by_* commands are deprecated. Please use find_element() instead\n",
      "  driver.find_element_by_css_selector(f\"#_diputadomodule_searchButtonDiputadosForm > span\").click()\n",
      "<ipython-input-110-3632c8a9dc54>:20: DeprecationWarning: find_element_by_* commands are deprecated. Please use find_element() instead\n",
      "  driver.find_element_by_css_selector(f\"#_diputadomodule_paginationLinksDiputados > li:nth-child(9) > a\").click()\n",
      "<ipython-input-110-3632c8a9dc54>:22: DeprecationWarning: find_element_by_* commands are deprecated. Please use find_element() instead\n",
      "  driver.find_element_by_css_selector(f\"#_diputadomodule_paginationLinksDiputados > li:nth-child(5) > a\").click()\n",
      "<ipython-input-110-3632c8a9dc54>:30: DeprecationWarning: find_element_by_* commands are deprecated. Please use find_element() instead\n",
      "  driver.find_element_by_css_selector(f\"#_diputadomodule_contentPaginationDiputados > table > tbody > tr:nth-child({i}) > th > a\").click()\n",
      "<ipython-input-110-3632c8a9dc54>:31: DeprecationWarning: find_element_by_* commands are deprecated. Please use find_element() instead\n",
      "  nombre19.append(driver.find_element_by_css_selector(f\"#portlet_diputadomodule > div > div.portlet-content-container > div > div:nth-child(3) > div:nth-child(1) > div.col-sm-8.col-12.pl-0 > div\").text)\n",
      "<ipython-input-110-3632c8a9dc54>:32: DeprecationWarning: find_element_by_* commands are deprecated. Please use find_element() instead\n",
      "  nacimiento19.append(driver.find_element_by_css_selector(f\"#portlet_diputadomodule > div > div.portlet-content-container > div > div:nth-child(3) > div:nth-child(2) > div:nth-child(1) > div > div > p:nth-child(2)\").text)\n"
     ]
    }
   ],
   "source": [
    "# download the driver \n",
    "driver = webdriver.Chrome(ChromeDriverManager().install(), options = opciones)\n",
    "\n",
    "# set the url\n",
    "url2 = \"https://www.congreso.es/busqueda-de-diputados\"\n",
    "\n",
    "driver.get(url2)\n",
    " \n",
    "driver.implicitly_wait(1000) # is like a time.sleep but specific of selenium\n",
    "\n",
    "driver.find_element_by_css_selector(f\"#banda_cookies > a:nth-child(2)\").click()  \n",
    "driver.implicitly_wait(10000) # is like a time.sleep but specific of selenium\n",
    "driver.find_element_by_css_selector(f\"#_diputadomodule_legislatura\").click()\n",
    "driver.implicitly_wait(10000) # is like a time.sleep but specific of selenium\n",
    "driver.find_element_by_css_selector(f\"#_diputadomodule_legislatura > option:nth-child(8)\").click()\n",
    "\n",
    "driver.implicitly_wait(10000) # is like a time.sleep but specific of selenium\n",
    "driver.find_element_by_css_selector(f\"#_diputadomodule_searchButtonDiputadosForm > span\").click()\n",
    "\n",
    "driver.find_element_by_css_selector(f\"#_diputadomodule_paginationLinksDiputados > li:nth-child(9) > a\").click()  \n",
    "driver.implicitly_wait(15000) # is like a time.sleep but specific of selenium\n",
    "driver.find_element_by_css_selector(f\"#_diputadomodule_paginationLinksDiputados > li:nth-child(5) > a\").click() \n",
    "driver.implicitly_wait(2000) # is like a time.sleep but specific of selenium\n",
    "\n",
    "nombre19 = []\n",
    "nacimiento19 = []\n",
    "\n",
    "for i in range (1,21):\n",
    "    driver.implicitly_wait(5000) # is like a time.sleep but specific of selenium\n",
    "    driver.find_element_by_css_selector(f\"#_diputadomodule_contentPaginationDiputados > table > tbody > tr:nth-child({i}) > th > a\").click()  \n",
    "    nombre19.append(driver.find_element_by_css_selector(f\"#portlet_diputadomodule > div > div.portlet-content-container > div > div:nth-child(3) > div:nth-child(1) > div.col-sm-8.col-12.pl-0 > div\").text)\n",
    "    nacimiento19.append(driver.find_element_by_css_selector(f\"#portlet_diputadomodule > div > div.portlet-content-container > div > div:nth-child(3) > div:nth-child(2) > div:nth-child(1) > div > div > p:nth-child(2)\").text)\n",
    "    driver.execute_script(\"window.history.go(-1)\")"
   ]
  },
  {
   "cell_type": "code",
   "execution_count": 116,
   "id": "be6001f2",
   "metadata": {},
   "outputs": [
    {
     "name": "stderr",
     "output_type": "stream",
     "text": [
      "\n",
      "\n",
      "====== WebDriver manager ======\n",
      "Current google-chrome version is 96.0.4664\n",
      "Get LATEST chromedriver version for 96.0.4664 google-chrome\n",
      "Driver [/Users/macniacos/.wdm/drivers/chromedriver/mac64/96.0.4664.45/chromedriver] found in cache\n",
      "<ipython-input-116-577e3626bda4>:2: DeprecationWarning: executable_path has been deprecated, please pass in a Service object\n",
      "  driver = webdriver.Chrome(ChromeDriverManager().install(), options = opciones)\n",
      "<ipython-input-116-577e3626bda4>:11: DeprecationWarning: find_element_by_* commands are deprecated. Please use find_element() instead\n",
      "  driver.find_element_by_css_selector(f\"#banda_cookies > a:nth-child(2)\").click()\n",
      "<ipython-input-116-577e3626bda4>:13: DeprecationWarning: find_element_by_* commands are deprecated. Please use find_element() instead\n",
      "  driver.find_element_by_css_selector(f\"#_diputadomodule_legislatura\").click()\n",
      "<ipython-input-116-577e3626bda4>:15: DeprecationWarning: find_element_by_* commands are deprecated. Please use find_element() instead\n",
      "  driver.find_element_by_css_selector(f\"#_diputadomodule_legislatura > option:nth-child(8)\").click()\n",
      "<ipython-input-116-577e3626bda4>:18: DeprecationWarning: find_element_by_* commands are deprecated. Please use find_element() instead\n",
      "  driver.find_element_by_css_selector(f\"#_diputadomodule_searchButtonDiputadosForm > span\").click()\n",
      "<ipython-input-116-577e3626bda4>:20: DeprecationWarning: find_element_by_* commands are deprecated. Please use find_element() instead\n",
      "  driver.find_element_by_css_selector(f\"#_diputadomodule_paginationLinksDiputados > li:nth-child(9) > a\").click()\n",
      "<ipython-input-116-577e3626bda4>:22: DeprecationWarning: find_element_by_* commands are deprecated. Please use find_element() instead\n",
      "  driver.find_element_by_css_selector(f\"#_diputadomodule_paginationLinksDiputados > li:nth-child(6) > a\").click()\n",
      "<ipython-input-116-577e3626bda4>:30: DeprecationWarning: find_element_by_* commands are deprecated. Please use find_element() instead\n",
      "  driver.find_element_by_css_selector(f\"#_diputadomodule_contentPaginationDiputados > table > tbody > tr:nth-child({i}) > th > a\").click()\n",
      "<ipython-input-116-577e3626bda4>:31: DeprecationWarning: find_element_by_* commands are deprecated. Please use find_element() instead\n",
      "  nombre20.append(driver.find_element_by_css_selector(f\"#portlet_diputadomodule > div > div.portlet-content-container > div > div:nth-child(3) > div:nth-child(1) > div.col-sm-8.col-12.pl-0 > div\").text)\n",
      "<ipython-input-116-577e3626bda4>:32: DeprecationWarning: find_element_by_* commands are deprecated. Please use find_element() instead\n",
      "  nacimiento20.append(driver.find_element_by_css_selector(f\"#portlet_diputadomodule > div > div.portlet-content-container > div > div:nth-child(3) > div:nth-child(2) > div:nth-child(1) > div > div > p:nth-child(2)\").text)\n"
     ]
    }
   ],
   "source": [
    "# download the driver \n",
    "driver = webdriver.Chrome(ChromeDriverManager().install(), options = opciones)\n",
    "\n",
    "# set the url\n",
    "url2 = \"https://www.congreso.es/busqueda-de-diputados\"\n",
    "\n",
    "driver.get(url2)\n",
    " \n",
    "driver.implicitly_wait(1000) # is like a time.sleep but specific of selenium\n",
    "\n",
    "driver.find_element_by_css_selector(f\"#banda_cookies > a:nth-child(2)\").click()  \n",
    "driver.implicitly_wait(10000) # is like a time.sleep but specific of selenium\n",
    "driver.find_element_by_css_selector(f\"#_diputadomodule_legislatura\").click()\n",
    "driver.implicitly_wait(10000) # is like a time.sleep but specific of selenium\n",
    "driver.find_element_by_css_selector(f\"#_diputadomodule_legislatura > option:nth-child(8)\").click()\n",
    "\n",
    "driver.implicitly_wait(10000) # is like a time.sleep but specific of selenium\n",
    "driver.find_element_by_css_selector(f\"#_diputadomodule_searchButtonDiputadosForm > span\").click()\n",
    "\n",
    "driver.find_element_by_css_selector(f\"#_diputadomodule_paginationLinksDiputados > li:nth-child(9) > a\").click()  \n",
    "driver.implicitly_wait(15000) # is like a time.sleep but specific of selenium\n",
    "driver.find_element_by_css_selector(f\"#_diputadomodule_paginationLinksDiputados > li:nth-child(6) > a\").click() \n",
    "driver.implicitly_wait(2000) # is like a time.sleep but specific of selenium\n",
    "\n",
    "nombre20 = []\n",
    "nacimiento20 = []\n",
    "\n",
    "for i in range (1,21):\n",
    "    driver.implicitly_wait(5000) # is like a time.sleep but specific of selenium\n",
    "    driver.find_element_by_css_selector(f\"#_diputadomodule_contentPaginationDiputados > table > tbody > tr:nth-child({i}) > th > a\").click()  \n",
    "    nombre20.append(driver.find_element_by_css_selector(f\"#portlet_diputadomodule > div > div.portlet-content-container > div > div:nth-child(3) > div:nth-child(1) > div.col-sm-8.col-12.pl-0 > div\").text)\n",
    "    nacimiento20.append(driver.find_element_by_css_selector(f\"#portlet_diputadomodule > div > div.portlet-content-container > div > div:nth-child(3) > div:nth-child(2) > div:nth-child(1) > div > div > p:nth-child(2)\").text)\n",
    "    driver.execute_script(\"window.history.go(-1)\")"
   ]
  },
  {
   "cell_type": "code",
   "execution_count": 117,
   "id": "f34988b7",
   "metadata": {},
   "outputs": [
    {
     "data": {
      "text/plain": [
       "20"
      ]
     },
     "execution_count": 117,
     "metadata": {},
     "output_type": "execute_result"
    }
   ],
   "source": [
    "len(nombre20)"
   ]
  },
  {
   "cell_type": "code",
   "execution_count": 118,
   "id": "4636f46c",
   "metadata": {},
   "outputs": [
    {
     "name": "stderr",
     "output_type": "stream",
     "text": [
      "\n",
      "\n",
      "====== WebDriver manager ======\n",
      "Current google-chrome version is 96.0.4664\n",
      "Get LATEST chromedriver version for 96.0.4664 google-chrome\n",
      "Driver [/Users/macniacos/.wdm/drivers/chromedriver/mac64/96.0.4664.45/chromedriver] found in cache\n",
      "<ipython-input-118-6e164cddc16d>:2: DeprecationWarning: executable_path has been deprecated, please pass in a Service object\n",
      "  driver = webdriver.Chrome(ChromeDriverManager().install(), options = opciones)\n",
      "<ipython-input-118-6e164cddc16d>:11: DeprecationWarning: find_element_by_* commands are deprecated. Please use find_element() instead\n",
      "  driver.find_element_by_css_selector(f\"#banda_cookies > a:nth-child(2)\").click()\n",
      "<ipython-input-118-6e164cddc16d>:13: DeprecationWarning: find_element_by_* commands are deprecated. Please use find_element() instead\n",
      "  driver.find_element_by_css_selector(f\"#_diputadomodule_legislatura\").click()\n",
      "<ipython-input-118-6e164cddc16d>:15: DeprecationWarning: find_element_by_* commands are deprecated. Please use find_element() instead\n",
      "  driver.find_element_by_css_selector(f\"#_diputadomodule_legislatura > option:nth-child(8)\").click()\n",
      "<ipython-input-118-6e164cddc16d>:18: DeprecationWarning: find_element_by_* commands are deprecated. Please use find_element() instead\n",
      "  driver.find_element_by_css_selector(f\"#_diputadomodule_searchButtonDiputadosForm > span\").click()\n",
      "<ipython-input-118-6e164cddc16d>:20: DeprecationWarning: find_element_by_* commands are deprecated. Please use find_element() instead\n",
      "  driver.find_element_by_css_selector(f\"#_diputadomodule_paginationLinksDiputados > li:nth-child(9) > a\").click()\n",
      "<ipython-input-118-6e164cddc16d>:28: DeprecationWarning: find_element_by_* commands are deprecated. Please use find_element() instead\n",
      "  driver.find_element_by_css_selector(f\"#_diputadomodule_contentPaginationDiputados > table > tbody > tr:nth-child({i}) > th > a\").click()\n",
      "<ipython-input-118-6e164cddc16d>:29: DeprecationWarning: find_element_by_* commands are deprecated. Please use find_element() instead\n",
      "  nombre21.append(driver.find_element_by_css_selector(f\"#portlet_diputadomodule > div > div.portlet-content-container > div > div:nth-child(3) > div:nth-child(1) > div.col-sm-8.col-12.pl-0 > div\").text)\n",
      "<ipython-input-118-6e164cddc16d>:30: DeprecationWarning: find_element_by_* commands are deprecated. Please use find_element() instead\n",
      "  nacimiento21.append(driver.find_element_by_css_selector(f\"#portlet_diputadomodule > div > div.portlet-content-container > div > div:nth-child(3) > div:nth-child(2) > div:nth-child(1) > div > div > p:nth-child(2)\").text)\n"
     ]
    }
   ],
   "source": [
    "# download the driver \n",
    "driver = webdriver.Chrome(ChromeDriverManager().install(), options = opciones)\n",
    "\n",
    "# set the url\n",
    "url2 = \"https://www.congreso.es/busqueda-de-diputados\"\n",
    "\n",
    "driver.get(url2)\n",
    " \n",
    "driver.implicitly_wait(1000) # is like a time.sleep but specific of selenium\n",
    "\n",
    "driver.find_element_by_css_selector(f\"#banda_cookies > a:nth-child(2)\").click()  \n",
    "driver.implicitly_wait(10000) # is like a time.sleep but specific of selenium\n",
    "driver.find_element_by_css_selector(f\"#_diputadomodule_legislatura\").click()\n",
    "driver.implicitly_wait(10000) # is like a time.sleep but specific of selenium\n",
    "driver.find_element_by_css_selector(f\"#_diputadomodule_legislatura > option:nth-child(8)\").click()\n",
    "\n",
    "driver.implicitly_wait(10000) # is like a time.sleep but specific of selenium\n",
    "driver.find_element_by_css_selector(f\"#_diputadomodule_searchButtonDiputadosForm > span\").click()\n",
    "\n",
    "driver.find_element_by_css_selector(f\"#_diputadomodule_paginationLinksDiputados > li:nth-child(9) > a\").click()  \n",
    "driver.implicitly_wait(15000) # is like a time.sleep but specific of selenium\n",
    "\n",
    "nombre21 = []\n",
    "nacimiento21 = []\n",
    "\n",
    "for i in range (1,17):\n",
    "    driver.implicitly_wait(5000) # is like a time.sleep but specific of selenium\n",
    "    driver.find_element_by_css_selector(f\"#_diputadomodule_contentPaginationDiputados > table > tbody > tr:nth-child({i}) > th > a\").click()  \n",
    "    nombre21.append(driver.find_element_by_css_selector(f\"#portlet_diputadomodule > div > div.portlet-content-container > div > div:nth-child(3) > div:nth-child(1) > div.col-sm-8.col-12.pl-0 > div\").text)\n",
    "    nacimiento21.append(driver.find_element_by_css_selector(f\"#portlet_diputadomodule > div > div.portlet-content-container > div > div:nth-child(3) > div:nth-child(2) > div:nth-child(1) > div > div > p:nth-child(2)\").text)\n",
    "    driver.execute_script(\"window.history.go(-1)\")"
   ]
  },
  {
   "cell_type": "code",
   "execution_count": null,
   "id": "1f951da2",
   "metadata": {},
   "outputs": [],
   "source": []
  },
  {
   "cell_type": "code",
   "execution_count": null,
   "id": "57fab064",
   "metadata": {},
   "outputs": [],
   "source": []
  },
  {
   "cell_type": "code",
   "execution_count": 121,
   "id": "3f8170a5",
   "metadata": {
    "scrolled": true
   },
   "outputs": [],
   "source": [
    "Nacimiento = nacimiento + nacimiento18 + nacimiento19 + nacimiento20 + nacimiento21 + nacimiento3 + nacimiento4 + nacimiento5 + nacimiento6 + nacimiento7 + nacimiento8 +  nacimiento9 + nacimiento10 + nacimiento11 + nacimiento12 +  nacimiento13 + nacimiento14 + nacimiento15 +  nacimiento6 + nacimiento17 + nacimiento18"
   ]
  },
  {
   "cell_type": "code",
   "execution_count": 122,
   "id": "7a3cf984",
   "metadata": {},
   "outputs": [],
   "source": [
    "born = [i.split(\" en\")[0] for i in Nacimiento]"
   ]
  },
  {
   "cell_type": "code",
   "execution_count": 123,
   "id": "d90a809d",
   "metadata": {},
   "outputs": [],
   "source": [
    "Fecha = [i.split(\"l \")[1] for i in born]"
   ]
  },
  {
   "cell_type": "code",
   "execution_count": 124,
   "id": "fd02ef71",
   "metadata": {},
   "outputs": [],
   "source": [
    "Nombre = nombre + nombre18 + nombre19 + nombre20 + nombre21 + nombre3 + nombre4 + nombre5 + nombre6 + nombre7 + nombre8 +  nombre9 + nombre10 + nombre11 + nombre12 +  nombre13 + nombre14 + nombre15 +  nombre16 + nombre17 + nombre18"
   ]
  },
  {
   "cell_type": "code",
   "execution_count": null,
   "id": "848c16e8",
   "metadata": {},
   "outputs": [],
   "source": []
  },
  {
   "cell_type": "code",
   "execution_count": null,
   "id": "0f3634c9",
   "metadata": {},
   "outputs": [],
   "source": []
  },
  {
   "cell_type": "code",
   "execution_count": null,
   "id": "9855e7e8",
   "metadata": {},
   "outputs": [],
   "source": []
  },
  {
   "cell_type": "code",
   "execution_count": 125,
   "id": "24c811ad",
   "metadata": {},
   "outputs": [],
   "source": [
    "nombredf = pd.DataFrame(Nombre)\n",
    "fechadf = pd.DataFrame(Fecha)\n",
    "\n",
    "\n",
    "nombredf = nombredf.rename(columns={0: 'Nombre'})\n",
    "fechadf = fechadf.rename(columns={0: 'Nacimiento'})\n"
   ]
  },
  {
   "cell_type": "code",
   "execution_count": 126,
   "id": "ee683e6b",
   "metadata": {},
   "outputs": [],
   "source": [
    "df = pd.concat([nombredf, fechadf], axis=1)"
   ]
  },
  {
   "cell_type": "code",
   "execution_count": 127,
   "id": "bb7845f3",
   "metadata": {},
   "outputs": [
    {
     "data": {
      "text/html": [
       "<div>\n",
       "<style scoped>\n",
       "    .dataframe tbody tr th:only-of-type {\n",
       "        vertical-align: middle;\n",
       "    }\n",
       "\n",
       "    .dataframe tbody tr th {\n",
       "        vertical-align: top;\n",
       "    }\n",
       "\n",
       "    .dataframe thead th {\n",
       "        text-align: right;\n",
       "    }\n",
       "</style>\n",
       "<table border=\"1\" class=\"dataframe\">\n",
       "  <thead>\n",
       "    <tr style=\"text-align: right;\">\n",
       "      <th></th>\n",
       "      <th>Nombre</th>\n",
       "      <th>Nacimiento</th>\n",
       "    </tr>\n",
       "  </thead>\n",
       "  <tbody>\n",
       "    <tr>\n",
       "      <th>0</th>\n",
       "      <td>Abascal Escuza, Santiago</td>\n",
       "      <td>30/10/1949</td>\n",
       "    </tr>\n",
       "    <tr>\n",
       "      <th>1</th>\n",
       "      <td>Acebes Paniagua, Ángel Jesús</td>\n",
       "      <td>03/07/1958</td>\n",
       "    </tr>\n",
       "    <tr>\n",
       "      <th>2</th>\n",
       "      <td>Acevedo Fernández, Gervasio</td>\n",
       "      <td>03/11/1941</td>\n",
       "    </tr>\n",
       "    <tr>\n",
       "      <th>3</th>\n",
       "      <td>Acín Boned, Luis</td>\n",
       "      <td>29/11/1948</td>\n",
       "    </tr>\n",
       "    <tr>\n",
       "      <th>4</th>\n",
       "      <td>Acosta Cubero, José</td>\n",
       "      <td>24/05/1947</td>\n",
       "    </tr>\n",
       "    <tr>\n",
       "      <th>...</th>\n",
       "      <td>...</td>\n",
       "      <td>...</td>\n",
       "    </tr>\n",
       "    <tr>\n",
       "      <th>411</th>\n",
       "      <td>Romeu Martí, Francesc Joaquim</td>\n",
       "      <td>21/05/1974</td>\n",
       "    </tr>\n",
       "    <tr>\n",
       "      <th>412</th>\n",
       "      <td>Rubiales Torrejón, Amparo</td>\n",
       "      <td>20/10/1945</td>\n",
       "    </tr>\n",
       "    <tr>\n",
       "      <th>413</th>\n",
       "      <td>Rudi Úbeda, Luisa Fernanda</td>\n",
       "      <td>13/12/1950</td>\n",
       "    </tr>\n",
       "    <tr>\n",
       "      <th>414</th>\n",
       "      <td>Ruiz López, Antero</td>\n",
       "      <td>13/11/1950</td>\n",
       "    </tr>\n",
       "    <tr>\n",
       "      <th>415</th>\n",
       "      <td>Ruiz López, Juan Carlos</td>\n",
       "      <td>04/06/1967</td>\n",
       "    </tr>\n",
       "  </tbody>\n",
       "</table>\n",
       "<p>416 rows × 2 columns</p>\n",
       "</div>"
      ],
      "text/plain": [
       "                            Nombre  Nacimiento\n",
       "0         Abascal Escuza, Santiago  30/10/1949\n",
       "1     Acebes Paniagua, Ángel Jesús  03/07/1958\n",
       "2      Acevedo Fernández, Gervasio  03/11/1941\n",
       "3                 Acín Boned, Luis  29/11/1948\n",
       "4              Acosta Cubero, José  24/05/1947\n",
       "..                             ...         ...\n",
       "411  Romeu Martí, Francesc Joaquim  21/05/1974\n",
       "412      Rubiales Torrejón, Amparo  20/10/1945\n",
       "413     Rudi Úbeda, Luisa Fernanda  13/12/1950\n",
       "414             Ruiz López, Antero  13/11/1950\n",
       "415        Ruiz López, Juan Carlos  04/06/1967\n",
       "\n",
       "[416 rows x 2 columns]"
      ]
     },
     "execution_count": 127,
     "metadata": {},
     "output_type": "execute_result"
    }
   ],
   "source": [
    "df"
   ]
  },
  {
   "cell_type": "code",
   "execution_count": 128,
   "id": "3b1c574e",
   "metadata": {},
   "outputs": [
    {
     "data": {
      "text/html": [
       "<div>\n",
       "<style scoped>\n",
       "    .dataframe tbody tr th:only-of-type {\n",
       "        vertical-align: middle;\n",
       "    }\n",
       "\n",
       "    .dataframe tbody tr th {\n",
       "        vertical-align: top;\n",
       "    }\n",
       "\n",
       "    .dataframe thead th {\n",
       "        text-align: right;\n",
       "    }\n",
       "</style>\n",
       "<table border=\"1\" class=\"dataframe\">\n",
       "  <thead>\n",
       "    <tr style=\"text-align: right;\">\n",
       "      <th></th>\n",
       "      <th>Nombre</th>\n",
       "      <th>Nacimiento</th>\n",
       "      <th>year</th>\n",
       "      <th>month</th>\n",
       "      <th>day</th>\n",
       "    </tr>\n",
       "  </thead>\n",
       "  <tbody>\n",
       "    <tr>\n",
       "      <th>0</th>\n",
       "      <td>Abascal Escuza, Santiago</td>\n",
       "      <td>30/10/1949</td>\n",
       "      <td>1949</td>\n",
       "      <td>10</td>\n",
       "      <td>30</td>\n",
       "    </tr>\n",
       "    <tr>\n",
       "      <th>1</th>\n",
       "      <td>Acebes Paniagua, Ángel Jesús</td>\n",
       "      <td>03/07/1958</td>\n",
       "      <td>1958</td>\n",
       "      <td>3</td>\n",
       "      <td>7</td>\n",
       "    </tr>\n",
       "    <tr>\n",
       "      <th>2</th>\n",
       "      <td>Acevedo Fernández, Gervasio</td>\n",
       "      <td>03/11/1941</td>\n",
       "      <td>1941</td>\n",
       "      <td>3</td>\n",
       "      <td>11</td>\n",
       "    </tr>\n",
       "  </tbody>\n",
       "</table>\n",
       "</div>"
      ],
      "text/plain": [
       "                         Nombre  Nacimiento  year  month  day\n",
       "0      Abascal Escuza, Santiago  30/10/1949  1949     10   30\n",
       "1  Acebes Paniagua, Ángel Jesús  03/07/1958  1958      3    7\n",
       "2   Acevedo Fernández, Gervasio  03/11/1941  1941      3   11"
      ]
     },
     "execution_count": 128,
     "metadata": {},
     "output_type": "execute_result"
    }
   ],
   "source": [
    "df['year'] = pd.DatetimeIndex(df['Nacimiento']).year\n",
    "df['month'] = pd.DatetimeIndex(df['Nacimiento']).month\n",
    "df['day'] = pd.DatetimeIndex(df['Nacimiento']).day\n",
    "df.head(3)"
   ]
  },
  {
   "cell_type": "code",
   "execution_count": 129,
   "id": "df24b6dc",
   "metadata": {},
   "outputs": [],
   "source": [
    "def trimestres(row):\n",
    "    if row['month'] < 4 :\n",
    "        return 1\n",
    "    elif row['month'] < 7:\n",
    "        return 2\n",
    "    elif row['month'] < 10:\n",
    "        return 3\n",
    "    else:\n",
    "        return 4    "
   ]
  },
  {
   "cell_type": "code",
   "execution_count": 130,
   "id": "e66f56f8",
   "metadata": {},
   "outputs": [],
   "source": [
    "df['trimestre'] = df.apply (lambda month: trimestres(month), axis=1)"
   ]
  },
  {
   "cell_type": "code",
   "execution_count": 134,
   "id": "0c0e7cec",
   "metadata": {},
   "outputs": [],
   "source": [
    "df.to_csv('../../Data/diputados00.csv', encoding='utf-8')"
   ]
  },
  {
   "cell_type": "code",
   "execution_count": 135,
   "id": "6cae5349",
   "metadata": {},
   "outputs": [
    {
     "data": {
      "image/png": "[encoded data removed]",
      "text/plain": [
       "<Figure size 1224x576 with 1 Axes>"
      ]
     },
     "metadata": {},
     "output_type": "display_data"
    }
   ],
   "source": [
    "ax = sns.countplot(x=\"month\", data=df)"
   ]
  },
  {
   "cell_type": "code",
   "execution_count": 136,
   "id": "94da6ab7",
   "metadata": {},
   "outputs": [
    {
     "data": {
      "image/png": "[encoded data removed]",
      "text/plain": [
       "<Figure size 1224x576 with 1 Axes>"
      ]
     },
     "metadata": {},
     "output_type": "display_data"
    }
   ],
   "source": [
    "ax = sns.countplot(x=\"trimestre\", data=df)"
   ]
  },
  {
   "cell_type": "code",
   "execution_count": 99,
   "id": "f8a53bcf",
   "metadata": {},
   "outputs": [
    {
     "data": {
      "text/html": [
       "<div>\n",
       "<style scoped>\n",
       "    .dataframe tbody tr th:only-of-type {\n",
       "        vertical-align: middle;\n",
       "    }\n",
       "\n",
       "    .dataframe tbody tr th {\n",
       "        vertical-align: top;\n",
       "    }\n",
       "\n",
       "    .dataframe thead th {\n",
       "        text-align: right;\n",
       "    }\n",
       "</style>\n",
       "<table border=\"1\" class=\"dataframe\">\n",
       "  <thead>\n",
       "    <tr style=\"text-align: right;\">\n",
       "      <th></th>\n",
       "      <th>Nombre</th>\n",
       "      <th>Nacimiento</th>\n",
       "      <th>year</th>\n",
       "      <th>month</th>\n",
       "      <th>day</th>\n",
       "      <th>trimestre</th>\n",
       "    </tr>\n",
       "  </thead>\n",
       "  <tbody>\n",
       "    <tr>\n",
       "      <th>0</th>\n",
       "      <td>Ábalos Meco, José Luis</td>\n",
       "      <td>09/12/1959</td>\n",
       "      <td>1959</td>\n",
       "      <td>9</td>\n",
       "      <td>12</td>\n",
       "      <td>3</td>\n",
       "    </tr>\n",
       "    <tr>\n",
       "      <th>1</th>\n",
       "      <td>Abascal Conde, Santiago</td>\n",
       "      <td>14/04/1976</td>\n",
       "      <td>1976</td>\n",
       "      <td>4</td>\n",
       "      <td>14</td>\n",
       "      <td>2</td>\n",
       "    </tr>\n",
       "    <tr>\n",
       "      <th>2</th>\n",
       "      <td>Aceves Galindo, José Luis</td>\n",
       "      <td>21/05/1970</td>\n",
       "      <td>1970</td>\n",
       "      <td>5</td>\n",
       "      <td>21</td>\n",
       "      <td>2</td>\n",
       "    </tr>\n",
       "    <tr>\n",
       "      <th>3</th>\n",
       "      <td>Agirretxea Urresti, Joseba Andoni</td>\n",
       "      <td>06/08/1966</td>\n",
       "      <td>1966</td>\n",
       "      <td>6</td>\n",
       "      <td>8</td>\n",
       "      <td>2</td>\n",
       "    </tr>\n",
       "    <tr>\n",
       "      <th>4</th>\n",
       "      <td>Aizcorbe Torra, Juan José</td>\n",
       "      <td>09/07/1959</td>\n",
       "      <td>1959</td>\n",
       "      <td>9</td>\n",
       "      <td>7</td>\n",
       "      <td>3</td>\n",
       "    </tr>\n",
       "    <tr>\n",
       "      <th>...</th>\n",
       "      <td>...</td>\n",
       "      <td>...</td>\n",
       "      <td>...</td>\n",
       "      <td>...</td>\n",
       "      <td>...</td>\n",
       "      <td>...</td>\n",
       "    </tr>\n",
       "    <tr>\n",
       "      <th>343</th>\n",
       "      <td>Villagrasa Quero, Noemí</td>\n",
       "      <td>14/09/1980</td>\n",
       "      <td>1980</td>\n",
       "      <td>9</td>\n",
       "      <td>14</td>\n",
       "      <td>3</td>\n",
       "    </tr>\n",
       "    <tr>\n",
       "      <th>344</th>\n",
       "      <td>Zamarrón Moreno, Agustín</td>\n",
       "      <td>02/02/1946</td>\n",
       "      <td>1946</td>\n",
       "      <td>2</td>\n",
       "      <td>2</td>\n",
       "      <td>1</td>\n",
       "    </tr>\n",
       "    <tr>\n",
       "      <th>345</th>\n",
       "      <td>Zambrano García-Raez, Carlos José</td>\n",
       "      <td>23/02/1969</td>\n",
       "      <td>1969</td>\n",
       "      <td>2</td>\n",
       "      <td>23</td>\n",
       "      <td>1</td>\n",
       "    </tr>\n",
       "    <tr>\n",
       "      <th>346</th>\n",
       "      <td>Zaragoza Alonso, José</td>\n",
       "      <td>12/09/1961</td>\n",
       "      <td>1961</td>\n",
       "      <td>12</td>\n",
       "      <td>9</td>\n",
       "      <td>4</td>\n",
       "    </tr>\n",
       "    <tr>\n",
       "      <th>347</th>\n",
       "      <td>Zurita Expósito, Ana María</td>\n",
       "      <td>03/11/1963</td>\n",
       "      <td>1963</td>\n",
       "      <td>3</td>\n",
       "      <td>11</td>\n",
       "      <td>1</td>\n",
       "    </tr>\n",
       "  </tbody>\n",
       "</table>\n",
       "<p>348 rows × 6 columns</p>\n",
       "</div>"
      ],
      "text/plain": [
       "                                Nombre  Nacimiento  year  month  day  \\\n",
       "0               Ábalos Meco, José Luis  09/12/1959  1959      9   12   \n",
       "1              Abascal Conde, Santiago  14/04/1976  1976      4   14   \n",
       "2            Aceves Galindo, José Luis  21/05/1970  1970      5   21   \n",
       "3    Agirretxea Urresti, Joseba Andoni  06/08/1966  1966      6    8   \n",
       "4            Aizcorbe Torra, Juan José  09/07/1959  1959      9    7   \n",
       "..                                 ...         ...   ...    ...  ...   \n",
       "343            Villagrasa Quero, Noemí  14/09/1980  1980      9   14   \n",
       "344           Zamarrón Moreno, Agustín  02/02/1946  1946      2    2   \n",
       "345  Zambrano García-Raez, Carlos José  23/02/1969  1969      2   23   \n",
       "346              Zaragoza Alonso, José  12/09/1961  1961     12    9   \n",
       "347         Zurita Expósito, Ana María  03/11/1963  1963      3   11   \n",
       "\n",
       "     trimestre  \n",
       "0            3  \n",
       "1            2  \n",
       "2            2  \n",
       "3            2  \n",
       "4            3  \n",
       "..         ...  \n",
       "343          3  \n",
       "344          1  \n",
       "345          1  \n",
       "346          4  \n",
       "347          1  \n",
       "\n",
       "[348 rows x 6 columns]"
      ]
     },
     "execution_count": 99,
     "metadata": {},
     "output_type": "execute_result"
    }
   ],
   "source": [
    "df"
   ]
  },
  {
   "cell_type": "code",
   "execution_count": null,
   "id": "aef09880",
   "metadata": {},
   "outputs": [],
   "source": []
  }
 ],
 "metadata": {
  "kernelspec": {
   "display_name": "ironhack",
   "language": "python",
   "name": "ironhack"
  },
  "language_info": {
   "codemirror_mode": {
    "name": "ipython",
    "version": 3
   },
   "file_extension": ".py",
   "mimetype": "text/x-python",
   "name": "python",
   "nbconvert_exporter": "python",
   "pygments_lexer": "ipython3",
   "version": "3.8.5"
  }
 },
 "nbformat": 4,
 "nbformat_minor": 5
}
