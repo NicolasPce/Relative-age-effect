{
 "cells": [
  {
   "cell_type": "code",
   "execution_count": 1,
   "id": "ea2e3e35",
   "metadata": {},
   "outputs": [],
   "source": [
    "import pandas as pd\n",
    "import numpy as np\n",
    "import datetime\n",
    "import seaborn as sns\n",
    "sns.set_theme(style=\"darkgrid\")\n",
    "sns.set({\"figure.figsize\":(17,8)})\n",
    "sns.set(font_scale = 1.15)"
   ]
  },
  {
   "cell_type": "code",
   "execution_count": 2,
   "id": "a043b971",
   "metadata": {},
   "outputs": [],
   "source": [
    "# Nos traemos el data set \n",
    "ff = pd.read_csv(\"../../Raw Data/female_players_22.csv\",encoding = \"ISO-8859-1\")"
   ]
  },
  {
   "cell_type": "code",
   "execution_count": 3,
   "id": "f27c7209",
   "metadata": {},
   "outputs": [
    {
     "data": {
      "text/html": [
       "<div>\n",
       "<style scoped>\n",
       "    .dataframe tbody tr th:only-of-type {\n",
       "        vertical-align: middle;\n",
       "    }\n",
       "\n",
       "    .dataframe tbody tr th {\n",
       "        vertical-align: top;\n",
       "    }\n",
       "\n",
       "    .dataframe thead th {\n",
       "        text-align: right;\n",
       "    }\n",
       "</style>\n",
       "<table border=\"1\" class=\"dataframe\">\n",
       "  <thead>\n",
       "    <tr style=\"text-align: right;\">\n",
       "      <th></th>\n",
       "      <th>short_name</th>\n",
       "      <th>player_positions</th>\n",
       "      <th>overall</th>\n",
       "      <th>nationality_name</th>\n",
       "      <th>age</th>\n",
       "      <th>dob</th>\n",
       "      <th>height_cm</th>\n",
       "      <th>weight_kg</th>\n",
       "    </tr>\n",
       "  </thead>\n",
       "  <tbody>\n",
       "    <tr>\n",
       "      <th>0</th>\n",
       "      <td>L. Bronze</td>\n",
       "      <td>RB, CM</td>\n",
       "      <td>92</td>\n",
       "      <td>England</td>\n",
       "      <td>29</td>\n",
       "      <td>1991-10-28</td>\n",
       "      <td>171</td>\n",
       "      <td>67</td>\n",
       "    </tr>\n",
       "    <tr>\n",
       "      <th>1</th>\n",
       "      <td>W. Renard</td>\n",
       "      <td>CB</td>\n",
       "      <td>92</td>\n",
       "      <td>France</td>\n",
       "      <td>30</td>\n",
       "      <td>1990-07-20</td>\n",
       "      <td>187</td>\n",
       "      <td>70</td>\n",
       "    </tr>\n",
       "    <tr>\n",
       "      <th>2</th>\n",
       "      <td>V. Miedema</td>\n",
       "      <td>ST</td>\n",
       "      <td>92</td>\n",
       "      <td>Netherlands</td>\n",
       "      <td>24</td>\n",
       "      <td>1996-07-15</td>\n",
       "      <td>178</td>\n",
       "      <td>65</td>\n",
       "    </tr>\n",
       "  </tbody>\n",
       "</table>\n",
       "</div>"
      ],
      "text/plain": [
       "   short_name player_positions  overall nationality_name  age         dob  \\\n",
       "0   L. Bronze           RB, CM       92          England   29  1991-10-28   \n",
       "1   W. Renard               CB       92           France   30  1990-07-20   \n",
       "2  V. Miedema               ST       92      Netherlands   24  1996-07-15   \n",
       "\n",
       "   height_cm  weight_kg  \n",
       "0        171         67  \n",
       "1        187         70  \n",
       "2        178         65  "
      ]
     },
     "execution_count": 3,
     "metadata": {},
     "output_type": "execute_result"
    }
   ],
   "source": [
    "#Seleccionamos las columnas que nos interesan\n",
    "selected_columns = ff[[\"short_name\",\"player_positions\",\"overall\",\"nationality_name\",\"age\",\"dob\",\"height_cm\",\"weight_kg\",]]\n",
    "df = selected_columns.copy()\n",
    "df.head(3)"
   ]
  },
  {
   "cell_type": "code",
   "execution_count": 4,
   "id": "92be8801",
   "metadata": {},
   "outputs": [
    {
     "data": {
      "text/html": [
       "<div>\n",
       "<style scoped>\n",
       "    .dataframe tbody tr th:only-of-type {\n",
       "        vertical-align: middle;\n",
       "    }\n",
       "\n",
       "    .dataframe tbody tr th {\n",
       "        vertical-align: top;\n",
       "    }\n",
       "\n",
       "    .dataframe thead th {\n",
       "        text-align: right;\n",
       "    }\n",
       "</style>\n",
       "<table border=\"1\" class=\"dataframe\">\n",
       "  <thead>\n",
       "    <tr style=\"text-align: right;\">\n",
       "      <th></th>\n",
       "      <th>short_name</th>\n",
       "      <th>player_positions</th>\n",
       "      <th>overall</th>\n",
       "      <th>nationality_name</th>\n",
       "      <th>age</th>\n",
       "      <th>dob</th>\n",
       "      <th>height_cm</th>\n",
       "      <th>weight_kg</th>\n",
       "      <th>year</th>\n",
       "      <th>month</th>\n",
       "      <th>day</th>\n",
       "    </tr>\n",
       "  </thead>\n",
       "  <tbody>\n",
       "    <tr>\n",
       "      <th>0</th>\n",
       "      <td>L. Bronze</td>\n",
       "      <td>RB, CM</td>\n",
       "      <td>92</td>\n",
       "      <td>England</td>\n",
       "      <td>29</td>\n",
       "      <td>1991-10-28</td>\n",
       "      <td>171</td>\n",
       "      <td>67</td>\n",
       "      <td>1991</td>\n",
       "      <td>10</td>\n",
       "      <td>28</td>\n",
       "    </tr>\n",
       "    <tr>\n",
       "      <th>1</th>\n",
       "      <td>W. Renard</td>\n",
       "      <td>CB</td>\n",
       "      <td>92</td>\n",
       "      <td>France</td>\n",
       "      <td>30</td>\n",
       "      <td>1990-07-20</td>\n",
       "      <td>187</td>\n",
       "      <td>70</td>\n",
       "      <td>1990</td>\n",
       "      <td>7</td>\n",
       "      <td>20</td>\n",
       "    </tr>\n",
       "    <tr>\n",
       "      <th>2</th>\n",
       "      <td>V. Miedema</td>\n",
       "      <td>ST</td>\n",
       "      <td>92</td>\n",
       "      <td>Netherlands</td>\n",
       "      <td>24</td>\n",
       "      <td>1996-07-15</td>\n",
       "      <td>178</td>\n",
       "      <td>65</td>\n",
       "      <td>1996</td>\n",
       "      <td>7</td>\n",
       "      <td>15</td>\n",
       "    </tr>\n",
       "  </tbody>\n",
       "</table>\n",
       "</div>"
      ],
      "text/plain": [
       "   short_name player_positions  overall nationality_name  age         dob  \\\n",
       "0   L. Bronze           RB, CM       92          England   29  1991-10-28   \n",
       "1   W. Renard               CB       92           France   30  1990-07-20   \n",
       "2  V. Miedema               ST       92      Netherlands   24  1996-07-15   \n",
       "\n",
       "   height_cm  weight_kg  year  month  day  \n",
       "0        171         67  1991     10   28  \n",
       "1        187         70  1990      7   20  \n",
       "2        178         65  1996      7   15  "
      ]
     },
     "execution_count": 4,
     "metadata": {},
     "output_type": "execute_result"
    }
   ],
   "source": [
    "df['year'] = pd.DatetimeIndex(df['dob']).year\n",
    "df['month'] = pd.DatetimeIndex(df['dob']).month\n",
    "df['day'] = pd.DatetimeIndex(df['dob']).day\n",
    "df.head(3)"
   ]
  },
  {
   "cell_type": "code",
   "execution_count": 5,
   "id": "f519841c",
   "metadata": {},
   "outputs": [],
   "source": [
    "df.drop(df[(df['nationality_name'] == \"Brazil\") & (df['month'] == 2)  & (df['day'] == 29)].index, inplace=True)"
   ]
  },
  {
   "cell_type": "code",
   "execution_count": 6,
   "id": "09cb0b3a",
   "metadata": {},
   "outputs": [],
   "source": [
    "df = df.loc[df[\"nationality_name\"] != \"England\"]\n",
    "df = df.loc[df[\"nationality_name\"] != \"United States\"]\n",
    "df = df.loc[df[\"nationality_name\"] != \"Scotland\"]\n",
    "df = df.loc[df[\"nationality_name\"] != \"Netherlands\"]"
   ]
  },
  {
   "cell_type": "code",
   "execution_count": 7,
   "id": "dfcfad85",
   "metadata": {},
   "outputs": [],
   "source": [
    "def trimestres(row):\n",
    "    if row['month'] < 4 :\n",
    "        return 1\n",
    "    elif row['month'] < 7:\n",
    "        return 2\n",
    "    elif row['month'] < 10:\n",
    "        return 3\n",
    "    else:\n",
    "        return 4   "
   ]
  },
  {
   "cell_type": "code",
   "execution_count": 8,
   "id": "83ad2af7",
   "metadata": {},
   "outputs": [],
   "source": [
    "df['trimestre'] = df.apply (lambda month: trimestres(month), axis=1)"
   ]
  },
  {
   "cell_type": "code",
   "execution_count": 9,
   "id": "143193b0",
   "metadata": {},
   "outputs": [
    {
     "data": {
      "text/html": [
       "<div>\n",
       "<style scoped>\n",
       "    .dataframe tbody tr th:only-of-type {\n",
       "        vertical-align: middle;\n",
       "    }\n",
       "\n",
       "    .dataframe tbody tr th {\n",
       "        vertical-align: top;\n",
       "    }\n",
       "\n",
       "    .dataframe thead th {\n",
       "        text-align: right;\n",
       "    }\n",
       "</style>\n",
       "<table border=\"1\" class=\"dataframe\">\n",
       "  <thead>\n",
       "    <tr style=\"text-align: right;\">\n",
       "      <th></th>\n",
       "      <th>short_name</th>\n",
       "      <th>player_positions</th>\n",
       "      <th>overall</th>\n",
       "      <th>nationality_name</th>\n",
       "      <th>age</th>\n",
       "      <th>dob</th>\n",
       "      <th>height_cm</th>\n",
       "      <th>weight_kg</th>\n",
       "      <th>year</th>\n",
       "      <th>month</th>\n",
       "      <th>day</th>\n",
       "      <th>trimestre</th>\n",
       "    </tr>\n",
       "  </thead>\n",
       "  <tbody>\n",
       "    <tr>\n",
       "      <th>1</th>\n",
       "      <td>W. Renard</td>\n",
       "      <td>CB</td>\n",
       "      <td>92</td>\n",
       "      <td>France</td>\n",
       "      <td>30</td>\n",
       "      <td>1990-07-20</td>\n",
       "      <td>187</td>\n",
       "      <td>70</td>\n",
       "      <td>1990</td>\n",
       "      <td>7</td>\n",
       "      <td>20</td>\n",
       "      <td>3</td>\n",
       "    </tr>\n",
       "    <tr>\n",
       "      <th>3</th>\n",
       "      <td>S. Kerr</td>\n",
       "      <td>ST, LW</td>\n",
       "      <td>91</td>\n",
       "      <td>Australia</td>\n",
       "      <td>27</td>\n",
       "      <td>1993-09-10</td>\n",
       "      <td>167</td>\n",
       "      <td>55</td>\n",
       "      <td>1993</td>\n",
       "      <td>9</td>\n",
       "      <td>10</td>\n",
       "      <td>3</td>\n",
       "    </tr>\n",
       "    <tr>\n",
       "      <th>5</th>\n",
       "      <td>D. MarozsÃ¡n</td>\n",
       "      <td>CAM, LM, CM</td>\n",
       "      <td>90</td>\n",
       "      <td>Germany</td>\n",
       "      <td>29</td>\n",
       "      <td>1992-04-18</td>\n",
       "      <td>171</td>\n",
       "      <td>67</td>\n",
       "      <td>1992</td>\n",
       "      <td>4</td>\n",
       "      <td>18</td>\n",
       "      <td>2</td>\n",
       "    </tr>\n",
       "  </tbody>\n",
       "</table>\n",
       "</div>"
      ],
      "text/plain": [
       "     short_name player_positions  overall nationality_name  age         dob  \\\n",
       "1     W. Renard               CB       92           France   30  1990-07-20   \n",
       "3       S. Kerr           ST, LW       91        Australia   27  1993-09-10   \n",
       "5  D. MarozsÃ¡n      CAM, LM, CM       90          Germany   29  1992-04-18   \n",
       "\n",
       "   height_cm  weight_kg  year  month  day  trimestre  \n",
       "1        187         70  1990      7   20          3  \n",
       "3        167         55  1993      9   10          3  \n",
       "5        171         67  1992      4   18          2  "
      ]
     },
     "execution_count": 9,
     "metadata": {},
     "output_type": "execute_result"
    }
   ],
   "source": [
    "df.head(3)"
   ]
  },
  {
   "cell_type": "code",
   "execution_count": 10,
   "id": "8b74e82a",
   "metadata": {},
   "outputs": [
    {
     "data": {
      "image/png": "[encoded data removed]",
      "text/plain": [
       "<Figure size 1224x576 with 1 Axes>"
      ]
     },
     "metadata": {},
     "output_type": "display_data"
    }
   ],
   "source": [
    "ax = sns.countplot(x=\"month\", data=df)"
   ]
  },
  {
   "cell_type": "code",
   "execution_count": 11,
   "id": "3f664a0d",
   "metadata": {},
   "outputs": [
    {
     "data": {
      "image/png": "[encoded data removed]",
      "text/plain": [
       "<Figure size 1224x576 with 1 Axes>"
      ]
     },
     "metadata": {},
     "output_type": "display_data"
    }
   ],
   "source": [
    "ax = sns.countplot(x=\"trimestre\", data=df)"
   ]
  },
  {
   "cell_type": "code",
   "execution_count": 12,
   "id": "8ffdb83d",
   "metadata": {},
   "outputs": [
    {
     "data": {
      "text/plain": [
       "[Text(0, 0.5, 'Percent')]"
      ]
     },
     "execution_count": 12,
     "metadata": {},
     "output_type": "execute_result"
    },
    {
     "data": {
      "image/png": "[encoded data removed]",
      "text/plain": [
       "<Figure size 1224x576 with 1 Axes>"
      ]
     },
     "metadata": {},
     "output_type": "display_data"
    }
   ],
   "source": [
    "ax = sns.barplot(x=\"trimestre\", y=\"trimestre\", data=df, estimator=lambda x: len(x) / len(df) * 100) \n",
    "ax.set(ylabel=\"Percent\")"
   ]
  },
  {
   "cell_type": "code",
   "execution_count": 13,
   "id": "5669bc28",
   "metadata": {},
   "outputs": [],
   "source": [
    "df.to_csv('../../Data/mujeresf.csv', encoding='utf-8')"
   ]
  },
  {
   "cell_type": "code",
   "execution_count": null,
   "id": "e80510fb",
   "metadata": {},
   "outputs": [],
   "source": []
  }
 ],
 "metadata": {
  "kernelspec": {
   "display_name": "ironhack",
   "language": "python",
   "name": "ironhack"
  },
  "language_info": {
   "codemirror_mode": {
    "name": "ipython",
    "version": 3
   },
   "file_extension": ".py",
   "mimetype": "text/x-python",
   "name": "python",
   "nbconvert_exporter": "python",
   "pygments_lexer": "ipython3",
   "version": "3.8.5"
  }
 },
 "nbformat": 4,
 "nbformat_minor": 5
}
