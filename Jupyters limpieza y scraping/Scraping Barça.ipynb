{
 "cells": [
  {
   "cell_type": "code",
   "execution_count": 1,
   "id": "d03d0d7e",
   "metadata": {},
   "outputs": [],
   "source": [
    "from selenium import webdriver\n",
    "from selenium.webdriver.chrome.options import Options\n",
    "import time\n",
    "import pandas as pd\n",
    "from selenium.webdriver.support.ui import Select\n",
    "from webdriver_manager.chrome import ChromeDriverManager\n",
    "import pandas as pd\n",
    "import numpy as np\n",
    "import datetime\n",
    "import seaborn as sns\n",
    "sns.set_theme(style=\"darkgrid\")\n",
    "sns.set({\"figure.figsize\":(17,8)})\n",
    "sns.set(font_scale = 1.15)\n",
    "import numpy as np\n",
    "import datetime\n",
    "import seaborn as sns\n",
    "sns.set_theme(style=\"darkgrid\")\n",
    "sns.set({\"figure.figsize\":(17,8)})\n",
    "sns.set(font_scale = 1.15)"
   ]
  },
  {
   "cell_type": "code",
   "execution_count": 2,
   "id": "fbe3327c",
   "metadata": {},
   "outputs": [],
   "source": [
    "opciones=Options()\n",
    "\n",
    "opciones.add_experimental_option('excludeSwitches', ['enable-automation'])\n",
    "opciones.add_experimental_option('useAutomationExtension', False)\n",
    "\n",
    "\n",
    "opciones.binary_location = \"/Applications/Google Chrome.app/Contents/MacOS/Google Chrome\"\n",
    "chrome_driver_binary = \"/usr/local/bin/chromedriver\"\n",
    "\n",
    "opciones.headless=False    # si True, no aperece la ventana (headless=no visible)\n",
    "\n",
    "\n",
    "opciones.add_argument(\"--start-maximized\")         # comienza maximizado\n",
    "\n",
    "opciones.add_argument('user-data-dir=selenium')    # mantiene las cookies\n",
    "\n",
    "#opciones.add_extension('driver_folder/adblock.crx')       # adblocker\n",
    "\n",
    "opciones.add_argument('--incognito')              # incognito\n",
    "#modal-policy > ul > li:nth-child(1) > button\n"
   ]
  },
  {
   "cell_type": "code",
   "execution_count": 3,
   "id": "31c49cf9",
   "metadata": {
    "scrolled": true
   },
   "outputs": [
    {
     "name": "stderr",
     "output_type": "stream",
     "text": [
      "\n",
      "\n",
      "====== WebDriver manager ======\n",
      "Current google-chrome version is 96.0.4664\n",
      "Get LATEST chromedriver version for 96.0.4664 google-chrome\n",
      "Driver [/Users/macniacos/.wdm/drivers/chromedriver/mac64/96.0.4664.45/chromedriver] found in cache\n",
      "<ipython-input-3-4fa377050436>:2: DeprecationWarning: executable_path has been deprecated, please pass in a Service object\n",
      "  driver = webdriver.Chrome(ChromeDriverManager().install(), options = opciones)\n",
      "<ipython-input-3-4fa377050436>:15: DeprecationWarning: find_element_by_* commands are deprecated. Please use find_element() instead\n",
      "  driver.find_element_by_css_selector(f\"#fcbarcelona-button-accept\").click()\n",
      "<ipython-input-3-4fa377050436>:24: DeprecationWarning: find_element_by_* commands are deprecated. Please use find_element() instead\n",
      "  nombre.append(driver.find_element_by_css_selector(f\"#main > div > div > div > div > section > div > article > section > div > table > tbody > tr:nth-child({i}) > td:nth-child(1)\").text)\n",
      "<ipython-input-3-4fa377050436>:25: DeprecationWarning: find_element_by_* commands are deprecated. Please use find_element() instead\n",
      "  nacimiento.append(driver.find_element_by_css_selector(f\"#main > div > div > div > div > section > div > article > section > div > table > tbody > tr:nth-child({i})> td:nth-child(3)\").text)\n"
     ]
    }
   ],
   "source": [
    "# download the driver \n",
    "driver = webdriver.Chrome(ChromeDriverManager().install(), options = opciones)\n",
    "\n",
    "# set the url\n",
    "url2 = \"https://www.fcbarcelona.es/es/futbol/formativo-masculino/prebenjamin/jugadores\"\n",
    "\n",
    "nombre = []\n",
    "nacimiento = []\n",
    "\n",
    "# request the url\n",
    "driver.get(url2)\n",
    " \n",
    "driver.implicitly_wait(40000) # is like a time.sleep but specific of selenium\n",
    "\n",
    "driver.find_element_by_css_selector(f\"#fcbarcelona-button-accept\").click()  \n",
    "driver.implicitly_wait(40000) # is like a time.sleep but specific of selenium\n",
    "\n",
    "\n",
    "#1\n",
    "for i in range (2,14):\n",
    "    \n",
    "    \n",
    "    \n",
    "    nombre.append(driver.find_element_by_css_selector(f\"#main > div > div > div > div > section > div > article > section > div > table > tbody > tr:nth-child({i}) > td:nth-child(1)\").text)\n",
    "    nacimiento.append(driver.find_element_by_css_selector(f\"#main > div > div > div > div > section > div > article > section > div > table > tbody > tr:nth-child({i})> td:nth-child(3)\").text)\n",
    "    "
   ]
  },
  {
   "cell_type": "code",
   "execution_count": 4,
   "id": "de72fff4",
   "metadata": {},
   "outputs": [],
   "source": [
    "nombredf = pd.DataFrame(nombre)\n",
    "fechadf = pd.DataFrame(nacimiento)\n",
    "\n",
    "\n",
    "nombredf = nombredf.rename(columns={0: 'Nombre'})\n",
    "fechadf = fechadf.rename(columns={0: 'Nacimiento'})"
   ]
  },
  {
   "cell_type": "code",
   "execution_count": 5,
   "id": "23f16678",
   "metadata": {},
   "outputs": [],
   "source": [
    "df = pd.concat([nombredf, fechadf], axis=1)"
   ]
  },
  {
   "cell_type": "code",
   "execution_count": 6,
   "id": "9a1e9454",
   "metadata": {},
   "outputs": [
    {
     "data": {
      "text/html": [
       "<div>\n",
       "<style scoped>\n",
       "    .dataframe tbody tr th:only-of-type {\n",
       "        vertical-align: middle;\n",
       "    }\n",
       "\n",
       "    .dataframe tbody tr th {\n",
       "        vertical-align: top;\n",
       "    }\n",
       "\n",
       "    .dataframe thead th {\n",
       "        text-align: right;\n",
       "    }\n",
       "</style>\n",
       "<table border=\"1\" class=\"dataframe\">\n",
       "  <thead>\n",
       "    <tr style=\"text-align: right;\">\n",
       "      <th></th>\n",
       "      <th>Nombre</th>\n",
       "      <th>Nacimiento</th>\n",
       "    </tr>\n",
       "  </thead>\n",
       "  <tbody>\n",
       "    <tr>\n",
       "      <th>0</th>\n",
       "      <td>Roc Baeza Utrera</td>\n",
       "      <td>06/02/2013</td>\n",
       "    </tr>\n",
       "    <tr>\n",
       "      <th>1</th>\n",
       "      <td>Jan Fernández Pi</td>\n",
       "      <td>02/07/2012</td>\n",
       "    </tr>\n",
       "    <tr>\n",
       "      <th>2</th>\n",
       "      <td>Kossay Chakkour Chanouki</td>\n",
       "      <td>29/01/2013</td>\n",
       "    </tr>\n",
       "  </tbody>\n",
       "</table>\n",
       "</div>"
      ],
      "text/plain": [
       "                     Nombre  Nacimiento\n",
       "0          Roc Baeza Utrera  06/02/2013\n",
       "1          Jan Fernández Pi  02/07/2012\n",
       "2  Kossay Chakkour Chanouki  29/01/2013"
      ]
     },
     "execution_count": 6,
     "metadata": {},
     "output_type": "execute_result"
    }
   ],
   "source": [
    "df.head(3)"
   ]
  },
  {
   "cell_type": "code",
   "execution_count": 7,
   "id": "cab9bc7d",
   "metadata": {},
   "outputs": [],
   "source": [
    "dfp = df"
   ]
  },
  {
   "cell_type": "code",
   "execution_count": 8,
   "id": "0f6cfb7e",
   "metadata": {},
   "outputs": [],
   "source": [
    "dfp['Categoría'] = 'Prebenjamín'"
   ]
  },
  {
   "cell_type": "code",
   "execution_count": 9,
   "id": "ea633e4b",
   "metadata": {},
   "outputs": [
    {
     "data": {
      "text/html": [
       "<div>\n",
       "<style scoped>\n",
       "    .dataframe tbody tr th:only-of-type {\n",
       "        vertical-align: middle;\n",
       "    }\n",
       "\n",
       "    .dataframe tbody tr th {\n",
       "        vertical-align: top;\n",
       "    }\n",
       "\n",
       "    .dataframe thead th {\n",
       "        text-align: right;\n",
       "    }\n",
       "</style>\n",
       "<table border=\"1\" class=\"dataframe\">\n",
       "  <thead>\n",
       "    <tr style=\"text-align: right;\">\n",
       "      <th></th>\n",
       "      <th>Nombre</th>\n",
       "      <th>Nacimiento</th>\n",
       "      <th>Categoría</th>\n",
       "    </tr>\n",
       "  </thead>\n",
       "  <tbody>\n",
       "    <tr>\n",
       "      <th>0</th>\n",
       "      <td>Roc Baeza Utrera</td>\n",
       "      <td>06/02/2013</td>\n",
       "      <td>Prebenjamín</td>\n",
       "    </tr>\n",
       "    <tr>\n",
       "      <th>1</th>\n",
       "      <td>Jan Fernández Pi</td>\n",
       "      <td>02/07/2012</td>\n",
       "      <td>Prebenjamín</td>\n",
       "    </tr>\n",
       "    <tr>\n",
       "      <th>2</th>\n",
       "      <td>Kossay Chakkour Chanouki</td>\n",
       "      <td>29/01/2013</td>\n",
       "      <td>Prebenjamín</td>\n",
       "    </tr>\n",
       "  </tbody>\n",
       "</table>\n",
       "</div>"
      ],
      "text/plain": [
       "                     Nombre  Nacimiento    Categoría\n",
       "0          Roc Baeza Utrera  06/02/2013  Prebenjamín\n",
       "1          Jan Fernández Pi  02/07/2012  Prebenjamín\n",
       "2  Kossay Chakkour Chanouki  29/01/2013  Prebenjamín"
      ]
     },
     "execution_count": 9,
     "metadata": {},
     "output_type": "execute_result"
    }
   ],
   "source": [
    "dfp.head(3)"
   ]
  },
  {
   "cell_type": "code",
   "execution_count": 10,
   "id": "7e7c378a",
   "metadata": {},
   "outputs": [
    {
     "name": "stderr",
     "output_type": "stream",
     "text": [
      "\n",
      "\n",
      "====== WebDriver manager ======\n",
      "Current google-chrome version is 96.0.4664\n",
      "Get LATEST chromedriver version for 96.0.4664 google-chrome\n",
      "Driver [/Users/macniacos/.wdm/drivers/chromedriver/mac64/96.0.4664.45/chromedriver] found in cache\n",
      "<ipython-input-10-99516e410a62>:2: DeprecationWarning: executable_path has been deprecated, please pass in a Service object\n",
      "  driver = webdriver.Chrome(ChromeDriverManager().install(), options = opciones)\n",
      "<ipython-input-10-99516e410a62>:15: DeprecationWarning: find_element_by_* commands are deprecated. Please use find_element() instead\n",
      "  driver.find_element_by_css_selector(f\"#fcbarcelona-button-accept\").click()\n",
      "<ipython-input-10-99516e410a62>:24: DeprecationWarning: find_element_by_* commands are deprecated. Please use find_element() instead\n",
      "  nombre.append(driver.find_element_by_css_selector(f\"#main > div > div > div > div > section > div > article > section > div > table > tbody > tr:nth-child({i}) > td:nth-child(1)\").text)\n",
      "<ipython-input-10-99516e410a62>:25: DeprecationWarning: find_element_by_* commands are deprecated. Please use find_element() instead\n",
      "  nacimiento.append(driver.find_element_by_css_selector(f\"#main > div > div > div > div > section > div > article > section > div > table > tbody > tr:nth-child({i})> td:nth-child(3)\").text)\n"
     ]
    }
   ],
   "source": [
    "# download the driver \n",
    "driver = webdriver.Chrome(ChromeDriverManager().install(), options = opciones)\n",
    "\n",
    "# set the url\n",
    "url2 = \"https://www.fcbarcelona.es/es/futbol/formativo-masculino/benjamin-d/jugadores\"\n",
    "\n",
    "nombre = []\n",
    "nacimiento = []\n",
    "\n",
    "# request the url\n",
    "driver.get(url2)\n",
    " \n",
    "driver.implicitly_wait(40000) # is like a time.sleep but specific of selenium\n",
    "\n",
    "driver.find_element_by_css_selector(f\"#fcbarcelona-button-accept\").click()  \n",
    "driver.implicitly_wait(40000) # is like a time.sleep but specific of selenium\n",
    "\n",
    "\n",
    "#1\n",
    "for i in range (2,14):\n",
    "    \n",
    "    \n",
    "    \n",
    "    nombre.append(driver.find_element_by_css_selector(f\"#main > div > div > div > div > section > div > article > section > div > table > tbody > tr:nth-child({i}) > td:nth-child(1)\").text)\n",
    "    nacimiento.append(driver.find_element_by_css_selector(f\"#main > div > div > div > div > section > div > article > section > div > table > tbody > tr:nth-child({i})> td:nth-child(3)\").text)\n",
    "    "
   ]
  },
  {
   "cell_type": "code",
   "execution_count": 11,
   "id": "77b8d6c7",
   "metadata": {},
   "outputs": [
    {
     "name": "stderr",
     "output_type": "stream",
     "text": [
      "\n",
      "\n",
      "====== WebDriver manager ======\n",
      "Current google-chrome version is 96.0.4664\n",
      "Get LATEST chromedriver version for 96.0.4664 google-chrome\n",
      "Driver [/Users/macniacos/.wdm/drivers/chromedriver/mac64/96.0.4664.45/chromedriver] found in cache\n",
      "<ipython-input-11-535588b24ef8>:2: DeprecationWarning: executable_path has been deprecated, please pass in a Service object\n",
      "  driver = webdriver.Chrome(ChromeDriverManager().install(), options = opciones)\n",
      "<ipython-input-11-535588b24ef8>:13: DeprecationWarning: find_element_by_* commands are deprecated. Please use find_element() instead\n",
      "  driver.find_element_by_css_selector(f\"#fcbarcelona-button-accept\").click()\n",
      "<ipython-input-11-535588b24ef8>:22: DeprecationWarning: find_element_by_* commands are deprecated. Please use find_element() instead\n",
      "  nombre.append(driver.find_element_by_css_selector(f\"#main > div > div > div > div > section > div > article > section > div > table > tbody > tr:nth-child({i}) > td:nth-child(1)\").text)\n",
      "<ipython-input-11-535588b24ef8>:23: DeprecationWarning: find_element_by_* commands are deprecated. Please use find_element() instead\n",
      "  nacimiento.append(driver.find_element_by_css_selector(f\"#main > div > div > div > div > section > div > article > section > div > table > tbody > tr:nth-child({i})> td:nth-child(3)\").text)\n"
     ]
    }
   ],
   "source": [
    "# download the driver \n",
    "driver = webdriver.Chrome(ChromeDriverManager().install(), options = opciones)\n",
    "\n",
    "# set the url\n",
    "url2 = \"https://www.fcbarcelona.es/es/futbol/formativo-masculino/benjamin-c/jugadores\"\n",
    "\n",
    "\n",
    "# request the url\n",
    "driver.get(url2)\n",
    " \n",
    "driver.implicitly_wait(40000) # is like a time.sleep but specific of selenium\n",
    "\n",
    "driver.find_element_by_css_selector(f\"#fcbarcelona-button-accept\").click()  \n",
    "driver.implicitly_wait(40000) # is like a time.sleep but specific of selenium\n",
    "\n",
    "\n",
    "#1\n",
    "for i in range (2,13):\n",
    "    \n",
    "    \n",
    "    \n",
    "    nombre.append(driver.find_element_by_css_selector(f\"#main > div > div > div > div > section > div > article > section > div > table > tbody > tr:nth-child({i}) > td:nth-child(1)\").text)\n",
    "    nacimiento.append(driver.find_element_by_css_selector(f\"#main > div > div > div > div > section > div > article > section > div > table > tbody > tr:nth-child({i})> td:nth-child(3)\").text)\n",
    "    "
   ]
  },
  {
   "cell_type": "code",
   "execution_count": 12,
   "id": "3d63f986",
   "metadata": {},
   "outputs": [
    {
     "name": "stderr",
     "output_type": "stream",
     "text": [
      "\n",
      "\n",
      "====== WebDriver manager ======\n",
      "Current google-chrome version is 96.0.4664\n",
      "Get LATEST chromedriver version for 96.0.4664 google-chrome\n",
      "Driver [/Users/macniacos/.wdm/drivers/chromedriver/mac64/96.0.4664.45/chromedriver] found in cache\n",
      "<ipython-input-12-4d94e3f6e0df>:2: DeprecationWarning: executable_path has been deprecated, please pass in a Service object\n",
      "  driver = webdriver.Chrome(ChromeDriverManager().install(), options = opciones)\n",
      "<ipython-input-12-4d94e3f6e0df>:13: DeprecationWarning: find_element_by_* commands are deprecated. Please use find_element() instead\n",
      "  driver.find_element_by_css_selector(f\"#fcbarcelona-button-accept\").click()\n",
      "<ipython-input-12-4d94e3f6e0df>:22: DeprecationWarning: find_element_by_* commands are deprecated. Please use find_element() instead\n",
      "  nombre.append(driver.find_element_by_css_selector(f\"#main > div > div > div > div > section > div > article > section > div > table > tbody > tr:nth-child({i}) > td:nth-child(1)\").text)\n",
      "<ipython-input-12-4d94e3f6e0df>:23: DeprecationWarning: find_element_by_* commands are deprecated. Please use find_element() instead\n",
      "  nacimiento.append(driver.find_element_by_css_selector(f\"#main > div > div > div > div > section > div > article > section > div > table > tbody > tr:nth-child({i})> td:nth-child(3)\").text)\n"
     ]
    }
   ],
   "source": [
    "# download the driver \n",
    "driver = webdriver.Chrome(ChromeDriverManager().install(), options = opciones)\n",
    "\n",
    "# set the url\n",
    "url2 = \"https://www.fcbarcelona.es/es/futbol/formativo-masculino/benjamin-b/jugadores\"\n",
    "\n",
    "\n",
    "# request the url\n",
    "driver.get(url2)\n",
    " \n",
    "driver.implicitly_wait(40000) # is like a time.sleep but specific of selenium\n",
    "\n",
    "driver.find_element_by_css_selector(f\"#fcbarcelona-button-accept\").click()  \n",
    "driver.implicitly_wait(40000) # is like a time.sleep but specific of selenium\n",
    "\n",
    "\n",
    "#1\n",
    "for i in range (2,14):\n",
    "    \n",
    "    \n",
    "    \n",
    "    nombre.append(driver.find_element_by_css_selector(f\"#main > div > div > div > div > section > div > article > section > div > table > tbody > tr:nth-child({i}) > td:nth-child(1)\").text)\n",
    "    nacimiento.append(driver.find_element_by_css_selector(f\"#main > div > div > div > div > section > div > article > section > div > table > tbody > tr:nth-child({i})> td:nth-child(3)\").text)\n",
    "    "
   ]
  },
  {
   "cell_type": "code",
   "execution_count": 13,
   "id": "963f8719",
   "metadata": {},
   "outputs": [
    {
     "name": "stderr",
     "output_type": "stream",
     "text": [
      "\n",
      "\n",
      "====== WebDriver manager ======\n",
      "Current google-chrome version is 96.0.4664\n",
      "Get LATEST chromedriver version for 96.0.4664 google-chrome\n",
      "Driver [/Users/macniacos/.wdm/drivers/chromedriver/mac64/96.0.4664.45/chromedriver] found in cache\n",
      "<ipython-input-13-1112e919eb7e>:2: DeprecationWarning: executable_path has been deprecated, please pass in a Service object\n",
      "  driver = webdriver.Chrome(ChromeDriverManager().install(), options = opciones)\n",
      "<ipython-input-13-1112e919eb7e>:13: DeprecationWarning: find_element_by_* commands are deprecated. Please use find_element() instead\n",
      "  driver.find_element_by_css_selector(f\"#fcbarcelona-button-accept\").click()\n",
      "<ipython-input-13-1112e919eb7e>:22: DeprecationWarning: find_element_by_* commands are deprecated. Please use find_element() instead\n",
      "  nombre.append(driver.find_element_by_css_selector(f\"#main > div > div > div > div > section > div > article > section > div > table > tbody > tr:nth-child({i}) > td:nth-child(1)\").text)\n",
      "<ipython-input-13-1112e919eb7e>:23: DeprecationWarning: find_element_by_* commands are deprecated. Please use find_element() instead\n",
      "  nacimiento.append(driver.find_element_by_css_selector(f\"#main > div > div > div > div > section > div > article > section > div > table > tbody > tr:nth-child({i})> td:nth-child(3)\").text)\n"
     ]
    }
   ],
   "source": [
    "# download the driver \n",
    "driver = webdriver.Chrome(ChromeDriverManager().install(), options = opciones)\n",
    "\n",
    "# set the url\n",
    "url2 = \"https://www.fcbarcelona.es/es/futbol/formativo-masculino/benjamin-a/jugadores\"\n",
    "\n",
    "\n",
    "# request the url\n",
    "driver.get(url2)\n",
    " \n",
    "driver.implicitly_wait(40000) # is like a time.sleep but specific of selenium\n",
    "\n",
    "driver.find_element_by_css_selector(f\"#fcbarcelona-button-accept\").click()  \n",
    "driver.implicitly_wait(40000) # is like a time.sleep but specific of selenium\n",
    "\n",
    "\n",
    "#1\n",
    "for i in range (2,13):\n",
    "    \n",
    "    \n",
    "    \n",
    "    nombre.append(driver.find_element_by_css_selector(f\"#main > div > div > div > div > section > div > article > section > div > table > tbody > tr:nth-child({i}) > td:nth-child(1)\").text)\n",
    "    nacimiento.append(driver.find_element_by_css_selector(f\"#main > div > div > div > div > section > div > article > section > div > table > tbody > tr:nth-child({i})> td:nth-child(3)\").text)\n",
    "    "
   ]
  },
  {
   "cell_type": "code",
   "execution_count": 14,
   "id": "47b437f6",
   "metadata": {},
   "outputs": [],
   "source": [
    "nombredf = pd.DataFrame(nombre)\n",
    "fechadf = pd.DataFrame(nacimiento)\n",
    "\n",
    "\n",
    "nombredf = nombredf.rename(columns={0: 'Nombre'})\n",
    "fechadf = fechadf.rename(columns={0: 'Nacimiento'})"
   ]
  },
  {
   "cell_type": "code",
   "execution_count": 15,
   "id": "daf6ce13",
   "metadata": {},
   "outputs": [],
   "source": [
    "df = pd.concat([nombredf, fechadf], axis=1)"
   ]
  },
  {
   "cell_type": "code",
   "execution_count": 16,
   "id": "bcbe554b",
   "metadata": {},
   "outputs": [],
   "source": [
    "dfb = df"
   ]
  },
  {
   "cell_type": "code",
   "execution_count": 17,
   "id": "ef2146b7",
   "metadata": {},
   "outputs": [],
   "source": [
    "dfb['Categoría'] = 'Benjamín'"
   ]
  },
  {
   "cell_type": "code",
   "execution_count": 18,
   "id": "e2b5b377",
   "metadata": {},
   "outputs": [
    {
     "data": {
      "text/html": [
       "<div>\n",
       "<style scoped>\n",
       "    .dataframe tbody tr th:only-of-type {\n",
       "        vertical-align: middle;\n",
       "    }\n",
       "\n",
       "    .dataframe tbody tr th {\n",
       "        vertical-align: top;\n",
       "    }\n",
       "\n",
       "    .dataframe thead th {\n",
       "        text-align: right;\n",
       "    }\n",
       "</style>\n",
       "<table border=\"1\" class=\"dataframe\">\n",
       "  <thead>\n",
       "    <tr style=\"text-align: right;\">\n",
       "      <th></th>\n",
       "      <th>Nombre</th>\n",
       "      <th>Nacimiento</th>\n",
       "      <th>Categoría</th>\n",
       "    </tr>\n",
       "  </thead>\n",
       "  <tbody>\n",
       "    <tr>\n",
       "      <th>0</th>\n",
       "      <td>Joel Garcia López</td>\n",
       "      <td>16/01/2012</td>\n",
       "      <td>Benjamín</td>\n",
       "    </tr>\n",
       "    <tr>\n",
       "      <th>1</th>\n",
       "      <td>Biel Chacón Hurtado</td>\n",
       "      <td>09/02/2012</td>\n",
       "      <td>Benjamín</td>\n",
       "    </tr>\n",
       "    <tr>\n",
       "      <th>2</th>\n",
       "      <td>Ybraham Garcia Bazurto</td>\n",
       "      <td>13/07/2012</td>\n",
       "      <td>Benjamín</td>\n",
       "    </tr>\n",
       "  </tbody>\n",
       "</table>\n",
       "</div>"
      ],
      "text/plain": [
       "                   Nombre  Nacimiento Categoría\n",
       "0       Joel Garcia López  16/01/2012  Benjamín\n",
       "1     Biel Chacón Hurtado  09/02/2012  Benjamín\n",
       "2  Ybraham Garcia Bazurto  13/07/2012  Benjamín"
      ]
     },
     "execution_count": 18,
     "metadata": {},
     "output_type": "execute_result"
    }
   ],
   "source": [
    "dfb.head(3)"
   ]
  },
  {
   "cell_type": "code",
   "execution_count": 19,
   "id": "28340b5c",
   "metadata": {},
   "outputs": [
    {
     "name": "stderr",
     "output_type": "stream",
     "text": [
      "\n",
      "\n",
      "====== WebDriver manager ======\n",
      "Current google-chrome version is 96.0.4664\n",
      "Get LATEST chromedriver version for 96.0.4664 google-chrome\n",
      "Driver [/Users/macniacos/.wdm/drivers/chromedriver/mac64/96.0.4664.45/chromedriver] found in cache\n",
      "<ipython-input-19-30bf463455b0>:2: DeprecationWarning: executable_path has been deprecated, please pass in a Service object\n",
      "  driver = webdriver.Chrome(ChromeDriverManager().install(), options = opciones)\n",
      "<ipython-input-19-30bf463455b0>:15: DeprecationWarning: find_element_by_* commands are deprecated. Please use find_element() instead\n",
      "  driver.find_element_by_css_selector(f\"#fcbarcelona-button-accept\").click()\n",
      "<ipython-input-19-30bf463455b0>:24: DeprecationWarning: find_element_by_* commands are deprecated. Please use find_element() instead\n",
      "  nombre.append(driver.find_element_by_css_selector(f\"#main > div > div > div > div > section > div > article > section > div > table > tbody > tr:nth-child({i}) > td:nth-child(1)\").text)\n",
      "<ipython-input-19-30bf463455b0>:25: DeprecationWarning: find_element_by_* commands are deprecated. Please use find_element() instead\n",
      "  nacimiento.append(driver.find_element_by_css_selector(f\"#main > div > div > div > div > section > div > article > section > div > table > tbody > tr:nth-child({i})> td:nth-child(3)\").text)\n"
     ]
    }
   ],
   "source": [
    "# download the driver \n",
    "driver = webdriver.Chrome(ChromeDriverManager().install(), options = opciones)\n",
    "\n",
    "# set the url\n",
    "url2 = \"https://www.fcbarcelona.es/es/futbol/formativo-masculino/alevin-d/jugadores\"\n",
    "\n",
    "nombre = []\n",
    "nacimiento = []\n",
    "\n",
    "# request the url\n",
    "driver.get(url2)\n",
    " \n",
    "driver.implicitly_wait(40000) # is like a time.sleep but specific of selenium\n",
    "\n",
    "driver.find_element_by_css_selector(f\"#fcbarcelona-button-accept\").click()  \n",
    "driver.implicitly_wait(40000) # is like a time.sleep but specific of selenium\n",
    "\n",
    "\n",
    "#1\n",
    "for i in range (2,14):\n",
    "    \n",
    "    \n",
    "    \n",
    "    nombre.append(driver.find_element_by_css_selector(f\"#main > div > div > div > div > section > div > article > section > div > table > tbody > tr:nth-child({i}) > td:nth-child(1)\").text)\n",
    "    nacimiento.append(driver.find_element_by_css_selector(f\"#main > div > div > div > div > section > div > article > section > div > table > tbody > tr:nth-child({i})> td:nth-child(3)\").text)\n",
    "    "
   ]
  },
  {
   "cell_type": "code",
   "execution_count": 20,
   "id": "e4cdcde2",
   "metadata": {},
   "outputs": [
    {
     "name": "stderr",
     "output_type": "stream",
     "text": [
      "\n",
      "\n",
      "====== WebDriver manager ======\n",
      "Current google-chrome version is 96.0.4664\n",
      "Get LATEST chromedriver version for 96.0.4664 google-chrome\n",
      "Driver [/Users/macniacos/.wdm/drivers/chromedriver/mac64/96.0.4664.45/chromedriver] found in cache\n",
      "<ipython-input-20-a88d88940016>:2: DeprecationWarning: executable_path has been deprecated, please pass in a Service object\n",
      "  driver = webdriver.Chrome(ChromeDriverManager().install(), options = opciones)\n",
      "<ipython-input-20-a88d88940016>:13: DeprecationWarning: find_element_by_* commands are deprecated. Please use find_element() instead\n",
      "  driver.find_element_by_css_selector(f\"#fcbarcelona-button-accept\").click()\n",
      "<ipython-input-20-a88d88940016>:22: DeprecationWarning: find_element_by_* commands are deprecated. Please use find_element() instead\n",
      "  nombre.append(driver.find_element_by_css_selector(f\"#main > div > div > div > div > section > div > article > section > div > table > tbody > tr:nth-child({i}) > td:nth-child(1)\").text)\n",
      "<ipython-input-20-a88d88940016>:23: DeprecationWarning: find_element_by_* commands are deprecated. Please use find_element() instead\n",
      "  nacimiento.append(driver.find_element_by_css_selector(f\"#main > div > div > div > div > section > div > article > section > div > table > tbody > tr:nth-child({i})> td:nth-child(3)\").text)\n"
     ]
    }
   ],
   "source": [
    "# download the driver \n",
    "driver = webdriver.Chrome(ChromeDriverManager().install(), options = opciones)\n",
    "\n",
    "# set the url\n",
    "url2 = \"https://www.fcbarcelona.es/es/futbol/formativo-masculino/alevin-c/jugadores\"\n",
    "\n",
    "\n",
    "# request the url\n",
    "driver.get(url2)\n",
    " \n",
    "driver.implicitly_wait(40000) # is like a time.sleep but specific of selenium\n",
    "\n",
    "driver.find_element_by_css_selector(f\"#fcbarcelona-button-accept\").click()  \n",
    "driver.implicitly_wait(40000) # is like a time.sleep but specific of selenium\n",
    "\n",
    "\n",
    "#1\n",
    "for i in range (2,14):\n",
    "    \n",
    "    \n",
    "    \n",
    "    nombre.append(driver.find_element_by_css_selector(f\"#main > div > div > div > div > section > div > article > section > div > table > tbody > tr:nth-child({i}) > td:nth-child(1)\").text)\n",
    "    nacimiento.append(driver.find_element_by_css_selector(f\"#main > div > div > div > div > section > div > article > section > div > table > tbody > tr:nth-child({i})> td:nth-child(3)\").text)\n",
    "    "
   ]
  },
  {
   "cell_type": "code",
   "execution_count": 21,
   "id": "b4606305",
   "metadata": {},
   "outputs": [
    {
     "name": "stderr",
     "output_type": "stream",
     "text": [
      "\n",
      "\n",
      "====== WebDriver manager ======\n",
      "Current google-chrome version is 96.0.4664\n",
      "Get LATEST chromedriver version for 96.0.4664 google-chrome\n",
      "Driver [/Users/macniacos/.wdm/drivers/chromedriver/mac64/96.0.4664.45/chromedriver] found in cache\n",
      "<ipython-input-21-a56af205ba0c>:2: DeprecationWarning: executable_path has been deprecated, please pass in a Service object\n",
      "  driver = webdriver.Chrome(ChromeDriverManager().install(), options = opciones)\n",
      "<ipython-input-21-a56af205ba0c>:13: DeprecationWarning: find_element_by_* commands are deprecated. Please use find_element() instead\n",
      "  driver.find_element_by_css_selector(f\"#fcbarcelona-button-accept\").click()\n",
      "<ipython-input-21-a56af205ba0c>:22: DeprecationWarning: find_element_by_* commands are deprecated. Please use find_element() instead\n",
      "  nombre.append(driver.find_element_by_css_selector(f\"#main > div > div > div > div > section > div > article > section > div > table > tbody > tr:nth-child({i}) > td:nth-child(1)\").text)\n",
      "<ipython-input-21-a56af205ba0c>:23: DeprecationWarning: find_element_by_* commands are deprecated. Please use find_element() instead\n",
      "  nacimiento.append(driver.find_element_by_css_selector(f\"#main > div > div > div > div > section > div > article > section > div > table > tbody > tr:nth-child({i})> td:nth-child(3)\").text)\n"
     ]
    }
   ],
   "source": [
    "# download the driver \n",
    "driver = webdriver.Chrome(ChromeDriverManager().install(), options = opciones)\n",
    "\n",
    "# set the url\n",
    "url2 = \"https://www.fcbarcelona.es/es/futbol/formativo-masculino/alevin-b/jugadores\"\n",
    "\n",
    "\n",
    "# request the url\n",
    "driver.get(url2)\n",
    " \n",
    "driver.implicitly_wait(40000) # is like a time.sleep but specific of selenium\n",
    "\n",
    "driver.find_element_by_css_selector(f\"#fcbarcelona-button-accept\").click()  \n",
    "driver.implicitly_wait(40000) # is like a time.sleep but specific of selenium\n",
    "\n",
    "\n",
    "#1\n",
    "for i in range (2,15):\n",
    "    \n",
    "    \n",
    "    \n",
    "    nombre.append(driver.find_element_by_css_selector(f\"#main > div > div > div > div > section > div > article > section > div > table > tbody > tr:nth-child({i}) > td:nth-child(1)\").text)\n",
    "    nacimiento.append(driver.find_element_by_css_selector(f\"#main > div > div > div > div > section > div > article > section > div > table > tbody > tr:nth-child({i})> td:nth-child(3)\").text)\n",
    "    "
   ]
  },
  {
   "cell_type": "code",
   "execution_count": 22,
   "id": "8430526c",
   "metadata": {},
   "outputs": [
    {
     "name": "stderr",
     "output_type": "stream",
     "text": [
      "\n",
      "\n",
      "====== WebDriver manager ======\n",
      "Current google-chrome version is 96.0.4664\n",
      "Get LATEST chromedriver version for 96.0.4664 google-chrome\n",
      "Driver [/Users/macniacos/.wdm/drivers/chromedriver/mac64/96.0.4664.45/chromedriver] found in cache\n",
      "<ipython-input-22-925a3adae43a>:2: DeprecationWarning: executable_path has been deprecated, please pass in a Service object\n",
      "  driver = webdriver.Chrome(ChromeDriverManager().install(), options = opciones)\n",
      "<ipython-input-22-925a3adae43a>:13: DeprecationWarning: find_element_by_* commands are deprecated. Please use find_element() instead\n",
      "  driver.find_element_by_css_selector(f\"#fcbarcelona-button-accept\").click()\n",
      "<ipython-input-22-925a3adae43a>:22: DeprecationWarning: find_element_by_* commands are deprecated. Please use find_element() instead\n",
      "  nombre.append(driver.find_element_by_css_selector(f\"#main > div > div > div > div > section > div > article > section > div > table > tbody > tr:nth-child({i}) > td:nth-child(1)\").text)\n",
      "<ipython-input-22-925a3adae43a>:23: DeprecationWarning: find_element_by_* commands are deprecated. Please use find_element() instead\n",
      "  nacimiento.append(driver.find_element_by_css_selector(f\"#main > div > div > div > div > section > div > article > section > div > table > tbody > tr:nth-child({i})> td:nth-child(3)\").text)\n"
     ]
    }
   ],
   "source": [
    "# download the driver \n",
    "driver = webdriver.Chrome(ChromeDriverManager().install(), options = opciones)\n",
    "\n",
    "# set the url\n",
    "url2 = \"https://www.fcbarcelona.es/es/futbol/formativo-masculino/alevin-a/jugadores\"\n",
    "\n",
    "\n",
    "# request the url\n",
    "driver.get(url2)\n",
    " \n",
    "driver.implicitly_wait(40000) # is like a time.sleep but specific of selenium\n",
    "\n",
    "driver.find_element_by_css_selector(f\"#fcbarcelona-button-accept\").click()  \n",
    "driver.implicitly_wait(40000) # is like a time.sleep but specific of selenium\n",
    "\n",
    "\n",
    "#1\n",
    "for i in range (2,15):\n",
    "    \n",
    "    \n",
    "    \n",
    "    nombre.append(driver.find_element_by_css_selector(f\"#main > div > div > div > div > section > div > article > section > div > table > tbody > tr:nth-child({i}) > td:nth-child(1)\").text)\n",
    "    nacimiento.append(driver.find_element_by_css_selector(f\"#main > div > div > div > div > section > div > article > section > div > table > tbody > tr:nth-child({i})> td:nth-child(3)\").text)\n",
    "    "
   ]
  },
  {
   "cell_type": "code",
   "execution_count": 23,
   "id": "7a46b821",
   "metadata": {},
   "outputs": [],
   "source": [
    "nombredf = pd.DataFrame(nombre)\n",
    "fechadf = pd.DataFrame(nacimiento)\n",
    "\n",
    "\n",
    "nombredf = nombredf.rename(columns={0: 'Nombre'})\n",
    "fechadf = fechadf.rename(columns={0: 'Nacimiento'})"
   ]
  },
  {
   "cell_type": "code",
   "execution_count": 24,
   "id": "218edcea",
   "metadata": {},
   "outputs": [],
   "source": [
    "df = pd.concat([nombredf, fechadf], axis=1)"
   ]
  },
  {
   "cell_type": "code",
   "execution_count": 25,
   "id": "63ad58fd",
   "metadata": {},
   "outputs": [],
   "source": [
    "dfa = df"
   ]
  },
  {
   "cell_type": "code",
   "execution_count": 26,
   "id": "690089fe",
   "metadata": {},
   "outputs": [],
   "source": [
    "dfa['Categoría'] = 'Alevín'"
   ]
  },
  {
   "cell_type": "code",
   "execution_count": 27,
   "id": "a80b41dc",
   "metadata": {},
   "outputs": [
    {
     "data": {
      "text/html": [
       "<div>\n",
       "<style scoped>\n",
       "    .dataframe tbody tr th:only-of-type {\n",
       "        vertical-align: middle;\n",
       "    }\n",
       "\n",
       "    .dataframe tbody tr th {\n",
       "        vertical-align: top;\n",
       "    }\n",
       "\n",
       "    .dataframe thead th {\n",
       "        text-align: right;\n",
       "    }\n",
       "</style>\n",
       "<table border=\"1\" class=\"dataframe\">\n",
       "  <thead>\n",
       "    <tr style=\"text-align: right;\">\n",
       "      <th></th>\n",
       "      <th>Nombre</th>\n",
       "      <th>Nacimiento</th>\n",
       "      <th>Categoría</th>\n",
       "    </tr>\n",
       "  </thead>\n",
       "  <tbody>\n",
       "    <tr>\n",
       "      <th>0</th>\n",
       "      <td>Pablo Peña López</td>\n",
       "      <td>25/03/2010</td>\n",
       "      <td>Alevín</td>\n",
       "    </tr>\n",
       "    <tr>\n",
       "      <th>1</th>\n",
       "      <td>Hugo Izquierdo Requero</td>\n",
       "      <td>13/03/2010</td>\n",
       "      <td>Alevín</td>\n",
       "    </tr>\n",
       "    <tr>\n",
       "      <th>2</th>\n",
       "      <td>Oriol Olivier Mustaros</td>\n",
       "      <td>24/03/2010</td>\n",
       "      <td>Alevín</td>\n",
       "    </tr>\n",
       "  </tbody>\n",
       "</table>\n",
       "</div>"
      ],
      "text/plain": [
       "                   Nombre  Nacimiento Categoría\n",
       "0        Pablo Peña López  25/03/2010    Alevín\n",
       "1  Hugo Izquierdo Requero  13/03/2010    Alevín\n",
       "2  Oriol Olivier Mustaros  24/03/2010    Alevín"
      ]
     },
     "execution_count": 27,
     "metadata": {},
     "output_type": "execute_result"
    }
   ],
   "source": [
    "dfa.head(3)"
   ]
  },
  {
   "cell_type": "code",
   "execution_count": 28,
   "id": "028e2767",
   "metadata": {},
   "outputs": [
    {
     "data": {
      "text/html": [
       "<div>\n",
       "<style scoped>\n",
       "    .dataframe tbody tr th:only-of-type {\n",
       "        vertical-align: middle;\n",
       "    }\n",
       "\n",
       "    .dataframe tbody tr th {\n",
       "        vertical-align: top;\n",
       "    }\n",
       "\n",
       "    .dataframe thead th {\n",
       "        text-align: right;\n",
       "    }\n",
       "</style>\n",
       "<table border=\"1\" class=\"dataframe\">\n",
       "  <thead>\n",
       "    <tr style=\"text-align: right;\">\n",
       "      <th></th>\n",
       "      <th>Nombre</th>\n",
       "      <th>Nacimiento</th>\n",
       "      <th>Categoría</th>\n",
       "    </tr>\n",
       "  </thead>\n",
       "  <tbody>\n",
       "    <tr>\n",
       "      <th>0</th>\n",
       "      <td>Roc Baeza Utrera</td>\n",
       "      <td>06/02/2013</td>\n",
       "      <td>Prebenjamín</td>\n",
       "    </tr>\n",
       "    <tr>\n",
       "      <th>1</th>\n",
       "      <td>Jan Fernández Pi</td>\n",
       "      <td>02/07/2012</td>\n",
       "      <td>Prebenjamín</td>\n",
       "    </tr>\n",
       "    <tr>\n",
       "      <th>2</th>\n",
       "      <td>Kossay Chakkour Chanouki</td>\n",
       "      <td>29/01/2013</td>\n",
       "      <td>Prebenjamín</td>\n",
       "    </tr>\n",
       "  </tbody>\n",
       "</table>\n",
       "</div>"
      ],
      "text/plain": [
       "                     Nombre  Nacimiento    Categoría\n",
       "0          Roc Baeza Utrera  06/02/2013  Prebenjamín\n",
       "1          Jan Fernández Pi  02/07/2012  Prebenjamín\n",
       "2  Kossay Chakkour Chanouki  29/01/2013  Prebenjamín"
      ]
     },
     "execution_count": 28,
     "metadata": {},
     "output_type": "execute_result"
    }
   ],
   "source": [
    "df7 = pd.concat([dfp, dfb, dfa], axis=0)\n",
    "df7.head(3)"
   ]
  },
  {
   "cell_type": "code",
   "execution_count": 29,
   "id": "a8b0ef44",
   "metadata": {},
   "outputs": [
    {
     "data": {
      "text/html": [
       "<div>\n",
       "<style scoped>\n",
       "    .dataframe tbody tr th:only-of-type {\n",
       "        vertical-align: middle;\n",
       "    }\n",
       "\n",
       "    .dataframe tbody tr th {\n",
       "        vertical-align: top;\n",
       "    }\n",
       "\n",
       "    .dataframe thead th {\n",
       "        text-align: right;\n",
       "    }\n",
       "</style>\n",
       "<table border=\"1\" class=\"dataframe\">\n",
       "  <thead>\n",
       "    <tr style=\"text-align: right;\">\n",
       "      <th></th>\n",
       "      <th>Nombre</th>\n",
       "      <th>Nacimiento</th>\n",
       "      <th>Categoría</th>\n",
       "      <th>year</th>\n",
       "      <th>month</th>\n",
       "      <th>day</th>\n",
       "    </tr>\n",
       "  </thead>\n",
       "  <tbody>\n",
       "    <tr>\n",
       "      <th>0</th>\n",
       "      <td>Roc Baeza Utrera</td>\n",
       "      <td>06/02/2013</td>\n",
       "      <td>Prebenjamín</td>\n",
       "      <td>2013</td>\n",
       "      <td>6</td>\n",
       "      <td>2</td>\n",
       "    </tr>\n",
       "    <tr>\n",
       "      <th>1</th>\n",
       "      <td>Jan Fernández Pi</td>\n",
       "      <td>02/07/2012</td>\n",
       "      <td>Prebenjamín</td>\n",
       "      <td>2012</td>\n",
       "      <td>2</td>\n",
       "      <td>7</td>\n",
       "    </tr>\n",
       "    <tr>\n",
       "      <th>2</th>\n",
       "      <td>Kossay Chakkour Chanouki</td>\n",
       "      <td>29/01/2013</td>\n",
       "      <td>Prebenjamín</td>\n",
       "      <td>2013</td>\n",
       "      <td>1</td>\n",
       "      <td>29</td>\n",
       "    </tr>\n",
       "  </tbody>\n",
       "</table>\n",
       "</div>"
      ],
      "text/plain": [
       "                     Nombre  Nacimiento    Categoría  year  month  day\n",
       "0          Roc Baeza Utrera  06/02/2013  Prebenjamín  2013      6    2\n",
       "1          Jan Fernández Pi  02/07/2012  Prebenjamín  2012      2    7\n",
       "2  Kossay Chakkour Chanouki  29/01/2013  Prebenjamín  2013      1   29"
      ]
     },
     "execution_count": 29,
     "metadata": {},
     "output_type": "execute_result"
    }
   ],
   "source": [
    "df7['year'] = pd.DatetimeIndex(df7['Nacimiento']).year\n",
    "df7['month'] = pd.DatetimeIndex(df7['Nacimiento']).month\n",
    "df7['day'] = pd.DatetimeIndex(df7['Nacimiento']).day\n",
    "df7.head(3)"
   ]
  },
  {
   "cell_type": "code",
   "execution_count": 30,
   "id": "f4c08ef8",
   "metadata": {},
   "outputs": [],
   "source": [
    "def trimestres(row):\n",
    "    if row['month'] < 4 :\n",
    "        return 1\n",
    "    elif row['month'] < 7:\n",
    "        return 2\n",
    "    elif row['month'] < 10:\n",
    "        return 3\n",
    "    else:\n",
    "        return 4 "
   ]
  },
  {
   "cell_type": "code",
   "execution_count": 31,
   "id": "9053ff2a",
   "metadata": {},
   "outputs": [],
   "source": [
    "df7['trimestre'] = df7.apply (lambda month: trimestres(month), axis=1)"
   ]
  },
  {
   "cell_type": "code",
   "execution_count": 33,
   "id": "cb993f2a",
   "metadata": {},
   "outputs": [],
   "source": [
    "df7.to_csv('../../Data/f7Barça.csv', encoding='utf-8')"
   ]
  },
  {
   "cell_type": "code",
   "execution_count": 34,
   "id": "a2435540",
   "metadata": {},
   "outputs": [
    {
     "data": {
      "image/png": "[encoded data removed]",
      "text/plain": [
       "<Figure size 1224x576 with 1 Axes>"
      ]
     },
     "metadata": {},
     "output_type": "display_data"
    }
   ],
   "source": [
    "ax = sns.countplot(x=\"month\", data=df7)"
   ]
  },
  {
   "cell_type": "code",
   "execution_count": 35,
   "id": "b95ee5c2",
   "metadata": {},
   "outputs": [
    {
     "data": {
      "image/png": "[encoded data removed]",
      "text/plain": [
       "<Figure size 1224x576 with 1 Axes>"
      ]
     },
     "metadata": {},
     "output_type": "display_data"
    }
   ],
   "source": [
    "ax = sns.countplot(x=\"trimestre\", data=df7)"
   ]
  },
  {
   "cell_type": "code",
   "execution_count": 36,
   "id": "f905afa2",
   "metadata": {},
   "outputs": [
    {
     "name": "stderr",
     "output_type": "stream",
     "text": [
      "\n",
      "\n",
      "====== WebDriver manager ======\n",
      "Current google-chrome version is 96.0.4664\n",
      "Get LATEST chromedriver version for 96.0.4664 google-chrome\n",
      "Driver [/Users/macniacos/.wdm/drivers/chromedriver/mac64/96.0.4664.45/chromedriver] found in cache\n",
      "<ipython-input-36-e2ee3ece8355>:2: DeprecationWarning: executable_path has been deprecated, please pass in a Service object\n",
      "  driver = webdriver.Chrome(ChromeDriverManager().install(), options = opciones)\n",
      "<ipython-input-36-e2ee3ece8355>:15: DeprecationWarning: find_element_by_* commands are deprecated. Please use find_element() instead\n",
      "  driver.find_element_by_css_selector(f\"#fcbarcelona-button-accept\").click()\n",
      "<ipython-input-36-e2ee3ece8355>:24: DeprecationWarning: find_element_by_* commands are deprecated. Please use find_element() instead\n",
      "  nombre.append(driver.find_element_by_css_selector(f\"#main > div > div > div > div > section > div > article > section > div > table > tbody > tr:nth-child({i}) > td:nth-child(1)\").text)\n",
      "<ipython-input-36-e2ee3ece8355>:25: DeprecationWarning: find_element_by_* commands are deprecated. Please use find_element() instead\n",
      "  nacimiento.append(driver.find_element_by_css_selector(f\"#main > div > div > div > div > section > div > article > section > div > table > tbody > tr:nth-child({i})> td:nth-child(3)\").text)\n"
     ]
    }
   ],
   "source": [
    "# download the driver \n",
    "driver = webdriver.Chrome(ChromeDriverManager().install(), options = opciones)\n",
    "\n",
    "# set the url\n",
    "url2 = \"https://www.fcbarcelona.es/es/futbol/formativo-masculino/infantil-b/jugadores\"\n",
    "\n",
    "nombre = []\n",
    "nacimiento = []\n",
    "\n",
    "# request the url\n",
    "driver.get(url2)\n",
    " \n",
    "driver.implicitly_wait(40000) # is like a time.sleep but specific of selenium\n",
    "\n",
    "driver.find_element_by_css_selector(f\"#fcbarcelona-button-accept\").click()  \n",
    "driver.implicitly_wait(40000) # is like a time.sleep but specific of selenium\n",
    "\n",
    "\n",
    "#1\n",
    "for i in range (2,23):\n",
    "    \n",
    "    \n",
    "    \n",
    "    nombre.append(driver.find_element_by_css_selector(f\"#main > div > div > div > div > section > div > article > section > div > table > tbody > tr:nth-child({i}) > td:nth-child(1)\").text)\n",
    "    nacimiento.append(driver.find_element_by_css_selector(f\"#main > div > div > div > div > section > div > article > section > div > table > tbody > tr:nth-child({i})> td:nth-child(3)\").text)\n",
    "    "
   ]
  },
  {
   "cell_type": "code",
   "execution_count": 37,
   "id": "406dc1f2",
   "metadata": {},
   "outputs": [
    {
     "name": "stderr",
     "output_type": "stream",
     "text": [
      "\n",
      "\n",
      "====== WebDriver manager ======\n",
      "Current google-chrome version is 96.0.4664\n",
      "Get LATEST chromedriver version for 96.0.4664 google-chrome\n",
      "Driver [/Users/macniacos/.wdm/drivers/chromedriver/mac64/96.0.4664.45/chromedriver] found in cache\n",
      "<ipython-input-37-ada33a9abdd6>:2: DeprecationWarning: executable_path has been deprecated, please pass in a Service object\n",
      "  driver = webdriver.Chrome(ChromeDriverManager().install(), options = opciones)\n",
      "<ipython-input-37-ada33a9abdd6>:13: DeprecationWarning: find_element_by_* commands are deprecated. Please use find_element() instead\n",
      "  driver.find_element_by_css_selector(f\"#fcbarcelona-button-accept\").click()\n",
      "<ipython-input-37-ada33a9abdd6>:22: DeprecationWarning: find_element_by_* commands are deprecated. Please use find_element() instead\n",
      "  nombre.append(driver.find_element_by_css_selector(f\"#main > div > div > div > div > section > div > article > section > div > table > tbody > tr:nth-child({i}) > td:nth-child(1)\").text)\n",
      "<ipython-input-37-ada33a9abdd6>:23: DeprecationWarning: find_element_by_* commands are deprecated. Please use find_element() instead\n",
      "  nacimiento.append(driver.find_element_by_css_selector(f\"#main > div > div > div > div > section > div > article > section > div > table > tbody > tr:nth-child({i})> td:nth-child(3)\").text)\n"
     ]
    }
   ],
   "source": [
    "# download the driver \n",
    "driver = webdriver.Chrome(ChromeDriverManager().install(), options = opciones)\n",
    "\n",
    "# set the url\n",
    "url2 = \"https://www.fcbarcelona.es/es/futbol/formativo-masculino/infantil-a/jugadores\"\n",
    "\n",
    "\n",
    "# request the url\n",
    "driver.get(url2)\n",
    " \n",
    "driver.implicitly_wait(40000) # is like a time.sleep but specific of selenium\n",
    "\n",
    "driver.find_element_by_css_selector(f\"#fcbarcelona-button-accept\").click()  \n",
    "driver.implicitly_wait(40000) # is like a time.sleep but specific of selenium\n",
    "\n",
    "\n",
    "#1\n",
    "for i in range (2,25):\n",
    "    \n",
    "    \n",
    "    \n",
    "    nombre.append(driver.find_element_by_css_selector(f\"#main > div > div > div > div > section > div > article > section > div > table > tbody > tr:nth-child({i}) > td:nth-child(1)\").text)\n",
    "    nacimiento.append(driver.find_element_by_css_selector(f\"#main > div > div > div > div > section > div > article > section > div > table > tbody > tr:nth-child({i})> td:nth-child(3)\").text)\n",
    "    "
   ]
  },
  {
   "cell_type": "code",
   "execution_count": 38,
   "id": "2fbcbfc4",
   "metadata": {},
   "outputs": [],
   "source": [
    "nombredf = pd.DataFrame(nombre)\n",
    "fechadf = pd.DataFrame(nacimiento)\n",
    "\n",
    "\n",
    "nombredf = nombredf.rename(columns={0: 'Nombre'})\n",
    "fechadf = fechadf.rename(columns={0: 'Nacimiento'})"
   ]
  },
  {
   "cell_type": "code",
   "execution_count": 39,
   "id": "cfd9601e",
   "metadata": {},
   "outputs": [],
   "source": [
    "df = pd.concat([nombredf, fechadf], axis=1)"
   ]
  },
  {
   "cell_type": "code",
   "execution_count": 40,
   "id": "b9dee09e",
   "metadata": {},
   "outputs": [],
   "source": [
    "dfi = df"
   ]
  },
  {
   "cell_type": "code",
   "execution_count": 41,
   "id": "161f05e3",
   "metadata": {},
   "outputs": [],
   "source": [
    "dfi['Categoría'] = 'Infantil'"
   ]
  },
  {
   "cell_type": "code",
   "execution_count": 42,
   "id": "3c6d3aae",
   "metadata": {},
   "outputs": [
    {
     "data": {
      "text/html": [
       "<div>\n",
       "<style scoped>\n",
       "    .dataframe tbody tr th:only-of-type {\n",
       "        vertical-align: middle;\n",
       "    }\n",
       "\n",
       "    .dataframe tbody tr th {\n",
       "        vertical-align: top;\n",
       "    }\n",
       "\n",
       "    .dataframe thead th {\n",
       "        text-align: right;\n",
       "    }\n",
       "</style>\n",
       "<table border=\"1\" class=\"dataframe\">\n",
       "  <thead>\n",
       "    <tr style=\"text-align: right;\">\n",
       "      <th></th>\n",
       "      <th>Nombre</th>\n",
       "      <th>Nacimiento</th>\n",
       "      <th>Categoría</th>\n",
       "    </tr>\n",
       "  </thead>\n",
       "  <tbody>\n",
       "    <tr>\n",
       "      <th>0</th>\n",
       "      <td>Pau Espí López</td>\n",
       "      <td>28/03/2009</td>\n",
       "      <td>Infantil</td>\n",
       "    </tr>\n",
       "    <tr>\n",
       "      <th>1</th>\n",
       "      <td>Juan Carlos Melgar Arteaga</td>\n",
       "      <td>17/01/2009</td>\n",
       "      <td>Infantil</td>\n",
       "    </tr>\n",
       "    <tr>\n",
       "      <th>2</th>\n",
       "      <td>Gerard Valls Queralto</td>\n",
       "      <td>20/01/2009</td>\n",
       "      <td>Infantil</td>\n",
       "    </tr>\n",
       "  </tbody>\n",
       "</table>\n",
       "</div>"
      ],
      "text/plain": [
       "                       Nombre  Nacimiento Categoría\n",
       "0              Pau Espí López  28/03/2009  Infantil\n",
       "1  Juan Carlos Melgar Arteaga  17/01/2009  Infantil\n",
       "2       Gerard Valls Queralto  20/01/2009  Infantil"
      ]
     },
     "execution_count": 42,
     "metadata": {},
     "output_type": "execute_result"
    }
   ],
   "source": [
    "dfi.head(3)"
   ]
  },
  {
   "cell_type": "code",
   "execution_count": null,
   "id": "c11045c2",
   "metadata": {},
   "outputs": [],
   "source": []
  },
  {
   "cell_type": "code",
   "execution_count": 47,
   "id": "b7a15da5",
   "metadata": {},
   "outputs": [
    {
     "name": "stderr",
     "output_type": "stream",
     "text": [
      "\n",
      "\n",
      "====== WebDriver manager ======\n",
      "Current google-chrome version is 96.0.4664\n",
      "Get LATEST chromedriver version for 96.0.4664 google-chrome\n",
      "Driver [/Users/macniacos/.wdm/drivers/chromedriver/mac64/96.0.4664.45/chromedriver] found in cache\n",
      "<ipython-input-47-12215f30edab>:2: DeprecationWarning: executable_path has been deprecated, please pass in a Service object\n",
      "  driver = webdriver.Chrome(ChromeDriverManager().install(), options = opciones)\n",
      "<ipython-input-47-12215f30edab>:15: DeprecationWarning: find_element_by_* commands are deprecated. Please use find_element() instead\n",
      "  driver.find_element_by_css_selector(f\"#fcbarcelona-button-accept\").click()\n",
      "<ipython-input-47-12215f30edab>:24: DeprecationWarning: find_element_by_* commands are deprecated. Please use find_element() instead\n",
      "  nombre.append(driver.find_element_by_css_selector(f\"#main > div > div > div > div > section > div > article > section > div > table > tbody > tr:nth-child({i}) > td:nth-child(1)\").text)\n",
      "<ipython-input-47-12215f30edab>:25: DeprecationWarning: find_element_by_* commands are deprecated. Please use find_element() instead\n",
      "  nacimiento.append(driver.find_element_by_css_selector(f\"#main > div > div > div > div > section > div > article > section > div > table > tbody > tr:nth-child({i})> td:nth-child(3)\").text)\n"
     ]
    }
   ],
   "source": [
    "# download the driver \n",
    "driver = webdriver.Chrome(ChromeDriverManager().install(), options = opciones)\n",
    "\n",
    "# set the url\n",
    "url2 = \"https://www.fcbarcelona.es/es/futbol/formativo-masculino/cadete-b/jugadores\"\n",
    "\n",
    "nombre = []\n",
    "nacimiento = []\n",
    "\n",
    "# request the url\n",
    "driver.get(url2)\n",
    " \n",
    "driver.implicitly_wait(40000) # is like a time.sleep but specific of selenium\n",
    "\n",
    "driver.find_element_by_css_selector(f\"#fcbarcelona-button-accept\").click()  \n",
    "driver.implicitly_wait(40000) # is like a time.sleep but specific of selenium\n",
    "\n",
    "\n",
    "#1\n",
    "for i in range (2,26):\n",
    "    \n",
    "    \n",
    "    \n",
    "    nombre.append(driver.find_element_by_css_selector(f\"#main > div > div > div > div > section > div > article > section > div > table > tbody > tr:nth-child({i}) > td:nth-child(1)\").text)\n",
    "    nacimiento.append(driver.find_element_by_css_selector(f\"#main > div > div > div > div > section > div > article > section > div > table > tbody > tr:nth-child({i})> td:nth-child(3)\").text)\n",
    "    "
   ]
  },
  {
   "cell_type": "code",
   "execution_count": 46,
   "id": "0040c012",
   "metadata": {},
   "outputs": [
    {
     "name": "stderr",
     "output_type": "stream",
     "text": [
      "\n",
      "\n",
      "====== WebDriver manager ======\n",
      "Current google-chrome version is 96.0.4664\n",
      "Get LATEST chromedriver version for 96.0.4664 google-chrome\n",
      "Driver [/Users/macniacos/.wdm/drivers/chromedriver/mac64/96.0.4664.45/chromedriver] found in cache\n",
      "<ipython-input-46-32cd2a2f725c>:2: DeprecationWarning: executable_path has been deprecated, please pass in a Service object\n",
      "  driver = webdriver.Chrome(ChromeDriverManager().install(), options = opciones)\n",
      "<ipython-input-46-32cd2a2f725c>:13: DeprecationWarning: find_element_by_* commands are deprecated. Please use find_element() instead\n",
      "  driver.find_element_by_css_selector(f\"#fcbarcelona-button-accept\").click()\n",
      "<ipython-input-46-32cd2a2f725c>:22: DeprecationWarning: find_element_by_* commands are deprecated. Please use find_element() instead\n",
      "  nombre.append(driver.find_element_by_css_selector(f\"#main > div > div > div > div > section > div > article > section > div > table > tbody > tr:nth-child({i}) > td:nth-child(1)\").text)\n",
      "<ipython-input-46-32cd2a2f725c>:23: DeprecationWarning: find_element_by_* commands are deprecated. Please use find_element() instead\n",
      "  nacimiento.append(driver.find_element_by_css_selector(f\"#main > div > div > div > div > section > div > article > section > div > table > tbody > tr:nth-child({i})> td:nth-child(3)\").text)\n"
     ]
    },
    {
     "ename": "AttributeError",
     "evalue": "'NoneType' object has no attribute 'text'",
     "output_type": "error",
     "traceback": [
      "\u001b[0;31m---------------------------------------------------------------------------\u001b[0m",
      "\u001b[0;31mAttributeError\u001b[0m                            Traceback (most recent call last)",
      "\u001b[0;32m<ipython-input-46-32cd2a2f725c>\u001b[0m in \u001b[0;36m<module>\u001b[0;34m\u001b[0m\n\u001b[1;32m     20\u001b[0m \u001b[0;34m\u001b[0m\u001b[0m\n\u001b[1;32m     21\u001b[0m \u001b[0;34m\u001b[0m\u001b[0m\n\u001b[0;32m---> 22\u001b[0;31m     \u001b[0mnombre\u001b[0m\u001b[0;34m.\u001b[0m\u001b[0mappend\u001b[0m\u001b[0;34m(\u001b[0m\u001b[0mdriver\u001b[0m\u001b[0;34m.\u001b[0m\u001b[0mfind_element_by_css_selector\u001b[0m\u001b[0;34m(\u001b[0m\u001b[0;34mf\"#main > div > div > div > div > section > div > article > section > div > table > tbody > tr:nth-child({i}) > td:nth-child(1)\"\u001b[0m\u001b[0;34m)\u001b[0m\u001b[0;34m.\u001b[0m\u001b[0mtext\u001b[0m\u001b[0;34m)\u001b[0m\u001b[0;34m\u001b[0m\u001b[0;34m\u001b[0m\u001b[0m\n\u001b[0m\u001b[1;32m     23\u001b[0m     \u001b[0mnacimiento\u001b[0m\u001b[0;34m.\u001b[0m\u001b[0mappend\u001b[0m\u001b[0;34m(\u001b[0m\u001b[0mdriver\u001b[0m\u001b[0;34m.\u001b[0m\u001b[0mfind_element_by_css_selector\u001b[0m\u001b[0;34m(\u001b[0m\u001b[0;34mf\"#main > div > div > div > div > section > div > article > section > div > table > tbody > tr:nth-child({i})> td:nth-child(3)\"\u001b[0m\u001b[0;34m)\u001b[0m\u001b[0;34m.\u001b[0m\u001b[0mtext\u001b[0m\u001b[0;34m)\u001b[0m\u001b[0;34m\u001b[0m\u001b[0;34m\u001b[0m\u001b[0m\n\u001b[1;32m     24\u001b[0m \u001b[0;34m\u001b[0m\u001b[0m\n",
      "\u001b[0;31mAttributeError\u001b[0m: 'NoneType' object has no attribute 'text'"
     ]
    }
   ],
   "source": [
    "# download the driver \n",
    "driver = webdriver.Chrome(ChromeDriverManager().install(), options = opciones)\n",
    "\n",
    "# set the url\n",
    "url2 = \"https://www.fcbarcelona.es/es/futbol/formativo-masculino/cadete-a/jugadores\"\n",
    "\n",
    "\n",
    "# request the url\n",
    "driver.get(url2)\n",
    " \n",
    "driver.implicitly_wait(40000) # is like a time.sleep but specific of selenium\n",
    "\n",
    "driver.find_element_by_css_selector(f\"#fcbarcelona-button-accept\").click()  \n",
    "driver.implicitly_wait(40000) # is like a time.sleep but specific of selenium\n",
    "\n",
    "\n",
    "#1\n",
    "for i in range (2,23):\n",
    "    \n",
    "    \n",
    "    \n",
    "    nombre.append(driver.find_element_by_css_selector(f\"#main > div > div > div > div > section > div > article > section > div > table > tbody > tr:nth-child({i}) > td:nth-child(1)\").text)\n",
    "    nacimiento.append(driver.find_element_by_css_selector(f\"#main > div > div > div > div > section > div > article > section > div > table > tbody > tr:nth-child({i})> td:nth-child(3)\").text)\n",
    "    "
   ]
  },
  {
   "cell_type": "code",
   "execution_count": 80,
   "id": "c11bc6ef",
   "metadata": {},
   "outputs": [],
   "source": [
    "nombredf = pd.DataFrame(nombre)\n",
    "fechadf = pd.DataFrame(nacimiento)\n",
    "\n",
    "\n",
    "nombredf = nombredf.rename(columns={0: 'Nombre'})\n",
    "fechadf = fechadf.rename(columns={0: 'Nacimiento'})"
   ]
  },
  {
   "cell_type": "code",
   "execution_count": 81,
   "id": "7c31cef0",
   "metadata": {},
   "outputs": [],
   "source": [
    "df = pd.concat([nombredf, fechadf], axis=1)"
   ]
  },
  {
   "cell_type": "code",
   "execution_count": 82,
   "id": "ecce8ec2",
   "metadata": {},
   "outputs": [],
   "source": [
    "dfc = df"
   ]
  },
  {
   "cell_type": "code",
   "execution_count": 83,
   "id": "d056259d",
   "metadata": {},
   "outputs": [],
   "source": [
    "dfc['Categoría'] = 'Cadete'"
   ]
  },
  {
   "cell_type": "code",
   "execution_count": 84,
   "id": "9b3c5f61",
   "metadata": {},
   "outputs": [
    {
     "data": {
      "text/html": [
       "<div>\n",
       "<style scoped>\n",
       "    .dataframe tbody tr th:only-of-type {\n",
       "        vertical-align: middle;\n",
       "    }\n",
       "\n",
       "    .dataframe tbody tr th {\n",
       "        vertical-align: top;\n",
       "    }\n",
       "\n",
       "    .dataframe thead th {\n",
       "        text-align: right;\n",
       "    }\n",
       "</style>\n",
       "<table border=\"1\" class=\"dataframe\">\n",
       "  <thead>\n",
       "    <tr style=\"text-align: right;\">\n",
       "      <th></th>\n",
       "      <th>Nombre</th>\n",
       "      <th>Nacimiento</th>\n",
       "      <th>Categoría</th>\n",
       "    </tr>\n",
       "  </thead>\n",
       "  <tbody>\n",
       "    <tr>\n",
       "      <th>0</th>\n",
       "      <td>Max Bonfill Coll</td>\n",
       "      <td>02/03/2007</td>\n",
       "      <td>Cadete</td>\n",
       "    </tr>\n",
       "    <tr>\n",
       "      <th>1</th>\n",
       "      <td>Ferran Rafus Aulet</td>\n",
       "      <td>27/02/2007</td>\n",
       "      <td>Cadete</td>\n",
       "    </tr>\n",
       "    <tr>\n",
       "      <th>2</th>\n",
       "      <td>Jordi Saucedo Avaroma</td>\n",
       "      <td>14/03/2007</td>\n",
       "      <td>Cadete</td>\n",
       "    </tr>\n",
       "  </tbody>\n",
       "</table>\n",
       "</div>"
      ],
      "text/plain": [
       "                  Nombre  Nacimiento Categoría\n",
       "0       Max Bonfill Coll  02/03/2007    Cadete\n",
       "1     Ferran Rafus Aulet  27/02/2007    Cadete\n",
       "2  Jordi Saucedo Avaroma  14/03/2007    Cadete"
      ]
     },
     "execution_count": 84,
     "metadata": {},
     "output_type": "execute_result"
    }
   ],
   "source": [
    "dfc.head(3)"
   ]
  },
  {
   "cell_type": "code",
   "execution_count": null,
   "id": "d44d3daf",
   "metadata": {},
   "outputs": [],
   "source": []
  },
  {
   "cell_type": "code",
   "execution_count": 87,
   "id": "96307383",
   "metadata": {
    "collapsed": true
   },
   "outputs": [
    {
     "name": "stderr",
     "output_type": "stream",
     "text": [
      "\n",
      "\n",
      "====== WebDriver manager ======\n",
      "Current google-chrome version is 96.0.4664\n",
      "Get LATEST chromedriver version for 96.0.4664 google-chrome\n",
      "Driver [/Users/macniacos/.wdm/drivers/chromedriver/mac64/96.0.4664.45/chromedriver] found in cache\n",
      "<ipython-input-87-33e0034d5013>:2: DeprecationWarning: executable_path has been deprecated, please pass in a Service object\n",
      "  driver = webdriver.Chrome(ChromeDriverManager().install(), options = opciones)\n",
      "<ipython-input-87-33e0034d5013>:15: DeprecationWarning: find_element_by_* commands are deprecated. Please use find_element() instead\n",
      "  driver.find_element_by_css_selector(f\"#fcbarcelona-button-accept\").click()\n",
      "<ipython-input-87-33e0034d5013>:24: DeprecationWarning: find_element_by_* commands are deprecated. Please use find_element() instead\n",
      "  nombre.append(driver.find_element_by_css_selector(f\"#main > div > div > div > div > section > div > article > section > div > table > tbody > tr:nth-child({i}) > td:nth-child(1)\").text)\n",
      "<ipython-input-87-33e0034d5013>:25: DeprecationWarning: find_element_by_* commands are deprecated. Please use find_element() instead\n",
      "  nacimiento.append(driver.find_element_by_css_selector(f\"#main > div > div > div > div > section > div > article > section > div > table > tbody > tr:nth-child({i})> td:nth-child(3)\").text)\n"
     ]
    }
   ],
   "source": [
    "# download the driver \n",
    "driver = webdriver.Chrome(ChromeDriverManager().install(), options = opciones)\n",
    "\n",
    "# set the url\n",
    "url2 = \"https://www.fcbarcelona.es/es/futbol/juvenil-b/jugadores\"\n",
    "\n",
    "nombre = []\n",
    "nacimiento = []\n",
    "\n",
    "# request the url\n",
    "driver.get(url2)\n",
    " \n",
    "driver.implicitly_wait(40000) # is like a time.sleep but specific of selenium\n",
    "\n",
    "driver.find_element_by_css_selector(f\"#fcbarcelona-button-accept\").click()  \n",
    "driver.implicitly_wait(40000) # is like a time.sleep but specific of selenium\n",
    "\n",
    "\n",
    "#1\n",
    "for i in range (2,27):\n",
    "    \n",
    "    \n",
    "    \n",
    "    nombre.append(driver.find_element_by_css_selector(f\"#main > div > div > div > div > section > div > article > section > div > table > tbody > tr:nth-child({i}) > td:nth-child(1)\").text)\n",
    "    nacimiento.append(driver.find_element_by_css_selector(f\"#main > div > div > div > div > section > div > article > section > div > table > tbody > tr:nth-child({i})> td:nth-child(3)\").text)\n",
    "    "
   ]
  },
  {
   "cell_type": "code",
   "execution_count": 89,
   "id": "301b3e6d",
   "metadata": {
    "collapsed": true
   },
   "outputs": [
    {
     "name": "stderr",
     "output_type": "stream",
     "text": [
      "\n",
      "\n",
      "====== WebDriver manager ======\n",
      "Current google-chrome version is 96.0.4664\n",
      "Get LATEST chromedriver version for 96.0.4664 google-chrome\n",
      "Driver [/Users/macniacos/.wdm/drivers/chromedriver/mac64/96.0.4664.45/chromedriver] found in cache\n",
      "<ipython-input-89-51f0a7164744>:2: DeprecationWarning: executable_path has been deprecated, please pass in a Service object\n",
      "  driver = webdriver.Chrome(ChromeDriverManager().install(), options = opciones)\n",
      "<ipython-input-89-51f0a7164744>:13: DeprecationWarning: find_element_by_* commands are deprecated. Please use find_element() instead\n",
      "  driver.find_element_by_css_selector(f\"#fcbarcelona-button-accept\").click()\n",
      "<ipython-input-89-51f0a7164744>:22: DeprecationWarning: find_element_by_* commands are deprecated. Please use find_element() instead\n",
      "  nombre.append(driver.find_element_by_css_selector(f\"#main > div > div > div > div > section > div > article > section > div > table > tbody > tr:nth-child({i}) > td:nth-child(1)\").text)\n",
      "<ipython-input-89-51f0a7164744>:23: DeprecationWarning: find_element_by_* commands are deprecated. Please use find_element() instead\n",
      "  nacimiento.append(driver.find_element_by_css_selector(f\"#main > div > div > div > div > section > div > article > section > div > table > tbody > tr:nth-child({i})> td:nth-child(3)\").text)\n"
     ]
    }
   ],
   "source": [
    "# download the driver \n",
    "driver = webdriver.Chrome(ChromeDriverManager().install(), options = opciones)\n",
    "\n",
    "# set the url\n",
    "url2 = \"https://www.fcbarcelona.es/es/futbol/juvenil-a/jugadores\"\n",
    "\n",
    "\n",
    "# request the url\n",
    "driver.get(url2)\n",
    " \n",
    "driver.implicitly_wait(40000) # is like a time.sleep but specific of selenium\n",
    "\n",
    "driver.find_element_by_css_selector(f\"#fcbarcelona-button-accept\").click()  \n",
    "driver.implicitly_wait(40000) # is like a time.sleep but specific of selenium\n",
    "\n",
    "\n",
    "#1\n",
    "for i in range (2,28):\n",
    "    \n",
    "    \n",
    "    \n",
    "    nombre.append(driver.find_element_by_css_selector(f\"#main > div > div > div > div > section > div > article > section > div > table > tbody > tr:nth-child({i}) > td:nth-child(1)\").text)\n",
    "    nacimiento.append(driver.find_element_by_css_selector(f\"#main > div > div > div > div > section > div > article > section > div > table > tbody > tr:nth-child({i})> td:nth-child(3)\").text)\n",
    "    "
   ]
  },
  {
   "cell_type": "code",
   "execution_count": 90,
   "id": "5b879795",
   "metadata": {},
   "outputs": [],
   "source": [
    "nombredf = pd.DataFrame(nombre)\n",
    "fechadf = pd.DataFrame(nacimiento)\n",
    "\n",
    "\n",
    "nombredf = nombredf.rename(columns={0: 'Nombre'})\n",
    "fechadf = fechadf.rename(columns={0: 'Nacimiento'})"
   ]
  },
  {
   "cell_type": "code",
   "execution_count": 91,
   "id": "04ed2b94",
   "metadata": {},
   "outputs": [
    {
     "data": {
      "text/html": [
       "<div>\n",
       "<style scoped>\n",
       "    .dataframe tbody tr th:only-of-type {\n",
       "        vertical-align: middle;\n",
       "    }\n",
       "\n",
       "    .dataframe tbody tr th {\n",
       "        vertical-align: top;\n",
       "    }\n",
       "\n",
       "    .dataframe thead th {\n",
       "        text-align: right;\n",
       "    }\n",
       "</style>\n",
       "<table border=\"1\" class=\"dataframe\">\n",
       "  <thead>\n",
       "    <tr style=\"text-align: right;\">\n",
       "      <th></th>\n",
       "      <th>Nombre</th>\n",
       "      <th>Nacimiento</th>\n",
       "      <th>Categoría</th>\n",
       "    </tr>\n",
       "  </thead>\n",
       "  <tbody>\n",
       "    <tr>\n",
       "      <th>0</th>\n",
       "      <td>Max Bonfill Coll</td>\n",
       "      <td>02/03/2007</td>\n",
       "      <td>Juvenil</td>\n",
       "    </tr>\n",
       "    <tr>\n",
       "      <th>1</th>\n",
       "      <td>Ferran Rafus Aulet</td>\n",
       "      <td>27/02/2007</td>\n",
       "      <td>Juvenil</td>\n",
       "    </tr>\n",
       "    <tr>\n",
       "      <th>2</th>\n",
       "      <td>Jordi Saucedo Avaroma</td>\n",
       "      <td>14/03/2007</td>\n",
       "      <td>Juvenil</td>\n",
       "    </tr>\n",
       "  </tbody>\n",
       "</table>\n",
       "</div>"
      ],
      "text/plain": [
       "                  Nombre  Nacimiento Categoría\n",
       "0       Max Bonfill Coll  02/03/2007   Juvenil\n",
       "1     Ferran Rafus Aulet  27/02/2007   Juvenil\n",
       "2  Jordi Saucedo Avaroma  14/03/2007   Juvenil"
      ]
     },
     "execution_count": 91,
     "metadata": {},
     "output_type": "execute_result"
    }
   ],
   "source": [
    "dfj = df\n",
    "dfj['Categoría'] = 'Juvenil'\n",
    "dfj.head(3)"
   ]
  },
  {
   "cell_type": "code",
   "execution_count": 92,
   "id": "c624d42a",
   "metadata": {},
   "outputs": [
    {
     "data": {
      "text/html": [
       "<div>\n",
       "<style scoped>\n",
       "    .dataframe tbody tr th:only-of-type {\n",
       "        vertical-align: middle;\n",
       "    }\n",
       "\n",
       "    .dataframe tbody tr th {\n",
       "        vertical-align: top;\n",
       "    }\n",
       "\n",
       "    .dataframe thead th {\n",
       "        text-align: right;\n",
       "    }\n",
       "</style>\n",
       "<table border=\"1\" class=\"dataframe\">\n",
       "  <thead>\n",
       "    <tr style=\"text-align: right;\">\n",
       "      <th></th>\n",
       "      <th>Nombre</th>\n",
       "      <th>Nacimiento</th>\n",
       "      <th>Categoría</th>\n",
       "    </tr>\n",
       "  </thead>\n",
       "  <tbody>\n",
       "    <tr>\n",
       "      <th>0</th>\n",
       "      <td>Pau Espí López</td>\n",
       "      <td>28/03/2009</td>\n",
       "      <td>Infantil</td>\n",
       "    </tr>\n",
       "    <tr>\n",
       "      <th>1</th>\n",
       "      <td>Juan Carlos Melgar Arteaga</td>\n",
       "      <td>17/01/2009</td>\n",
       "      <td>Infantil</td>\n",
       "    </tr>\n",
       "    <tr>\n",
       "      <th>2</th>\n",
       "      <td>Gerard Valls Queralto</td>\n",
       "      <td>20/01/2009</td>\n",
       "      <td>Infantil</td>\n",
       "    </tr>\n",
       "  </tbody>\n",
       "</table>\n",
       "</div>"
      ],
      "text/plain": [
       "                       Nombre  Nacimiento Categoría\n",
       "0              Pau Espí López  28/03/2009  Infantil\n",
       "1  Juan Carlos Melgar Arteaga  17/01/2009  Infantil\n",
       "2       Gerard Valls Queralto  20/01/2009  Infantil"
      ]
     },
     "execution_count": 92,
     "metadata": {},
     "output_type": "execute_result"
    }
   ],
   "source": [
    "df11 = pd.concat([dfi, dfc, dfj], axis=0)\n",
    "df11.head(3)"
   ]
  },
  {
   "cell_type": "code",
   "execution_count": 93,
   "id": "52876e36",
   "metadata": {},
   "outputs": [
    {
     "data": {
      "text/html": [
       "<div>\n",
       "<style scoped>\n",
       "    .dataframe tbody tr th:only-of-type {\n",
       "        vertical-align: middle;\n",
       "    }\n",
       "\n",
       "    .dataframe tbody tr th {\n",
       "        vertical-align: top;\n",
       "    }\n",
       "\n",
       "    .dataframe thead th {\n",
       "        text-align: right;\n",
       "    }\n",
       "</style>\n",
       "<table border=\"1\" class=\"dataframe\">\n",
       "  <thead>\n",
       "    <tr style=\"text-align: right;\">\n",
       "      <th></th>\n",
       "      <th>Nombre</th>\n",
       "      <th>Nacimiento</th>\n",
       "      <th>Categoría</th>\n",
       "      <th>year</th>\n",
       "      <th>month</th>\n",
       "      <th>day</th>\n",
       "    </tr>\n",
       "  </thead>\n",
       "  <tbody>\n",
       "    <tr>\n",
       "      <th>0</th>\n",
       "      <td>Pau Espí López</td>\n",
       "      <td>28/03/2009</td>\n",
       "      <td>Infantil</td>\n",
       "      <td>2009</td>\n",
       "      <td>3</td>\n",
       "      <td>28</td>\n",
       "    </tr>\n",
       "    <tr>\n",
       "      <th>1</th>\n",
       "      <td>Juan Carlos Melgar Arteaga</td>\n",
       "      <td>17/01/2009</td>\n",
       "      <td>Infantil</td>\n",
       "      <td>2009</td>\n",
       "      <td>1</td>\n",
       "      <td>17</td>\n",
       "    </tr>\n",
       "    <tr>\n",
       "      <th>2</th>\n",
       "      <td>Gerard Valls Queralto</td>\n",
       "      <td>20/01/2009</td>\n",
       "      <td>Infantil</td>\n",
       "      <td>2009</td>\n",
       "      <td>1</td>\n",
       "      <td>20</td>\n",
       "    </tr>\n",
       "  </tbody>\n",
       "</table>\n",
       "</div>"
      ],
      "text/plain": [
       "                       Nombre  Nacimiento Categoría  year  month  day\n",
       "0              Pau Espí López  28/03/2009  Infantil  2009      3   28\n",
       "1  Juan Carlos Melgar Arteaga  17/01/2009  Infantil  2009      1   17\n",
       "2       Gerard Valls Queralto  20/01/2009  Infantil  2009      1   20"
      ]
     },
     "execution_count": 93,
     "metadata": {},
     "output_type": "execute_result"
    }
   ],
   "source": [
    "df11['year'] = pd.DatetimeIndex(df11['Nacimiento']).year\n",
    "df11['month'] = pd.DatetimeIndex(df11['Nacimiento']).month\n",
    "df11['day'] = pd.DatetimeIndex(df11['Nacimiento']).day\n",
    "df11.head(3)"
   ]
  },
  {
   "cell_type": "code",
   "execution_count": 94,
   "id": "a11a6057",
   "metadata": {},
   "outputs": [],
   "source": [
    "df11['trimestre'] = df11.apply (lambda month: trimestres(month), axis=1)"
   ]
  },
  {
   "cell_type": "code",
   "execution_count": 95,
   "id": "fc52ff0a",
   "metadata": {},
   "outputs": [
    {
     "data": {
      "image/png": "[encoded data removed]",
      "text/plain": [
       "<Figure size 1224x576 with 1 Axes>"
      ]
     },
     "metadata": {},
     "output_type": "display_data"
    }
   ],
   "source": [
    "ax = sns.countplot(x=\"month\", data=df11)"
   ]
  },
  {
   "cell_type": "code",
   "execution_count": 96,
   "id": "f0ef21b6",
   "metadata": {},
   "outputs": [
    {
     "data": {
      "image/png": "[encoded data removed]",
      "text/plain": [
       "<Figure size 1224x576 with 1 Axes>"
      ]
     },
     "metadata": {},
     "output_type": "display_data"
    }
   ],
   "source": [
    "ax = sns.countplot(x=\"trimestre\", data=df11)"
   ]
  },
  {
   "cell_type": "code",
   "execution_count": 97,
   "id": "4f786571",
   "metadata": {},
   "outputs": [],
   "source": [
    "df = pd.concat([df7, df11], axis=0)"
   ]
  },
  {
   "cell_type": "code",
   "execution_count": 98,
   "id": "1f811605",
   "metadata": {},
   "outputs": [
    {
     "data": {
      "image/png": "[encoded data removed]",
      "text/plain": [
       "<Figure size 1224x576 with 1 Axes>"
      ]
     },
     "metadata": {},
     "output_type": "display_data"
    }
   ],
   "source": [
    "ax = sns.countplot(x=\"month\", data=df)"
   ]
  },
  {
   "cell_type": "code",
   "execution_count": 99,
   "id": "053632b8",
   "metadata": {},
   "outputs": [
    {
     "data": {
      "image/png": "[encoded data removed]",
      "text/plain": [
       "<Figure size 1224x576 with 1 Axes>"
      ]
     },
     "metadata": {},
     "output_type": "display_data"
    }
   ],
   "source": [
    "ax = sns.countplot(x=\"trimestre\", data=df)"
   ]
  },
  {
   "cell_type": "code",
   "execution_count": null,
   "id": "16b56c78",
   "metadata": {},
   "outputs": [],
   "source": []
  },
  {
   "cell_type": "code",
   "execution_count": null,
   "id": "ee3d704f",
   "metadata": {},
   "outputs": [],
   "source": []
  },
  {
   "cell_type": "code",
   "execution_count": null,
   "id": "9ddfbc44",
   "metadata": {},
   "outputs": [],
   "source": []
  },
  {
   "cell_type": "code",
   "execution_count": null,
   "id": "40b7e855",
   "metadata": {},
   "outputs": [],
   "source": []
  },
  {
   "cell_type": "code",
   "execution_count": null,
   "id": "d9c357b0",
   "metadata": {},
   "outputs": [],
   "source": []
  }
 ],
 "metadata": {
  "kernelspec": {
   "display_name": "Python 3",
   "language": "python",
   "name": "python3"
  },
  "language_info": {
   "codemirror_mode": {
    "name": "ipython",
    "version": 3
   },
   "file_extension": ".py",
   "mimetype": "text/x-python",
   "name": "python",
   "nbconvert_exporter": "python",
   "pygments_lexer": "ipython3",
   "version": "3.8.5"
  }
 },
 "nbformat": 4,
 "nbformat_minor": 5
}
