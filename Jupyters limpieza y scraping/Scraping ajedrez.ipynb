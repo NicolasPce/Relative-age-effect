{
 "cells": [
  {
   "cell_type": "code",
   "execution_count": 1,
   "id": "16aac64d",
   "metadata": {},
   "outputs": [],
   "source": [
    "from selenium import webdriver\n",
    "from selenium.webdriver.chrome.options import Options\n",
    "import time\n",
    "import pandas as pd\n",
    "from selenium.webdriver.support.ui import Select\n",
    "from webdriver_manager.chrome import ChromeDriverManager\n",
    "import pandas as pd\n",
    "import numpy as np\n",
    "import datetime\n",
    "import seaborn as sns\n",
    "sns.set_theme(style=\"darkgrid\")\n",
    "sns.set({\"figure.figsize\":(17,8)})\n",
    "sns.set(font_scale = 1.15)"
   ]
  },
  {
   "cell_type": "code",
   "execution_count": 2,
   "id": "92136aee",
   "metadata": {},
   "outputs": [],
   "source": [
    "opciones=Options()\n",
    "\n",
    "opciones.add_experimental_option('excludeSwitches', ['enable-automation'])\n",
    "opciones.add_experimental_option('useAutomationExtension', False)\n",
    "\n",
    "\n",
    "opciones.binary_location = \"/Applications/Google Chrome.app/Contents/MacOS/Google Chrome\"\n",
    "chrome_driver_binary = \"/usr/local/bin/chromedriver\"\n",
    "\n",
    "opciones.headless=False    # si True, no aperece la ventana (headless=no visible)\n",
    "\n",
    "\n",
    "opciones.add_argument(\"--start-maximized\")         # comienza maximizado\n",
    "\n",
    "opciones.add_argument('user-data-dir=selenium')    # mantiene las cookies\n",
    "\n",
    "#opciones.add_extension('driver_folder/adblock.crx')       # adblocker\n",
    "\n",
    "opciones.add_argument('--incognito')              # incognito\n",
    "#modal-policy > ul > li:nth-child(1) > button"
   ]
  },
  {
   "cell_type": "code",
   "execution_count": 3,
   "id": "2d58c3f6",
   "metadata": {},
   "outputs": [
    {
     "name": "stderr",
     "output_type": "stream",
     "text": [
      "\n",
      "\n",
      "====== WebDriver manager ======\n",
      "Current google-chrome version is 96.0.4664\n",
      "Get LATEST chromedriver version for 96.0.4664 google-chrome\n",
      "Driver [/Users/macniacos/.wdm/drivers/chromedriver/mac64/96.0.4664.45/chromedriver] found in cache\n",
      "<ipython-input-3-35402cd164cb>:2: DeprecationWarning: executable_path has been deprecated, please pass in a Service object\n",
      "  driver = webdriver.Chrome(ChromeDriverManager().install(), options = opciones)\n",
      "<ipython-input-3-35402cd164cb>:17: DeprecationWarning: find_element_by_* commands are deprecated. Please use find_element() instead\n",
      "  nombre.append(driver.find_element_by_css_selector(f\"#grandmasters > tbody > tr:nth-child({i}) > td:nth-child(1) > a\").text)\n",
      "<ipython-input-3-35402cd164cb>:18: DeprecationWarning: find_element_by_* commands are deprecated. Please use find_element() instead\n",
      "  pais.append(driver.find_element_by_css_selector(f\"#grandmasters > tbody > tr:nth-child({i}) > td:nth-child(7)\").text)\n",
      "<ipython-input-3-35402cd164cb>:19: DeprecationWarning: find_element_by_* commands are deprecated. Please use find_element() instead\n",
      "  nacimiento.append(driver.find_element_by_css_selector(f\"#grandmasters > tbody > tr:nth-child({i}) > td:nth-child(3)\").text)\n"
     ]
    }
   ],
   "source": [
    "# download the driver \n",
    "driver = webdriver.Chrome(ChromeDriverManager().install(), options = opciones)\n",
    "\n",
    "# set the url\n",
    "url2 = \"https://en.wikipedia.org/wiki/List_of_chess_grandmasters\"\n",
    "nombre = []\n",
    "nacimiento = []\n",
    "pais = []\n",
    "\n",
    "# request the url\n",
    "driver.get(url2)\n",
    "\n",
    "driver.implicitly_wait(500) # is like a time.sleep but specific of selenium\n",
    "for i in range (1,1954):\n",
    "    \n",
    "    \n",
    "    nombre.append(driver.find_element_by_css_selector(f\"#grandmasters > tbody > tr:nth-child({i}) > td:nth-child(1) > a\").text)\n",
    "    pais.append(driver.find_element_by_css_selector(f\"#grandmasters > tbody > tr:nth-child({i}) > td:nth-child(7)\").text)\n",
    "    nacimiento.append(driver.find_element_by_css_selector(f\"#grandmasters > tbody > tr:nth-child({i}) > td:nth-child(3)\").text)"
   ]
  },
  {
   "cell_type": "code",
   "execution_count": 4,
   "id": "6f73651e",
   "metadata": {},
   "outputs": [],
   "source": [
    "nombre = pd.DataFrame(nombre)\n",
    "nacimiento = pd.DataFrame(nacimiento)\n",
    "país = pd.DataFrame(pais)\n",
    "\n",
    "nombre = nombre.rename(columns={0: 'Nombre'})\n",
    "nacimiento = nacimiento.rename(columns={0: 'Nacimiento'})\n",
    "país = país.rename(columns={0: 'País'})"
   ]
  },
  {
   "cell_type": "code",
   "execution_count": 5,
   "id": "f580304d",
   "metadata": {},
   "outputs": [],
   "source": [
    "df = pd.concat([nombre, nacimiento, país], axis=1)"
   ]
  },
  {
   "cell_type": "code",
   "execution_count": 6,
   "id": "86f75294",
   "metadata": {},
   "outputs": [
    {
     "data": {
      "text/html": [
       "<div>\n",
       "<style scoped>\n",
       "    .dataframe tbody tr th:only-of-type {\n",
       "        vertical-align: middle;\n",
       "    }\n",
       "\n",
       "    .dataframe tbody tr th {\n",
       "        vertical-align: top;\n",
       "    }\n",
       "\n",
       "    .dataframe thead th {\n",
       "        text-align: right;\n",
       "    }\n",
       "</style>\n",
       "<table border=\"1\" class=\"dataframe\">\n",
       "  <thead>\n",
       "    <tr style=\"text-align: right;\">\n",
       "      <th></th>\n",
       "      <th>Nombre</th>\n",
       "      <th>Nacimiento</th>\n",
       "      <th>País</th>\n",
       "    </tr>\n",
       "  </thead>\n",
       "  <tbody>\n",
       "    <tr>\n",
       "      <th>0</th>\n",
       "      <td>Aagaard, Jacob</td>\n",
       "      <td>1973-07-31</td>\n",
       "      <td>Denmark</td>\n",
       "    </tr>\n",
       "    <tr>\n",
       "      <th>1</th>\n",
       "      <td>Abasov, Nijat</td>\n",
       "      <td>1995-05-14</td>\n",
       "      <td>Azerbaijan</td>\n",
       "    </tr>\n",
       "    <tr>\n",
       "      <th>2</th>\n",
       "      <td>Abbasifar, Hasan</td>\n",
       "      <td>1972-09-12</td>\n",
       "      <td>Iran</td>\n",
       "    </tr>\n",
       "    <tr>\n",
       "      <th>3</th>\n",
       "      <td>Abbasov, Farid</td>\n",
       "      <td>1979-01-31</td>\n",
       "      <td>Azerbaijan</td>\n",
       "    </tr>\n",
       "    <tr>\n",
       "      <th>4</th>\n",
       "      <td>Abdumalik, Zhansaya</td>\n",
       "      <td>2000-01-12</td>\n",
       "      <td>Kazakhstan</td>\n",
       "    </tr>\n",
       "  </tbody>\n",
       "</table>\n",
       "</div>"
      ],
      "text/plain": [
       "                Nombre  Nacimiento        País\n",
       "0       Aagaard, Jacob  1973-07-31     Denmark\n",
       "1        Abasov, Nijat  1995-05-14  Azerbaijan\n",
       "2     Abbasifar, Hasan  1972-09-12        Iran\n",
       "3       Abbasov, Farid  1979-01-31  Azerbaijan\n",
       "4  Abdumalik, Zhansaya  2000-01-12  Kazakhstan"
      ]
     },
     "execution_count": 6,
     "metadata": {},
     "output_type": "execute_result"
    }
   ],
   "source": [
    "df.head()"
   ]
  },
  {
   "cell_type": "code",
   "execution_count": 7,
   "id": "3d8a117f",
   "metadata": {},
   "outputs": [
    {
     "data": {
      "text/html": [
       "<div>\n",
       "<style scoped>\n",
       "    .dataframe tbody tr th:only-of-type {\n",
       "        vertical-align: middle;\n",
       "    }\n",
       "\n",
       "    .dataframe tbody tr th {\n",
       "        vertical-align: top;\n",
       "    }\n",
       "\n",
       "    .dataframe thead th {\n",
       "        text-align: right;\n",
       "    }\n",
       "</style>\n",
       "<table border=\"1\" class=\"dataframe\">\n",
       "  <thead>\n",
       "    <tr style=\"text-align: right;\">\n",
       "      <th></th>\n",
       "      <th>Nombre</th>\n",
       "      <th>Nacimiento</th>\n",
       "      <th>País</th>\n",
       "      <th>year</th>\n",
       "      <th>month</th>\n",
       "      <th>day</th>\n",
       "    </tr>\n",
       "  </thead>\n",
       "  <tbody>\n",
       "    <tr>\n",
       "      <th>0</th>\n",
       "      <td>Aagaard, Jacob</td>\n",
       "      <td>1973-07-31</td>\n",
       "      <td>Denmark</td>\n",
       "      <td>1973</td>\n",
       "      <td>7</td>\n",
       "      <td>31</td>\n",
       "    </tr>\n",
       "    <tr>\n",
       "      <th>1</th>\n",
       "      <td>Abasov, Nijat</td>\n",
       "      <td>1995-05-14</td>\n",
       "      <td>Azerbaijan</td>\n",
       "      <td>1995</td>\n",
       "      <td>5</td>\n",
       "      <td>14</td>\n",
       "    </tr>\n",
       "    <tr>\n",
       "      <th>2</th>\n",
       "      <td>Abbasifar, Hasan</td>\n",
       "      <td>1972-09-12</td>\n",
       "      <td>Iran</td>\n",
       "      <td>1972</td>\n",
       "      <td>9</td>\n",
       "      <td>12</td>\n",
       "    </tr>\n",
       "  </tbody>\n",
       "</table>\n",
       "</div>"
      ],
      "text/plain": [
       "             Nombre  Nacimiento        País  year  month  day\n",
       "0    Aagaard, Jacob  1973-07-31     Denmark  1973      7   31\n",
       "1     Abasov, Nijat  1995-05-14  Azerbaijan  1995      5   14\n",
       "2  Abbasifar, Hasan  1972-09-12        Iran  1972      9   12"
      ]
     },
     "execution_count": 7,
     "metadata": {},
     "output_type": "execute_result"
    }
   ],
   "source": [
    "df['year'] = pd.DatetimeIndex(df['Nacimiento']).year\n",
    "df['month'] = pd.DatetimeIndex(df['Nacimiento']).month\n",
    "df['day'] = pd.DatetimeIndex(df['Nacimiento']).day\n",
    "df.head(3)"
   ]
  },
  {
   "cell_type": "code",
   "execution_count": 8,
   "id": "315f48bf",
   "metadata": {
    "scrolled": false
   },
   "outputs": [
    {
     "data": {
      "image/png": "[encoded data removed]",
      "text/plain": [
       "<Figure size 1224x576 with 1 Axes>"
      ]
     },
     "metadata": {},
     "output_type": "display_data"
    }
   ],
   "source": [
    "ax = sns.countplot(x=\"month\", data=df)"
   ]
  },
  {
   "cell_type": "code",
   "execution_count": 9,
   "id": "c376a8c2",
   "metadata": {},
   "outputs": [],
   "source": [
    "def trimestres(row):\n",
    "    if row['month'] < 4 :\n",
    "        return 1\n",
    "    elif row['month'] < 7:\n",
    "        return 2\n",
    "    elif row['month'] < 10:\n",
    "        return 3\n",
    "    else:\n",
    "        return 4     "
   ]
  },
  {
   "cell_type": "code",
   "execution_count": 10,
   "id": "3a5b6be3",
   "metadata": {},
   "outputs": [],
   "source": [
    "df['trimestre'] = df.apply (lambda month: trimestres(month), axis=1)"
   ]
  },
  {
   "cell_type": "code",
   "execution_count": null,
   "id": "38e33596",
   "metadata": {},
   "outputs": [],
   "source": [
    "df.to_csv('../../Data/ajedrecistas.csv', encoding='utf-8')"
   ]
  },
  {
   "cell_type": "code",
   "execution_count": 37,
   "id": "8d5a4f55",
   "metadata": {},
   "outputs": [
    {
     "data": {
      "image/png": "[encoded data removed]",
      "text/plain": [
       "<Figure size 1224x576 with 1 Axes>"
      ]
     },
     "metadata": {},
     "output_type": "display_data"
    }
   ],
   "source": [
    "ax = sns.countplot(x=\"trimestre\", data=df)"
   ]
  }
 ],
 "metadata": {
  "kernelspec": {
   "display_name": "ironhack",
   "language": "python",
   "name": "ironhack"
  },
  "language_info": {
   "codemirror_mode": {
    "name": "ipython",
    "version": 3
   },
   "file_extension": ".py",
   "mimetype": "text/x-python",
   "name": "python",
   "nbconvert_exporter": "python",
   "pygments_lexer": "ipython3",
   "version": "3.8.5"
  }
 },
 "nbformat": 4,
 "nbformat_minor": 5
}
