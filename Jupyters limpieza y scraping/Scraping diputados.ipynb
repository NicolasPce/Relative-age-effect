{
 "cells": [
  {
   "cell_type": "code",
   "execution_count": 2,
   "id": "ffea3b26",
   "metadata": {},
   "outputs": [],
   "source": [
    "from selenium import webdriver\n",
    "from selenium.webdriver.chrome.options import Options\n",
    "import time\n",
    "import pandas as pd\n",
    "from selenium.webdriver.support.ui import Select\n",
    "from webdriver_manager.chrome import ChromeDriverManager\n",
    "import pandas as pd\n",
    "import numpy as np\n",
    "import datetime\n",
    "import seaborn as sns\n",
    "sns.set_theme(style=\"darkgrid\")\n",
    "sns.set({\"figure.figsize\":(17,8)})\n",
    "sns.set(font_scale = 1.15)\n",
    "import numpy as np\n",
    "import datetime\n",
    "import seaborn as sns\n",
    "sns.set_theme(style=\"darkgrid\")\n",
    "sns.set({\"figure.figsize\":(17,8)})\n",
    "sns.set(font_scale = 1.15)\n"
   ]
  },
  {
   "cell_type": "code",
   "execution_count": 3,
   "id": "6634fe0f",
   "metadata": {},
   "outputs": [],
   "source": [
    "opciones=Options()\n",
    "\n",
    "opciones.add_experimental_option('excludeSwitches', ['enable-automation'])\n",
    "opciones.add_experimental_option('useAutomationExtension', False)\n",
    "\n",
    "\n",
    "opciones.binary_location = \"/Applications/Google Chrome.app/Contents/MacOS/Google Chrome\"\n",
    "chrome_driver_binary = \"/usr/local/bin/chromedriver\"\n",
    "\n",
    "opciones.headless=False    # si True, no aperece la ventana (headless=no visible)\n",
    "\n",
    "\n",
    "opciones.add_argument(\"--start-maximized\")         # comienza maximizado\n",
    "\n",
    "opciones.add_argument('user-data-dir=selenium')    # mantiene las cookies\n",
    "\n",
    "#opciones.add_extension('driver_folder/adblock.crx')       # adblocker\n",
    "\n",
    "opciones.add_argument('--incognito')              # incognito\n",
    "#modal-policy > ul > li:nth-child(1) > button"
   ]
  },
  {
   "cell_type": "code",
   "execution_count": 4,
   "id": "b5ef77a3",
   "metadata": {},
   "outputs": [
    {
     "name": "stderr",
     "output_type": "stream",
     "text": [
      "\n",
      "\n",
      "====== WebDriver manager ======\n",
      "Current google-chrome version is 96.0.4664\n",
      "Get LATEST chromedriver version for 96.0.4664 google-chrome\n",
      "Driver [/Users/macniacos/.wdm/drivers/chromedriver/mac64/96.0.4664.45/chromedriver] found in cache\n",
      "<ipython-input-4-b9974d8f8bfb>:2: DeprecationWarning: executable_path has been deprecated, please pass in a Service object\n",
      "  driver = webdriver.Chrome(ChromeDriverManager().install(), options = opciones)\n",
      "<ipython-input-4-b9974d8f8bfb>:15: DeprecationWarning: find_element_by_* commands are deprecated. Please use find_element() instead\n",
      "  driver.find_element_by_css_selector(f\"#banda_cookies > a:nth-child(2)\").click()\n",
      "<ipython-input-4-b9974d8f8bfb>:23: DeprecationWarning: find_element_by_* commands are deprecated. Please use find_element() instead\n",
      "  driver.find_element_by_css_selector(f\"#_diputadomodule_contentPaginationDiputados > table > tbody > tr:nth-child({i}) > th > a\").click()\n",
      "<ipython-input-4-b9974d8f8bfb>:24: DeprecationWarning: find_element_by_* commands are deprecated. Please use find_element() instead\n",
      "  nombre.append(driver.find_element_by_css_selector(f\"#portlet_diputadomodule > div > div.portlet-content-container > div > div:nth-child(3) > div:nth-child(1) > div.col-sm-8.col-12.pl-0 > div\").text)\n",
      "<ipython-input-4-b9974d8f8bfb>:25: DeprecationWarning: find_element_by_* commands are deprecated. Please use find_element() instead\n",
      "  nacimiento.append(driver.find_element_by_css_selector(f\"#portlet_diputadomodule > div > div.portlet-content-container > div > div:nth-child(3) > div:nth-child(2) > div:nth-child(1) > div > div > p:nth-child(2)\").text)\n"
     ]
    }
   ],
   "source": [
    "# download the driver \n",
    "driver = webdriver.Chrome(ChromeDriverManager().install(), options = opciones)\n",
    "\n",
    "# set the url\n",
    "url2 = \"https://www.congreso.es/busqueda-de-diputados\"\n",
    "\n",
    "nombre = []\n",
    "nacimiento = []\n",
    "\n",
    "# request the url\n",
    "driver.get(url2)\n",
    " \n",
    "driver.implicitly_wait(1000) # is like a time.sleep but specific of selenium\n",
    "\n",
    "driver.find_element_by_css_selector(f\"#banda_cookies > a:nth-child(2)\").click()  \n",
    "driver.implicitly_wait(1000) # is like a time.sleep but specific of selenium\n",
    "\n",
    "\n",
    "#1\n",
    "for i in range (1,21):\n",
    "    \n",
    "    \n",
    "    driver.find_element_by_css_selector(f\"#_diputadomodule_contentPaginationDiputados > table > tbody > tr:nth-child({i}) > th > a\").click()  \n",
    "    nombre.append(driver.find_element_by_css_selector(f\"#portlet_diputadomodule > div > div.portlet-content-container > div > div:nth-child(3) > div:nth-child(1) > div.col-sm-8.col-12.pl-0 > div\").text)\n",
    "    nacimiento.append(driver.find_element_by_css_selector(f\"#portlet_diputadomodule > div > div.portlet-content-container > div > div:nth-child(3) > div:nth-child(2) > div:nth-child(1) > div > div > p:nth-child(2)\").text)\n",
    "    driver.execute_script(\"window.history.go(-1)\")   \n",
    "    \n"
   ]
  },
  {
   "cell_type": "code",
   "execution_count": 10,
   "id": "45329233",
   "metadata": {},
   "outputs": [
    {
     "name": "stderr",
     "output_type": "stream",
     "text": [
      "\n",
      "\n",
      "====== WebDriver manager ======\n",
      "Current google-chrome version is 96.0.4664\n",
      "Get LATEST chromedriver version for 96.0.4664 google-chrome\n",
      "Driver [/Users/macniacos/.wdm/drivers/chromedriver/mac64/96.0.4664.45/chromedriver] found in cache\n",
      "<ipython-input-10-6a0737ebac78>:1: DeprecationWarning: executable_path has been deprecated, please pass in a Service object\n",
      "  driver = webdriver.Chrome(ChromeDriverManager().install(), options = opciones)\n",
      "<ipython-input-10-6a0737ebac78>:5: DeprecationWarning: find_element_by_* commands are deprecated. Please use find_element() instead\n",
      "  driver.find_element_by_css_selector(f\"#banda_cookies > a:nth-child(2)\").click()\n",
      "<ipython-input-10-6a0737ebac78>:7: DeprecationWarning: find_element_by_* commands are deprecated. Please use find_element() instead\n",
      "  driver.find_element_by_css_selector(f\"#_diputadomodule_paginationLinksDiputados > li:nth-child(4) > a\").click()\n",
      "<ipython-input-10-6a0737ebac78>:15: DeprecationWarning: find_element_by_* commands are deprecated. Please use find_element() instead\n",
      "  driver.find_element_by_css_selector(f\"#_diputadomodule_contentPaginationDiputados > table > tbody > tr:nth-child({i}) > th > a\").click()\n",
      "<ipython-input-10-6a0737ebac78>:16: DeprecationWarning: find_element_by_* commands are deprecated. Please use find_element() instead\n",
      "  nombre2.append(driver.find_element_by_css_selector(f\"#portlet_diputadomodule > div > div.portlet-content-container > div > div:nth-child(3) > div:nth-child(1) > div.col-sm-8.col-12.pl-0 > div\").text)\n",
      "<ipython-input-10-6a0737ebac78>:17: DeprecationWarning: find_element_by_* commands are deprecated. Please use find_element() instead\n",
      "  nacimiento2.append(driver.find_element_by_css_selector(f\"#portlet_diputadomodule > div > div.portlet-content-container > div > div:nth-child(3) > div:nth-child(2) > div:nth-child(1) > div > div > p:nth-child(2)\").text)\n"
     ]
    }
   ],
   "source": [
    "driver = webdriver.Chrome(ChromeDriverManager().install(), options = opciones)\n",
    "url2 = \"https://www.congreso.es/busqueda-de-diputados\"\n",
    "driver.get(url2)\n",
    "driver.implicitly_wait(1000) # is like a time.sleep but specific of selenium\n",
    "driver.find_element_by_css_selector(f\"#banda_cookies > a:nth-child(2)\").click()  \n",
    "driver.implicitly_wait(1000) # is like a time.sleep but specific of selenium\n",
    "driver.find_element_by_css_selector(f\"#_diputadomodule_paginationLinksDiputados > li:nth-child(4) > a\").click()  \n",
    "#2\n",
    "nombre2 = []\n",
    "nacimiento2 = []\n",
    "\n",
    "for i in range (1,21):\n",
    "    \n",
    "    \n",
    "    driver.find_element_by_css_selector(f\"#_diputadomodule_contentPaginationDiputados > table > tbody > tr:nth-child({i}) > th > a\").click()  \n",
    "    nombre2.append(driver.find_element_by_css_selector(f\"#portlet_diputadomodule > div > div.portlet-content-container > div > div:nth-child(3) > div:nth-child(1) > div.col-sm-8.col-12.pl-0 > div\").text)\n",
    "    nacimiento2.append(driver.find_element_by_css_selector(f\"#portlet_diputadomodule > div > div.portlet-content-container > div > div:nth-child(3) > div:nth-child(2) > div:nth-child(1) > div > div > p:nth-child(2)\").text)\n",
    "    driver.execute_script(\"window.history.go(-1)\")   \n",
    "    "
   ]
  },
  {
   "cell_type": "code",
   "execution_count": 11,
   "id": "1a5242db",
   "metadata": {},
   "outputs": [
    {
     "name": "stderr",
     "output_type": "stream",
     "text": [
      "\n",
      "\n",
      "====== WebDriver manager ======\n",
      "Current google-chrome version is 96.0.4664\n",
      "Get LATEST chromedriver version for 96.0.4664 google-chrome\n",
      "Driver [/Users/macniacos/.wdm/drivers/chromedriver/mac64/96.0.4664.45/chromedriver] found in cache\n",
      "<ipython-input-11-a9d081055671>:1: DeprecationWarning: executable_path has been deprecated, please pass in a Service object\n",
      "  driver = webdriver.Chrome(ChromeDriverManager().install(), options = opciones)\n",
      "<ipython-input-11-a9d081055671>:5: DeprecationWarning: find_element_by_* commands are deprecated. Please use find_element() instead\n",
      "  driver.find_element_by_css_selector(f\"#banda_cookies > a:nth-child(2)\").click()\n",
      "<ipython-input-11-a9d081055671>:7: DeprecationWarning: find_element_by_* commands are deprecated. Please use find_element() instead\n",
      "  driver.find_element_by_css_selector(f\"#_diputadomodule_paginationLinksDiputados > li:nth-child(5) > a\").click()\n",
      "<ipython-input-11-a9d081055671>:15: DeprecationWarning: find_element_by_* commands are deprecated. Please use find_element() instead\n",
      "  driver.find_element_by_css_selector(f\"#_diputadomodule_contentPaginationDiputados > table > tbody > tr:nth-child({i}) > th > a\").click()\n",
      "<ipython-input-11-a9d081055671>:16: DeprecationWarning: find_element_by_* commands are deprecated. Please use find_element() instead\n",
      "  nombre3.append(driver.find_element_by_css_selector(f\"#portlet_diputadomodule > div > div.portlet-content-container > div > div:nth-child(3) > div:nth-child(1) > div.col-sm-8.col-12.pl-0 > div\").text)\n",
      "<ipython-input-11-a9d081055671>:17: DeprecationWarning: find_element_by_* commands are deprecated. Please use find_element() instead\n",
      "  nacimiento3.append(driver.find_element_by_css_selector(f\"#portlet_diputadomodule > div > div.portlet-content-container > div > div:nth-child(3) > div:nth-child(2) > div:nth-child(1) > div > div > p:nth-child(2)\").text)\n"
     ]
    }
   ],
   "source": [
    "driver = webdriver.Chrome(ChromeDriverManager().install(), options = opciones)\n",
    "url2 = \"https://www.congreso.es/busqueda-de-diputados\"\n",
    "driver.get(url2)\n",
    "driver.implicitly_wait(1000) # is like a time.sleep but specific of selenium\n",
    "driver.find_element_by_css_selector(f\"#banda_cookies > a:nth-child(2)\").click()  \n",
    "driver.implicitly_wait(1000) # is like a time.sleep but specific of selenium\n",
    "driver.find_element_by_css_selector(f\"#_diputadomodule_paginationLinksDiputados > li:nth-child(5) > a\").click()  \n",
    "#3\n",
    "nombre3 = []\n",
    "nacimiento3 = []\n",
    "\n",
    "for i in range (1,21):\n",
    "    \n",
    "    \n",
    "    driver.find_element_by_css_selector(f\"#_diputadomodule_contentPaginationDiputados > table > tbody > tr:nth-child({i}) > th > a\").click()  \n",
    "    nombre3.append(driver.find_element_by_css_selector(f\"#portlet_diputadomodule > div > div.portlet-content-container > div > div:nth-child(3) > div:nth-child(1) > div.col-sm-8.col-12.pl-0 > div\").text)\n",
    "    nacimiento3.append(driver.find_element_by_css_selector(f\"#portlet_diputadomodule > div > div.portlet-content-container > div > div:nth-child(3) > div:nth-child(2) > div:nth-child(1) > div > div > p:nth-child(2)\").text)\n",
    "    driver.execute_script(\"window.history.go(-1)\")   \n",
    "    "
   ]
  },
  {
   "cell_type": "code",
   "execution_count": 12,
   "id": "51ab7d08",
   "metadata": {},
   "outputs": [
    {
     "data": {
      "text/plain": [
       "20"
      ]
     },
     "execution_count": 12,
     "metadata": {},
     "output_type": "execute_result"
    }
   ],
   "source": [
    "len(nombre3)"
   ]
  },
  {
   "cell_type": "code",
   "execution_count": 13,
   "id": "f95610e4",
   "metadata": {},
   "outputs": [
    {
     "data": {
      "text/plain": [
       "['Blanquer Alcaraz, Patricia',\n",
       " 'Boadella Esteve, Genís',\n",
       " 'Borrás Pabón, Mireia',\n",
       " 'Borrego Cortés, Isabel María',\n",
       " 'Botella Gómez, Ana María',\n",
       " 'Botran Pahissa, Albert',\n",
       " 'Bravo Barco, Eva',\n",
       " 'Bueno Campanario, Eva Patricia',\n",
       " 'Bustamante Martín, Miguel Ángel',\n",
       " 'Caballero Gutiérrez, Helena',\n",
       " 'Cabezón Casas, Tomás',\n",
       " 'Callejas Cano, Juan Antonio',\n",
       " 'Calvo Gómez, Pilar',\n",
       " 'Calvo Liste, Pablo Juan',\n",
       " 'Calvo Poyato, Carmen',\n",
       " 'Cambronero Piqueras, Pablo',\n",
       " 'Canales Duque, Mariana de Gracia',\n",
       " 'Cantera de Castro, Zaida',\n",
       " 'Cañadell Salvia, Concep',\n",
       " 'Cañizares Pacheco, Inés María']"
      ]
     },
     "execution_count": 13,
     "metadata": {},
     "output_type": "execute_result"
    }
   ],
   "source": [
    "nombre3"
   ]
  },
  {
   "cell_type": "code",
   "execution_count": 17,
   "id": "9a24af99",
   "metadata": {},
   "outputs": [
    {
     "name": "stderr",
     "output_type": "stream",
     "text": [
      "\n",
      "\n",
      "====== WebDriver manager ======\n",
      "Current google-chrome version is 96.0.4664\n",
      "Get LATEST chromedriver version for 96.0.4664 google-chrome\n",
      "Driver [/Users/macniacos/.wdm/drivers/chromedriver/mac64/96.0.4664.45/chromedriver] found in cache\n",
      "<ipython-input-17-be685939a25f>:1: DeprecationWarning: executable_path has been deprecated, please pass in a Service object\n",
      "  driver = webdriver.Chrome(ChromeDriverManager().install(), options = opciones)\n",
      "<ipython-input-17-be685939a25f>:5: DeprecationWarning: find_element_by_* commands are deprecated. Please use find_element() instead\n",
      "  driver.find_element_by_css_selector(f\"#banda_cookies > a:nth-child(2)\").click()\n",
      "<ipython-input-17-be685939a25f>:7: DeprecationWarning: find_element_by_* commands are deprecated. Please use find_element() instead\n",
      "  driver.find_element_by_css_selector(f\"#_diputadomodule_paginationLinksDiputados > li:nth-child(6) > a\").click()\n",
      "<ipython-input-17-be685939a25f>:14: DeprecationWarning: find_element_by_* commands are deprecated. Please use find_element() instead\n",
      "  driver.find_element_by_css_selector(f\"#_diputadomodule_contentPaginationDiputados > table > tbody > tr:nth-child({i}) > th > a\").click()\n",
      "<ipython-input-17-be685939a25f>:15: DeprecationWarning: find_element_by_* commands are deprecated. Please use find_element() instead\n",
      "  nombre4.append(driver.find_element_by_css_selector(f\"#portlet_diputadomodule > div > div.portlet-content-container > div > div:nth-child(3) > div:nth-child(1) > div.col-sm-8.col-12.pl-0 > div\").text)\n",
      "<ipython-input-17-be685939a25f>:16: DeprecationWarning: find_element_by_* commands are deprecated. Please use find_element() instead\n",
      "  nacimiento4.append(driver.find_element_by_css_selector(f\"#portlet_diputadomodule > div > div.portlet-content-container > div > div:nth-child(3) > div:nth-child(2) > div:nth-child(1) > div > div > p:nth-child(2)\").text)\n"
     ]
    }
   ],
   "source": [
    "driver = webdriver.Chrome(ChromeDriverManager().install(), options = opciones)\n",
    "url2 = \"https://www.congreso.es/busqueda-de-diputados\"\n",
    "driver.get(url2)\n",
    "driver.implicitly_wait(1000) # is like a time.sleep but specific of selenium\n",
    "driver.find_element_by_css_selector(f\"#banda_cookies > a:nth-child(2)\").click()  \n",
    "driver.implicitly_wait(1000) # is like a time.sleep but specific of selenium\n",
    "driver.find_element_by_css_selector(f\"#_diputadomodule_paginationLinksDiputados > li:nth-child(6) > a\").click()  \n",
    "\n",
    "nombre4 = []\n",
    "nacimiento4 = []\n",
    "for i in range (1,21):\n",
    "    \n",
    "    \n",
    "    driver.find_element_by_css_selector(f\"#_diputadomodule_contentPaginationDiputados > table > tbody > tr:nth-child({i}) > th > a\").click()  \n",
    "    nombre4.append(driver.find_element_by_css_selector(f\"#portlet_diputadomodule > div > div.portlet-content-container > div > div:nth-child(3) > div:nth-child(1) > div.col-sm-8.col-12.pl-0 > div\").text)\n",
    "    nacimiento4.append(driver.find_element_by_css_selector(f\"#portlet_diputadomodule > div > div.portlet-content-container > div > div:nth-child(3) > div:nth-child(2) > div:nth-child(1) > div > div > p:nth-child(2)\").text)\n",
    "    driver.execute_script(\"window.history.go(-1)\")   \n",
    "    "
   ]
  },
  {
   "cell_type": "code",
   "execution_count": 18,
   "id": "02154f37",
   "metadata": {},
   "outputs": [
    {
     "data": {
      "text/plain": [
       "20"
      ]
     },
     "execution_count": 18,
     "metadata": {},
     "output_type": "execute_result"
    }
   ],
   "source": [
    "len(nombre4)"
   ]
  },
  {
   "cell_type": "code",
   "execution_count": 19,
   "id": "b0080e20",
   "metadata": {},
   "outputs": [
    {
     "data": {
      "text/plain": [
       "['Capdevila i Esteve, Joan',\n",
       " 'Carazo Hermoso, Eduardo',\n",
       " 'Carcedo Roces, María Luisa',\n",
       " 'Carrillo de los Reyes, Beatriz Micaela',\n",
       " 'Carvalho Dantas, María',\n",
       " 'Casado Blanco, Pablo',\n",
       " 'Casares Hontañón, Pedro',\n",
       " 'Casero Ávila, Alberto',\n",
       " 'Castellón Rubio, Miguel Ángel',\n",
       " 'Castillo López, Elena',\n",
       " 'Cerdán León, Santos',\n",
       " 'Cerqueiro González, Javier',\n",
       " 'Chamorro Delmo, Ricardo',\n",
       " 'Clavell López, Óscar',\n",
       " 'Constenla Carbón, Juan Manuel',\n",
       " 'Contreras Peláez, Francisco José',\n",
       " 'Cortés Carballo, Mario',\n",
       " 'Cortés Gómez, Ismael',\n",
       " 'Crespín Rubio, Rafaela',\n",
       " 'Cruz-Guzmán García, María Soledad']"
      ]
     },
     "execution_count": 19,
     "metadata": {},
     "output_type": "execute_result"
    }
   ],
   "source": [
    "nombre4"
   ]
  },
  {
   "cell_type": "code",
   "execution_count": 20,
   "id": "38a56104",
   "metadata": {},
   "outputs": [
    {
     "name": "stderr",
     "output_type": "stream",
     "text": [
      "\n",
      "\n",
      "====== WebDriver manager ======\n",
      "Current google-chrome version is 96.0.4664\n",
      "Get LATEST chromedriver version for 96.0.4664 google-chrome\n",
      "Driver [/Users/macniacos/.wdm/drivers/chromedriver/mac64/96.0.4664.45/chromedriver] found in cache\n",
      "<ipython-input-20-d9a1e2c09f05>:1: DeprecationWarning: executable_path has been deprecated, please pass in a Service object\n",
      "  driver = webdriver.Chrome(ChromeDriverManager().install(), options = opciones)\n",
      "<ipython-input-20-d9a1e2c09f05>:5: DeprecationWarning: find_element_by_* commands are deprecated. Please use find_element() instead\n",
      "  driver.find_element_by_css_selector(f\"#banda_cookies > a:nth-child(2)\").click()\n",
      "<ipython-input-20-d9a1e2c09f05>:7: DeprecationWarning: find_element_by_* commands are deprecated. Please use find_element() instead\n",
      "  driver.find_element_by_css_selector(f\"#_diputadomodule_paginationLinksDiputados > li:nth-child(7) > a\").click()\n",
      "<ipython-input-20-d9a1e2c09f05>:14: DeprecationWarning: find_element_by_* commands are deprecated. Please use find_element() instead\n",
      "  driver.find_element_by_css_selector(f\"#_diputadomodule_contentPaginationDiputados > table > tbody > tr:nth-child({i}) > th > a\").click()\n",
      "<ipython-input-20-d9a1e2c09f05>:15: DeprecationWarning: find_element_by_* commands are deprecated. Please use find_element() instead\n",
      "  nombre5.append(driver.find_element_by_css_selector(f\"#portlet_diputadomodule > div > div.portlet-content-container > div > div:nth-child(3) > div:nth-child(1) > div.col-sm-8.col-12.pl-0 > div\").text)\n",
      "<ipython-input-20-d9a1e2c09f05>:16: DeprecationWarning: find_element_by_* commands are deprecated. Please use find_element() instead\n",
      "  nacimiento5.append(driver.find_element_by_css_selector(f\"#portlet_diputadomodule > div > div.portlet-content-container > div > div:nth-child(3) > div:nth-child(2) > div:nth-child(1) > div > div > p:nth-child(2)\").text)\n"
     ]
    }
   ],
   "source": [
    "driver = webdriver.Chrome(ChromeDriverManager().install(), options = opciones)\n",
    "url2 = \"https://www.congreso.es/busqueda-de-diputados\"\n",
    "driver.get(url2)\n",
    "driver.implicitly_wait(1000) # is like a time.sleep but specific of selenium\n",
    "driver.find_element_by_css_selector(f\"#banda_cookies > a:nth-child(2)\").click()  \n",
    "driver.implicitly_wait(1000) # is like a time.sleep but specific of selenium\n",
    "driver.find_element_by_css_selector(f\"#_diputadomodule_paginationLinksDiputados > li:nth-child(7) > a\").click()  \n",
    "\n",
    "nombre5 = []\n",
    "nacimiento5 = []\n",
    "\n",
    "for i in range (1,21):\n",
    "    \n",
    "    driver.find_element_by_css_selector(f\"#_diputadomodule_contentPaginationDiputados > table > tbody > tr:nth-child({i}) > th > a\").click()  \n",
    "    nombre5.append(driver.find_element_by_css_selector(f\"#portlet_diputadomodule > div > div.portlet-content-container > div > div:nth-child(3) > div:nth-child(1) > div.col-sm-8.col-12.pl-0 > div\").text)\n",
    "    nacimiento5.append(driver.find_element_by_css_selector(f\"#portlet_diputadomodule > div > div.portlet-content-container > div > div:nth-child(3) > div:nth-child(2) > div:nth-child(1) > div > div > p:nth-child(2)\").text)\n",
    "    driver.execute_script(\"window.history.go(-1)\")  "
   ]
  },
  {
   "cell_type": "code",
   "execution_count": 21,
   "id": "d0cbc091",
   "metadata": {},
   "outputs": [
    {
     "data": {
      "text/plain": [
       "20"
      ]
     },
     "execution_count": 21,
     "metadata": {},
     "output_type": "execute_result"
    }
   ],
   "source": [
    "len(nombre5)"
   ]
  },
  {
   "cell_type": "code",
   "execution_count": 22,
   "id": "1939b7e3",
   "metadata": {},
   "outputs": [
    {
     "data": {
      "text/plain": [
       "['Cuatrecasas Asua, Juan',\n",
       " 'De las Heras Fernández, Patricia',\n",
       " 'De Luna Tobarra, Llanos',\n",
       " 'De Meer Méndez, Rocío',\n",
       " 'Del Valle de Iscar, Julio',\n",
       " 'Del Valle Rodríguez, Emilio Jesús',\n",
       " 'Delgado Arce, Celso Luis',\n",
       " 'Delgado Ramos, Juan Antonio',\n",
       " 'Díaz Gómez, Guillermo',\n",
       " 'Díaz Pérez, Yolanda',\n",
       " 'Diouf Dioh, Luc Andre',\n",
       " 'Durán Peralta, José Carlos',\n",
       " 'Echániz Salgado, José Ignacio',\n",
       " 'Echenique Robba, Pablo',\n",
       " 'Elizo Serrano, María Gloria',\n",
       " 'Elorriaga Pisarik, Gabriel',\n",
       " 'Elorza González, Odón',\n",
       " 'Eritja Ciuró, Francesc Xavier',\n",
       " 'Errejón Galván, Íñigo',\n",
       " 'España Reina, Carolina']"
      ]
     },
     "execution_count": 22,
     "metadata": {},
     "output_type": "execute_result"
    }
   ],
   "source": [
    "nombre5"
   ]
  },
  {
   "cell_type": "code",
   "execution_count": 26,
   "id": "542fc245",
   "metadata": {},
   "outputs": [
    {
     "name": "stderr",
     "output_type": "stream",
     "text": [
      "\n",
      "\n",
      "====== WebDriver manager ======\n",
      "Current google-chrome version is 96.0.4664\n",
      "Get LATEST chromedriver version for 96.0.4664 google-chrome\n",
      "Driver [/Users/macniacos/.wdm/drivers/chromedriver/mac64/96.0.4664.45/chromedriver] found in cache\n",
      "<ipython-input-26-91cb01bd4983>:1: DeprecationWarning: executable_path has been deprecated, please pass in a Service object\n",
      "  driver = webdriver.Chrome(ChromeDriverManager().install(), options = opciones)\n",
      "<ipython-input-26-91cb01bd4983>:5: DeprecationWarning: find_element_by_* commands are deprecated. Please use find_element() instead\n",
      "  driver.find_element_by_css_selector(f\"#banda_cookies > a:nth-child(2)\").click()\n",
      "<ipython-input-26-91cb01bd4983>:7: DeprecationWarning: find_element_by_* commands are deprecated. Please use find_element() instead\n",
      "  driver.find_element_by_css_selector(f\"#_diputadomodule_paginationLinksDiputados > li:nth-child(7) > a\").click()\n",
      "<ipython-input-26-91cb01bd4983>:9: DeprecationWarning: find_element_by_* commands are deprecated. Please use find_element() instead\n",
      "  driver.find_element_by_css_selector(f\"#_diputadomodule_paginationLinksDiputados > li:nth-child(6) > a\").click()\n",
      "<ipython-input-26-91cb01bd4983>:15: DeprecationWarning: find_element_by_* commands are deprecated. Please use find_element() instead\n",
      "  driver.find_element_by_css_selector(f\"#_diputadomodule_contentPaginationDiputados > table > tbody > tr:nth-child({i}) > th > a\").click()\n",
      "<ipython-input-26-91cb01bd4983>:16: DeprecationWarning: find_element_by_* commands are deprecated. Please use find_element() instead\n",
      "  nombre6.append(driver.find_element_by_css_selector(f\"#portlet_diputadomodule > div > div.portlet-content-container > div > div:nth-child(3) > div:nth-child(1) > div.col-sm-8.col-12.pl-0 > div\").text)\n",
      "<ipython-input-26-91cb01bd4983>:17: DeprecationWarning: find_element_by_* commands are deprecated. Please use find_element() instead\n",
      "  nacimiento6.append(driver.find_element_by_css_selector(f\"#portlet_diputadomodule > div > div.portlet-content-container > div > div:nth-child(3) > div:nth-child(2) > div:nth-child(1) > div > div > p:nth-child(2)\").text)\n"
     ]
    }
   ],
   "source": [
    "driver = webdriver.Chrome(ChromeDriverManager().install(), options = opciones)\n",
    "url2 = \"https://www.congreso.es/busqueda-de-diputados\"\n",
    "driver.get(url2)\n",
    "driver.implicitly_wait(1000) # is like a time.sleep but specific of selenium\n",
    "driver.find_element_by_css_selector(f\"#banda_cookies > a:nth-child(2)\").click()  \n",
    "driver.implicitly_wait(1000) # is like a time.sleep but specific of selenium\n",
    "driver.find_element_by_css_selector(f\"#_diputadomodule_paginationLinksDiputados > li:nth-child(7) > a\").click()  \n",
    "driver.implicitly_wait(1000) # is like a time.sleep but specific of selenium\n",
    "driver.find_element_by_css_selector(f\"#_diputadomodule_paginationLinksDiputados > li:nth-child(6) > a\").click() \n",
    "nombre6 = []\n",
    "nacimiento6 = []\n",
    "\n",
    "for i in range (1,21):\n",
    "    \n",
    "    driver.find_element_by_css_selector(f\"#_diputadomodule_contentPaginationDiputados > table > tbody > tr:nth-child({i}) > th > a\").click()  \n",
    "    nombre6.append(driver.find_element_by_css_selector(f\"#portlet_diputadomodule > div > div.portlet-content-container > div > div:nth-child(3) > div:nth-child(1) > div.col-sm-8.col-12.pl-0 > div\").text)\n",
    "    nacimiento6.append(driver.find_element_by_css_selector(f\"#portlet_diputadomodule > div > div.portlet-content-container > div > div:nth-child(3) > div:nth-child(2) > div:nth-child(1) > div > div > p:nth-child(2)\").text)\n",
    "    driver.execute_script(\"window.history.go(-1)\")"
   ]
  },
  {
   "cell_type": "code",
   "execution_count": 27,
   "id": "48654a95",
   "metadata": {
    "scrolled": true
   },
   "outputs": [
    {
     "data": {
      "text/plain": [
       "20"
      ]
     },
     "execution_count": 27,
     "metadata": {},
     "output_type": "execute_result"
    }
   ],
   "source": [
    "len(nombre6)"
   ]
  },
  {
   "cell_type": "code",
   "execution_count": 28,
   "id": "924c44f3",
   "metadata": {},
   "outputs": [
    {
     "data": {
      "text/plain": [
       "['Nacido el 20/07/1976',\n",
       " 'Nacido el 03/01/1971',\n",
       " 'Nacido el 21/06/1962',\n",
       " 'Nacida el 05/11/1976',\n",
       " 'Nacido el 13/02/1976',\n",
       " 'Nacida el 13/09/1957 en Isla Cristina (Huelva)',\n",
       " 'Nacida el 20/10/1992 en Valencia de Don Juan (León)',\n",
       " 'Nacida el 22/12/1974 en Cáceres',\n",
       " 'Nacida el 01/11/1983',\n",
       " 'Nacido el 11/02/1970',\n",
       " 'Nacido el 27/02/1969',\n",
       " 'Nacido el 16/08/1965 en Santander',\n",
       " 'Nacida el 04/02/1973',\n",
       " 'Nacido el 26/09/1988 en Gijón',\n",
       " 'Nacida el 27/11/1985',\n",
       " 'Nacido el 22/04/1962',\n",
       " 'Nacido el 08/09/1987 en Vigo',\n",
       " 'Nacida el 23/12/1974 en Logroño (La Rioja)',\n",
       " 'Nacido el 17/04/1976',\n",
       " 'Nacido el 29/04/1967 en Jaca']"
      ]
     },
     "execution_count": 28,
     "metadata": {},
     "output_type": "execute_result"
    }
   ],
   "source": [
    "nacimiento6"
   ]
  },
  {
   "cell_type": "code",
   "execution_count": 29,
   "id": "8efdd465",
   "metadata": {},
   "outputs": [
    {
     "name": "stderr",
     "output_type": "stream",
     "text": [
      "\n",
      "\n",
      "====== WebDriver manager ======\n",
      "Current google-chrome version is 96.0.4664\n",
      "Get LATEST chromedriver version for 96.0.4664 google-chrome\n",
      "Driver [/Users/macniacos/.wdm/drivers/chromedriver/mac64/96.0.4664.45/chromedriver] found in cache\n",
      "<ipython-input-29-a95a4d427b11>:1: DeprecationWarning: executable_path has been deprecated, please pass in a Service object\n",
      "  driver = webdriver.Chrome(ChromeDriverManager().install(), options = opciones)\n",
      "<ipython-input-29-a95a4d427b11>:5: DeprecationWarning: find_element_by_* commands are deprecated. Please use find_element() instead\n",
      "  driver.find_element_by_css_selector(f\"#banda_cookies > a:nth-child(2)\").click()\n",
      "<ipython-input-29-a95a4d427b11>:7: DeprecationWarning: find_element_by_* commands are deprecated. Please use find_element() instead\n",
      "  driver.find_element_by_css_selector(f\"#_diputadomodule_paginationLinksDiputados > li:nth-child(7) > a\").click()\n",
      "<ipython-input-29-a95a4d427b11>:9: DeprecationWarning: find_element_by_* commands are deprecated. Please use find_element() instead\n",
      "  driver.find_element_by_css_selector(f\"#_diputadomodule_paginationLinksDiputados > li:nth-child(7) > a\").click()\n",
      "<ipython-input-29-a95a4d427b11>:16: DeprecationWarning: find_element_by_* commands are deprecated. Please use find_element() instead\n",
      "  driver.find_element_by_css_selector(f\"#_diputadomodule_contentPaginationDiputados > table > tbody > tr:nth-child({i}) > th > a\").click()\n",
      "<ipython-input-29-a95a4d427b11>:17: DeprecationWarning: find_element_by_* commands are deprecated. Please use find_element() instead\n",
      "  nombre7.append(driver.find_element_by_css_selector(f\"#portlet_diputadomodule > div > div.portlet-content-container > div > div:nth-child(3) > div:nth-child(1) > div.col-sm-8.col-12.pl-0 > div\").text)\n",
      "<ipython-input-29-a95a4d427b11>:18: DeprecationWarning: find_element_by_* commands are deprecated. Please use find_element() instead\n",
      "  nacimiento7.append(driver.find_element_by_css_selector(f\"#portlet_diputadomodule > div > div.portlet-content-container > div > div:nth-child(3) > div:nth-child(2) > div:nth-child(1) > div > div > p:nth-child(2)\").text)\n"
     ]
    }
   ],
   "source": [
    "driver = webdriver.Chrome(ChromeDriverManager().install(), options = opciones)\n",
    "url2 = \"https://www.congreso.es/busqueda-de-diputados\"\n",
    "driver.get(url2)\n",
    "driver.implicitly_wait(1000) # is like a time.sleep but specific of selenium\n",
    "driver.find_element_by_css_selector(f\"#banda_cookies > a:nth-child(2)\").click()  \n",
    "driver.implicitly_wait(1000) # is like a time.sleep but specific of selenium\n",
    "driver.find_element_by_css_selector(f\"#_diputadomodule_paginationLinksDiputados > li:nth-child(7) > a\").click()  \n",
    "driver.implicitly_wait(1000) # is like a time.sleep but specific of selenium\n",
    "driver.find_element_by_css_selector(f\"#_diputadomodule_paginationLinksDiputados > li:nth-child(7) > a\").click() \n",
    "\n",
    "nombre7 = []\n",
    "nacimiento7 = []\n",
    "\n",
    "for i in range (1,21):\n",
    "    \n",
    "    driver.find_element_by_css_selector(f\"#_diputadomodule_contentPaginationDiputados > table > tbody > tr:nth-child({i}) > th > a\").click()  \n",
    "    nombre7.append(driver.find_element_by_css_selector(f\"#portlet_diputadomodule > div > div.portlet-content-container > div > div:nth-child(3) > div:nth-child(1) > div.col-sm-8.col-12.pl-0 > div\").text)\n",
    "    nacimiento7.append(driver.find_element_by_css_selector(f\"#portlet_diputadomodule > div > div.portlet-content-container > div > div:nth-child(3) > div:nth-child(2) > div:nth-child(1) > div > div > p:nth-child(2)\").text)\n",
    "    driver.execute_script(\"window.history.go(-1)\")"
   ]
  },
  {
   "cell_type": "code",
   "execution_count": 30,
   "id": "60536bcb",
   "metadata": {},
   "outputs": [
    {
     "data": {
      "text/plain": [
       "20"
      ]
     },
     "execution_count": 30,
     "metadata": {},
     "output_type": "execute_result"
    }
   ],
   "source": [
    "len(nombre7)"
   ]
  },
  {
   "cell_type": "code",
   "execution_count": 31,
   "id": "801ff369",
   "metadata": {},
   "outputs": [
    {
     "data": {
      "text/plain": [
       "['García Adanero, Carlos',\n",
       " 'García Chavarría, María Montserrat',\n",
       " 'García Díez, Joaquín María',\n",
       " 'García Egea, Teodoro',\n",
       " 'García Gómez, Valentín',\n",
       " 'García López, Maribel',\n",
       " 'García Morís, Roberto',\n",
       " 'García Puig, María del Mar',\n",
       " 'García Rodríguez, Alicia',\n",
       " 'García-Pelayo Jurado, María José',\n",
       " 'Garrido Gutiérrez, Pilar',\n",
       " 'Garzón Espinosa, Alberto',\n",
       " 'Gázquez Collado, Paloma',\n",
       " 'Gestoso de Miguel, Luis',\n",
       " 'Gil Lázaro, Ignacio',\n",
       " 'Giménez Giménez, Sara',\n",
       " 'Gómez Hernández, Héctor',\n",
       " 'Gómez-Reino Varela, Antonio',\n",
       " 'González Caballero, Miguel Ángel',\n",
       " 'González Coello de Portugal, Víctor']"
      ]
     },
     "execution_count": 31,
     "metadata": {},
     "output_type": "execute_result"
    }
   ],
   "source": [
    "nombre7"
   ]
  },
  {
   "cell_type": "code",
   "execution_count": 33,
   "id": "1aefa4f8",
   "metadata": {},
   "outputs": [
    {
     "name": "stderr",
     "output_type": "stream",
     "text": [
      "\n",
      "\n",
      "====== WebDriver manager ======\n",
      "Current google-chrome version is 96.0.4664\n",
      "Get LATEST chromedriver version for 96.0.4664 google-chrome\n",
      "Driver [/Users/macniacos/.wdm/drivers/chromedriver/mac64/96.0.4664.45/chromedriver] found in cache\n",
      "<ipython-input-33-c31959c3d145>:1: DeprecationWarning: executable_path has been deprecated, please pass in a Service object\n",
      "  driver = webdriver.Chrome(ChromeDriverManager().install(), options = opciones)\n",
      "<ipython-input-33-c31959c3d145>:5: DeprecationWarning: find_element_by_* commands are deprecated. Please use find_element() instead\n",
      "  driver.find_element_by_css_selector(f\"#banda_cookies > a:nth-child(2)\").click()\n",
      "<ipython-input-33-c31959c3d145>:7: DeprecationWarning: find_element_by_* commands are deprecated. Please use find_element() instead\n",
      "  driver.find_element_by_css_selector(f\"#_diputadomodule_paginationLinksDiputados > li:nth-child(7) > a\").click()\n",
      "<ipython-input-33-c31959c3d145>:9: DeprecationWarning: find_element_by_* commands are deprecated. Please use find_element() instead\n",
      "  driver.find_element_by_css_selector(f\"#_diputadomodule_paginationLinksDiputados > li:nth-child(7) > a\").click()\n",
      "<ipython-input-33-c31959c3d145>:11: DeprecationWarning: find_element_by_* commands are deprecated. Please use find_element() instead\n",
      "  driver.find_element_by_css_selector(f\"#_diputadomodule_paginationLinksDiputados > li:nth-child(6) > a\").click()\n",
      "<ipython-input-33-c31959c3d145>:17: DeprecationWarning: find_element_by_* commands are deprecated. Please use find_element() instead\n",
      "  driver.find_element_by_css_selector(f\"#_diputadomodule_contentPaginationDiputados > table > tbody > tr:nth-child({i}) > th > a\").click()\n",
      "<ipython-input-33-c31959c3d145>:18: DeprecationWarning: find_element_by_* commands are deprecated. Please use find_element() instead\n",
      "  nombre8.append(driver.find_element_by_css_selector(f\"#portlet_diputadomodule > div > div.portlet-content-container > div > div:nth-child(3) > div:nth-child(1) > div.col-sm-8.col-12.pl-0 > div\").text)\n",
      "<ipython-input-33-c31959c3d145>:19: DeprecationWarning: find_element_by_* commands are deprecated. Please use find_element() instead\n",
      "  nacimiento8.append(driver.find_element_by_css_selector(f\"#portlet_diputadomodule > div > div.portlet-content-container > div > div:nth-child(3) > div:nth-child(2) > div:nth-child(1) > div > div > p:nth-child(2)\").text)\n"
     ]
    }
   ],
   "source": [
    "driver = webdriver.Chrome(ChromeDriverManager().install(), options = opciones)\n",
    "url2 = \"https://www.congreso.es/busqueda-de-diputados\"\n",
    "driver.get(url2)\n",
    "driver.implicitly_wait(1000) # is like a time.sleep but specific of selenium\n",
    "driver.find_element_by_css_selector(f\"#banda_cookies > a:nth-child(2)\").click()  \n",
    "driver.implicitly_wait(1000) # is like a time.sleep but specific of selenium\n",
    "driver.find_element_by_css_selector(f\"#_diputadomodule_paginationLinksDiputados > li:nth-child(7) > a\").click()  \n",
    "driver.implicitly_wait(1000) # is like a time.sleep but specific of selenium\n",
    "driver.find_element_by_css_selector(f\"#_diputadomodule_paginationLinksDiputados > li:nth-child(7) > a\").click() \n",
    "driver.implicitly_wait(2000) # is like a time.sleep but specific of selenium\n",
    "driver.find_element_by_css_selector(f\"#_diputadomodule_paginationLinksDiputados > li:nth-child(6) > a\").click() \n",
    "nombre8 = []\n",
    "nacimiento8 = []\n",
    "\n",
    "for i in range (1,21):\n",
    "    \n",
    "    driver.find_element_by_css_selector(f\"#_diputadomodule_contentPaginationDiputados > table > tbody > tr:nth-child({i}) > th > a\").click()  \n",
    "    nombre8.append(driver.find_element_by_css_selector(f\"#portlet_diputadomodule > div > div.portlet-content-container > div > div:nth-child(3) > div:nth-child(1) > div.col-sm-8.col-12.pl-0 > div\").text)\n",
    "    nacimiento8.append(driver.find_element_by_css_selector(f\"#portlet_diputadomodule > div > div.portlet-content-container > div > div:nth-child(3) > div:nth-child(2) > div:nth-child(1) > div > div > p:nth-child(2)\").text)\n",
    "    driver.execute_script(\"window.history.go(-1)\")"
   ]
  },
  {
   "cell_type": "code",
   "execution_count": 34,
   "id": "9500d519",
   "metadata": {},
   "outputs": [
    {
     "data": {
      "text/plain": [
       "20"
      ]
     },
     "execution_count": 34,
     "metadata": {},
     "output_type": "execute_result"
    }
   ],
   "source": [
    "len(nombre8)"
   ]
  },
  {
   "cell_type": "code",
   "execution_count": 35,
   "id": "88578f3e",
   "metadata": {},
   "outputs": [
    {
     "data": {
      "text/plain": [
       "['González Guinda, María del Carmen',\n",
       " 'González Laso, Natividad',\n",
       " 'González Pérez, Ariagona',\n",
       " 'González Ramos, Manuel Gabriel',\n",
       " 'González Terol, Antonio',\n",
       " 'González Vázquez, Marta',\n",
       " 'Gorospe Elezcano, Josune',\n",
       " 'Granollers Cunillera, Inés',\n",
       " 'Guaita Esteruelas, Sandra',\n",
       " 'Guerra López, Sonia',\n",
       " 'Guijarro Ceballos, María',\n",
       " 'Guijarro García, Txema',\n",
       " 'Guinart Moreno, Lídia',\n",
       " 'Guitarte Gimeno, Tomás',\n",
       " 'Gutiérrez Díaz de Otazu, Fernando Adolfo',\n",
       " 'Gutiérrez Prieto, Sergio',\n",
       " 'Gutiérrez Salinas, Indalecio',\n",
       " 'Gutiérrez Vivas, Miguel Ángel',\n",
       " 'Hernanz Costa, Sofía',\n",
       " 'Herrero Bono, José Alberto']"
      ]
     },
     "execution_count": 35,
     "metadata": {},
     "output_type": "execute_result"
    }
   ],
   "source": [
    "nombre8"
   ]
  },
  {
   "cell_type": "code",
   "execution_count": 36,
   "id": "0e5379ce",
   "metadata": {},
   "outputs": [
    {
     "name": "stderr",
     "output_type": "stream",
     "text": [
      "\n",
      "\n",
      "====== WebDriver manager ======\n",
      "Current google-chrome version is 96.0.4664\n",
      "Get LATEST chromedriver version for 96.0.4664 google-chrome\n",
      "Driver [/Users/macniacos/.wdm/drivers/chromedriver/mac64/96.0.4664.45/chromedriver] found in cache\n",
      "<ipython-input-36-e4bc8df14307>:1: DeprecationWarning: executable_path has been deprecated, please pass in a Service object\n",
      "  driver = webdriver.Chrome(ChromeDriverManager().install(), options = opciones)\n",
      "<ipython-input-36-e4bc8df14307>:5: DeprecationWarning: find_element_by_* commands are deprecated. Please use find_element() instead\n",
      "  driver.find_element_by_css_selector(f\"#banda_cookies > a:nth-child(2)\").click()\n",
      "<ipython-input-36-e4bc8df14307>:7: DeprecationWarning: find_element_by_* commands are deprecated. Please use find_element() instead\n",
      "  driver.find_element_by_css_selector(f\"#_diputadomodule_paginationLinksDiputados > li:nth-child(7) > a\").click()\n",
      "<ipython-input-36-e4bc8df14307>:9: DeprecationWarning: find_element_by_* commands are deprecated. Please use find_element() instead\n",
      "  driver.find_element_by_css_selector(f\"#_diputadomodule_paginationLinksDiputados > li:nth-child(7) > a\").click()\n",
      "<ipython-input-36-e4bc8df14307>:11: DeprecationWarning: find_element_by_* commands are deprecated. Please use find_element() instead\n",
      "  driver.find_element_by_css_selector(f\"#_diputadomodule_paginationLinksDiputados > li:nth-child(7) > a\").click()\n",
      "<ipython-input-36-e4bc8df14307>:17: DeprecationWarning: find_element_by_* commands are deprecated. Please use find_element() instead\n",
      "  driver.find_element_by_css_selector(f\"#_diputadomodule_contentPaginationDiputados > table > tbody > tr:nth-child({i}) > th > a\").click()\n",
      "<ipython-input-36-e4bc8df14307>:18: DeprecationWarning: find_element_by_* commands are deprecated. Please use find_element() instead\n",
      "  nombre9.append(driver.find_element_by_css_selector(f\"#portlet_diputadomodule > div > div.portlet-content-container > div > div:nth-child(3) > div:nth-child(1) > div.col-sm-8.col-12.pl-0 > div\").text)\n",
      "<ipython-input-36-e4bc8df14307>:19: DeprecationWarning: find_element_by_* commands are deprecated. Please use find_element() instead\n",
      "  nacimiento9.append(driver.find_element_by_css_selector(f\"#portlet_diputadomodule > div > div.portlet-content-container > div > div:nth-child(3) > div:nth-child(2) > div:nth-child(1) > div > div > p:nth-child(2)\").text)\n"
     ]
    }
   ],
   "source": [
    "driver = webdriver.Chrome(ChromeDriverManager().install(), options = opciones)\n",
    "url2 = \"https://www.congreso.es/busqueda-de-diputados\"\n",
    "driver.get(url2)\n",
    "driver.implicitly_wait(1000) # is like a time.sleep but specific of selenium\n",
    "driver.find_element_by_css_selector(f\"#banda_cookies > a:nth-child(2)\").click()  \n",
    "driver.implicitly_wait(1000) # is like a time.sleep but specific of selenium\n",
    "driver.find_element_by_css_selector(f\"#_diputadomodule_paginationLinksDiputados > li:nth-child(7) > a\").click()  \n",
    "driver.implicitly_wait(1000) # is like a time.sleep but specific of selenium\n",
    "driver.find_element_by_css_selector(f\"#_diputadomodule_paginationLinksDiputados > li:nth-child(7) > a\").click() \n",
    "driver.implicitly_wait(2000) # is like a time.sleep but specific of selenium\n",
    "driver.find_element_by_css_selector(f\"#_diputadomodule_paginationLinksDiputados > li:nth-child(7) > a\").click() \n",
    "nombre9 = []\n",
    "nacimiento9 = []\n",
    "\n",
    "for i in range (1,21):\n",
    "    \n",
    "    driver.find_element_by_css_selector(f\"#_diputadomodule_contentPaginationDiputados > table > tbody > tr:nth-child({i}) > th > a\").click()  \n",
    "    nombre9.append(driver.find_element_by_css_selector(f\"#portlet_diputadomodule > div > div.portlet-content-container > div > div:nth-child(3) > div:nth-child(1) > div.col-sm-8.col-12.pl-0 > div\").text)\n",
    "    nacimiento9.append(driver.find_element_by_css_selector(f\"#portlet_diputadomodule > div > div.portlet-content-container > div > div:nth-child(3) > div:nth-child(2) > div:nth-child(1) > div > div > p:nth-child(2)\").text)\n",
    "    driver.execute_script(\"window.history.go(-1)\")"
   ]
  },
  {
   "cell_type": "code",
   "execution_count": 37,
   "id": "a0c3a6b5",
   "metadata": {},
   "outputs": [
    {
     "data": {
      "text/plain": [
       "20"
      ]
     },
     "execution_count": 37,
     "metadata": {},
     "output_type": "execute_result"
    }
   ],
   "source": [
    "len(nombre9)"
   ]
  },
  {
   "cell_type": "code",
   "execution_count": 38,
   "id": "672a2ce7",
   "metadata": {},
   "outputs": [
    {
     "data": {
      "text/plain": [
       "['Hispán Iglesias de Ussel, Pablo',\n",
       " 'Honrubia Hurtado, Pedro Antonio',\n",
       " 'Hoyo Juliá, Belén',\n",
       " 'Hurtado Zurera, Antonio',\n",
       " 'Illamola Dausà, Mariona',\n",
       " 'Iñarritu García, Jon',\n",
       " 'Jara Moreno, Mercedes',\n",
       " 'Jerez Juan, Miguel Ángel',\n",
       " 'Jiménez Linuesa, Beatriz',\n",
       " 'Jiménez Revuelta, Rodrigo',\n",
       " 'José Vélez, Rafael',\n",
       " 'Jover Díaz, Antonia',\n",
       " 'Lamuà Estañol, Marc',\n",
       " 'Lastra Fernández, Adriana',\n",
       " 'Leal Fernández, Isaura',\n",
       " 'Ledesma Martín, Sebastián Jesús',\n",
       " 'Legarda Uriarte, Mikel',\n",
       " 'Lima Cid, Fuensanta',\n",
       " 'López Álvarez, María Teresa',\n",
       " 'López Álvarez, Patxi']"
      ]
     },
     "execution_count": 38,
     "metadata": {},
     "output_type": "execute_result"
    }
   ],
   "source": [
    "nombre9"
   ]
  },
  {
   "cell_type": "code",
   "execution_count": 39,
   "id": "8166a592",
   "metadata": {},
   "outputs": [
    {
     "name": "stderr",
     "output_type": "stream",
     "text": [
      "\n",
      "\n",
      "====== WebDriver manager ======\n",
      "Current google-chrome version is 96.0.4664\n",
      "Get LATEST chromedriver version for 96.0.4664 google-chrome\n",
      "Driver [/Users/macniacos/.wdm/drivers/chromedriver/mac64/96.0.4664.45/chromedriver] found in cache\n",
      "<ipython-input-39-ac3bc1e10db8>:1: DeprecationWarning: executable_path has been deprecated, please pass in a Service object\n",
      "  driver = webdriver.Chrome(ChromeDriverManager().install(), options = opciones)\n",
      "<ipython-input-39-ac3bc1e10db8>:5: DeprecationWarning: find_element_by_* commands are deprecated. Please use find_element() instead\n",
      "  driver.find_element_by_css_selector(f\"#banda_cookies > a:nth-child(2)\").click()\n",
      "<ipython-input-39-ac3bc1e10db8>:7: DeprecationWarning: find_element_by_* commands are deprecated. Please use find_element() instead\n",
      "  driver.find_element_by_css_selector(f\"#_diputadomodule_paginationLinksDiputados > li:nth-child(7) > a\").click()\n",
      "<ipython-input-39-ac3bc1e10db8>:9: DeprecationWarning: find_element_by_* commands are deprecated. Please use find_element() instead\n",
      "  driver.find_element_by_css_selector(f\"#_diputadomodule_paginationLinksDiputados > li:nth-child(7) > a\").click()\n",
      "<ipython-input-39-ac3bc1e10db8>:11: DeprecationWarning: find_element_by_* commands are deprecated. Please use find_element() instead\n",
      "  driver.find_element_by_css_selector(f\"#_diputadomodule_paginationLinksDiputados > li:nth-child(7) > a\").click()\n",
      "<ipython-input-39-ac3bc1e10db8>:13: DeprecationWarning: find_element_by_* commands are deprecated. Please use find_element() instead\n",
      "  driver.find_element_by_css_selector(f\"#_diputadomodule_paginationLinksDiputados > li:nth-child(6) > a\").click()\n",
      "<ipython-input-39-ac3bc1e10db8>:19: DeprecationWarning: find_element_by_* commands are deprecated. Please use find_element() instead\n",
      "  driver.find_element_by_css_selector(f\"#_diputadomodule_contentPaginationDiputados > table > tbody > tr:nth-child({i}) > th > a\").click()\n",
      "<ipython-input-39-ac3bc1e10db8>:20: DeprecationWarning: find_element_by_* commands are deprecated. Please use find_element() instead\n",
      "  nombre10.append(driver.find_element_by_css_selector(f\"#portlet_diputadomodule > div > div.portlet-content-container > div > div:nth-child(3) > div:nth-child(1) > div.col-sm-8.col-12.pl-0 > div\").text)\n",
      "<ipython-input-39-ac3bc1e10db8>:21: DeprecationWarning: find_element_by_* commands are deprecated. Please use find_element() instead\n",
      "  nacimiento10.append(driver.find_element_by_css_selector(f\"#portlet_diputadomodule > div > div.portlet-content-container > div > div:nth-child(3) > div:nth-child(2) > div:nth-child(1) > div > div > p:nth-child(2)\").text)\n"
     ]
    }
   ],
   "source": [
    "driver = webdriver.Chrome(ChromeDriverManager().install(), options = opciones)\n",
    "url2 = \"https://www.congreso.es/busqueda-de-diputados\"\n",
    "driver.get(url2)\n",
    "driver.implicitly_wait(1000) # is like a time.sleep but specific of selenium\n",
    "driver.find_element_by_css_selector(f\"#banda_cookies > a:nth-child(2)\").click()  \n",
    "driver.implicitly_wait(1000) # is like a time.sleep but specific of selenium\n",
    "driver.find_element_by_css_selector(f\"#_diputadomodule_paginationLinksDiputados > li:nth-child(7) > a\").click()  \n",
    "driver.implicitly_wait(1000) # is like a time.sleep but specific of selenium\n",
    "driver.find_element_by_css_selector(f\"#_diputadomodule_paginationLinksDiputados > li:nth-child(7) > a\").click() \n",
    "driver.implicitly_wait(2000) # is like a time.sleep but specific of selenium\n",
    "driver.find_element_by_css_selector(f\"#_diputadomodule_paginationLinksDiputados > li:nth-child(7) > a\").click() \n",
    "driver.implicitly_wait(2000) # is like a time.sleep but specific of selenium\n",
    "driver.find_element_by_css_selector(f\"#_diputadomodule_paginationLinksDiputados > li:nth-child(6) > a\").click()\n",
    "nombre10 = []\n",
    "nacimiento10 = []\n",
    "\n",
    "for i in range (1,21):\n",
    "    \n",
    "    driver.find_element_by_css_selector(f\"#_diputadomodule_contentPaginationDiputados > table > tbody > tr:nth-child({i}) > th > a\").click()  \n",
    "    nombre10.append(driver.find_element_by_css_selector(f\"#portlet_diputadomodule > div > div.portlet-content-container > div > div:nth-child(3) > div:nth-child(1) > div.col-sm-8.col-12.pl-0 > div\").text)\n",
    "    nacimiento10.append(driver.find_element_by_css_selector(f\"#portlet_diputadomodule > div > div.portlet-content-container > div > div:nth-child(3) > div:nth-child(2) > div:nth-child(1) > div > div > p:nth-child(2)\").text)\n",
    "    driver.execute_script(\"window.history.go(-1)\")"
   ]
  },
  {
   "cell_type": "code",
   "execution_count": 40,
   "id": "0511f8fb",
   "metadata": {},
   "outputs": [
    {
     "data": {
      "text/plain": [
       "20"
      ]
     },
     "execution_count": 40,
     "metadata": {},
     "output_type": "execute_result"
    }
   ],
   "source": [
    "len(nombre10)"
   ]
  },
  {
   "cell_type": "code",
   "execution_count": null,
   "id": "bdbee6db",
   "metadata": {},
   "outputs": [],
   "source": []
  },
  {
   "cell_type": "code",
   "execution_count": 42,
   "id": "2a5b9fd7",
   "metadata": {},
   "outputs": [
    {
     "name": "stderr",
     "output_type": "stream",
     "text": [
      "\n",
      "\n",
      "====== WebDriver manager ======\n",
      "Current google-chrome version is 96.0.4664\n",
      "Get LATEST chromedriver version for 96.0.4664 google-chrome\n",
      "Driver [/Users/macniacos/.wdm/drivers/chromedriver/mac64/96.0.4664.45/chromedriver] found in cache\n",
      "<ipython-input-42-dbb9ff3f2df2>:1: DeprecationWarning: executable_path has been deprecated, please pass in a Service object\n",
      "  driver = webdriver.Chrome(ChromeDriverManager().install(), options = opciones)\n",
      "<ipython-input-42-dbb9ff3f2df2>:5: DeprecationWarning: find_element_by_* commands are deprecated. Please use find_element() instead\n",
      "  driver.find_element_by_css_selector(f\"#banda_cookies > a:nth-child(2)\").click()\n",
      "<ipython-input-42-dbb9ff3f2df2>:7: DeprecationWarning: find_element_by_* commands are deprecated. Please use find_element() instead\n",
      "  driver.find_element_by_css_selector(f\"#_diputadomodule_paginationLinksDiputados > li:nth-child(7) > a\").click()\n",
      "<ipython-input-42-dbb9ff3f2df2>:9: DeprecationWarning: find_element_by_* commands are deprecated. Please use find_element() instead\n",
      "  driver.find_element_by_css_selector(f\"#_diputadomodule_paginationLinksDiputados > li:nth-child(7) > a\").click()\n",
      "<ipython-input-42-dbb9ff3f2df2>:11: DeprecationWarning: find_element_by_* commands are deprecated. Please use find_element() instead\n",
      "  driver.find_element_by_css_selector(f\"#_diputadomodule_paginationLinksDiputados > li:nth-child(7) > a\").click()\n",
      "<ipython-input-42-dbb9ff3f2df2>:13: DeprecationWarning: find_element_by_* commands are deprecated. Please use find_element() instead\n",
      "  driver.find_element_by_css_selector(f\"#_diputadomodule_paginationLinksDiputados > li:nth-child(7) > a\").click()\n",
      "<ipython-input-42-dbb9ff3f2df2>:19: DeprecationWarning: find_element_by_* commands are deprecated. Please use find_element() instead\n",
      "  driver.find_element_by_css_selector(f\"#_diputadomodule_contentPaginationDiputados > table > tbody > tr:nth-child({i}) > th > a\").click()\n",
      "<ipython-input-42-dbb9ff3f2df2>:20: DeprecationWarning: find_element_by_* commands are deprecated. Please use find_element() instead\n",
      "  nombre11.append(driver.find_element_by_css_selector(f\"#portlet_diputadomodule > div > div.portlet-content-container > div > div:nth-child(3) > div:nth-child(1) > div.col-sm-8.col-12.pl-0 > div\").text)\n",
      "<ipython-input-42-dbb9ff3f2df2>:21: DeprecationWarning: find_element_by_* commands are deprecated. Please use find_element() instead\n",
      "  nacimiento11.append(driver.find_element_by_css_selector(f\"#portlet_diputadomodule > div > div.portlet-content-container > div > div:nth-child(3) > div:nth-child(2) > div:nth-child(1) > div > div > p:nth-child(2)\").text)\n"
     ]
    }
   ],
   "source": [
    "driver = webdriver.Chrome(ChromeDriverManager().install(), options = opciones)\n",
    "url2 = \"https://www.congreso.es/busqueda-de-diputados\"\n",
    "driver.get(url2)\n",
    "driver.implicitly_wait(1000) # is like a time.sleep but specific of selenium\n",
    "driver.find_element_by_css_selector(f\"#banda_cookies > a:nth-child(2)\").click()  \n",
    "driver.implicitly_wait(1000) # is like a time.sleep but specific of selenium\n",
    "driver.find_element_by_css_selector(f\"#_diputadomodule_paginationLinksDiputados > li:nth-child(7) > a\").click()  \n",
    "driver.implicitly_wait(1000) # is like a time.sleep but specific of selenium\n",
    "driver.find_element_by_css_selector(f\"#_diputadomodule_paginationLinksDiputados > li:nth-child(7) > a\").click() \n",
    "driver.implicitly_wait(2000) # is like a time.sleep but specific of selenium\n",
    "driver.find_element_by_css_selector(f\"#_diputadomodule_paginationLinksDiputados > li:nth-child(7) > a\").click() \n",
    "driver.implicitly_wait(2000) # is like a time.sleep but specific of selenium\n",
    "driver.find_element_by_css_selector(f\"#_diputadomodule_paginationLinksDiputados > li:nth-child(7) > a\").click()\n",
    "nombre11 = []\n",
    "nacimiento11 = []\n",
    "\n",
    "for i in range (1,21):\n",
    "    driver.implicitly_wait(2000) # is like a time.sleep but specific of selenium\n",
    "    driver.find_element_by_css_selector(f\"#_diputadomodule_contentPaginationDiputados > table > tbody > tr:nth-child({i}) > th > a\").click()  \n",
    "    nombre11.append(driver.find_element_by_css_selector(f\"#portlet_diputadomodule > div > div.portlet-content-container > div > div:nth-child(3) > div:nth-child(1) > div.col-sm-8.col-12.pl-0 > div\").text)\n",
    "    nacimiento11.append(driver.find_element_by_css_selector(f\"#portlet_diputadomodule > div > div.portlet-content-container > div > div:nth-child(3) > div:nth-child(2) > div:nth-child(1) > div > div > p:nth-child(2)\").text)\n",
    "    driver.execute_script(\"window.history.go(-1)\")"
   ]
  },
  {
   "cell_type": "code",
   "execution_count": 43,
   "id": "9afc50d4",
   "metadata": {},
   "outputs": [
    {
     "data": {
      "text/plain": [
       "20"
      ]
     },
     "execution_count": 43,
     "metadata": {},
     "output_type": "execute_result"
    }
   ],
   "source": [
    "len(nombre11)"
   ]
  },
  {
   "cell_type": "code",
   "execution_count": 45,
   "id": "a0d1497c",
   "metadata": {},
   "outputs": [
    {
     "name": "stderr",
     "output_type": "stream",
     "text": [
      "\n",
      "\n",
      "====== WebDriver manager ======\n",
      "Current google-chrome version is 96.0.4664\n",
      "Get LATEST chromedriver version for 96.0.4664 google-chrome\n",
      "Driver [/Users/macniacos/.wdm/drivers/chromedriver/mac64/96.0.4664.45/chromedriver] found in cache\n",
      "<ipython-input-45-e8d8577c42e7>:1: DeprecationWarning: executable_path has been deprecated, please pass in a Service object\n",
      "  driver = webdriver.Chrome(ChromeDriverManager().install(), options = opciones)\n",
      "<ipython-input-45-e8d8577c42e7>:5: DeprecationWarning: find_element_by_* commands are deprecated. Please use find_element() instead\n",
      "  driver.find_element_by_css_selector(f\"#banda_cookies > a:nth-child(2)\").click()\n",
      "<ipython-input-45-e8d8577c42e7>:7: DeprecationWarning: find_element_by_* commands are deprecated. Please use find_element() instead\n",
      "  driver.find_element_by_css_selector(f\"#_diputadomodule_paginationLinksDiputados > li:nth-child(7) > a\").click()\n",
      "<ipython-input-45-e8d8577c42e7>:9: DeprecationWarning: find_element_by_* commands are deprecated. Please use find_element() instead\n",
      "  driver.find_element_by_css_selector(f\"#_diputadomodule_paginationLinksDiputados > li:nth-child(7) > a\").click()\n",
      "<ipython-input-45-e8d8577c42e7>:11: DeprecationWarning: find_element_by_* commands are deprecated. Please use find_element() instead\n",
      "  driver.find_element_by_css_selector(f\"#_diputadomodule_paginationLinksDiputados > li:nth-child(7) > a\").click()\n",
      "<ipython-input-45-e8d8577c42e7>:13: DeprecationWarning: find_element_by_* commands are deprecated. Please use find_element() instead\n",
      "  driver.find_element_by_css_selector(f\"#_diputadomodule_paginationLinksDiputados > li:nth-child(7) > a\").click()\n",
      "<ipython-input-45-e8d8577c42e7>:15: DeprecationWarning: find_element_by_* commands are deprecated. Please use find_element() instead\n",
      "  driver.find_element_by_css_selector(f\"#_diputadomodule_paginationLinksDiputados > li:nth-child(6) > a\").click()\n",
      "<ipython-input-45-e8d8577c42e7>:21: DeprecationWarning: find_element_by_* commands are deprecated. Please use find_element() instead\n",
      "  driver.find_element_by_css_selector(f\"#_diputadomodule_contentPaginationDiputados > table > tbody > tr:nth-child({i}) > th > a\").click()\n",
      "<ipython-input-45-e8d8577c42e7>:22: DeprecationWarning: find_element_by_* commands are deprecated. Please use find_element() instead\n",
      "  nombre12.append(driver.find_element_by_css_selector(f\"#portlet_diputadomodule > div > div.portlet-content-container > div > div:nth-child(3) > div:nth-child(1) > div.col-sm-8.col-12.pl-0 > div\").text)\n",
      "<ipython-input-45-e8d8577c42e7>:23: DeprecationWarning: find_element_by_* commands are deprecated. Please use find_element() instead\n",
      "  nacimiento12.append(driver.find_element_by_css_selector(f\"#portlet_diputadomodule > div > div.portlet-content-container > div > div:nth-child(3) > div:nth-child(2) > div:nth-child(1) > div > div > p:nth-child(2)\").text)\n"
     ]
    }
   ],
   "source": [
    "driver = webdriver.Chrome(ChromeDriverManager().install(), options = opciones)\n",
    "url2 = \"https://www.congreso.es/busqueda-de-diputados\"\n",
    "driver.get(url2)\n",
    "driver.implicitly_wait(1000) # is like a time.sleep but specific of selenium\n",
    "driver.find_element_by_css_selector(f\"#banda_cookies > a:nth-child(2)\").click()  \n",
    "driver.implicitly_wait(1000) # is like a time.sleep but specific of selenium\n",
    "driver.find_element_by_css_selector(f\"#_diputadomodule_paginationLinksDiputados > li:nth-child(7) > a\").click()  \n",
    "driver.implicitly_wait(1000) # is like a time.sleep but specific of selenium\n",
    "driver.find_element_by_css_selector(f\"#_diputadomodule_paginationLinksDiputados > li:nth-child(7) > a\").click() \n",
    "driver.implicitly_wait(2000) # is like a time.sleep but specific of selenium\n",
    "driver.find_element_by_css_selector(f\"#_diputadomodule_paginationLinksDiputados > li:nth-child(7) > a\").click() \n",
    "driver.implicitly_wait(2000) # is like a time.sleep but specific of selenium\n",
    "driver.find_element_by_css_selector(f\"#_diputadomodule_paginationLinksDiputados > li:nth-child(7) > a\").click()\n",
    "driver.implicitly_wait(2000) # is like a time.sleep but specific of selenium\n",
    "driver.find_element_by_css_selector(f\"#_diputadomodule_paginationLinksDiputados > li:nth-child(6) > a\").click()\n",
    "nombre12 = []\n",
    "nacimiento12 = []\n",
    "\n",
    "for i in range (1,21):\n",
    "    driver.implicitly_wait(2000) # is like a time.sleep but specific of selenium\n",
    "    driver.find_element_by_css_selector(f\"#_diputadomodule_contentPaginationDiputados > table > tbody > tr:nth-child({i}) > th > a\").click()  \n",
    "    nombre12.append(driver.find_element_by_css_selector(f\"#portlet_diputadomodule > div > div.portlet-content-container > div > div:nth-child(3) > div:nth-child(1) > div.col-sm-8.col-12.pl-0 > div\").text)\n",
    "    nacimiento12.append(driver.find_element_by_css_selector(f\"#portlet_diputadomodule > div > div.portlet-content-container > div > div:nth-child(3) > div:nth-child(2) > div:nth-child(1) > div > div > p:nth-child(2)\").text)\n",
    "    driver.execute_script(\"window.history.go(-1)\")"
   ]
  },
  {
   "cell_type": "code",
   "execution_count": 46,
   "id": "b80b7ad7",
   "metadata": {},
   "outputs": [
    {
     "data": {
      "text/plain": [
       "20"
      ]
     },
     "execution_count": 46,
     "metadata": {},
     "output_type": "execute_result"
    }
   ],
   "source": [
    "len(nombre12)"
   ]
  },
  {
   "cell_type": "code",
   "execution_count": 47,
   "id": "de3b54df",
   "metadata": {},
   "outputs": [
    {
     "name": "stderr",
     "output_type": "stream",
     "text": [
      "\n",
      "\n",
      "====== WebDriver manager ======\n",
      "Current google-chrome version is 96.0.4664\n",
      "Get LATEST chromedriver version for 96.0.4664 google-chrome\n",
      "Driver [/Users/macniacos/.wdm/drivers/chromedriver/mac64/96.0.4664.45/chromedriver] found in cache\n",
      "<ipython-input-47-fa99755f6649>:1: DeprecationWarning: executable_path has been deprecated, please pass in a Service object\n",
      "  driver = webdriver.Chrome(ChromeDriverManager().install(), options = opciones)\n",
      "<ipython-input-47-fa99755f6649>:5: DeprecationWarning: find_element_by_* commands are deprecated. Please use find_element() instead\n",
      "  driver.find_element_by_css_selector(f\"#banda_cookies > a:nth-child(2)\").click()\n",
      "<ipython-input-47-fa99755f6649>:7: DeprecationWarning: find_element_by_* commands are deprecated. Please use find_element() instead\n",
      "  driver.find_element_by_css_selector(f\"#_diputadomodule_paginationLinksDiputados > li:nth-child(7) > a\").click()\n",
      "<ipython-input-47-fa99755f6649>:9: DeprecationWarning: find_element_by_* commands are deprecated. Please use find_element() instead\n",
      "  driver.find_element_by_css_selector(f\"#_diputadomodule_paginationLinksDiputados > li:nth-child(7) > a\").click()\n",
      "<ipython-input-47-fa99755f6649>:11: DeprecationWarning: find_element_by_* commands are deprecated. Please use find_element() instead\n",
      "  driver.find_element_by_css_selector(f\"#_diputadomodule_paginationLinksDiputados > li:nth-child(7) > a\").click()\n",
      "<ipython-input-47-fa99755f6649>:13: DeprecationWarning: find_element_by_* commands are deprecated. Please use find_element() instead\n",
      "  driver.find_element_by_css_selector(f\"#_diputadomodule_paginationLinksDiputados > li:nth-child(7) > a\").click()\n",
      "<ipython-input-47-fa99755f6649>:15: DeprecationWarning: find_element_by_* commands are deprecated. Please use find_element() instead\n",
      "  driver.find_element_by_css_selector(f\"#_diputadomodule_paginationLinksDiputados > li:nth-child(7) > a\").click()\n",
      "<ipython-input-47-fa99755f6649>:21: DeprecationWarning: find_element_by_* commands are deprecated. Please use find_element() instead\n",
      "  driver.find_element_by_css_selector(f\"#_diputadomodule_contentPaginationDiputados > table > tbody > tr:nth-child({i}) > th > a\").click()\n",
      "<ipython-input-47-fa99755f6649>:22: DeprecationWarning: find_element_by_* commands are deprecated. Please use find_element() instead\n",
      "  nombre13.append(driver.find_element_by_css_selector(f\"#portlet_diputadomodule > div > div.portlet-content-container > div > div:nth-child(3) > div:nth-child(1) > div.col-sm-8.col-12.pl-0 > div\").text)\n",
      "<ipython-input-47-fa99755f6649>:23: DeprecationWarning: find_element_by_* commands are deprecated. Please use find_element() instead\n",
      "  nacimiento13.append(driver.find_element_by_css_selector(f\"#portlet_diputadomodule > div > div.portlet-content-container > div > div:nth-child(3) > div:nth-child(2) > div:nth-child(1) > div > div > p:nth-child(2)\").text)\n"
     ]
    }
   ],
   "source": [
    "driver = webdriver.Chrome(ChromeDriverManager().install(), options = opciones)\n",
    "url2 = \"https://www.congreso.es/busqueda-de-diputados\"\n",
    "driver.get(url2)\n",
    "driver.implicitly_wait(1000) # is like a time.sleep but specific of selenium\n",
    "driver.find_element_by_css_selector(f\"#banda_cookies > a:nth-child(2)\").click()  \n",
    "driver.implicitly_wait(1000) # is like a time.sleep but specific of selenium\n",
    "driver.find_element_by_css_selector(f\"#_diputadomodule_paginationLinksDiputados > li:nth-child(7) > a\").click()  \n",
    "driver.implicitly_wait(1000) # is like a time.sleep but specific of selenium\n",
    "driver.find_element_by_css_selector(f\"#_diputadomodule_paginationLinksDiputados > li:nth-child(7) > a\").click() \n",
    "driver.implicitly_wait(2000) # is like a time.sleep but specific of selenium\n",
    "driver.find_element_by_css_selector(f\"#_diputadomodule_paginationLinksDiputados > li:nth-child(7) > a\").click() \n",
    "driver.implicitly_wait(2000) # is like a time.sleep but specific of selenium\n",
    "driver.find_element_by_css_selector(f\"#_diputadomodule_paginationLinksDiputados > li:nth-child(7) > a\").click()\n",
    "driver.implicitly_wait(2000) # is like a time.sleep but specific of selenium\n",
    "driver.find_element_by_css_selector(f\"#_diputadomodule_paginationLinksDiputados > li:nth-child(7) > a\").click()\n",
    "nombre13 = []\n",
    "nacimiento13 = []\n",
    "\n",
    "for i in range (1,21):\n",
    "    driver.implicitly_wait(5000) # is like a time.sleep but specific of selenium\n",
    "    driver.find_element_by_css_selector(f\"#_diputadomodule_contentPaginationDiputados > table > tbody > tr:nth-child({i}) > th > a\").click()  \n",
    "    nombre13.append(driver.find_element_by_css_selector(f\"#portlet_diputadomodule > div > div.portlet-content-container > div > div:nth-child(3) > div:nth-child(1) > div.col-sm-8.col-12.pl-0 > div\").text)\n",
    "    nacimiento13.append(driver.find_element_by_css_selector(f\"#portlet_diputadomodule > div > div.portlet-content-container > div > div:nth-child(3) > div:nth-child(2) > div:nth-child(1) > div > div > p:nth-child(2)\").text)\n",
    "    driver.execute_script(\"window.history.go(-1)\")"
   ]
  },
  {
   "cell_type": "code",
   "execution_count": 48,
   "id": "cf3ffa6b",
   "metadata": {},
   "outputs": [
    {
     "data": {
      "text/plain": [
       "20"
      ]
     },
     "execution_count": 48,
     "metadata": {},
     "output_type": "execute_result"
    }
   ],
   "source": [
    "len(nombre13)"
   ]
  },
  {
   "cell_type": "code",
   "execution_count": 49,
   "id": "80c3c99e",
   "metadata": {},
   "outputs": [
    {
     "name": "stderr",
     "output_type": "stream",
     "text": [
      "\n",
      "\n",
      "====== WebDriver manager ======\n",
      "Current google-chrome version is 96.0.4664\n",
      "Get LATEST chromedriver version for 96.0.4664 google-chrome\n",
      "Driver [/Users/macniacos/.wdm/drivers/chromedriver/mac64/96.0.4664.45/chromedriver] found in cache\n",
      "<ipython-input-49-8e05b5fdffa1>:1: DeprecationWarning: executable_path has been deprecated, please pass in a Service object\n",
      "  driver = webdriver.Chrome(ChromeDriverManager().install(), options = opciones)\n",
      "<ipython-input-49-8e05b5fdffa1>:5: DeprecationWarning: find_element_by_* commands are deprecated. Please use find_element() instead\n",
      "  driver.find_element_by_css_selector(f\"#banda_cookies > a:nth-child(2)\").click()\n",
      "<ipython-input-49-8e05b5fdffa1>:7: DeprecationWarning: find_element_by_* commands are deprecated. Please use find_element() instead\n",
      "  driver.find_element_by_css_selector(f\"#_diputadomodule_paginationLinksDiputados > li:nth-child(9) > a\").click()\n",
      "<ipython-input-49-8e05b5fdffa1>:9: DeprecationWarning: find_element_by_* commands are deprecated. Please use find_element() instead\n",
      "  driver.find_element_by_css_selector(f\"#_diputadomodule_paginationLinksDiputados > li:nth-child(3) > a\").click()\n",
      "<ipython-input-49-8e05b5fdffa1>:17: DeprecationWarning: find_element_by_* commands are deprecated. Please use find_element() instead\n",
      "  driver.find_element_by_css_selector(f\"#_diputadomodule_contentPaginationDiputados > table > tbody > tr:nth-child({i}) > th > a\").click()\n",
      "<ipython-input-49-8e05b5fdffa1>:18: DeprecationWarning: find_element_by_* commands are deprecated. Please use find_element() instead\n",
      "  nombre14.append(driver.find_element_by_css_selector(f\"#portlet_diputadomodule > div > div.portlet-content-container > div > div:nth-child(3) > div:nth-child(1) > div.col-sm-8.col-12.pl-0 > div\").text)\n",
      "<ipython-input-49-8e05b5fdffa1>:19: DeprecationWarning: find_element_by_* commands are deprecated. Please use find_element() instead\n",
      "  nacimiento14.append(driver.find_element_by_css_selector(f\"#portlet_diputadomodule > div > div.portlet-content-container > div > div:nth-child(3) > div:nth-child(2) > div:nth-child(1) > div > div > p:nth-child(2)\").text)\n"
     ]
    }
   ],
   "source": [
    "driver = webdriver.Chrome(ChromeDriverManager().install(), options = opciones)\n",
    "url2 = \"https://www.congreso.es/busqueda-de-diputados\"\n",
    "driver.get(url2)\n",
    "driver.implicitly_wait(1000) # is like a time.sleep but specific of selenium\n",
    "driver.find_element_by_css_selector(f\"#banda_cookies > a:nth-child(2)\").click()  \n",
    "driver.implicitly_wait(15000) # is like a time.sleep but specific of selenium\n",
    "driver.find_element_by_css_selector(f\"#_diputadomodule_paginationLinksDiputados > li:nth-child(9) > a\").click()  \n",
    "driver.implicitly_wait(15000) # is like a time.sleep but specific of selenium\n",
    "driver.find_element_by_css_selector(f\"#_diputadomodule_paginationLinksDiputados > li:nth-child(3) > a\").click() \n",
    "driver.implicitly_wait(2000) # is like a time.sleep but specific of selenium\n",
    "\n",
    "nombre14 = []\n",
    "nacimiento14 = []\n",
    "\n",
    "for i in range (1,21):\n",
    "    driver.implicitly_wait(5000) # is like a time.sleep but specific of selenium\n",
    "    driver.find_element_by_css_selector(f\"#_diputadomodule_contentPaginationDiputados > table > tbody > tr:nth-child({i}) > th > a\").click()  \n",
    "    nombre14.append(driver.find_element_by_css_selector(f\"#portlet_diputadomodule > div > div.portlet-content-container > div > div:nth-child(3) > div:nth-child(1) > div.col-sm-8.col-12.pl-0 > div\").text)\n",
    "    nacimiento14.append(driver.find_element_by_css_selector(f\"#portlet_diputadomodule > div > div.portlet-content-container > div > div:nth-child(3) > div:nth-child(2) > div:nth-child(1) > div > div > p:nth-child(2)\").text)\n",
    "    driver.execute_script(\"window.history.go(-1)\")"
   ]
  },
  {
   "cell_type": "code",
   "execution_count": 50,
   "id": "26e59c76",
   "metadata": {},
   "outputs": [
    {
     "data": {
      "text/plain": [
       "20"
      ]
     },
     "execution_count": 50,
     "metadata": {},
     "output_type": "execute_result"
    }
   ],
   "source": [
    "len(nombre14)"
   ]
  },
  {
   "cell_type": "code",
   "execution_count": 52,
   "id": "94d72476",
   "metadata": {},
   "outputs": [
    {
     "name": "stderr",
     "output_type": "stream",
     "text": [
      "\n",
      "\n",
      "====== WebDriver manager ======\n",
      "Current google-chrome version is 96.0.4664\n",
      "Get LATEST chromedriver version for 96.0.4664 google-chrome\n",
      "Driver [/Users/macniacos/.wdm/drivers/chromedriver/mac64/96.0.4664.45/chromedriver] found in cache\n",
      "<ipython-input-52-1b8ca747dbcd>:1: DeprecationWarning: executable_path has been deprecated, please pass in a Service object\n",
      "  driver = webdriver.Chrome(ChromeDriverManager().install(), options = opciones)\n",
      "<ipython-input-52-1b8ca747dbcd>:5: DeprecationWarning: find_element_by_* commands are deprecated. Please use find_element() instead\n",
      "  driver.find_element_by_css_selector(f\"#banda_cookies > a:nth-child(2)\").click()\n",
      "<ipython-input-52-1b8ca747dbcd>:7: DeprecationWarning: find_element_by_* commands are deprecated. Please use find_element() instead\n",
      "  driver.find_element_by_css_selector(f\"#_diputadomodule_paginationLinksDiputados > li:nth-child(9) > a\").click()\n",
      "<ipython-input-52-1b8ca747dbcd>:9: DeprecationWarning: find_element_by_* commands are deprecated. Please use find_element() instead\n",
      "  driver.find_element_by_css_selector(f\"#_diputadomodule_paginationLinksDiputados > li:nth-child(4) > a\").click()\n",
      "<ipython-input-52-1b8ca747dbcd>:17: DeprecationWarning: find_element_by_* commands are deprecated. Please use find_element() instead\n",
      "  driver.find_element_by_css_selector(f\"#_diputadomodule_contentPaginationDiputados > table > tbody > tr:nth-child({i}) > th > a\").click()\n",
      "<ipython-input-52-1b8ca747dbcd>:18: DeprecationWarning: find_element_by_* commands are deprecated. Please use find_element() instead\n",
      "  nombre15.append(driver.find_element_by_css_selector(f\"#portlet_diputadomodule > div > div.portlet-content-container > div > div:nth-child(3) > div:nth-child(1) > div.col-sm-8.col-12.pl-0 > div\").text)\n",
      "<ipython-input-52-1b8ca747dbcd>:19: DeprecationWarning: find_element_by_* commands are deprecated. Please use find_element() instead\n",
      "  nacimiento15.append(driver.find_element_by_css_selector(f\"#portlet_diputadomodule > div > div.portlet-content-container > div > div:nth-child(3) > div:nth-child(2) > div:nth-child(1) > div > div > p:nth-child(2)\").text)\n"
     ]
    }
   ],
   "source": [
    "driver = webdriver.Chrome(ChromeDriverManager().install(), options = opciones)\n",
    "url2 = \"https://www.congreso.es/busqueda-de-diputados\"\n",
    "driver.get(url2)\n",
    "driver.implicitly_wait(1000) # is like a time.sleep but specific of selenium\n",
    "driver.find_element_by_css_selector(f\"#banda_cookies > a:nth-child(2)\").click()  \n",
    "driver.implicitly_wait(15000) # is like a time.sleep but specific of selenium\n",
    "driver.find_element_by_css_selector(f\"#_diputadomodule_paginationLinksDiputados > li:nth-child(9) > a\").click()  \n",
    "driver.implicitly_wait(15000) # is like a time.sleep but specific of selenium\n",
    "driver.find_element_by_css_selector(f\"#_diputadomodule_paginationLinksDiputados > li:nth-child(4) > a\").click() \n",
    "driver.implicitly_wait(2000) # is like a time.sleep but specific of selenium\n",
    "\n",
    "nombre15 = []\n",
    "nacimiento15 = []\n",
    "\n",
    "for i in range (1,21):\n",
    "    driver.implicitly_wait(5000) # is like a time.sleep but specific of selenium\n",
    "    driver.find_element_by_css_selector(f\"#_diputadomodule_contentPaginationDiputados > table > tbody > tr:nth-child({i}) > th > a\").click()  \n",
    "    nombre15.append(driver.find_element_by_css_selector(f\"#portlet_diputadomodule > div > div.portlet-content-container > div > div:nth-child(3) > div:nth-child(1) > div.col-sm-8.col-12.pl-0 > div\").text)\n",
    "    nacimiento15.append(driver.find_element_by_css_selector(f\"#portlet_diputadomodule > div > div.portlet-content-container > div > div:nth-child(3) > div:nth-child(2) > div:nth-child(1) > div > div > p:nth-child(2)\").text)\n",
    "    driver.execute_script(\"window.history.go(-1)\")"
   ]
  },
  {
   "cell_type": "code",
   "execution_count": 53,
   "id": "053e5e53",
   "metadata": {},
   "outputs": [
    {
     "data": {
      "text/plain": [
       "20"
      ]
     },
     "execution_count": 53,
     "metadata": {},
     "output_type": "execute_result"
    }
   ],
   "source": [
    "len(nombre15)"
   ]
  },
  {
   "cell_type": "code",
   "execution_count": 54,
   "id": "362911f5",
   "metadata": {
    "collapsed": true
   },
   "outputs": [
    {
     "data": {
      "text/plain": [
       "['Romero Sánchez, Rosa María',\n",
       " 'Romero Vilches, María de los Reyes',\n",
       " 'Ros Martínez, Susana',\n",
       " 'Rosety Fernández de Castro, Agustín',\n",
       " 'Rosique i Saltor, Marta',\n",
       " 'Rueda Perelló, Patricia',\n",
       " 'Rufián Romero, Gabriel',\n",
       " 'Ruiz de Pinedo Undiano, Iñaki',\n",
       " 'Ruiz i Carbonell, Joan',\n",
       " 'Ruiz Navarro, Eduardo Luis',\n",
       " 'Ruiz Solás, María de la Cabeza',\n",
       " 'Saavedra Muñoz, Marisa',\n",
       " 'Sabanés Nadal, Inés',\n",
       " 'Sáez Alonso-Muñumer, Pablo',\n",
       " 'Sagastizabal Unzetabarrenetxea, Idoia',\n",
       " 'Sahuquillo García, Luis Carlos',\n",
       " 'Salvá Verd, Antonio',\n",
       " 'Salvador i Duch, Jordi',\n",
       " 'Sánchez del Real, Víctor Manuel',\n",
       " 'Sánchez Escobar, Mariano']"
      ]
     },
     "execution_count": 54,
     "metadata": {},
     "output_type": "execute_result"
    }
   ],
   "source": [
    "nombre15"
   ]
  },
  {
   "cell_type": "code",
   "execution_count": 55,
   "id": "05cf011d",
   "metadata": {
    "scrolled": false
   },
   "outputs": [
    {
     "name": "stderr",
     "output_type": "stream",
     "text": [
      "\n",
      "\n",
      "====== WebDriver manager ======\n",
      "Current google-chrome version is 96.0.4664\n",
      "Get LATEST chromedriver version for 96.0.4664 google-chrome\n",
      "Driver [/Users/macniacos/.wdm/drivers/chromedriver/mac64/96.0.4664.45/chromedriver] found in cache\n",
      "<ipython-input-55-c8d1cf04f5b7>:1: DeprecationWarning: executable_path has been deprecated, please pass in a Service object\n",
      "  driver = webdriver.Chrome(ChromeDriverManager().install(), options = opciones)\n",
      "<ipython-input-55-c8d1cf04f5b7>:5: DeprecationWarning: find_element_by_* commands are deprecated. Please use find_element() instead\n",
      "  driver.find_element_by_css_selector(f\"#banda_cookies > a:nth-child(2)\").click()\n",
      "<ipython-input-55-c8d1cf04f5b7>:7: DeprecationWarning: find_element_by_* commands are deprecated. Please use find_element() instead\n",
      "  driver.find_element_by_css_selector(f\"#_diputadomodule_paginationLinksDiputados > li:nth-child(9) > a\").click()\n",
      "<ipython-input-55-c8d1cf04f5b7>:9: DeprecationWarning: find_element_by_* commands are deprecated. Please use find_element() instead\n",
      "  driver.find_element_by_css_selector(f\"#_diputadomodule_paginationLinksDiputados > li:nth-child(5) > a\").click()\n",
      "<ipython-input-55-c8d1cf04f5b7>:17: DeprecationWarning: find_element_by_* commands are deprecated. Please use find_element() instead\n",
      "  driver.find_element_by_css_selector(f\"#_diputadomodule_contentPaginationDiputados > table > tbody > tr:nth-child({i}) > th > a\").click()\n",
      "<ipython-input-55-c8d1cf04f5b7>:18: DeprecationWarning: find_element_by_* commands are deprecated. Please use find_element() instead\n",
      "  nombre16.append(driver.find_element_by_css_selector(f\"#portlet_diputadomodule > div > div.portlet-content-container > div > div:nth-child(3) > div:nth-child(1) > div.col-sm-8.col-12.pl-0 > div\").text)\n",
      "<ipython-input-55-c8d1cf04f5b7>:19: DeprecationWarning: find_element_by_* commands are deprecated. Please use find_element() instead\n",
      "  nacimiento16.append(driver.find_element_by_css_selector(f\"#portlet_diputadomodule > div > div.portlet-content-container > div > div:nth-child(3) > div:nth-child(2) > div:nth-child(1) > div > div > p:nth-child(2)\").text)\n"
     ]
    }
   ],
   "source": [
    "driver = webdriver.Chrome(ChromeDriverManager().install(), options = opciones)\n",
    "url2 = \"https://www.congreso.es/busqueda-de-diputados\"\n",
    "driver.get(url2)\n",
    "driver.implicitly_wait(1000) # is like a time.sleep but specific of selenium\n",
    "driver.find_element_by_css_selector(f\"#banda_cookies > a:nth-child(2)\").click()  \n",
    "driver.implicitly_wait(15000) # is like a time.sleep but specific of selenium\n",
    "driver.find_element_by_css_selector(f\"#_diputadomodule_paginationLinksDiputados > li:nth-child(9) > a\").click()  \n",
    "driver.implicitly_wait(15000) # is like a time.sleep but specific of selenium\n",
    "driver.find_element_by_css_selector(f\"#_diputadomodule_paginationLinksDiputados > li:nth-child(5) > a\").click() \n",
    "driver.implicitly_wait(2000) # is like a time.sleep but specific of selenium\n",
    "\n",
    "nombre16 = []\n",
    "nacimiento16 = []\n",
    "\n",
    "for i in range (1,21):\n",
    "    driver.implicitly_wait(5000) # is like a time.sleep but specific of selenium\n",
    "    driver.find_element_by_css_selector(f\"#_diputadomodule_contentPaginationDiputados > table > tbody > tr:nth-child({i}) > th > a\").click()  \n",
    "    nombre16.append(driver.find_element_by_css_selector(f\"#portlet_diputadomodule > div > div.portlet-content-container > div > div:nth-child(3) > div:nth-child(1) > div.col-sm-8.col-12.pl-0 > div\").text)\n",
    "    nacimiento16.append(driver.find_element_by_css_selector(f\"#portlet_diputadomodule > div > div.portlet-content-container > div > div:nth-child(3) > div:nth-child(2) > div:nth-child(1) > div > div > p:nth-child(2)\").text)\n",
    "    driver.execute_script(\"window.history.go(-1)\")"
   ]
  },
  {
   "cell_type": "code",
   "execution_count": 56,
   "id": "707ddffe",
   "metadata": {},
   "outputs": [
    {
     "data": {
      "text/plain": [
       "20"
      ]
     },
     "execution_count": 56,
     "metadata": {},
     "output_type": "execute_result"
    }
   ],
   "source": [
    "len(nombre16)"
   ]
  },
  {
   "cell_type": "code",
   "execution_count": 59,
   "id": "31c83e60",
   "metadata": {},
   "outputs": [
    {
     "name": "stderr",
     "output_type": "stream",
     "text": [
      "\n",
      "\n",
      "====== WebDriver manager ======\n",
      "Current google-chrome version is 96.0.4664\n",
      "Get LATEST chromedriver version for 96.0.4664 google-chrome\n",
      "Driver [/Users/macniacos/.wdm/drivers/chromedriver/mac64/96.0.4664.45/chromedriver] found in cache\n",
      "<ipython-input-59-f796fc458f65>:1: DeprecationWarning: executable_path has been deprecated, please pass in a Service object\n",
      "  driver = webdriver.Chrome(ChromeDriverManager().install(), options = opciones)\n",
      "<ipython-input-59-f796fc458f65>:5: DeprecationWarning: find_element_by_* commands are deprecated. Please use find_element() instead\n",
      "  driver.find_element_by_css_selector(f\"#banda_cookies > a:nth-child(2)\").click()\n",
      "<ipython-input-59-f796fc458f65>:7: DeprecationWarning: find_element_by_* commands are deprecated. Please use find_element() instead\n",
      "  driver.find_element_by_css_selector(f\"#_diputadomodule_paginationLinksDiputados > li:nth-child(9) > a\").click()\n",
      "<ipython-input-59-f796fc458f65>:9: DeprecationWarning: find_element_by_* commands are deprecated. Please use find_element() instead\n",
      "  driver.find_element_by_css_selector(f\"#_diputadomodule_paginationLinksDiputados > li:nth-child(6) > a\").click()\n",
      "<ipython-input-59-f796fc458f65>:17: DeprecationWarning: find_element_by_* commands are deprecated. Please use find_element() instead\n",
      "  driver.find_element_by_css_selector(f\"#_diputadomodule_contentPaginationDiputados > table > tbody > tr:nth-child({i}) > th > a\").click()\n",
      "<ipython-input-59-f796fc458f65>:18: DeprecationWarning: find_element_by_* commands are deprecated. Please use find_element() instead\n",
      "  nombre17.append(driver.find_element_by_css_selector(f\"#portlet_diputadomodule > div > div.portlet-content-container > div > div:nth-child(3) > div:nth-child(1) > div.col-sm-8.col-12.pl-0 > div\").text)\n",
      "<ipython-input-59-f796fc458f65>:19: DeprecationWarning: find_element_by_* commands are deprecated. Please use find_element() instead\n",
      "  nacimiento17.append(driver.find_element_by_css_selector(f\"#portlet_diputadomodule > div > div.portlet-content-container > div > div:nth-child(3) > div:nth-child(2) > div:nth-child(1) > div > div > p:nth-child(2)\").text)\n"
     ]
    }
   ],
   "source": [
    "driver = webdriver.Chrome(ChromeDriverManager().install(), options = opciones)\n",
    "url2 = \"https://www.congreso.es/busqueda-de-diputados\"\n",
    "driver.get(url2)\n",
    "driver.implicitly_wait(1000) # is like a time.sleep but specific of selenium\n",
    "driver.find_element_by_css_selector(f\"#banda_cookies > a:nth-child(2)\").click()  \n",
    "driver.implicitly_wait(15000) # is like a time.sleep but specific of selenium\n",
    "driver.find_element_by_css_selector(f\"#_diputadomodule_paginationLinksDiputados > li:nth-child(9) > a\").click()  \n",
    "driver.implicitly_wait(15000) # is like a time.sleep but specific of selenium\n",
    "driver.find_element_by_css_selector(f\"#_diputadomodule_paginationLinksDiputados > li:nth-child(6) > a\").click() \n",
    "driver.implicitly_wait(2000) # is like a time.sleep but specific of selenium\n",
    "\n",
    "nombre17 = []\n",
    "nacimiento17 = []\n",
    "\n",
    "for i in range (1,21):\n",
    "    driver.implicitly_wait(5000) # is like a time.sleep but specific of selenium\n",
    "    driver.find_element_by_css_selector(f\"#_diputadomodule_contentPaginationDiputados > table > tbody > tr:nth-child({i}) > th > a\").click()  \n",
    "    nombre17.append(driver.find_element_by_css_selector(f\"#portlet_diputadomodule > div > div.portlet-content-container > div > div:nth-child(3) > div:nth-child(1) > div.col-sm-8.col-12.pl-0 > div\").text)\n",
    "    nacimiento17.append(driver.find_element_by_css_selector(f\"#portlet_diputadomodule > div > div.portlet-content-container > div > div:nth-child(3) > div:nth-child(2) > div:nth-child(1) > div > div > p:nth-child(2)\").text)\n",
    "    driver.execute_script(\"window.history.go(-1)\")"
   ]
  },
  {
   "cell_type": "code",
   "execution_count": 60,
   "id": "1a392fbf",
   "metadata": {},
   "outputs": [
    {
     "data": {
      "text/plain": [
       "20"
      ]
     },
     "execution_count": 60,
     "metadata": {},
     "output_type": "execute_result"
    }
   ],
   "source": [
    "len(nombre17)"
   ]
  },
  {
   "cell_type": "code",
   "execution_count": 61,
   "id": "02c35167",
   "metadata": {},
   "outputs": [
    {
     "name": "stderr",
     "output_type": "stream",
     "text": [
      "\n",
      "\n",
      "====== WebDriver manager ======\n",
      "Current google-chrome version is 96.0.4664\n",
      "Get LATEST chromedriver version for 96.0.4664 google-chrome\n",
      "Driver [/Users/macniacos/.wdm/drivers/chromedriver/mac64/96.0.4664.45/chromedriver] found in cache\n",
      "<ipython-input-61-28916ffaf735>:1: DeprecationWarning: executable_path has been deprecated, please pass in a Service object\n",
      "  driver = webdriver.Chrome(ChromeDriverManager().install(), options = opciones)\n",
      "<ipython-input-61-28916ffaf735>:5: DeprecationWarning: find_element_by_* commands are deprecated. Please use find_element() instead\n",
      "  driver.find_element_by_css_selector(f\"#banda_cookies > a:nth-child(2)\").click()\n",
      "<ipython-input-61-28916ffaf735>:7: DeprecationWarning: find_element_by_* commands are deprecated. Please use find_element() instead\n",
      "  driver.find_element_by_css_selector(f\"#_diputadomodule_paginationLinksDiputados > li:nth-child(9) > a\").click()\n",
      "<ipython-input-61-28916ffaf735>:15: DeprecationWarning: find_element_by_* commands are deprecated. Please use find_element() instead\n",
      "  driver.find_element_by_css_selector(f\"#_diputadomodule_contentPaginationDiputados > table > tbody > tr:nth-child({i}) > th > a\").click()\n",
      "<ipython-input-61-28916ffaf735>:16: DeprecationWarning: find_element_by_* commands are deprecated. Please use find_element() instead\n",
      "  nombre18.append(driver.find_element_by_css_selector(f\"#portlet_diputadomodule > div > div.portlet-content-container > div > div:nth-child(3) > div:nth-child(1) > div.col-sm-8.col-12.pl-0 > div\").text)\n",
      "<ipython-input-61-28916ffaf735>:17: DeprecationWarning: find_element_by_* commands are deprecated. Please use find_element() instead\n",
      "  nacimiento18.append(driver.find_element_by_css_selector(f\"#portlet_diputadomodule > div > div.portlet-content-container > div > div:nth-child(3) > div:nth-child(2) > div:nth-child(1) > div > div > p:nth-child(2)\").text)\n"
     ]
    }
   ],
   "source": [
    "driver = webdriver.Chrome(ChromeDriverManager().install(), options = opciones)\n",
    "url2 = \"https://www.congreso.es/busqueda-de-diputados\"\n",
    "driver.get(url2)\n",
    "driver.implicitly_wait(1000) # is like a time.sleep but specific of selenium\n",
    "driver.find_element_by_css_selector(f\"#banda_cookies > a:nth-child(2)\").click()  \n",
    "driver.implicitly_wait(15000) # is like a time.sleep but specific of selenium\n",
    "driver.find_element_by_css_selector(f\"#_diputadomodule_paginationLinksDiputados > li:nth-child(9) > a\").click()  \n",
    "driver.implicitly_wait(15000) # is like a time.sleep but specific of selenium\n",
    "\n",
    "nombre18 = []\n",
    "nacimiento18 = []\n",
    "\n",
    "for i in range (1,10):\n",
    "    driver.implicitly_wait(5000) # is like a time.sleep but specific of selenium\n",
    "    driver.find_element_by_css_selector(f\"#_diputadomodule_contentPaginationDiputados > table > tbody > tr:nth-child({i}) > th > a\").click()  \n",
    "    nombre18.append(driver.find_element_by_css_selector(f\"#portlet_diputadomodule > div > div.portlet-content-container > div > div:nth-child(3) > div:nth-child(1) > div.col-sm-8.col-12.pl-0 > div\").text)\n",
    "    nacimiento18.append(driver.find_element_by_css_selector(f\"#portlet_diputadomodule > div > div.portlet-content-container > div > div:nth-child(3) > div:nth-child(2) > div:nth-child(1) > div > div > p:nth-child(2)\").text)\n",
    "    driver.execute_script(\"window.history.go(-1)\")"
   ]
  },
  {
   "cell_type": "code",
   "execution_count": 62,
   "id": "d3c67937",
   "metadata": {},
   "outputs": [
    {
     "data": {
      "text/plain": [
       "9"
      ]
     },
     "execution_count": 62,
     "metadata": {},
     "output_type": "execute_result"
    }
   ],
   "source": [
    "len(nombre18)"
   ]
  },
  {
   "cell_type": "code",
   "execution_count": 63,
   "id": "21ba1e85",
   "metadata": {},
   "outputs": [
    {
     "data": {
      "text/plain": [
       "''"
      ]
     },
     "execution_count": 63,
     "metadata": {},
     "output_type": "execute_result"
    }
   ],
   "source": [
    "nacimiento14.pop(11)"
   ]
  },
  {
   "cell_type": "code",
   "execution_count": 64,
   "id": "4f913ace",
   "metadata": {},
   "outputs": [
    {
     "data": {
      "text/plain": [
       "'Riolobos Regadera, Carmen'"
      ]
     },
     "execution_count": 64,
     "metadata": {},
     "output_type": "execute_result"
    }
   ],
   "source": [
    "nombre14.pop(11)"
   ]
  },
  {
   "cell_type": "code",
   "execution_count": 65,
   "id": "3f8170a5",
   "metadata": {
    "scrolled": true
   },
   "outputs": [],
   "source": [
    "Nacimiento = nacimiento + nacimiento2 + nacimiento3 + nacimiento4 + nacimiento5 + nacimiento6 + nacimiento7 + nacimiento8 +  nacimiento9 + nacimiento10 + nacimiento11 + nacimiento12 +  nacimiento13 + nacimiento14 + nacimiento15 +  nacimiento6 + nacimiento17 + nacimiento18"
   ]
  },
  {
   "cell_type": "code",
   "execution_count": 66,
   "id": "7a3cf984",
   "metadata": {},
   "outputs": [],
   "source": [
    "born = [i.split(\" en\")[0] for i in Nacimiento]"
   ]
  },
  {
   "cell_type": "code",
   "execution_count": 67,
   "id": "d90a809d",
   "metadata": {},
   "outputs": [],
   "source": [
    "Fecha = [i.split(\"l \")[1] for i in born]"
   ]
  },
  {
   "cell_type": "code",
   "execution_count": 68,
   "id": "fd02ef71",
   "metadata": {},
   "outputs": [],
   "source": [
    "Nombre = nombre + nombre2 + nombre3 + nombre4 + nombre5 + nombre6 + nombre7 + nombre8 +  nombre9 + nombre10 + nombre11 + nombre12 +  nombre13 + nombre14 + nombre15 +  nombre16 + nombre17 + nombre18"
   ]
  },
  {
   "cell_type": "code",
   "execution_count": null,
   "id": "848c16e8",
   "metadata": {},
   "outputs": [],
   "source": []
  },
  {
   "cell_type": "code",
   "execution_count": null,
   "id": "0f3634c9",
   "metadata": {},
   "outputs": [],
   "source": []
  },
  {
   "cell_type": "code",
   "execution_count": null,
   "id": "9855e7e8",
   "metadata": {},
   "outputs": [],
   "source": []
  },
  {
   "cell_type": "code",
   "execution_count": 69,
   "id": "24c811ad",
   "metadata": {},
   "outputs": [],
   "source": [
    "nombredf = pd.DataFrame(Nombre)\n",
    "fechadf = pd.DataFrame(Fecha)\n",
    "\n",
    "\n",
    "nombredf = nombredf.rename(columns={0: 'Nombre'})\n",
    "fechadf = fechadf.rename(columns={0: 'Nacimiento'})\n"
   ]
  },
  {
   "cell_type": "code",
   "execution_count": 70,
   "id": "ee683e6b",
   "metadata": {},
   "outputs": [],
   "source": [
    "df = pd.concat([nombredf, fechadf], axis=1)"
   ]
  },
  {
   "cell_type": "code",
   "execution_count": 71,
   "id": "bb7845f3",
   "metadata": {},
   "outputs": [
    {
     "data": {
      "text/html": [
       "<div>\n",
       "<style scoped>\n",
       "    .dataframe tbody tr th:only-of-type {\n",
       "        vertical-align: middle;\n",
       "    }\n",
       "\n",
       "    .dataframe tbody tr th {\n",
       "        vertical-align: top;\n",
       "    }\n",
       "\n",
       "    .dataframe thead th {\n",
       "        text-align: right;\n",
       "    }\n",
       "</style>\n",
       "<table border=\"1\" class=\"dataframe\">\n",
       "  <thead>\n",
       "    <tr style=\"text-align: right;\">\n",
       "      <th></th>\n",
       "      <th>Nombre</th>\n",
       "      <th>Nacimiento</th>\n",
       "    </tr>\n",
       "  </thead>\n",
       "  <tbody>\n",
       "    <tr>\n",
       "      <th>0</th>\n",
       "      <td>Ábalos Meco, José Luis</td>\n",
       "      <td>09/12/1959</td>\n",
       "    </tr>\n",
       "    <tr>\n",
       "      <th>1</th>\n",
       "      <td>Abascal Conde, Santiago</td>\n",
       "      <td>14/04/1976</td>\n",
       "    </tr>\n",
       "    <tr>\n",
       "      <th>2</th>\n",
       "      <td>Aceves Galindo, José Luis</td>\n",
       "      <td>21/05/1970</td>\n",
       "    </tr>\n",
       "    <tr>\n",
       "      <th>3</th>\n",
       "      <td>Agirretxea Urresti, Joseba Andoni</td>\n",
       "      <td>06/08/1966</td>\n",
       "    </tr>\n",
       "    <tr>\n",
       "      <th>4</th>\n",
       "      <td>Aizcorbe Torra, Juan José</td>\n",
       "      <td>09/07/1959</td>\n",
       "    </tr>\n",
       "    <tr>\n",
       "      <th>...</th>\n",
       "      <td>...</td>\n",
       "      <td>...</td>\n",
       "    </tr>\n",
       "    <tr>\n",
       "      <th>343</th>\n",
       "      <td>Villagrasa Quero, Noemí</td>\n",
       "      <td>14/09/1980</td>\n",
       "    </tr>\n",
       "    <tr>\n",
       "      <th>344</th>\n",
       "      <td>Zamarrón Moreno, Agustín</td>\n",
       "      <td>02/02/1946</td>\n",
       "    </tr>\n",
       "    <tr>\n",
       "      <th>345</th>\n",
       "      <td>Zambrano García-Raez, Carlos José</td>\n",
       "      <td>23/02/1969</td>\n",
       "    </tr>\n",
       "    <tr>\n",
       "      <th>346</th>\n",
       "      <td>Zaragoza Alonso, José</td>\n",
       "      <td>12/09/1961</td>\n",
       "    </tr>\n",
       "    <tr>\n",
       "      <th>347</th>\n",
       "      <td>Zurita Expósito, Ana María</td>\n",
       "      <td>03/11/1963</td>\n",
       "    </tr>\n",
       "  </tbody>\n",
       "</table>\n",
       "<p>348 rows × 2 columns</p>\n",
       "</div>"
      ],
      "text/plain": [
       "                                Nombre  Nacimiento\n",
       "0               Ábalos Meco, José Luis  09/12/1959\n",
       "1              Abascal Conde, Santiago  14/04/1976\n",
       "2            Aceves Galindo, José Luis  21/05/1970\n",
       "3    Agirretxea Urresti, Joseba Andoni  06/08/1966\n",
       "4            Aizcorbe Torra, Juan José  09/07/1959\n",
       "..                                 ...         ...\n",
       "343            Villagrasa Quero, Noemí  14/09/1980\n",
       "344           Zamarrón Moreno, Agustín  02/02/1946\n",
       "345  Zambrano García-Raez, Carlos José  23/02/1969\n",
       "346              Zaragoza Alonso, José  12/09/1961\n",
       "347         Zurita Expósito, Ana María  03/11/1963\n",
       "\n",
       "[348 rows x 2 columns]"
      ]
     },
     "execution_count": 71,
     "metadata": {},
     "output_type": "execute_result"
    }
   ],
   "source": [
    "df"
   ]
  },
  {
   "cell_type": "code",
   "execution_count": 72,
   "id": "3b1c574e",
   "metadata": {},
   "outputs": [
    {
     "data": {
      "text/html": [
       "<div>\n",
       "<style scoped>\n",
       "    .dataframe tbody tr th:only-of-type {\n",
       "        vertical-align: middle;\n",
       "    }\n",
       "\n",
       "    .dataframe tbody tr th {\n",
       "        vertical-align: top;\n",
       "    }\n",
       "\n",
       "    .dataframe thead th {\n",
       "        text-align: right;\n",
       "    }\n",
       "</style>\n",
       "<table border=\"1\" class=\"dataframe\">\n",
       "  <thead>\n",
       "    <tr style=\"text-align: right;\">\n",
       "      <th></th>\n",
       "      <th>Nombre</th>\n",
       "      <th>Nacimiento</th>\n",
       "      <th>year</th>\n",
       "      <th>month</th>\n",
       "      <th>day</th>\n",
       "    </tr>\n",
       "  </thead>\n",
       "  <tbody>\n",
       "    <tr>\n",
       "      <th>0</th>\n",
       "      <td>Ábalos Meco, José Luis</td>\n",
       "      <td>09/12/1959</td>\n",
       "      <td>1959</td>\n",
       "      <td>9</td>\n",
       "      <td>12</td>\n",
       "    </tr>\n",
       "    <tr>\n",
       "      <th>1</th>\n",
       "      <td>Abascal Conde, Santiago</td>\n",
       "      <td>14/04/1976</td>\n",
       "      <td>1976</td>\n",
       "      <td>4</td>\n",
       "      <td>14</td>\n",
       "    </tr>\n",
       "    <tr>\n",
       "      <th>2</th>\n",
       "      <td>Aceves Galindo, José Luis</td>\n",
       "      <td>21/05/1970</td>\n",
       "      <td>1970</td>\n",
       "      <td>5</td>\n",
       "      <td>21</td>\n",
       "    </tr>\n",
       "  </tbody>\n",
       "</table>\n",
       "</div>"
      ],
      "text/plain": [
       "                      Nombre  Nacimiento  year  month  day\n",
       "0     Ábalos Meco, José Luis  09/12/1959  1959      9   12\n",
       "1    Abascal Conde, Santiago  14/04/1976  1976      4   14\n",
       "2  Aceves Galindo, José Luis  21/05/1970  1970      5   21"
      ]
     },
     "execution_count": 72,
     "metadata": {},
     "output_type": "execute_result"
    }
   ],
   "source": [
    "df['year'] = pd.DatetimeIndex(df['Nacimiento']).year\n",
    "df['month'] = pd.DatetimeIndex(df['Nacimiento']).month\n",
    "df['day'] = pd.DatetimeIndex(df['Nacimiento']).day\n",
    "df.head(3)"
   ]
  },
  {
   "cell_type": "code",
   "execution_count": 73,
   "id": "df24b6dc",
   "metadata": {},
   "outputs": [],
   "source": [
    "def trimestres(row):\n",
    "    if row['month'] < 4 :\n",
    "        return 1\n",
    "    elif row['month'] < 7:\n",
    "        return 2\n",
    "    elif row['month'] < 10:\n",
    "        return 3\n",
    "    else:\n",
    "        return 4    "
   ]
  },
  {
   "cell_type": "code",
   "execution_count": 74,
   "id": "e66f56f8",
   "metadata": {},
   "outputs": [],
   "source": [
    "df['trimestre'] = df.apply (lambda month: trimestres(month), axis=1)"
   ]
  },
  {
   "cell_type": "code",
   "execution_count": 75,
   "id": "0c0e7cec",
   "metadata": {},
   "outputs": [],
   "source": [
    "df.to_csv('../../Data/diputados19.csv', encoding='utf-8')"
   ]
  },
  {
   "cell_type": "code",
   "execution_count": 79,
   "id": "6cae5349",
   "metadata": {},
   "outputs": [
    {
     "data": {
      "image/png": "[encoded data removed]",
      "text/plain": [
       "<Figure size 1224x576 with 1 Axes>"
      ]
     },
     "metadata": {},
     "output_type": "display_data"
    }
   ],
   "source": [
    "ax = sns.countplot(x=\"month\", data=df)"
   ]
  },
  {
   "cell_type": "code",
   "execution_count": 80,
   "id": "94da6ab7",
   "metadata": {},
   "outputs": [
    {
     "data": {
      "image/png": "[encoded data removed]",
      "text/plain": [
       "<Figure size 1224x576 with 1 Axes>"
      ]
     },
     "metadata": {},
     "output_type": "display_data"
    }
   ],
   "source": [
    "ax = sns.countplot(x=\"trimestre\", data=df)"
   ]
  },
  {
   "cell_type": "code",
   "execution_count": 81,
   "id": "f8a53bcf",
   "metadata": {},
   "outputs": [
    {
     "data": {
      "text/html": [
       "<div>\n",
       "<style scoped>\n",
       "    .dataframe tbody tr th:only-of-type {\n",
       "        vertical-align: middle;\n",
       "    }\n",
       "\n",
       "    .dataframe tbody tr th {\n",
       "        vertical-align: top;\n",
       "    }\n",
       "\n",
       "    .dataframe thead th {\n",
       "        text-align: right;\n",
       "    }\n",
       "</style>\n",
       "<table border=\"1\" class=\"dataframe\">\n",
       "  <thead>\n",
       "    <tr style=\"text-align: right;\">\n",
       "      <th></th>\n",
       "      <th>Nombre</th>\n",
       "      <th>Nacimiento</th>\n",
       "      <th>year</th>\n",
       "      <th>month</th>\n",
       "      <th>day</th>\n",
       "      <th>trimestre</th>\n",
       "    </tr>\n",
       "  </thead>\n",
       "  <tbody>\n",
       "    <tr>\n",
       "      <th>0</th>\n",
       "      <td>Ábalos Meco, José Luis</td>\n",
       "      <td>09/12/1959</td>\n",
       "      <td>1959</td>\n",
       "      <td>9</td>\n",
       "      <td>12</td>\n",
       "      <td>3</td>\n",
       "    </tr>\n",
       "    <tr>\n",
       "      <th>1</th>\n",
       "      <td>Abascal Conde, Santiago</td>\n",
       "      <td>14/04/1976</td>\n",
       "      <td>1976</td>\n",
       "      <td>4</td>\n",
       "      <td>14</td>\n",
       "      <td>2</td>\n",
       "    </tr>\n",
       "    <tr>\n",
       "      <th>2</th>\n",
       "      <td>Aceves Galindo, José Luis</td>\n",
       "      <td>21/05/1970</td>\n",
       "      <td>1970</td>\n",
       "      <td>5</td>\n",
       "      <td>21</td>\n",
       "      <td>2</td>\n",
       "    </tr>\n",
       "    <tr>\n",
       "      <th>3</th>\n",
       "      <td>Agirretxea Urresti, Joseba Andoni</td>\n",
       "      <td>06/08/1966</td>\n",
       "      <td>1966</td>\n",
       "      <td>6</td>\n",
       "      <td>8</td>\n",
       "      <td>2</td>\n",
       "    </tr>\n",
       "    <tr>\n",
       "      <th>4</th>\n",
       "      <td>Aizcorbe Torra, Juan José</td>\n",
       "      <td>09/07/1959</td>\n",
       "      <td>1959</td>\n",
       "      <td>9</td>\n",
       "      <td>7</td>\n",
       "      <td>3</td>\n",
       "    </tr>\n",
       "    <tr>\n",
       "      <th>...</th>\n",
       "      <td>...</td>\n",
       "      <td>...</td>\n",
       "      <td>...</td>\n",
       "      <td>...</td>\n",
       "      <td>...</td>\n",
       "      <td>...</td>\n",
       "    </tr>\n",
       "    <tr>\n",
       "      <th>343</th>\n",
       "      <td>Villagrasa Quero, Noemí</td>\n",
       "      <td>14/09/1980</td>\n",
       "      <td>1980</td>\n",
       "      <td>9</td>\n",
       "      <td>14</td>\n",
       "      <td>3</td>\n",
       "    </tr>\n",
       "    <tr>\n",
       "      <th>344</th>\n",
       "      <td>Zamarrón Moreno, Agustín</td>\n",
       "      <td>02/02/1946</td>\n",
       "      <td>1946</td>\n",
       "      <td>2</td>\n",
       "      <td>2</td>\n",
       "      <td>1</td>\n",
       "    </tr>\n",
       "    <tr>\n",
       "      <th>345</th>\n",
       "      <td>Zambrano García-Raez, Carlos José</td>\n",
       "      <td>23/02/1969</td>\n",
       "      <td>1969</td>\n",
       "      <td>2</td>\n",
       "      <td>23</td>\n",
       "      <td>1</td>\n",
       "    </tr>\n",
       "    <tr>\n",
       "      <th>346</th>\n",
       "      <td>Zaragoza Alonso, José</td>\n",
       "      <td>12/09/1961</td>\n",
       "      <td>1961</td>\n",
       "      <td>12</td>\n",
       "      <td>9</td>\n",
       "      <td>4</td>\n",
       "    </tr>\n",
       "    <tr>\n",
       "      <th>347</th>\n",
       "      <td>Zurita Expósito, Ana María</td>\n",
       "      <td>03/11/1963</td>\n",
       "      <td>1963</td>\n",
       "      <td>3</td>\n",
       "      <td>11</td>\n",
       "      <td>1</td>\n",
       "    </tr>\n",
       "  </tbody>\n",
       "</table>\n",
       "<p>348 rows × 6 columns</p>\n",
       "</div>"
      ],
      "text/plain": [
       "                                Nombre  Nacimiento  year  month  day  \\\n",
       "0               Ábalos Meco, José Luis  09/12/1959  1959      9   12   \n",
       "1              Abascal Conde, Santiago  14/04/1976  1976      4   14   \n",
       "2            Aceves Galindo, José Luis  21/05/1970  1970      5   21   \n",
       "3    Agirretxea Urresti, Joseba Andoni  06/08/1966  1966      6    8   \n",
       "4            Aizcorbe Torra, Juan José  09/07/1959  1959      9    7   \n",
       "..                                 ...         ...   ...    ...  ...   \n",
       "343            Villagrasa Quero, Noemí  14/09/1980  1980      9   14   \n",
       "344           Zamarrón Moreno, Agustín  02/02/1946  1946      2    2   \n",
       "345  Zambrano García-Raez, Carlos José  23/02/1969  1969      2   23   \n",
       "346              Zaragoza Alonso, José  12/09/1961  1961     12    9   \n",
       "347         Zurita Expósito, Ana María  03/11/1963  1963      3   11   \n",
       "\n",
       "     trimestre  \n",
       "0            3  \n",
       "1            2  \n",
       "2            2  \n",
       "3            2  \n",
       "4            3  \n",
       "..         ...  \n",
       "343          3  \n",
       "344          1  \n",
       "345          1  \n",
       "346          4  \n",
       "347          1  \n",
       "\n",
       "[348 rows x 6 columns]"
      ]
     },
     "execution_count": 81,
     "metadata": {},
     "output_type": "execute_result"
    }
   ],
   "source": [
    "df"
   ]
  },
  {
   "cell_type": "code",
   "execution_count": null,
   "id": "aef09880",
   "metadata": {},
   "outputs": [],
   "source": []
  },
  {
   "cell_type": "code",
   "execution_count": null,
   "id": "64e4ac19",
   "metadata": {},
   "outputs": [],
   "source": []
  }
 ],
 "metadata": {
  "kernelspec": {
   "display_name": "ironhack",
   "language": "python",
   "name": "ironhack"
  },
  "language_info": {
   "codemirror_mode": {
    "name": "ipython",
    "version": 3
   },
   "file_extension": ".py",
   "mimetype": "text/x-python",
   "name": "python",
   "nbconvert_exporter": "python",
   "pygments_lexer": "ipython3",
   "version": "3.8.5"
  }
 },
 "nbformat": 4,
 "nbformat_minor": 5
}
