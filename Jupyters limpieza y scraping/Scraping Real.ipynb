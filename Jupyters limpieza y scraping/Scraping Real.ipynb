{
 "cells": [
  {
   "cell_type": "code",
   "execution_count": 2,
   "id": "05b1a1c3",
   "metadata": {},
   "outputs": [],
   "source": [
    "from selenium import webdriver\n",
    "from selenium.webdriver.chrome.options import Options\n",
    "import time\n",
    "import pandas as pd\n",
    "from selenium.webdriver.support.ui import Select\n",
    "from webdriver_manager.chrome import ChromeDriverManager\n",
    "import pandas as pd\n",
    "import numpy as np\n",
    "import datetime\n",
    "import seaborn as sns\n",
    "sns.set_theme(style=\"darkgrid\")\n",
    "sns.set({\"figure.figsize\":(17,8)})\n",
    "sns.set(font_scale = 1.15)\n",
    "import numpy as np\n",
    "import datetime\n",
    "import seaborn as sns\n",
    "sns.set_theme(style=\"darkgrid\")\n",
    "sns.set({\"figure.figsize\":(17,8)})\n",
    "sns.set(font_scale = 1.15)"
   ]
  },
  {
   "cell_type": "code",
   "execution_count": 3,
   "id": "1d0d10df",
   "metadata": {},
   "outputs": [],
   "source": [
    "opciones=Options()\n",
    "\n",
    "opciones.add_experimental_option('excludeSwitches', ['enable-automation'])\n",
    "opciones.add_experimental_option('useAutomationExtension', False)\n",
    "\n",
    "\n",
    "opciones.binary_location = \"/Applications/Google Chrome.app/Contents/MacOS/Google Chrome\"\n",
    "chrome_driver_binary = \"/usr/local/bin/chromedriver\"\n",
    "\n",
    "opciones.headless=False    # si True, no aperece la ventana (headless=no visible)\n",
    "\n",
    "\n",
    "opciones.add_argument(\"--start-maximized\")         # comienza maximizado\n",
    "\n",
    "opciones.add_argument('user-data-dir=selenium')    # mantiene las cookies\n",
    "\n",
    "#opciones.add_extension('driver_folder/adblock.crx')       # adblocker\n",
    "\n",
    "opciones.add_argument('--incognito')              # incognito\n",
    "#modal-policy > ul > li:nth-child(1) > button"
   ]
  },
  {
   "cell_type": "code",
   "execution_count": 4,
   "id": "a093cf8e",
   "metadata": {
    "collapsed": true
   },
   "outputs": [
    {
     "name": "stderr",
     "output_type": "stream",
     "text": [
      "\n",
      "\n",
      "====== WebDriver manager ======\n",
      "Current google-chrome version is 96.0.4664\n",
      "Get LATEST chromedriver version for 96.0.4664 google-chrome\n",
      "Trying to download new driver from https://chromedriver.storage.googleapis.com/96.0.4664.45/chromedriver_mac64.zip\n",
      "Driver has been saved in cache [/Users/macniacos/.wdm/drivers/chromedriver/mac64/96.0.4664.45]\n",
      "<ipython-input-4-98eccfc4e159>:2: DeprecationWarning: executable_path has been deprecated, please pass in a Service object\n",
      "  driver = webdriver.Chrome(ChromeDriverManager().install(), options = opciones)\n",
      "<ipython-input-4-98eccfc4e159>:15: DeprecationWarning: find_element_by_* commands are deprecated. Please use find_element() instead\n",
      "  driver.find_element_by_css_selector(f\"#onetrust-accept-btn-handler\").click()\n",
      "<ipython-input-4-98eccfc4e159>:23: DeprecationWarning: find_element_by_* commands are deprecated. Please use find_element() instead\n",
      "  driver.find_element_by_css_selector(f\"body > div.grid_not_cabecera > div.master-layout.sports_layout > div.section > div > div.col.important > div:nth-child(1) > ul > li:nth-child({i}) > div > div.m_player_picture > a > img\").click()\n",
      "<ipython-input-4-98eccfc4e159>:24: DeprecationWarning: find_element_by_* commands are deprecated. Please use find_element() instead\n",
      "  nombre.append(driver.find_element_by_css_selector(f\"#playerinfo > div:nth-child(3) > div > div.col-3-3 > div > span\").text)\n",
      "<ipython-input-4-98eccfc4e159>:25: DeprecationWarning: find_element_by_* commands are deprecated. Please use find_element() instead\n",
      "  nacimiento.append(driver.find_element_by_css_selector(f\"#playerinfo > div:nth-child(3) > div > div.col-2-3 > div:nth-child(2) > span\").text)\n"
     ]
    }
   ],
   "source": [
    "# download the driver \n",
    "driver = webdriver.Chrome(ChromeDriverManager().install(), options = opciones)\n",
    "\n",
    "# set the url\n",
    "url2 = \"https://www.realmadrid.com/futbol/cantera/prebenjamin-b\"\n",
    "\n",
    "nombre = []\n",
    "nacimiento = []\n",
    "\n",
    "# request the url\n",
    "driver.get(url2)\n",
    " \n",
    "driver.implicitly_wait(1000) # is like a time.sleep but specific of selenium\n",
    "\n",
    "driver.find_element_by_css_selector(f\"#onetrust-accept-btn-handler\").click()  \n",
    "driver.implicitly_wait(1000) # is like a time.sleep but specific of selenium\n",
    "\n",
    "\n",
    "#1\n",
    "for i in range (1,10):\n",
    "    \n",
    "    \n",
    "    driver.find_element_by_css_selector(f\"body > div.grid_not_cabecera > div.master-layout.sports_layout > div.section > div > div.col.important > div:nth-child(1) > ul > li:nth-child({i}) > div > div.m_player_picture > a > img\").click()  \n",
    "    nombre.append(driver.find_element_by_css_selector(f\"#playerinfo > div:nth-child(3) > div > div.col-3-3 > div > span\").text)\n",
    "    nacimiento.append(driver.find_element_by_css_selector(f\"#playerinfo > div:nth-child(3) > div > div.col-2-3 > div:nth-child(2) > span\").text)\n",
    "    driver.execute_script(\"window.history.go(-1)\")   \n",
    "    "
   ]
  },
  {
   "cell_type": "code",
   "execution_count": 5,
   "id": "64a424bb",
   "metadata": {},
   "outputs": [
    {
     "name": "stderr",
     "output_type": "stream",
     "text": [
      "\n",
      "\n",
      "====== WebDriver manager ======\n",
      "Current google-chrome version is 96.0.4664\n",
      "Get LATEST chromedriver version for 96.0.4664 google-chrome\n",
      "Driver [/Users/macniacos/.wdm/drivers/chromedriver/mac64/96.0.4664.45/chromedriver] found in cache\n",
      "<ipython-input-5-f70530b14cfc>:2: DeprecationWarning: executable_path has been deprecated, please pass in a Service object\n",
      "  driver = webdriver.Chrome(ChromeDriverManager().install(), options = opciones)\n",
      "<ipython-input-5-f70530b14cfc>:13: DeprecationWarning: find_element_by_* commands are deprecated. Please use find_element() instead\n",
      "  driver.find_element_by_css_selector(f\"#onetrust-accept-btn-handler\").click()\n",
      "<ipython-input-5-f70530b14cfc>:21: DeprecationWarning: find_element_by_* commands are deprecated. Please use find_element() instead\n",
      "  driver.find_element_by_css_selector(f\"body > div.grid_not_cabecera > div.master-layout.sports_layout > div.section > div > div.col.important > div:nth-child(1) > ul > li:nth-child({i}) > div > div.m_player_picture > a > img\").click()\n",
      "<ipython-input-5-f70530b14cfc>:22: DeprecationWarning: find_element_by_* commands are deprecated. Please use find_element() instead\n",
      "  nombre.append(driver.find_element_by_css_selector(f\"#playerinfo > div:nth-child(3) > div > div.col-3-3 > div > span\").text)\n",
      "<ipython-input-5-f70530b14cfc>:23: DeprecationWarning: find_element_by_* commands are deprecated. Please use find_element() instead\n",
      "  nacimiento.append(driver.find_element_by_css_selector(f\"#playerinfo > div:nth-child(3) > div > div.col-2-3 > div:nth-child(2) > span\").text)\n"
     ]
    }
   ],
   "source": [
    "# download the driver \n",
    "driver = webdriver.Chrome(ChromeDriverManager().install(), options = opciones)\n",
    "\n",
    "# set the url\n",
    "url2 = \"https://www.realmadrid.com/futbol/cantera/prebenjamin-a\"\n",
    "\n",
    "\n",
    "# request the url\n",
    "driver.get(url2)\n",
    " \n",
    "driver.implicitly_wait(1000) # is like a time.sleep but specific of selenium\n",
    "\n",
    "driver.find_element_by_css_selector(f\"#onetrust-accept-btn-handler\").click()  \n",
    "driver.implicitly_wait(1000) # is like a time.sleep but specific of selenium\n",
    "\n",
    "\n",
    "#1\n",
    "for i in range (1,13):\n",
    "    \n",
    "    \n",
    "    driver.find_element_by_css_selector(f\"body > div.grid_not_cabecera > div.master-layout.sports_layout > div.section > div > div.col.important > div:nth-child(1) > ul > li:nth-child({i}) > div > div.m_player_picture > a > img\").click()  \n",
    "    nombre.append(driver.find_element_by_css_selector(f\"#playerinfo > div:nth-child(3) > div > div.col-3-3 > div > span\").text)\n",
    "    nacimiento.append(driver.find_element_by_css_selector(f\"#playerinfo > div:nth-child(3) > div > div.col-2-3 > div:nth-child(2) > span\").text)\n",
    "    driver.execute_script(\"window.history.go(-1)\")   \n",
    "    "
   ]
  },
  {
   "cell_type": "code",
   "execution_count": 6,
   "id": "a3f1ecd3",
   "metadata": {},
   "outputs": [],
   "source": [
    "nombredf = pd.DataFrame(nombre)\n",
    "fechadf = pd.DataFrame(nacimiento)\n",
    "\n",
    "\n",
    "nombredf = nombredf.rename(columns={0: 'Nombre'})\n",
    "fechadf = fechadf.rename(columns={0: 'Nacimiento'})\n",
    "\n"
   ]
  },
  {
   "cell_type": "code",
   "execution_count": 7,
   "id": "ca944c75",
   "metadata": {},
   "outputs": [],
   "source": [
    "df = pd.concat([nombredf, fechadf], axis=1)"
   ]
  },
  {
   "cell_type": "code",
   "execution_count": 8,
   "id": "f84c6995",
   "metadata": {},
   "outputs": [],
   "source": [
    "dfp = df"
   ]
  },
  {
   "cell_type": "code",
   "execution_count": 9,
   "id": "a90ec548",
   "metadata": {},
   "outputs": [],
   "source": [
    "dfp['Categoría'] = 'Prebenjamín'"
   ]
  },
  {
   "cell_type": "code",
   "execution_count": 10,
   "id": "76acf544",
   "metadata": {},
   "outputs": [
    {
     "data": {
      "text/html": [
       "<div>\n",
       "<style scoped>\n",
       "    .dataframe tbody tr th:only-of-type {\n",
       "        vertical-align: middle;\n",
       "    }\n",
       "\n",
       "    .dataframe tbody tr th {\n",
       "        vertical-align: top;\n",
       "    }\n",
       "\n",
       "    .dataframe thead th {\n",
       "        text-align: right;\n",
       "    }\n",
       "</style>\n",
       "<table border=\"1\" class=\"dataframe\">\n",
       "  <thead>\n",
       "    <tr style=\"text-align: right;\">\n",
       "      <th></th>\n",
       "      <th>Nombre</th>\n",
       "      <th>Nacimiento</th>\n",
       "      <th>Categoría</th>\n",
       "    </tr>\n",
       "  </thead>\n",
       "  <tbody>\n",
       "    <tr>\n",
       "      <th>0</th>\n",
       "      <td>Samuel Alcázar Martín</td>\n",
       "      <td>08/07/2015</td>\n",
       "      <td>Prebenjamín</td>\n",
       "    </tr>\n",
       "    <tr>\n",
       "      <th>1</th>\n",
       "      <td>Alejandro Bellvís Alcázar</td>\n",
       "      <td>08/10/2015</td>\n",
       "      <td>Prebenjamín</td>\n",
       "    </tr>\n",
       "    <tr>\n",
       "      <th>2</th>\n",
       "      <td>Diego Alonso Guerrero</td>\n",
       "      <td>02/01/2015</td>\n",
       "      <td>Prebenjamín</td>\n",
       "    </tr>\n",
       "  </tbody>\n",
       "</table>\n",
       "</div>"
      ],
      "text/plain": [
       "                      Nombre  Nacimiento    Categoría\n",
       "0      Samuel Alcázar Martín  08/07/2015  Prebenjamín\n",
       "1  Alejandro Bellvís Alcázar  08/10/2015  Prebenjamín\n",
       "2      Diego Alonso Guerrero  02/01/2015  Prebenjamín"
      ]
     },
     "execution_count": 10,
     "metadata": {},
     "output_type": "execute_result"
    }
   ],
   "source": [
    "dfp.head(3)"
   ]
  },
  {
   "cell_type": "code",
   "execution_count": null,
   "id": "20dc0dd3",
   "metadata": {},
   "outputs": [],
   "source": []
  },
  {
   "cell_type": "code",
   "execution_count": 11,
   "id": "5775b6dd",
   "metadata": {},
   "outputs": [
    {
     "name": "stderr",
     "output_type": "stream",
     "text": [
      "\n",
      "\n",
      "====== WebDriver manager ======\n",
      "Current google-chrome version is 96.0.4664\n",
      "Get LATEST chromedriver version for 96.0.4664 google-chrome\n",
      "Driver [/Users/macniacos/.wdm/drivers/chromedriver/mac64/96.0.4664.45/chromedriver] found in cache\n",
      "<ipython-input-11-ac973da69fd4>:2: DeprecationWarning: executable_path has been deprecated, please pass in a Service object\n",
      "  driver = webdriver.Chrome(ChromeDriverManager().install(), options = opciones)\n",
      "<ipython-input-11-ac973da69fd4>:15: DeprecationWarning: find_element_by_* commands are deprecated. Please use find_element() instead\n",
      "  driver.find_element_by_css_selector(f\"#onetrust-accept-btn-handler\").click()\n",
      "<ipython-input-11-ac973da69fd4>:23: DeprecationWarning: find_element_by_* commands are deprecated. Please use find_element() instead\n",
      "  driver.find_element_by_css_selector(f\"body > div.grid_not_cabecera > div.master-layout.sports_layout > div.section > div > div.col.important > div:nth-child(1) > ul > li:nth-child({i}) > div > div.m_player_picture > a > img\").click()\n",
      "<ipython-input-11-ac973da69fd4>:24: DeprecationWarning: find_element_by_* commands are deprecated. Please use find_element() instead\n",
      "  nombre.append(driver.find_element_by_css_selector(f\"#playerinfo > div:nth-child(3) > div > div.col-3-3 > div > span\").text)\n",
      "<ipython-input-11-ac973da69fd4>:25: DeprecationWarning: find_element_by_* commands are deprecated. Please use find_element() instead\n",
      "  nacimiento.append(driver.find_element_by_css_selector(f\"#playerinfo > div:nth-child(3) > div > div.col-2-3 > div:nth-child(2) > span\").text)\n"
     ]
    }
   ],
   "source": [
    "# download the driver \n",
    "driver = webdriver.Chrome(ChromeDriverManager().install(), options = opciones)\n",
    "\n",
    "# set the url\n",
    "url2 = \"https://www.realmadrid.com/futbol/cantera/benjamin-b\"\n",
    "\n",
    "nombre = []\n",
    "nacimiento = []\n",
    "\n",
    "# request the url\n",
    "driver.get(url2)\n",
    " \n",
    "driver.implicitly_wait(1000) # is like a time.sleep but specific of selenium\n",
    "\n",
    "driver.find_element_by_css_selector(f\"#onetrust-accept-btn-handler\").click()  \n",
    "driver.implicitly_wait(1000) # is like a time.sleep but specific of selenium\n",
    "\n",
    "\n",
    "#1\n",
    "for i in range (1,11):\n",
    "    \n",
    "    \n",
    "    driver.find_element_by_css_selector(f\"body > div.grid_not_cabecera > div.master-layout.sports_layout > div.section > div > div.col.important > div:nth-child(1) > ul > li:nth-child({i}) > div > div.m_player_picture > a > img\").click()  \n",
    "    nombre.append(driver.find_element_by_css_selector(f\"#playerinfo > div:nth-child(3) > div > div.col-3-3 > div > span\").text)\n",
    "    nacimiento.append(driver.find_element_by_css_selector(f\"#playerinfo > div:nth-child(3) > div > div.col-2-3 > div:nth-child(2) > span\").text)\n",
    "    driver.execute_script(\"window.history.go(-1)\")   "
   ]
  },
  {
   "cell_type": "code",
   "execution_count": 12,
   "id": "ce078877",
   "metadata": {},
   "outputs": [
    {
     "name": "stderr",
     "output_type": "stream",
     "text": [
      "\n",
      "\n",
      "====== WebDriver manager ======\n",
      "Current google-chrome version is 96.0.4664\n",
      "Get LATEST chromedriver version for 96.0.4664 google-chrome\n",
      "Driver [/Users/macniacos/.wdm/drivers/chromedriver/mac64/96.0.4664.45/chromedriver] found in cache\n",
      "<ipython-input-12-11ca6c299b46>:2: DeprecationWarning: executable_path has been deprecated, please pass in a Service object\n",
      "  driver = webdriver.Chrome(ChromeDriverManager().install(), options = opciones)\n",
      "<ipython-input-12-11ca6c299b46>:13: DeprecationWarning: find_element_by_* commands are deprecated. Please use find_element() instead\n",
      "  driver.find_element_by_css_selector(f\"#onetrust-accept-btn-handler\").click()\n",
      "<ipython-input-12-11ca6c299b46>:21: DeprecationWarning: find_element_by_* commands are deprecated. Please use find_element() instead\n",
      "  driver.find_element_by_css_selector(f\"body > div.grid_not_cabecera > div.master-layout.sports_layout > div.section > div > div.col.important > div:nth-child(1) > ul > li:nth-child({i}) > div > div.m_player_picture > a > img\").click()\n",
      "<ipython-input-12-11ca6c299b46>:22: DeprecationWarning: find_element_by_* commands are deprecated. Please use find_element() instead\n",
      "  nombre.append(driver.find_element_by_css_selector(f\"#playerinfo > div:nth-child(3) > div > div.col-3-3 > div > span\").text)\n",
      "<ipython-input-12-11ca6c299b46>:23: DeprecationWarning: find_element_by_* commands are deprecated. Please use find_element() instead\n",
      "  nacimiento.append(driver.find_element_by_css_selector(f\"#playerinfo > div:nth-child(3) > div > div.col-2-3 > div:nth-child(2) > span\").text)\n"
     ]
    }
   ],
   "source": [
    "# download the driver \n",
    "driver = webdriver.Chrome(ChromeDriverManager().install(), options = opciones)\n",
    "\n",
    "# set the url\n",
    "url2 = \"https://www.realmadrid.com/futbol/cantera/benjamin-a\"\n",
    "\n",
    "\n",
    "# request the url\n",
    "driver.get(url2)\n",
    " \n",
    "driver.implicitly_wait(1000) # is like a time.sleep but specific of selenium\n",
    "\n",
    "driver.find_element_by_css_selector(f\"#onetrust-accept-btn-handler\").click()  \n",
    "driver.implicitly_wait(1000) # is like a time.sleep but specific of selenium\n",
    "\n",
    "\n",
    "#1\n",
    "for i in range (1,14):\n",
    "    \n",
    "    \n",
    "    driver.find_element_by_css_selector(f\"body > div.grid_not_cabecera > div.master-layout.sports_layout > div.section > div > div.col.important > div:nth-child(1) > ul > li:nth-child({i}) > div > div.m_player_picture > a > img\").click()  \n",
    "    nombre.append(driver.find_element_by_css_selector(f\"#playerinfo > div:nth-child(3) > div > div.col-3-3 > div > span\").text)\n",
    "    nacimiento.append(driver.find_element_by_css_selector(f\"#playerinfo > div:nth-child(3) > div > div.col-2-3 > div:nth-child(2) > span\").text)\n",
    "    driver.execute_script(\"window.history.go(-1)\")   \n",
    "    "
   ]
  },
  {
   "cell_type": "code",
   "execution_count": 13,
   "id": "6418da74",
   "metadata": {},
   "outputs": [],
   "source": [
    "nombredf = pd.DataFrame(nombre)\n",
    "fechadf = pd.DataFrame(nacimiento)\n",
    "\n",
    "\n",
    "nombredf = nombredf.rename(columns={0: 'Nombre'})\n",
    "fechadf = fechadf.rename(columns={0: 'Nacimiento'})"
   ]
  },
  {
   "cell_type": "code",
   "execution_count": 14,
   "id": "78f3a827",
   "metadata": {},
   "outputs": [],
   "source": [
    "df = pd.concat([nombredf, fechadf], axis=1)"
   ]
  },
  {
   "cell_type": "code",
   "execution_count": 15,
   "id": "10db28b9",
   "metadata": {},
   "outputs": [],
   "source": [
    "dfb = df"
   ]
  },
  {
   "cell_type": "code",
   "execution_count": 16,
   "id": "5e05fe6f",
   "metadata": {},
   "outputs": [],
   "source": [
    "dfb['Categoría'] = 'Benjamín'"
   ]
  },
  {
   "cell_type": "code",
   "execution_count": 17,
   "id": "b509c8bd",
   "metadata": {},
   "outputs": [
    {
     "data": {
      "text/html": [
       "<div>\n",
       "<style scoped>\n",
       "    .dataframe tbody tr th:only-of-type {\n",
       "        vertical-align: middle;\n",
       "    }\n",
       "\n",
       "    .dataframe tbody tr th {\n",
       "        vertical-align: top;\n",
       "    }\n",
       "\n",
       "    .dataframe thead th {\n",
       "        text-align: right;\n",
       "    }\n",
       "</style>\n",
       "<table border=\"1\" class=\"dataframe\">\n",
       "  <thead>\n",
       "    <tr style=\"text-align: right;\">\n",
       "      <th></th>\n",
       "      <th>Nombre</th>\n",
       "      <th>Nacimiento</th>\n",
       "      <th>Categoría</th>\n",
       "    </tr>\n",
       "  </thead>\n",
       "  <tbody>\n",
       "    <tr>\n",
       "      <th>0</th>\n",
       "      <td>Vicente Colomo Estebaranz</td>\n",
       "      <td>31/03/2013</td>\n",
       "      <td>Benjamín</td>\n",
       "    </tr>\n",
       "    <tr>\n",
       "      <th>1</th>\n",
       "      <td>Rafael Ruiz Gómez</td>\n",
       "      <td>29/04/2013</td>\n",
       "      <td>Benjamín</td>\n",
       "    </tr>\n",
       "    <tr>\n",
       "      <th>2</th>\n",
       "      <td>Álvaro Montoro Briones</td>\n",
       "      <td>08/04/2013</td>\n",
       "      <td>Benjamín</td>\n",
       "    </tr>\n",
       "  </tbody>\n",
       "</table>\n",
       "</div>"
      ],
      "text/plain": [
       "                      Nombre  Nacimiento Categoría\n",
       "0  Vicente Colomo Estebaranz  31/03/2013  Benjamín\n",
       "1          Rafael Ruiz Gómez  29/04/2013  Benjamín\n",
       "2     Álvaro Montoro Briones  08/04/2013  Benjamín"
      ]
     },
     "execution_count": 17,
     "metadata": {},
     "output_type": "execute_result"
    }
   ],
   "source": [
    "dfb.head(3)"
   ]
  },
  {
   "cell_type": "code",
   "execution_count": 18,
   "id": "cb361ebe",
   "metadata": {},
   "outputs": [
    {
     "name": "stderr",
     "output_type": "stream",
     "text": [
      "\n",
      "\n",
      "====== WebDriver manager ======\n",
      "Current google-chrome version is 96.0.4664\n",
      "Get LATEST chromedriver version for 96.0.4664 google-chrome\n",
      "Driver [/Users/macniacos/.wdm/drivers/chromedriver/mac64/96.0.4664.45/chromedriver] found in cache\n",
      "<ipython-input-18-0177cc9bdfcd>:2: DeprecationWarning: executable_path has been deprecated, please pass in a Service object\n",
      "  driver = webdriver.Chrome(ChromeDriverManager().install(), options = opciones)\n",
      "<ipython-input-18-0177cc9bdfcd>:15: DeprecationWarning: find_element_by_* commands are deprecated. Please use find_element() instead\n",
      "  driver.find_element_by_css_selector(f\"#onetrust-accept-btn-handler\").click()\n",
      "<ipython-input-18-0177cc9bdfcd>:23: DeprecationWarning: find_element_by_* commands are deprecated. Please use find_element() instead\n",
      "  driver.find_element_by_css_selector(f\"body > div.grid_not_cabecera > div.master-layout.sports_layout > div.section > div > div.col.important > div:nth-child(1) > ul > li:nth-child({i}) > div > div.m_player_picture > a > img\").click()\n",
      "<ipython-input-18-0177cc9bdfcd>:24: DeprecationWarning: find_element_by_* commands are deprecated. Please use find_element() instead\n",
      "  nombre.append(driver.find_element_by_css_selector(f\"#playerinfo > div:nth-child(3) > div > div.col-3-3 > div > span\").text)\n",
      "<ipython-input-18-0177cc9bdfcd>:25: DeprecationWarning: find_element_by_* commands are deprecated. Please use find_element() instead\n",
      "  nacimiento.append(driver.find_element_by_css_selector(f\"#playerinfo > div:nth-child(3) > div > div.col-2-3 > div:nth-child(2) > span\").text)\n"
     ]
    }
   ],
   "source": [
    "# download the driver \n",
    "driver = webdriver.Chrome(ChromeDriverManager().install(), options = opciones)\n",
    "\n",
    "# set the url\n",
    "url2 = \"https://www.realmadrid.com/futbol/cantera/alevin-c\"\n",
    "\n",
    "nombre = []\n",
    "nacimiento = []\n",
    "\n",
    "# request the url\n",
    "driver.get(url2)\n",
    " \n",
    "driver.implicitly_wait(1000) # is like a time.sleep but specific of selenium\n",
    "\n",
    "driver.find_element_by_css_selector(f\"#onetrust-accept-btn-handler\").click()  \n",
    "driver.implicitly_wait(1000) # is like a time.sleep but specific of selenium\n",
    "\n",
    "\n",
    "#1\n",
    "for i in range (1,15):\n",
    "    \n",
    "    \n",
    "    driver.find_element_by_css_selector(f\"body > div.grid_not_cabecera > div.master-layout.sports_layout > div.section > div > div.col.important > div:nth-child(1) > ul > li:nth-child({i}) > div > div.m_player_picture > a > img\").click()  \n",
    "    nombre.append(driver.find_element_by_css_selector(f\"#playerinfo > div:nth-child(3) > div > div.col-3-3 > div > span\").text)\n",
    "    nacimiento.append(driver.find_element_by_css_selector(f\"#playerinfo > div:nth-child(3) > div > div.col-2-3 > div:nth-child(2) > span\").text)\n",
    "    driver.execute_script(\"window.history.go(-1)\")   "
   ]
  },
  {
   "cell_type": "code",
   "execution_count": 19,
   "id": "60574315",
   "metadata": {},
   "outputs": [
    {
     "name": "stderr",
     "output_type": "stream",
     "text": [
      "\n",
      "\n",
      "====== WebDriver manager ======\n",
      "Current google-chrome version is 96.0.4664\n",
      "Get LATEST chromedriver version for 96.0.4664 google-chrome\n",
      "Driver [/Users/macniacos/.wdm/drivers/chromedriver/mac64/96.0.4664.45/chromedriver] found in cache\n",
      "<ipython-input-19-d074cbf3f7f7>:2: DeprecationWarning: executable_path has been deprecated, please pass in a Service object\n",
      "  driver = webdriver.Chrome(ChromeDriverManager().install(), options = opciones)\n",
      "<ipython-input-19-d074cbf3f7f7>:13: DeprecationWarning: find_element_by_* commands are deprecated. Please use find_element() instead\n",
      "  driver.find_element_by_css_selector(f\"#onetrust-accept-btn-handler\").click()\n",
      "<ipython-input-19-d074cbf3f7f7>:21: DeprecationWarning: find_element_by_* commands are deprecated. Please use find_element() instead\n",
      "  driver.find_element_by_css_selector(f\"body > div.grid_not_cabecera > div.master-layout.sports_layout > div.section > div > div.col.important > div:nth-child(1) > ul > li:nth-child({i}) > div > div.m_player_picture > a > img\").click()\n",
      "<ipython-input-19-d074cbf3f7f7>:22: DeprecationWarning: find_element_by_* commands are deprecated. Please use find_element() instead\n",
      "  nombre.append(driver.find_element_by_css_selector(f\"#playerinfo > div:nth-child(3) > div > div.col-3-3 > div > span\").text)\n",
      "<ipython-input-19-d074cbf3f7f7>:23: DeprecationWarning: find_element_by_* commands are deprecated. Please use find_element() instead\n",
      "  nacimiento.append(driver.find_element_by_css_selector(f\"#playerinfo > div:nth-child(3) > div > div.col-2-3 > div:nth-child(2) > span\").text)\n"
     ]
    }
   ],
   "source": [
    "# download the driver \n",
    "driver = webdriver.Chrome(ChromeDriverManager().install(), options = opciones)\n",
    "\n",
    "# set the url\n",
    "url2 = \"https://www.realmadrid.com/futbol/cantera/alevin-b\"\n",
    "\n",
    "\n",
    "# request the url\n",
    "driver.get(url2)\n",
    " \n",
    "driver.implicitly_wait(1000) # is like a time.sleep but specific of selenium\n",
    "\n",
    "driver.find_element_by_css_selector(f\"#onetrust-accept-btn-handler\").click()  \n",
    "driver.implicitly_wait(1000) # is like a time.sleep but specific of selenium\n",
    "\n",
    "\n",
    "#1\n",
    "for i in range (1,12):\n",
    "    \n",
    "    \n",
    "    driver.find_element_by_css_selector(f\"body > div.grid_not_cabecera > div.master-layout.sports_layout > div.section > div > div.col.important > div:nth-child(1) > ul > li:nth-child({i}) > div > div.m_player_picture > a > img\").click()  \n",
    "    nombre.append(driver.find_element_by_css_selector(f\"#playerinfo > div:nth-child(3) > div > div.col-3-3 > div > span\").text)\n",
    "    nacimiento.append(driver.find_element_by_css_selector(f\"#playerinfo > div:nth-child(3) > div > div.col-2-3 > div:nth-child(2) > span\").text)\n",
    "    driver.execute_script(\"window.history.go(-1)\")   \n",
    "    "
   ]
  },
  {
   "cell_type": "code",
   "execution_count": 20,
   "id": "633e9bfa",
   "metadata": {},
   "outputs": [
    {
     "name": "stderr",
     "output_type": "stream",
     "text": [
      "\n",
      "\n",
      "====== WebDriver manager ======\n",
      "Current google-chrome version is 96.0.4664\n",
      "Get LATEST chromedriver version for 96.0.4664 google-chrome\n",
      "Driver [/Users/macniacos/.wdm/drivers/chromedriver/mac64/96.0.4664.45/chromedriver] found in cache\n",
      "<ipython-input-20-9f040b5dd8d9>:2: DeprecationWarning: executable_path has been deprecated, please pass in a Service object\n",
      "  driver = webdriver.Chrome(ChromeDriverManager().install(), options = opciones)\n",
      "<ipython-input-20-9f040b5dd8d9>:13: DeprecationWarning: find_element_by_* commands are deprecated. Please use find_element() instead\n",
      "  driver.find_element_by_css_selector(f\"#onetrust-accept-btn-handler\").click()\n",
      "<ipython-input-20-9f040b5dd8d9>:21: DeprecationWarning: find_element_by_* commands are deprecated. Please use find_element() instead\n",
      "  driver.find_element_by_css_selector(f\"body > div.grid_not_cabecera > div.master-layout.sports_layout > div.section > div > div.col.important > div:nth-child(1) > ul > li:nth-child({i}) > div > div.m_player_picture > a > img\").click()\n",
      "<ipython-input-20-9f040b5dd8d9>:22: DeprecationWarning: find_element_by_* commands are deprecated. Please use find_element() instead\n",
      "  nombre.append(driver.find_element_by_css_selector(f\"#playerinfo > div:nth-child(3) > div > div.col-3-3 > div > span\").text)\n",
      "<ipython-input-20-9f040b5dd8d9>:23: DeprecationWarning: find_element_by_* commands are deprecated. Please use find_element() instead\n",
      "  nacimiento.append(driver.find_element_by_css_selector(f\"#playerinfo > div:nth-child(3) > div > div.col-2-3 > div:nth-child(2) > span\").text)\n"
     ]
    }
   ],
   "source": [
    "# download the driver \n",
    "driver = webdriver.Chrome(ChromeDriverManager().install(), options = opciones)\n",
    "\n",
    "# set the url\n",
    "url2 = \"https://www.realmadrid.com/futbol/cantera/alevin-a\"\n",
    "\n",
    "\n",
    "# request the url\n",
    "driver.get(url2)\n",
    " \n",
    "driver.implicitly_wait(1000) # is like a time.sleep but specific of selenium\n",
    "\n",
    "driver.find_element_by_css_selector(f\"#onetrust-accept-btn-handler\").click()  \n",
    "driver.implicitly_wait(1000) # is like a time.sleep but specific of selenium\n",
    "\n",
    "\n",
    "#1\n",
    "for i in range (1,23):\n",
    "    \n",
    "    \n",
    "    driver.find_element_by_css_selector(f\"body > div.grid_not_cabecera > div.master-layout.sports_layout > div.section > div > div.col.important > div:nth-child(1) > ul > li:nth-child({i}) > div > div.m_player_picture > a > img\").click()  \n",
    "    nombre.append(driver.find_element_by_css_selector(f\"#playerinfo > div:nth-child(3) > div > div.col-3-3 > div > span\").text)\n",
    "    nacimiento.append(driver.find_element_by_css_selector(f\"#playerinfo > div:nth-child(3) > div > div.col-2-3 > div:nth-child(2) > span\").text)\n",
    "    driver.execute_script(\"window.history.go(-1)\")   \n",
    "    "
   ]
  },
  {
   "cell_type": "code",
   "execution_count": 21,
   "id": "5069c9ca",
   "metadata": {},
   "outputs": [],
   "source": [
    "nombredf = pd.DataFrame(nombre)\n",
    "fechadf = pd.DataFrame(nacimiento)\n",
    "\n",
    "\n",
    "nombredf = nombredf.rename(columns={0: 'Nombre'})\n",
    "fechadf = fechadf.rename(columns={0: 'Nacimiento'})"
   ]
  },
  {
   "cell_type": "code",
   "execution_count": 22,
   "id": "5dbd2708",
   "metadata": {},
   "outputs": [],
   "source": [
    "df = pd.concat([nombredf, fechadf], axis=1)"
   ]
  },
  {
   "cell_type": "code",
   "execution_count": 23,
   "id": "1ea9a008",
   "metadata": {},
   "outputs": [],
   "source": [
    "dfa = df"
   ]
  },
  {
   "cell_type": "code",
   "execution_count": 24,
   "id": "2e054322",
   "metadata": {},
   "outputs": [],
   "source": [
    "dfa['Categoría'] = 'Alevín'"
   ]
  },
  {
   "cell_type": "code",
   "execution_count": 26,
   "id": "af6c6da0",
   "metadata": {},
   "outputs": [
    {
     "data": {
      "text/html": [
       "<div>\n",
       "<style scoped>\n",
       "    .dataframe tbody tr th:only-of-type {\n",
       "        vertical-align: middle;\n",
       "    }\n",
       "\n",
       "    .dataframe tbody tr th {\n",
       "        vertical-align: top;\n",
       "    }\n",
       "\n",
       "    .dataframe thead th {\n",
       "        text-align: right;\n",
       "    }\n",
       "</style>\n",
       "<table border=\"1\" class=\"dataframe\">\n",
       "  <thead>\n",
       "    <tr style=\"text-align: right;\">\n",
       "      <th></th>\n",
       "      <th>Nombre</th>\n",
       "      <th>Nacimiento</th>\n",
       "      <th>Categoría</th>\n",
       "    </tr>\n",
       "  </thead>\n",
       "  <tbody>\n",
       "    <tr>\n",
       "      <th>0</th>\n",
       "      <td>Pablo Alvarado García</td>\n",
       "      <td>07/07/2011</td>\n",
       "      <td>Alevín</td>\n",
       "    </tr>\n",
       "    <tr>\n",
       "      <th>1</th>\n",
       "      <td>Leo Álvarez Campoverde</td>\n",
       "      <td>16/01/2011</td>\n",
       "      <td>Alevín</td>\n",
       "    </tr>\n",
       "    <tr>\n",
       "      <th>2</th>\n",
       "      <td>Adrián Serrano Cantero</td>\n",
       "      <td>16/02/2011</td>\n",
       "      <td>Alevín</td>\n",
       "    </tr>\n",
       "  </tbody>\n",
       "</table>\n",
       "</div>"
      ],
      "text/plain": [
       "                   Nombre  Nacimiento Categoría\n",
       "0   Pablo Alvarado García  07/07/2011    Alevín\n",
       "1  Leo Álvarez Campoverde  16/01/2011    Alevín\n",
       "2  Adrián Serrano Cantero  16/02/2011    Alevín"
      ]
     },
     "execution_count": 26,
     "metadata": {},
     "output_type": "execute_result"
    }
   ],
   "source": [
    "dfa.head(3)"
   ]
  },
  {
   "cell_type": "code",
   "execution_count": 27,
   "id": "a9b4adef",
   "metadata": {},
   "outputs": [
    {
     "data": {
      "text/html": [
       "<div>\n",
       "<style scoped>\n",
       "    .dataframe tbody tr th:only-of-type {\n",
       "        vertical-align: middle;\n",
       "    }\n",
       "\n",
       "    .dataframe tbody tr th {\n",
       "        vertical-align: top;\n",
       "    }\n",
       "\n",
       "    .dataframe thead th {\n",
       "        text-align: right;\n",
       "    }\n",
       "</style>\n",
       "<table border=\"1\" class=\"dataframe\">\n",
       "  <thead>\n",
       "    <tr style=\"text-align: right;\">\n",
       "      <th></th>\n",
       "      <th>Nombre</th>\n",
       "      <th>Nacimiento</th>\n",
       "      <th>Categoría</th>\n",
       "    </tr>\n",
       "  </thead>\n",
       "  <tbody>\n",
       "    <tr>\n",
       "      <th>0</th>\n",
       "      <td>Samuel Alcázar Martín</td>\n",
       "      <td>08/07/2015</td>\n",
       "      <td>Prebenjamín</td>\n",
       "    </tr>\n",
       "    <tr>\n",
       "      <th>1</th>\n",
       "      <td>Alejandro Bellvís Alcázar</td>\n",
       "      <td>08/10/2015</td>\n",
       "      <td>Prebenjamín</td>\n",
       "    </tr>\n",
       "    <tr>\n",
       "      <th>2</th>\n",
       "      <td>Diego Alonso Guerrero</td>\n",
       "      <td>02/01/2015</td>\n",
       "      <td>Prebenjamín</td>\n",
       "    </tr>\n",
       "  </tbody>\n",
       "</table>\n",
       "</div>"
      ],
      "text/plain": [
       "                      Nombre  Nacimiento    Categoría\n",
       "0      Samuel Alcázar Martín  08/07/2015  Prebenjamín\n",
       "1  Alejandro Bellvís Alcázar  08/10/2015  Prebenjamín\n",
       "2      Diego Alonso Guerrero  02/01/2015  Prebenjamín"
      ]
     },
     "execution_count": 27,
     "metadata": {},
     "output_type": "execute_result"
    }
   ],
   "source": [
    "df7 = pd.concat([dfp, dfb, dfa], axis=0)\n",
    "df7.head(3)"
   ]
  },
  {
   "cell_type": "code",
   "execution_count": 28,
   "id": "b43b9f43",
   "metadata": {},
   "outputs": [
    {
     "data": {
      "text/html": [
       "<div>\n",
       "<style scoped>\n",
       "    .dataframe tbody tr th:only-of-type {\n",
       "        vertical-align: middle;\n",
       "    }\n",
       "\n",
       "    .dataframe tbody tr th {\n",
       "        vertical-align: top;\n",
       "    }\n",
       "\n",
       "    .dataframe thead th {\n",
       "        text-align: right;\n",
       "    }\n",
       "</style>\n",
       "<table border=\"1\" class=\"dataframe\">\n",
       "  <thead>\n",
       "    <tr style=\"text-align: right;\">\n",
       "      <th></th>\n",
       "      <th>Nombre</th>\n",
       "      <th>Nacimiento</th>\n",
       "      <th>Categoría</th>\n",
       "      <th>year</th>\n",
       "      <th>month</th>\n",
       "      <th>day</th>\n",
       "    </tr>\n",
       "  </thead>\n",
       "  <tbody>\n",
       "    <tr>\n",
       "      <th>0</th>\n",
       "      <td>Samuel Alcázar Martín</td>\n",
       "      <td>08/07/2015</td>\n",
       "      <td>Prebenjamín</td>\n",
       "      <td>2015</td>\n",
       "      <td>8</td>\n",
       "      <td>7</td>\n",
       "    </tr>\n",
       "    <tr>\n",
       "      <th>1</th>\n",
       "      <td>Alejandro Bellvís Alcázar</td>\n",
       "      <td>08/10/2015</td>\n",
       "      <td>Prebenjamín</td>\n",
       "      <td>2015</td>\n",
       "      <td>8</td>\n",
       "      <td>10</td>\n",
       "    </tr>\n",
       "    <tr>\n",
       "      <th>2</th>\n",
       "      <td>Diego Alonso Guerrero</td>\n",
       "      <td>02/01/2015</td>\n",
       "      <td>Prebenjamín</td>\n",
       "      <td>2015</td>\n",
       "      <td>2</td>\n",
       "      <td>1</td>\n",
       "    </tr>\n",
       "  </tbody>\n",
       "</table>\n",
       "</div>"
      ],
      "text/plain": [
       "                      Nombre  Nacimiento    Categoría  year  month  day\n",
       "0      Samuel Alcázar Martín  08/07/2015  Prebenjamín  2015      8    7\n",
       "1  Alejandro Bellvís Alcázar  08/10/2015  Prebenjamín  2015      8   10\n",
       "2      Diego Alonso Guerrero  02/01/2015  Prebenjamín  2015      2    1"
      ]
     },
     "execution_count": 28,
     "metadata": {},
     "output_type": "execute_result"
    }
   ],
   "source": [
    "df7['year'] = pd.DatetimeIndex(df7['Nacimiento']).year\n",
    "df7['month'] = pd.DatetimeIndex(df7['Nacimiento']).month\n",
    "df7['day'] = pd.DatetimeIndex(df7['Nacimiento']).day\n",
    "df7.head(3)"
   ]
  },
  {
   "cell_type": "code",
   "execution_count": 29,
   "id": "aaa66ed5",
   "metadata": {},
   "outputs": [],
   "source": [
    "def trimestres(row):\n",
    "    if row['month'] < 4 :\n",
    "        return 1\n",
    "    elif row['month'] < 7:\n",
    "        return 2\n",
    "    elif row['month'] < 10:\n",
    "        return 3\n",
    "    else:\n",
    "        return 4   "
   ]
  },
  {
   "cell_type": "code",
   "execution_count": 30,
   "id": "1ac566ea",
   "metadata": {},
   "outputs": [],
   "source": [
    "df7['trimestre'] = df7.apply (lambda month: trimestres(month), axis=1)"
   ]
  },
  {
   "cell_type": "code",
   "execution_count": 35,
   "id": "f6197b2d",
   "metadata": {},
   "outputs": [],
   "source": [
    "df7.to_csv('../../Data/f7Real.csv', encoding='utf-8')"
   ]
  },
  {
   "cell_type": "code",
   "execution_count": 36,
   "id": "b6a4f8c0",
   "metadata": {},
   "outputs": [
    {
     "data": {
      "image/png": "[encoded data removed]",
      "text/plain": [
       "<Figure size 1224x576 with 1 Axes>"
      ]
     },
     "metadata": {},
     "output_type": "display_data"
    }
   ],
   "source": [
    "ax = sns.countplot(x=\"month\", data=df7)"
   ]
  },
  {
   "cell_type": "code",
   "execution_count": 37,
   "id": "8d91b490",
   "metadata": {},
   "outputs": [
    {
     "data": {
      "image/png": "[encoded data removed]",
      "text/plain": [
       "<Figure size 1224x576 with 1 Axes>"
      ]
     },
     "metadata": {},
     "output_type": "display_data"
    }
   ],
   "source": [
    "ax = sns.countplot(x=\"trimestre\", data=df7)"
   ]
  },
  {
   "cell_type": "code",
   "execution_count": 38,
   "id": "2111034b",
   "metadata": {},
   "outputs": [
    {
     "name": "stderr",
     "output_type": "stream",
     "text": [
      "\n",
      "\n",
      "====== WebDriver manager ======\n",
      "Current google-chrome version is 96.0.4664\n",
      "Get LATEST chromedriver version for 96.0.4664 google-chrome\n",
      "Driver [/Users/macniacos/.wdm/drivers/chromedriver/mac64/96.0.4664.45/chromedriver] found in cache\n",
      "<ipython-input-38-2f4fd4104834>:2: DeprecationWarning: executable_path has been deprecated, please pass in a Service object\n",
      "  driver = webdriver.Chrome(ChromeDriverManager().install(), options = opciones)\n",
      "<ipython-input-38-2f4fd4104834>:13: DeprecationWarning: find_element_by_* commands are deprecated. Please use find_element() instead\n",
      "  driver.find_element_by_css_selector(f\"#onetrust-accept-btn-handler\").click()\n",
      "<ipython-input-38-2f4fd4104834>:23: DeprecationWarning: find_element_by_* commands are deprecated. Please use find_element() instead\n",
      "  driver.find_element_by_css_selector(f\"body > div.grid_not_cabecera > div.master-layout.sports_layout > div.section > div > div.col.important > div:nth-child(1) > ul > li:nth-child({i}) > div > div.m_player_picture > a > img\").click()\n",
      "<ipython-input-38-2f4fd4104834>:24: DeprecationWarning: find_element_by_* commands are deprecated. Please use find_element() instead\n",
      "  nombre.append(driver.find_element_by_css_selector(f\"#playerinfo > div:nth-child(3) > div > div.col-3-3 > div > span\").text)\n",
      "<ipython-input-38-2f4fd4104834>:25: DeprecationWarning: find_element_by_* commands are deprecated. Please use find_element() instead\n",
      "  nacimiento.append(driver.find_element_by_css_selector(f\"#playerinfo > div:nth-child(3) > div > div.col-2-3 > div:nth-child(2) > span\").text)\n"
     ]
    }
   ],
   "source": [
    "# download the driver \n",
    "driver = webdriver.Chrome(ChromeDriverManager().install(), options = opciones)\n",
    "\n",
    "# set the url\n",
    "url2 = \"https://www.realmadrid.com/futbol/cantera/infantil-b\"\n",
    "\n",
    "\n",
    "# request the url\n",
    "driver.get(url2)\n",
    " \n",
    "driver.implicitly_wait(1000) # is like a time.sleep but specific of selenium\n",
    "\n",
    "driver.find_element_by_css_selector(f\"#onetrust-accept-btn-handler\").click()  \n",
    "driver.implicitly_wait(1000) # is like a time.sleep but specific of selenium\n",
    "\n",
    "nombre = []\n",
    "nacimiento = []\n",
    "\n",
    "#1\n",
    "for i in range (1,26):\n",
    "    \n",
    "    \n",
    "    driver.find_element_by_css_selector(f\"body > div.grid_not_cabecera > div.master-layout.sports_layout > div.section > div > div.col.important > div:nth-child(1) > ul > li:nth-child({i}) > div > div.m_player_picture > a > img\").click()  \n",
    "    nombre.append(driver.find_element_by_css_selector(f\"#playerinfo > div:nth-child(3) > div > div.col-3-3 > div > span\").text)\n",
    "    nacimiento.append(driver.find_element_by_css_selector(f\"#playerinfo > div:nth-child(3) > div > div.col-2-3 > div:nth-child(2) > span\").text)\n",
    "    driver.execute_script(\"window.history.go(-1)\")   \n",
    "    "
   ]
  },
  {
   "cell_type": "code",
   "execution_count": 40,
   "id": "2fb13795",
   "metadata": {},
   "outputs": [
    {
     "name": "stderr",
     "output_type": "stream",
     "text": [
      "\n",
      "\n",
      "====== WebDriver manager ======\n",
      "Current google-chrome version is 96.0.4664\n",
      "Get LATEST chromedriver version for 96.0.4664 google-chrome\n",
      "Driver [/Users/macniacos/.wdm/drivers/chromedriver/mac64/96.0.4664.45/chromedriver] found in cache\n",
      "<ipython-input-40-1adef8def073>:2: DeprecationWarning: executable_path has been deprecated, please pass in a Service object\n",
      "  driver = webdriver.Chrome(ChromeDriverManager().install(), options = opciones)\n",
      "<ipython-input-40-1adef8def073>:13: DeprecationWarning: find_element_by_* commands are deprecated. Please use find_element() instead\n",
      "  driver.find_element_by_css_selector(f\"#onetrust-accept-btn-handler\").click()\n",
      "<ipython-input-40-1adef8def073>:21: DeprecationWarning: find_element_by_* commands are deprecated. Please use find_element() instead\n",
      "  driver.find_element_by_css_selector(f\"body > div.grid_not_cabecera > div.master-layout.sports_layout > div.section > div > div.col.important > div:nth-child(1) > ul > li:nth-child({i}) > div > div.m_player_picture > a > img\").click()\n",
      "<ipython-input-40-1adef8def073>:22: DeprecationWarning: find_element_by_* commands are deprecated. Please use find_element() instead\n",
      "  nombre.append(driver.find_element_by_css_selector(f\"#playerinfo > div:nth-child(3) > div > div.col-3-3 > div > span\").text)\n",
      "<ipython-input-40-1adef8def073>:23: DeprecationWarning: find_element_by_* commands are deprecated. Please use find_element() instead\n",
      "  nacimiento.append(driver.find_element_by_css_selector(f\"#playerinfo > div:nth-child(3) > div > div.col-2-3 > div:nth-child(2) > span\").text)\n"
     ]
    }
   ],
   "source": [
    "# download the driver \n",
    "driver = webdriver.Chrome(ChromeDriverManager().install(), options = opciones)\n",
    "\n",
    "# set the url\n",
    "url2 = \"https://www.realmadrid.com/futbol/cantera/infantil-a\"\n",
    "\n",
    "\n",
    "# request the url\n",
    "driver.get(url2)\n",
    " \n",
    "driver.implicitly_wait(1000) # is like a time.sleep but specific of selenium\n",
    "\n",
    "driver.find_element_by_css_selector(f\"#onetrust-accept-btn-handler\").click()  \n",
    "driver.implicitly_wait(1000) # is like a time.sleep but specific of selenium\n",
    "\n",
    "\n",
    "#1\n",
    "for i in range (1,24):\n",
    "    \n",
    "    \n",
    "    driver.find_element_by_css_selector(f\"body > div.grid_not_cabecera > div.master-layout.sports_layout > div.section > div > div.col.important > div:nth-child(1) > ul > li:nth-child({i}) > div > div.m_player_picture > a > img\").click()  \n",
    "    nombre.append(driver.find_element_by_css_selector(f\"#playerinfo > div:nth-child(3) > div > div.col-3-3 > div > span\").text)\n",
    "    nacimiento.append(driver.find_element_by_css_selector(f\"#playerinfo > div:nth-child(3) > div > div.col-2-3 > div:nth-child(2) > span\").text)\n",
    "    driver.execute_script(\"window.history.go(-1)\")   \n",
    "    "
   ]
  },
  {
   "cell_type": "code",
   "execution_count": 41,
   "id": "84d53b3a",
   "metadata": {},
   "outputs": [],
   "source": [
    "nombredf = pd.DataFrame(nombre)\n",
    "fechadf = pd.DataFrame(nacimiento)\n",
    "\n",
    "\n",
    "nombredf = nombredf.rename(columns={0: 'Nombre'})\n",
    "fechadf = fechadf.rename(columns={0: 'Nacimiento'})"
   ]
  },
  {
   "cell_type": "code",
   "execution_count": 42,
   "id": "4f12f9b2",
   "metadata": {},
   "outputs": [],
   "source": [
    "df = pd.concat([nombredf, fechadf], axis=1)"
   ]
  },
  {
   "cell_type": "code",
   "execution_count": 43,
   "id": "732d9cca",
   "metadata": {},
   "outputs": [],
   "source": [
    "dfi = df"
   ]
  },
  {
   "cell_type": "code",
   "execution_count": 44,
   "id": "fc59bae3",
   "metadata": {},
   "outputs": [],
   "source": [
    "dfi['Categoría'] = 'Infantil'"
   ]
  },
  {
   "cell_type": "code",
   "execution_count": 46,
   "id": "5abbc83d",
   "metadata": {},
   "outputs": [
    {
     "data": {
      "text/html": [
       "<div>\n",
       "<style scoped>\n",
       "    .dataframe tbody tr th:only-of-type {\n",
       "        vertical-align: middle;\n",
       "    }\n",
       "\n",
       "    .dataframe tbody tr th {\n",
       "        vertical-align: top;\n",
       "    }\n",
       "\n",
       "    .dataframe thead th {\n",
       "        text-align: right;\n",
       "    }\n",
       "</style>\n",
       "<table border=\"1\" class=\"dataframe\">\n",
       "  <thead>\n",
       "    <tr style=\"text-align: right;\">\n",
       "      <th></th>\n",
       "      <th>Nombre</th>\n",
       "      <th>Nacimiento</th>\n",
       "      <th>Categoría</th>\n",
       "    </tr>\n",
       "  </thead>\n",
       "  <tbody>\n",
       "    <tr>\n",
       "      <th>0</th>\n",
       "      <td>Guillermo Ponce López</td>\n",
       "      <td>10/03/2009</td>\n",
       "      <td>Infantil</td>\n",
       "    </tr>\n",
       "    <tr>\n",
       "      <th>1</th>\n",
       "      <td>José Alberto Castelau de Roa</td>\n",
       "      <td>13/01/2009</td>\n",
       "      <td>Infantil</td>\n",
       "    </tr>\n",
       "    <tr>\n",
       "      <th>2</th>\n",
       "      <td>Adrián Valdepeñas Talavera</td>\n",
       "      <td>30/07/2009</td>\n",
       "      <td>Infantil</td>\n",
       "    </tr>\n",
       "  </tbody>\n",
       "</table>\n",
       "</div>"
      ],
      "text/plain": [
       "                         Nombre  Nacimiento Categoría\n",
       "0         Guillermo Ponce López  10/03/2009  Infantil\n",
       "1  José Alberto Castelau de Roa  13/01/2009  Infantil\n",
       "2    Adrián Valdepeñas Talavera  30/07/2009  Infantil"
      ]
     },
     "execution_count": 46,
     "metadata": {},
     "output_type": "execute_result"
    }
   ],
   "source": [
    "dfi.head(3)"
   ]
  },
  {
   "cell_type": "code",
   "execution_count": null,
   "id": "102b36cf",
   "metadata": {},
   "outputs": [],
   "source": []
  },
  {
   "cell_type": "code",
   "execution_count": 47,
   "id": "0537c30c",
   "metadata": {},
   "outputs": [
    {
     "name": "stderr",
     "output_type": "stream",
     "text": [
      "\n",
      "\n",
      "====== WebDriver manager ======\n",
      "Current google-chrome version is 96.0.4664\n",
      "Get LATEST chromedriver version for 96.0.4664 google-chrome\n",
      "Driver [/Users/macniacos/.wdm/drivers/chromedriver/mac64/96.0.4664.45/chromedriver] found in cache\n",
      "<ipython-input-47-3b99bcfcaa4f>:2: DeprecationWarning: executable_path has been deprecated, please pass in a Service object\n",
      "  driver = webdriver.Chrome(ChromeDriverManager().install(), options = opciones)\n",
      "<ipython-input-47-3b99bcfcaa4f>:13: DeprecationWarning: find_element_by_* commands are deprecated. Please use find_element() instead\n",
      "  driver.find_element_by_css_selector(f\"#onetrust-accept-btn-handler\").click()\n",
      "<ipython-input-47-3b99bcfcaa4f>:23: DeprecationWarning: find_element_by_* commands are deprecated. Please use find_element() instead\n",
      "  driver.find_element_by_css_selector(f\"body > div.grid_not_cabecera > div.master-layout.sports_layout > div.section > div > div.col.important > div:nth-child(1) > ul > li:nth-child({i}) > div > div.m_player_picture > a > img\").click()\n",
      "<ipython-input-47-3b99bcfcaa4f>:24: DeprecationWarning: find_element_by_* commands are deprecated. Please use find_element() instead\n",
      "  nombre.append(driver.find_element_by_css_selector(f\"#playerinfo > div:nth-child(3) > div > div.col-3-3 > div > span\").text)\n",
      "<ipython-input-47-3b99bcfcaa4f>:25: DeprecationWarning: find_element_by_* commands are deprecated. Please use find_element() instead\n",
      "  nacimiento.append(driver.find_element_by_css_selector(f\"#playerinfo > div:nth-child(3) > div > div.col-2-3 > div:nth-child(2) > span\").text)\n"
     ]
    }
   ],
   "source": [
    "# download the driver \n",
    "driver = webdriver.Chrome(ChromeDriverManager().install(), options = opciones)\n",
    "\n",
    "# set the url\n",
    "url2 = \"https://www.realmadrid.com/futbol/cantera/cadete-b\"\n",
    "\n",
    "\n",
    "# request the url\n",
    "driver.get(url2)\n",
    " \n",
    "driver.implicitly_wait(1000) # is like a time.sleep but specific of selenium\n",
    "\n",
    "driver.find_element_by_css_selector(f\"#onetrust-accept-btn-handler\").click()  \n",
    "driver.implicitly_wait(1000) # is like a time.sleep but specific of selenium\n",
    "\n",
    "nombre = []\n",
    "nacimiento = []\n",
    "\n",
    "#1\n",
    "for i in range (1,26):\n",
    "    \n",
    "    \n",
    "    driver.find_element_by_css_selector(f\"body > div.grid_not_cabecera > div.master-layout.sports_layout > div.section > div > div.col.important > div:nth-child(1) > ul > li:nth-child({i}) > div > div.m_player_picture > a > img\").click()  \n",
    "    nombre.append(driver.find_element_by_css_selector(f\"#playerinfo > div:nth-child(3) > div > div.col-3-3 > div > span\").text)\n",
    "    nacimiento.append(driver.find_element_by_css_selector(f\"#playerinfo > div:nth-child(3) > div > div.col-2-3 > div:nth-child(2) > span\").text)\n",
    "    driver.execute_script(\"window.history.go(-1)\")  "
   ]
  },
  {
   "cell_type": "code",
   "execution_count": 48,
   "id": "4ea73836",
   "metadata": {},
   "outputs": [
    {
     "name": "stderr",
     "output_type": "stream",
     "text": [
      "\n",
      "\n",
      "====== WebDriver manager ======\n",
      "Current google-chrome version is 96.0.4664\n",
      "Get LATEST chromedriver version for 96.0.4664 google-chrome\n",
      "Driver [/Users/macniacos/.wdm/drivers/chromedriver/mac64/96.0.4664.45/chromedriver] found in cache\n",
      "<ipython-input-48-e76fa038a84b>:2: DeprecationWarning: executable_path has been deprecated, please pass in a Service object\n",
      "  driver = webdriver.Chrome(ChromeDriverManager().install(), options = opciones)\n",
      "<ipython-input-48-e76fa038a84b>:13: DeprecationWarning: find_element_by_* commands are deprecated. Please use find_element() instead\n",
      "  driver.find_element_by_css_selector(f\"#onetrust-accept-btn-handler\").click()\n",
      "<ipython-input-48-e76fa038a84b>:21: DeprecationWarning: find_element_by_* commands are deprecated. Please use find_element() instead\n",
      "  driver.find_element_by_css_selector(f\"body > div.grid_not_cabecera > div.master-layout.sports_layout > div.section > div > div.col.important > div:nth-child(1) > ul > li:nth-child({i}) > div > div.m_player_picture > a > img\").click()\n",
      "<ipython-input-48-e76fa038a84b>:22: DeprecationWarning: find_element_by_* commands are deprecated. Please use find_element() instead\n",
      "  nombre.append(driver.find_element_by_css_selector(f\"#playerinfo > div:nth-child(3) > div > div.col-3-3 > div > span\").text)\n",
      "<ipython-input-48-e76fa038a84b>:23: DeprecationWarning: find_element_by_* commands are deprecated. Please use find_element() instead\n",
      "  nacimiento.append(driver.find_element_by_css_selector(f\"#playerinfo > div:nth-child(3) > div > div.col-2-3 > div:nth-child(2) > span\").text)\n"
     ]
    }
   ],
   "source": [
    "# download the driver \n",
    "driver = webdriver.Chrome(ChromeDriverManager().install(), options = opciones)\n",
    "\n",
    "# set the url\n",
    "url2 = \"https://www.realmadrid.com/futbol/cantera/cadete-a\"\n",
    "\n",
    "\n",
    "# request the url\n",
    "driver.get(url2)\n",
    " \n",
    "driver.implicitly_wait(1000) # is like a time.sleep but specific of selenium\n",
    "\n",
    "driver.find_element_by_css_selector(f\"#onetrust-accept-btn-handler\").click()  \n",
    "driver.implicitly_wait(1000) # is like a time.sleep but specific of selenium\n",
    "\n",
    "\n",
    "#1\n",
    "for i in range (1,24):\n",
    "    \n",
    "    \n",
    "    driver.find_element_by_css_selector(f\"body > div.grid_not_cabecera > div.master-layout.sports_layout > div.section > div > div.col.important > div:nth-child(1) > ul > li:nth-child({i}) > div > div.m_player_picture > a > img\").click()  \n",
    "    nombre.append(driver.find_element_by_css_selector(f\"#playerinfo > div:nth-child(3) > div > div.col-3-3 > div > span\").text)\n",
    "    nacimiento.append(driver.find_element_by_css_selector(f\"#playerinfo > div:nth-child(3) > div > div.col-2-3 > div:nth-child(2) > span\").text)\n",
    "    driver.execute_script(\"window.history.go(-1)\")   \n",
    "    "
   ]
  },
  {
   "cell_type": "code",
   "execution_count": 49,
   "id": "55b40149",
   "metadata": {},
   "outputs": [],
   "source": [
    "nombredf = pd.DataFrame(nombre)\n",
    "fechadf = pd.DataFrame(nacimiento)\n",
    "\n",
    "\n",
    "nombredf = nombredf.rename(columns={0: 'Nombre'})\n",
    "fechadf = fechadf.rename(columns={0: 'Nacimiento'})"
   ]
  },
  {
   "cell_type": "code",
   "execution_count": 50,
   "id": "d85b32ec",
   "metadata": {},
   "outputs": [],
   "source": [
    "df = pd.concat([nombredf, fechadf], axis=1)"
   ]
  },
  {
   "cell_type": "code",
   "execution_count": 51,
   "id": "dcb96a8c",
   "metadata": {},
   "outputs": [],
   "source": [
    "dfc = df"
   ]
  },
  {
   "cell_type": "code",
   "execution_count": 52,
   "id": "80fcb5c4",
   "metadata": {},
   "outputs": [],
   "source": [
    "dfc['Categoría'] = 'Cadete'"
   ]
  },
  {
   "cell_type": "code",
   "execution_count": 53,
   "id": "8553508a",
   "metadata": {
    "scrolled": true
   },
   "outputs": [
    {
     "data": {
      "text/html": [
       "<div>\n",
       "<style scoped>\n",
       "    .dataframe tbody tr th:only-of-type {\n",
       "        vertical-align: middle;\n",
       "    }\n",
       "\n",
       "    .dataframe tbody tr th {\n",
       "        vertical-align: top;\n",
       "    }\n",
       "\n",
       "    .dataframe thead th {\n",
       "        text-align: right;\n",
       "    }\n",
       "</style>\n",
       "<table border=\"1\" class=\"dataframe\">\n",
       "  <thead>\n",
       "    <tr style=\"text-align: right;\">\n",
       "      <th></th>\n",
       "      <th>Nombre</th>\n",
       "      <th>Nacimiento</th>\n",
       "      <th>Categoría</th>\n",
       "    </tr>\n",
       "  </thead>\n",
       "  <tbody>\n",
       "    <tr>\n",
       "      <th>0</th>\n",
       "      <td>Iván Freire Romero</td>\n",
       "      <td>13/03/2007</td>\n",
       "      <td>Cadete</td>\n",
       "    </tr>\n",
       "    <tr>\n",
       "      <th>1</th>\n",
       "      <td>Javier Navarro Jiménez</td>\n",
       "      <td>25/01/2007</td>\n",
       "      <td>Cadete</td>\n",
       "    </tr>\n",
       "    <tr>\n",
       "      <th>2</th>\n",
       "      <td>Diego Aguado Facio</td>\n",
       "      <td>07/02/2007</td>\n",
       "      <td>Cadete</td>\n",
       "    </tr>\n",
       "  </tbody>\n",
       "</table>\n",
       "</div>"
      ],
      "text/plain": [
       "                   Nombre  Nacimiento Categoría\n",
       "0      Iván Freire Romero  13/03/2007    Cadete\n",
       "1  Javier Navarro Jiménez  25/01/2007    Cadete\n",
       "2      Diego Aguado Facio  07/02/2007    Cadete"
      ]
     },
     "execution_count": 53,
     "metadata": {},
     "output_type": "execute_result"
    }
   ],
   "source": [
    "dfc.head(3)"
   ]
  },
  {
   "cell_type": "code",
   "execution_count": 54,
   "id": "25fa8977",
   "metadata": {},
   "outputs": [
    {
     "name": "stderr",
     "output_type": "stream",
     "text": [
      "\n",
      "\n",
      "====== WebDriver manager ======\n",
      "Current google-chrome version is 96.0.4664\n",
      "Get LATEST chromedriver version for 96.0.4664 google-chrome\n",
      "Driver [/Users/macniacos/.wdm/drivers/chromedriver/mac64/96.0.4664.45/chromedriver] found in cache\n",
      "<ipython-input-54-830d12d89760>:2: DeprecationWarning: executable_path has been deprecated, please pass in a Service object\n",
      "  driver = webdriver.Chrome(ChromeDriverManager().install(), options = opciones)\n",
      "<ipython-input-54-830d12d89760>:15: DeprecationWarning: find_element_by_* commands are deprecated. Please use find_element() instead\n",
      "  driver.find_element_by_css_selector(f\"#onetrust-accept-btn-handler\").click()\n",
      "<ipython-input-54-830d12d89760>:23: DeprecationWarning: find_element_by_* commands are deprecated. Please use find_element() instead\n",
      "  driver.find_element_by_css_selector(f\"body > div.grid_not_cabecera > div.master-layout.sports_layout > div.section > div > div.col.important > div:nth-child(1) > ul > li:nth-child({i}) > div > div.m_player_picture > a > img\").click()\n",
      "<ipython-input-54-830d12d89760>:24: DeprecationWarning: find_element_by_* commands are deprecated. Please use find_element() instead\n",
      "  nombre.append(driver.find_element_by_css_selector(f\"#playerinfo > div:nth-child(3) > div > div.col-3-3 > div > span\").text)\n",
      "<ipython-input-54-830d12d89760>:25: DeprecationWarning: find_element_by_* commands are deprecated. Please use find_element() instead\n",
      "  nacimiento.append(driver.find_element_by_css_selector(f\"#playerinfo > div:nth-child(3) > div > div.col-2-3 > div:nth-child(2) > span\").text)\n"
     ]
    }
   ],
   "source": [
    "# download the driver \n",
    "driver = webdriver.Chrome(ChromeDriverManager().install(), options = opciones)\n",
    "\n",
    "# set the url\n",
    "url2 = \"https://www.realmadrid.com/futbol/cantera/juvenil-c\"\n",
    "\n",
    "nombre = []\n",
    "nacimiento = []\n",
    "\n",
    "# request the url\n",
    "driver.get(url2)\n",
    " \n",
    "driver.implicitly_wait(1000) # is like a time.sleep but specific of selenium\n",
    "\n",
    "driver.find_element_by_css_selector(f\"#onetrust-accept-btn-handler\").click()  \n",
    "driver.implicitly_wait(1000) # is like a time.sleep but specific of selenium\n",
    "\n",
    "\n",
    "#1\n",
    "for i in range (1,26):\n",
    "    \n",
    "    \n",
    "    driver.find_element_by_css_selector(f\"body > div.grid_not_cabecera > div.master-layout.sports_layout > div.section > div > div.col.important > div:nth-child(1) > ul > li:nth-child({i}) > div > div.m_player_picture > a > img\").click()  \n",
    "    nombre.append(driver.find_element_by_css_selector(f\"#playerinfo > div:nth-child(3) > div > div.col-3-3 > div > span\").text)\n",
    "    nacimiento.append(driver.find_element_by_css_selector(f\"#playerinfo > div:nth-child(3) > div > div.col-2-3 > div:nth-child(2) > span\").text)\n",
    "    driver.execute_script(\"window.history.go(-1)\")   "
   ]
  },
  {
   "cell_type": "code",
   "execution_count": 55,
   "id": "439629f6",
   "metadata": {},
   "outputs": [
    {
     "name": "stderr",
     "output_type": "stream",
     "text": [
      "\n",
      "\n",
      "====== WebDriver manager ======\n",
      "Current google-chrome version is 96.0.4664\n",
      "Get LATEST chromedriver version for 96.0.4664 google-chrome\n",
      "Driver [/Users/macniacos/.wdm/drivers/chromedriver/mac64/96.0.4664.45/chromedriver] found in cache\n",
      "<ipython-input-55-ae6100bd5a26>:2: DeprecationWarning: executable_path has been deprecated, please pass in a Service object\n",
      "  driver = webdriver.Chrome(ChromeDriverManager().install(), options = opciones)\n",
      "<ipython-input-55-ae6100bd5a26>:13: DeprecationWarning: find_element_by_* commands are deprecated. Please use find_element() instead\n",
      "  driver.find_element_by_css_selector(f\"#onetrust-accept-btn-handler\").click()\n",
      "<ipython-input-55-ae6100bd5a26>:21: DeprecationWarning: find_element_by_* commands are deprecated. Please use find_element() instead\n",
      "  driver.find_element_by_css_selector(f\"body > div.grid_not_cabecera > div.master-layout.sports_layout > div.section > div > div.col.important > div:nth-child(1) > ul > li:nth-child({i}) > div > div.m_player_picture > a > img\").click()\n",
      "<ipython-input-55-ae6100bd5a26>:22: DeprecationWarning: find_element_by_* commands are deprecated. Please use find_element() instead\n",
      "  nombre.append(driver.find_element_by_css_selector(f\"#playerinfo > div:nth-child(3) > div > div.col-3-3 > div > span\").text)\n",
      "<ipython-input-55-ae6100bd5a26>:23: DeprecationWarning: find_element_by_* commands are deprecated. Please use find_element() instead\n",
      "  nacimiento.append(driver.find_element_by_css_selector(f\"#playerinfo > div:nth-child(3) > div > div.col-2-3 > div:nth-child(2) > span\").text)\n"
     ]
    }
   ],
   "source": [
    "# download the driver \n",
    "driver = webdriver.Chrome(ChromeDriverManager().install(), options = opciones)\n",
    "\n",
    "# set the url\n",
    "url2 = \"https://www.realmadrid.com/futbol/cantera/juvenil-b\"\n",
    "\n",
    "\n",
    "# request the url\n",
    "driver.get(url2)\n",
    " \n",
    "driver.implicitly_wait(1000) # is like a time.sleep but specific of selenium\n",
    "\n",
    "driver.find_element_by_css_selector(f\"#onetrust-accept-btn-handler\").click()  \n",
    "driver.implicitly_wait(1000) # is like a time.sleep but specific of selenium\n",
    "\n",
    "\n",
    "#1\n",
    "for i in range (1,26):\n",
    "    \n",
    "    \n",
    "    driver.find_element_by_css_selector(f\"body > div.grid_not_cabecera > div.master-layout.sports_layout > div.section > div > div.col.important > div:nth-child(1) > ul > li:nth-child({i}) > div > div.m_player_picture > a > img\").click()  \n",
    "    nombre.append(driver.find_element_by_css_selector(f\"#playerinfo > div:nth-child(3) > div > div.col-3-3 > div > span\").text)\n",
    "    nacimiento.append(driver.find_element_by_css_selector(f\"#playerinfo > div:nth-child(3) > div > div.col-2-3 > div:nth-child(2) > span\").text)\n",
    "    driver.execute_script(\"window.history.go(-1)\")   \n",
    "    "
   ]
  },
  {
   "cell_type": "code",
   "execution_count": 56,
   "id": "db8b2722",
   "metadata": {},
   "outputs": [
    {
     "name": "stderr",
     "output_type": "stream",
     "text": [
      "\n",
      "\n",
      "====== WebDriver manager ======\n",
      "Current google-chrome version is 96.0.4664\n",
      "Get LATEST chromedriver version for 96.0.4664 google-chrome\n",
      "Driver [/Users/macniacos/.wdm/drivers/chromedriver/mac64/96.0.4664.45/chromedriver] found in cache\n",
      "<ipython-input-56-2d62b4258c4c>:2: DeprecationWarning: executable_path has been deprecated, please pass in a Service object\n",
      "  driver = webdriver.Chrome(ChromeDriverManager().install(), options = opciones)\n",
      "<ipython-input-56-2d62b4258c4c>:13: DeprecationWarning: find_element_by_* commands are deprecated. Please use find_element() instead\n",
      "  driver.find_element_by_css_selector(f\"#onetrust-accept-btn-handler\").click()\n",
      "<ipython-input-56-2d62b4258c4c>:21: DeprecationWarning: find_element_by_* commands are deprecated. Please use find_element() instead\n",
      "  driver.find_element_by_css_selector(f\"body > div.grid_not_cabecera > div.master-layout.sports_layout > div.section > div > div.col.important > div:nth-child(1) > ul > li:nth-child({i}) > div > div.m_player_picture > a > img\").click()\n",
      "<ipython-input-56-2d62b4258c4c>:22: DeprecationWarning: find_element_by_* commands are deprecated. Please use find_element() instead\n",
      "  nombre.append(driver.find_element_by_css_selector(f\"#playerinfo > div:nth-child(3) > div > div.col-3-3 > div > span\").text)\n",
      "<ipython-input-56-2d62b4258c4c>:23: DeprecationWarning: find_element_by_* commands are deprecated. Please use find_element() instead\n",
      "  nacimiento.append(driver.find_element_by_css_selector(f\"#playerinfo > div:nth-child(3) > div > div.col-2-3 > div:nth-child(2) > span\").text)\n"
     ]
    }
   ],
   "source": [
    "# download the driver \n",
    "driver = webdriver.Chrome(ChromeDriverManager().install(), options = opciones)\n",
    "\n",
    "# set the url\n",
    "url2 = \"https://www.realmadrid.com/futbol/cantera/juvenil-a\"\n",
    "\n",
    "\n",
    "# request the url\n",
    "driver.get(url2)\n",
    " \n",
    "driver.implicitly_wait(1000) # is like a time.sleep but specific of selenium\n",
    "\n",
    "driver.find_element_by_css_selector(f\"#onetrust-accept-btn-handler\").click()  \n",
    "driver.implicitly_wait(1000) # is like a time.sleep but specific of selenium\n",
    "\n",
    "\n",
    "#1\n",
    "for i in range (1,25):\n",
    "    \n",
    "    \n",
    "    driver.find_element_by_css_selector(f\"body > div.grid_not_cabecera > div.master-layout.sports_layout > div.section > div > div.col.important > div:nth-child(1) > ul > li:nth-child({i}) > div > div.m_player_picture > a > img\").click()  \n",
    "    nombre.append(driver.find_element_by_css_selector(f\"#playerinfo > div:nth-child(3) > div > div.col-3-3 > div > span\").text)\n",
    "    nacimiento.append(driver.find_element_by_css_selector(f\"#playerinfo > div:nth-child(3) > div > div.col-2-3 > div:nth-child(2) > span\").text)\n",
    "    driver.execute_script(\"window.history.go(-1)\")  "
   ]
  },
  {
   "cell_type": "code",
   "execution_count": 67,
   "id": "3bff7d05",
   "metadata": {},
   "outputs": [],
   "source": [
    "nombredf = pd.DataFrame(nombre)\n",
    "fechadf = pd.DataFrame(nacimiento)\n",
    "\n",
    "\n",
    "nombredf = nombredf.rename(columns={0: 'Nombre'})\n",
    "fechadf = fechadf.rename(columns={0: 'Nacimiento'})"
   ]
  },
  {
   "cell_type": "code",
   "execution_count": 68,
   "id": "f302a7f8",
   "metadata": {},
   "outputs": [
    {
     "data": {
      "text/html": [
       "<div>\n",
       "<style scoped>\n",
       "    .dataframe tbody tr th:only-of-type {\n",
       "        vertical-align: middle;\n",
       "    }\n",
       "\n",
       "    .dataframe tbody tr th {\n",
       "        vertical-align: top;\n",
       "    }\n",
       "\n",
       "    .dataframe thead th {\n",
       "        text-align: right;\n",
       "    }\n",
       "</style>\n",
       "<table border=\"1\" class=\"dataframe\">\n",
       "  <thead>\n",
       "    <tr style=\"text-align: right;\">\n",
       "      <th></th>\n",
       "      <th>Nombre</th>\n",
       "      <th>Nacimiento</th>\n",
       "      <th>Categoría</th>\n",
       "    </tr>\n",
       "  </thead>\n",
       "  <tbody>\n",
       "    <tr>\n",
       "      <th>0</th>\n",
       "      <td>Iván Freire Romero</td>\n",
       "      <td>13/03/2007</td>\n",
       "      <td>Juvenil</td>\n",
       "    </tr>\n",
       "    <tr>\n",
       "      <th>1</th>\n",
       "      <td>Javier Navarro Jiménez</td>\n",
       "      <td>25/01/2007</td>\n",
       "      <td>Juvenil</td>\n",
       "    </tr>\n",
       "    <tr>\n",
       "      <th>2</th>\n",
       "      <td>Diego Aguado Facio</td>\n",
       "      <td>07/02/2007</td>\n",
       "      <td>Juvenil</td>\n",
       "    </tr>\n",
       "  </tbody>\n",
       "</table>\n",
       "</div>"
      ],
      "text/plain": [
       "                   Nombre  Nacimiento Categoría\n",
       "0      Iván Freire Romero  13/03/2007   Juvenil\n",
       "1  Javier Navarro Jiménez  25/01/2007   Juvenil\n",
       "2      Diego Aguado Facio  07/02/2007   Juvenil"
      ]
     },
     "execution_count": 68,
     "metadata": {},
     "output_type": "execute_result"
    }
   ],
   "source": [
    "dfj = df\n",
    "dfj['Categoría'] = 'Juvenil'\n",
    "dfj.head(3)"
   ]
  },
  {
   "cell_type": "code",
   "execution_count": 69,
   "id": "c1985917",
   "metadata": {},
   "outputs": [
    {
     "data": {
      "text/html": [
       "<div>\n",
       "<style scoped>\n",
       "    .dataframe tbody tr th:only-of-type {\n",
       "        vertical-align: middle;\n",
       "    }\n",
       "\n",
       "    .dataframe tbody tr th {\n",
       "        vertical-align: top;\n",
       "    }\n",
       "\n",
       "    .dataframe thead th {\n",
       "        text-align: right;\n",
       "    }\n",
       "</style>\n",
       "<table border=\"1\" class=\"dataframe\">\n",
       "  <thead>\n",
       "    <tr style=\"text-align: right;\">\n",
       "      <th></th>\n",
       "      <th>Nombre</th>\n",
       "      <th>Nacimiento</th>\n",
       "      <th>Categoría</th>\n",
       "    </tr>\n",
       "  </thead>\n",
       "  <tbody>\n",
       "    <tr>\n",
       "      <th>0</th>\n",
       "      <td>Guillermo Ponce López</td>\n",
       "      <td>10/03/2009</td>\n",
       "      <td>Infantil</td>\n",
       "    </tr>\n",
       "    <tr>\n",
       "      <th>1</th>\n",
       "      <td>José Alberto Castelau de Roa</td>\n",
       "      <td>13/01/2009</td>\n",
       "      <td>Infantil</td>\n",
       "    </tr>\n",
       "    <tr>\n",
       "      <th>2</th>\n",
       "      <td>Adrián Valdepeñas Talavera</td>\n",
       "      <td>30/07/2009</td>\n",
       "      <td>Infantil</td>\n",
       "    </tr>\n",
       "  </tbody>\n",
       "</table>\n",
       "</div>"
      ],
      "text/plain": [
       "                         Nombre  Nacimiento Categoría\n",
       "0         Guillermo Ponce López  10/03/2009  Infantil\n",
       "1  José Alberto Castelau de Roa  13/01/2009  Infantil\n",
       "2    Adrián Valdepeñas Talavera  30/07/2009  Infantil"
      ]
     },
     "execution_count": 69,
     "metadata": {},
     "output_type": "execute_result"
    }
   ],
   "source": [
    "df11 = pd.concat([dfi, dfc, dfj], axis=0)\n",
    "df11.head(3)"
   ]
  },
  {
   "cell_type": "code",
   "execution_count": 70,
   "id": "258209d1",
   "metadata": {},
   "outputs": [
    {
     "data": {
      "text/html": [
       "<div>\n",
       "<style scoped>\n",
       "    .dataframe tbody tr th:only-of-type {\n",
       "        vertical-align: middle;\n",
       "    }\n",
       "\n",
       "    .dataframe tbody tr th {\n",
       "        vertical-align: top;\n",
       "    }\n",
       "\n",
       "    .dataframe thead th {\n",
       "        text-align: right;\n",
       "    }\n",
       "</style>\n",
       "<table border=\"1\" class=\"dataframe\">\n",
       "  <thead>\n",
       "    <tr style=\"text-align: right;\">\n",
       "      <th></th>\n",
       "      <th>Nombre</th>\n",
       "      <th>Nacimiento</th>\n",
       "      <th>Categoría</th>\n",
       "      <th>year</th>\n",
       "      <th>month</th>\n",
       "      <th>day</th>\n",
       "    </tr>\n",
       "  </thead>\n",
       "  <tbody>\n",
       "    <tr>\n",
       "      <th>0</th>\n",
       "      <td>Guillermo Ponce López</td>\n",
       "      <td>10/03/2009</td>\n",
       "      <td>Infantil</td>\n",
       "      <td>2009</td>\n",
       "      <td>10</td>\n",
       "      <td>3</td>\n",
       "    </tr>\n",
       "    <tr>\n",
       "      <th>1</th>\n",
       "      <td>José Alberto Castelau de Roa</td>\n",
       "      <td>13/01/2009</td>\n",
       "      <td>Infantil</td>\n",
       "      <td>2009</td>\n",
       "      <td>1</td>\n",
       "      <td>13</td>\n",
       "    </tr>\n",
       "    <tr>\n",
       "      <th>2</th>\n",
       "      <td>Adrián Valdepeñas Talavera</td>\n",
       "      <td>30/07/2009</td>\n",
       "      <td>Infantil</td>\n",
       "      <td>2009</td>\n",
       "      <td>7</td>\n",
       "      <td>30</td>\n",
       "    </tr>\n",
       "  </tbody>\n",
       "</table>\n",
       "</div>"
      ],
      "text/plain": [
       "                         Nombre  Nacimiento Categoría  year  month  day\n",
       "0         Guillermo Ponce López  10/03/2009  Infantil  2009     10    3\n",
       "1  José Alberto Castelau de Roa  13/01/2009  Infantil  2009      1   13\n",
       "2    Adrián Valdepeñas Talavera  30/07/2009  Infantil  2009      7   30"
      ]
     },
     "execution_count": 70,
     "metadata": {},
     "output_type": "execute_result"
    }
   ],
   "source": [
    "df11['year'] = pd.DatetimeIndex(df11['Nacimiento']).year\n",
    "df11['month'] = pd.DatetimeIndex(df11['Nacimiento']).month\n",
    "df11['day'] = pd.DatetimeIndex(df11['Nacimiento']).day\n",
    "df11.head(3)"
   ]
  },
  {
   "cell_type": "code",
   "execution_count": 71,
   "id": "f0d51ea6",
   "metadata": {},
   "outputs": [],
   "source": [
    "df11['trimestre'] = df11.apply (lambda month: trimestres(month), axis=1)"
   ]
  },
  {
   "cell_type": "code",
   "execution_count": 72,
   "id": "6e62c3d2",
   "metadata": {},
   "outputs": [
    {
     "data": {
      "image/png": "[encoded data removed]",
      "text/plain": [
       "<Figure size 1224x576 with 1 Axes>"
      ]
     },
     "metadata": {},
     "output_type": "display_data"
    }
   ],
   "source": [
    "ax = sns.countplot(x=\"month\", data=df11)"
   ]
  },
  {
   "cell_type": "code",
   "execution_count": 73,
   "id": "5383d683",
   "metadata": {},
   "outputs": [
    {
     "data": {
      "image/png": "[encoded data removed]",
      "text/plain": [
       "<Figure size 1224x576 with 1 Axes>"
      ]
     },
     "metadata": {},
     "output_type": "display_data"
    }
   ],
   "source": [
    "ax = sns.countplot(x=\"trimestre\", data=df11)"
   ]
  },
  {
   "cell_type": "code",
   "execution_count": 74,
   "id": "95414e20",
   "metadata": {},
   "outputs": [],
   "source": [
    "df = pd.concat([df7, df11], axis=0)"
   ]
  },
  {
   "cell_type": "code",
   "execution_count": 1,
   "id": "f3d2e84a",
   "metadata": {},
   "outputs": [
    {
     "ename": "NameError",
     "evalue": "name 'sns' is not defined",
     "output_type": "error",
     "traceback": [
      "\u001b[0;31m---------------------------------------------------------------------------\u001b[0m",
      "\u001b[0;31mNameError\u001b[0m                                 Traceback (most recent call last)",
      "\u001b[0;32m<ipython-input-1-158d7089e9e6>\u001b[0m in \u001b[0;36m<module>\u001b[0;34m\u001b[0m\n\u001b[0;32m----> 1\u001b[0;31m \u001b[0max\u001b[0m \u001b[0;34m=\u001b[0m \u001b[0msns\u001b[0m\u001b[0;34m.\u001b[0m\u001b[0mcountplot\u001b[0m\u001b[0;34m(\u001b[0m\u001b[0mx\u001b[0m\u001b[0;34m=\u001b[0m\u001b[0;34m\"month\"\u001b[0m\u001b[0;34m,\u001b[0m \u001b[0mdata\u001b[0m\u001b[0;34m=\u001b[0m\u001b[0mdf\u001b[0m\u001b[0;34m)\u001b[0m\u001b[0;34m\u001b[0m\u001b[0;34m\u001b[0m\u001b[0m\n\u001b[0m",
      "\u001b[0;31mNameError\u001b[0m: name 'sns' is not defined"
     ]
    }
   ],
   "source": [
    "ax = sns.countplot(x=\"month\", data=df)"
   ]
  },
  {
   "cell_type": "code",
   "execution_count": 1,
   "id": "d0f8d49e",
   "metadata": {},
   "outputs": [
    {
     "ename": "NameError",
     "evalue": "name 'sns' is not defined",
     "output_type": "error",
     "traceback": [
      "\u001b[0;31m---------------------------------------------------------------------------\u001b[0m",
      "\u001b[0;31mNameError\u001b[0m                                 Traceback (most recent call last)",
      "\u001b[0;32m<ipython-input-1-074ee7eb7855>\u001b[0m in \u001b[0;36m<module>\u001b[0;34m\u001b[0m\n\u001b[0;32m----> 1\u001b[0;31m \u001b[0max\u001b[0m \u001b[0;34m=\u001b[0m \u001b[0msns\u001b[0m\u001b[0;34m.\u001b[0m\u001b[0mcountplot\u001b[0m\u001b[0;34m(\u001b[0m\u001b[0mx\u001b[0m\u001b[0;34m=\u001b[0m\u001b[0;34m\"trimestre\"\u001b[0m\u001b[0;34m,\u001b[0m \u001b[0mdata\u001b[0m\u001b[0;34m=\u001b[0m\u001b[0mdf\u001b[0m\u001b[0;34m)\u001b[0m\u001b[0;34m\u001b[0m\u001b[0;34m\u001b[0m\u001b[0m\n\u001b[0m",
      "\u001b[0;31mNameError\u001b[0m: name 'sns' is not defined"
     ]
    }
   ],
   "source": [
    "ax = sns.countplot(x=\"trimestre\", data=df)"
   ]
  },
  {
   "cell_type": "code",
   "execution_count": null,
   "id": "9e033149",
   "metadata": {},
   "outputs": [],
   "source": []
  }
 ],
 "metadata": {
  "kernelspec": {
   "display_name": "ironhack",
   "language": "python",
   "name": "ironhack"
  },
  "language_info": {
   "codemirror_mode": {
    "name": "ipython",
    "version": 3
   },
   "file_extension": ".py",
   "mimetype": "text/x-python",
   "name": "python",
   "nbconvert_exporter": "python",
   "pygments_lexer": "ipython3",
   "version": "3.8.5"
  }
 },
 "nbformat": 4,
 "nbformat_minor": 5
}
